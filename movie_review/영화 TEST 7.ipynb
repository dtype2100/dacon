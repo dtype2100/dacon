{
 "cells": [
  {
   "cell_type": "code",
   "execution_count": 180,
   "id": "f08e2f4e",
   "metadata": {},
   "outputs": [],
   "source": [
    "import pandas as pd\n",
    "import numpy as np\n",
    "import seaborn as sns\n",
    "import matplotlib.pyplot as plt\n",
    "import lightgbm as lgb\n",
    "from sklearn.linear_model import Lasso\n",
    "from sklearn.model_selection import train_test_split\n",
    "from sklearn.metrics import mean_squared_error\n",
    "from sklearn.preprocessing import PolynomialFeatures\n",
    "from math import sqrt\n"
   ]
  },
  {
   "cell_type": "code",
   "execution_count": 181,
   "id": "ac01cb7f",
   "metadata": {},
   "outputs": [],
   "source": [
    "train = pd.read_csv('C:\\\\Users\\\\user\\\\workspace\\\\movie\\\\movies_train.csv')\n",
    "test = pd.read_csv('C:\\\\Users\\\\user\\\\workspace\\\\movie\\movies_test.csv')\n",
    "submission = pd.read_csv('C:\\\\Users\\\\user\\\\workspace\\\\movie\\\\submission.csv')"
   ]
  },
  {
   "cell_type": "markdown",
   "id": "5796721b",
   "metadata": {},
   "source": [
    "EDA 및 전처리"
   ]
  },
  {
   "cell_type": "code",
   "execution_count": 182,
   "id": "a5172ecf",
   "metadata": {},
   "outputs": [
    {
     "name": "stdout",
     "output_type": "stream",
     "text": [
      "(600, 12)\n",
      "(243, 11)\n",
      "(243, 2)\n"
     ]
    }
   ],
   "source": [
    "print(train.shape)\n",
    "print(test.shape)\n",
    "print(submission.shape)"
   ]
  },
  {
   "cell_type": "code",
   "execution_count": 183,
   "id": "263a672b",
   "metadata": {},
   "outputs": [
    {
     "name": "stdout",
     "output_type": "stream",
     "text": [
      "<class 'pandas.core.frame.DataFrame'>\n",
      "RangeIndex: 600 entries, 0 to 599\n",
      "Data columns (total 12 columns):\n",
      " #   Column          Non-Null Count  Dtype  \n",
      "---  ------          --------------  -----  \n",
      " 0   title           600 non-null    object \n",
      " 1   distributor     600 non-null    object \n",
      " 2   genre           600 non-null    object \n",
      " 3   release_time    600 non-null    object \n",
      " 4   time            600 non-null    int64  \n",
      " 5   screening_rat   600 non-null    object \n",
      " 6   director        600 non-null    object \n",
      " 7   dir_prev_bfnum  270 non-null    float64\n",
      " 8   dir_prev_num    600 non-null    int64  \n",
      " 9   num_staff       600 non-null    int64  \n",
      " 10  num_actor       600 non-null    int64  \n",
      " 11  box_off_num     600 non-null    int64  \n",
      "dtypes: float64(1), int64(5), object(6)\n",
      "memory usage: 56.4+ KB\n"
     ]
    }
   ],
   "source": [
    "train.info()"
   ]
  },
  {
   "cell_type": "code",
   "execution_count": 184,
   "id": "544d6e7e",
   "metadata": {},
   "outputs": [
    {
     "name": "stdout",
     "output_type": "stream",
     "text": [
      "<class 'pandas.core.frame.DataFrame'>\n",
      "RangeIndex: 243 entries, 0 to 242\n",
      "Data columns (total 11 columns):\n",
      " #   Column          Non-Null Count  Dtype  \n",
      "---  ------          --------------  -----  \n",
      " 0   title           243 non-null    object \n",
      " 1   distributor     243 non-null    object \n",
      " 2   genre           243 non-null    object \n",
      " 3   release_time    243 non-null    object \n",
      " 4   time            243 non-null    int64  \n",
      " 5   screening_rat   243 non-null    object \n",
      " 6   director        243 non-null    object \n",
      " 7   dir_prev_bfnum  107 non-null    float64\n",
      " 8   dir_prev_num    243 non-null    int64  \n",
      " 9   num_staff       243 non-null    int64  \n",
      " 10  num_actor       243 non-null    int64  \n",
      "dtypes: float64(1), int64(4), object(6)\n",
      "memory usage: 21.0+ KB\n"
     ]
    }
   ],
   "source": [
    "test.info()"
   ]
  },
  {
   "cell_type": "code",
   "execution_count": 185,
   "id": "fc0c5d28",
   "metadata": {},
   "outputs": [],
   "source": [
    "#df = train[['title', 'distributor', 'genre', 'release_time', 'screening_rat', 'director']]"
   ]
  },
  {
   "cell_type": "code",
   "execution_count": 186,
   "id": "860791fe",
   "metadata": {},
   "outputs": [],
   "source": [
    "#one_hot = pd.get_dummies(df)"
   ]
  },
  {
   "cell_type": "code",
   "execution_count": 187,
   "id": "7a211a6c",
   "metadata": {},
   "outputs": [],
   "source": [
    "train = train.drop(['genre'],axis= 1)\n",
    "test = test.drop(['genre'],axis= 1)\n",
    "train = train.drop(['release_time'],axis= 1)\n",
    "test = test.drop(['release_time'],axis= 1)\n",
    "train = train.drop(['title'],axis= 1)\n",
    "test = test.drop(['title'],axis= 1)\n",
    "train = train.drop(['distributor'],axis= 1)\n",
    "test = test.drop(['distributor'],axis= 1)\n",
    "train = train.drop(['dir_prev_bfnum'],axis= 1)\n",
    "test = test.drop(['dir_prev_bfnum'],axis= 1)\n",
    "train = train.drop(['director'],axis= 1)\n",
    "test = test.drop(['director'],axis= 1)\n",
    "train = train.drop(['num_actor'],axis= 1)\n",
    "test = test.drop(['num_actor'],axis= 1)\n",
    "train = train.drop(['screening_rat'],axis= 1)\n",
    "test = test.drop(['screening_rat'],axis= 1)\n",
    "train = train.drop(['dir_prev_num'],axis= 1)\n",
    "test = test.drop(['dir_prev_num'],axis= 1)"
   ]
  },
  {
   "cell_type": "code",
   "execution_count": null,
   "id": "88307850",
   "metadata": {},
   "outputs": [],
   "source": []
  },
  {
   "cell_type": "code",
   "execution_count": 188,
   "id": "6a8f8695",
   "metadata": {},
   "outputs": [
    {
     "data": {
      "text/html": [
       "<div>\n",
       "<style scoped>\n",
       "    .dataframe tbody tr th:only-of-type {\n",
       "        vertical-align: middle;\n",
       "    }\n",
       "\n",
       "    .dataframe tbody tr th {\n",
       "        vertical-align: top;\n",
       "    }\n",
       "\n",
       "    .dataframe thead th {\n",
       "        text-align: right;\n",
       "    }\n",
       "</style>\n",
       "<table border=\"1\" class=\"dataframe\">\n",
       "  <thead>\n",
       "    <tr style=\"text-align: right;\">\n",
       "      <th></th>\n",
       "      <th>time</th>\n",
       "      <th>num_staff</th>\n",
       "      <th>box_off_num</th>\n",
       "    </tr>\n",
       "  </thead>\n",
       "  <tbody>\n",
       "    <tr>\n",
       "      <th>count</th>\n",
       "      <td>600.000000</td>\n",
       "      <td>600.000000</td>\n",
       "      <td>6.000000e+02</td>\n",
       "    </tr>\n",
       "    <tr>\n",
       "      <th>mean</th>\n",
       "      <td>100.863333</td>\n",
       "      <td>151.118333</td>\n",
       "      <td>7.081818e+05</td>\n",
       "    </tr>\n",
       "    <tr>\n",
       "      <th>std</th>\n",
       "      <td>18.097528</td>\n",
       "      <td>165.654671</td>\n",
       "      <td>1.828006e+06</td>\n",
       "    </tr>\n",
       "    <tr>\n",
       "      <th>min</th>\n",
       "      <td>45.000000</td>\n",
       "      <td>0.000000</td>\n",
       "      <td>1.000000e+00</td>\n",
       "    </tr>\n",
       "    <tr>\n",
       "      <th>25%</th>\n",
       "      <td>89.000000</td>\n",
       "      <td>17.000000</td>\n",
       "      <td>1.297250e+03</td>\n",
       "    </tr>\n",
       "    <tr>\n",
       "      <th>50%</th>\n",
       "      <td>100.000000</td>\n",
       "      <td>82.500000</td>\n",
       "      <td>1.259100e+04</td>\n",
       "    </tr>\n",
       "    <tr>\n",
       "      <th>75%</th>\n",
       "      <td>114.000000</td>\n",
       "      <td>264.000000</td>\n",
       "      <td>4.798868e+05</td>\n",
       "    </tr>\n",
       "    <tr>\n",
       "      <th>max</th>\n",
       "      <td>180.000000</td>\n",
       "      <td>869.000000</td>\n",
       "      <td>1.426277e+07</td>\n",
       "    </tr>\n",
       "  </tbody>\n",
       "</table>\n",
       "</div>"
      ],
      "text/plain": [
       "             time   num_staff   box_off_num\n",
       "count  600.000000  600.000000  6.000000e+02\n",
       "mean   100.863333  151.118333  7.081818e+05\n",
       "std     18.097528  165.654671  1.828006e+06\n",
       "min     45.000000    0.000000  1.000000e+00\n",
       "25%     89.000000   17.000000  1.297250e+03\n",
       "50%    100.000000   82.500000  1.259100e+04\n",
       "75%    114.000000  264.000000  4.798868e+05\n",
       "max    180.000000  869.000000  1.426277e+07"
      ]
     },
     "execution_count": 188,
     "metadata": {},
     "output_type": "execute_result"
    }
   ],
   "source": [
    "train.describe()"
   ]
  },
  {
   "cell_type": "code",
   "execution_count": 189,
   "id": "59a89741",
   "metadata": {},
   "outputs": [],
   "source": [
    "#train[['genre', 'box_off_num']].groupby('genre').mean().sort_values('box_off_num') #장르별 평균 관객수"
   ]
  },
  {
   "cell_type": "code",
   "execution_count": 190,
   "id": "e802e0fd",
   "metadata": {},
   "outputs": [],
   "source": [
    "pd.reset_option('display.float.format')"
   ]
  },
  {
   "cell_type": "code",
   "execution_count": 191,
   "id": "bd4a4903",
   "metadata": {},
   "outputs": [
    {
     "data": {
      "text/html": [
       "<div>\n",
       "<style scoped>\n",
       "    .dataframe tbody tr th:only-of-type {\n",
       "        vertical-align: middle;\n",
       "    }\n",
       "\n",
       "    .dataframe tbody tr th {\n",
       "        vertical-align: top;\n",
       "    }\n",
       "\n",
       "    .dataframe thead th {\n",
       "        text-align: right;\n",
       "    }\n",
       "</style>\n",
       "<table border=\"1\" class=\"dataframe\">\n",
       "  <thead>\n",
       "    <tr style=\"text-align: right;\">\n",
       "      <th></th>\n",
       "      <th>time</th>\n",
       "      <th>num_staff</th>\n",
       "      <th>box_off_num</th>\n",
       "    </tr>\n",
       "  </thead>\n",
       "  <tbody>\n",
       "    <tr>\n",
       "      <th>time</th>\n",
       "      <td>1.000000</td>\n",
       "      <td>0.623205</td>\n",
       "      <td>0.441452</td>\n",
       "    </tr>\n",
       "    <tr>\n",
       "      <th>num_staff</th>\n",
       "      <td>0.623205</td>\n",
       "      <td>1.000000</td>\n",
       "      <td>0.544265</td>\n",
       "    </tr>\n",
       "    <tr>\n",
       "      <th>box_off_num</th>\n",
       "      <td>0.441452</td>\n",
       "      <td>0.544265</td>\n",
       "      <td>1.000000</td>\n",
       "    </tr>\n",
       "  </tbody>\n",
       "</table>\n",
       "</div>"
      ],
      "text/plain": [
       "                 time  num_staff  box_off_num\n",
       "time         1.000000   0.623205     0.441452\n",
       "num_staff    0.623205   1.000000     0.544265\n",
       "box_off_num  0.441452   0.544265     1.000000"
      ]
     },
     "execution_count": 191,
     "metadata": {},
     "output_type": "execute_result"
    }
   ],
   "source": [
    "train.corr()"
   ]
  },
  {
   "cell_type": "code",
   "execution_count": 192,
   "id": "b715d7ad",
   "metadata": {},
   "outputs": [
    {
     "data": {
      "text/plain": [
       "<AxesSubplot:>"
      ]
     },
     "execution_count": 192,
     "metadata": {},
     "output_type": "execute_result"
    },
    {
     "data": {
      "image/png": "[encoded data removed]",
      "text/plain": [
       "<Figure size 576x396 with 2 Axes>"
      ]
     },
     "metadata": {},
     "output_type": "display_data"
    }
   ],
   "source": [
    "plt.style.use('seaborn')\n",
    "sns.heatmap(train.corr(), annot=True)"
   ]
  },
  {
   "cell_type": "code",
   "execution_count": 193,
   "id": "5aab66df",
   "metadata": {},
   "outputs": [
    {
     "data": {
      "text/plain": [
       "time           0.0\n",
       "num_staff      0.0\n",
       "box_off_num    0.0\n",
       "dtype: float64"
      ]
     },
     "execution_count": 193,
     "metadata": {},
     "output_type": "execute_result"
    }
   ],
   "source": [
    "train.isna().sum() / 600"
   ]
  },
  {
   "cell_type": "code",
   "execution_count": 194,
   "id": "017868c1",
   "metadata": {},
   "outputs": [
    {
     "data": {
      "text/plain": [
       "time         0.0\n",
       "num_staff    0.0\n",
       "dtype: float64"
      ]
     },
     "execution_count": 194,
     "metadata": {},
     "output_type": "execute_result"
    }
   ],
   "source": [
    "test.isna().sum() / 600"
   ]
  },
  {
   "cell_type": "code",
   "execution_count": 195,
   "id": "c70b64d9",
   "metadata": {},
   "outputs": [
    {
     "data": {
      "text/html": [
       "<div>\n",
       "<style scoped>\n",
       "    .dataframe tbody tr th:only-of-type {\n",
       "        vertical-align: middle;\n",
       "    }\n",
       "\n",
       "    .dataframe tbody tr th {\n",
       "        vertical-align: top;\n",
       "    }\n",
       "\n",
       "    .dataframe thead th {\n",
       "        text-align: right;\n",
       "    }\n",
       "</style>\n",
       "<table border=\"1\" class=\"dataframe\">\n",
       "  <thead>\n",
       "    <tr style=\"text-align: right;\">\n",
       "      <th></th>\n",
       "      <th>time</th>\n",
       "      <th>num_staff</th>\n",
       "      <th>box_off_num</th>\n",
       "    </tr>\n",
       "  </thead>\n",
       "  <tbody>\n",
       "    <tr>\n",
       "      <th>0</th>\n",
       "      <td>96</td>\n",
       "      <td>91</td>\n",
       "      <td>23398</td>\n",
       "    </tr>\n",
       "    <tr>\n",
       "      <th>1</th>\n",
       "      <td>130</td>\n",
       "      <td>387</td>\n",
       "      <td>7072501</td>\n",
       "    </tr>\n",
       "    <tr>\n",
       "      <th>2</th>\n",
       "      <td>123</td>\n",
       "      <td>343</td>\n",
       "      <td>6959083</td>\n",
       "    </tr>\n",
       "    <tr>\n",
       "      <th>3</th>\n",
       "      <td>101</td>\n",
       "      <td>20</td>\n",
       "      <td>217866</td>\n",
       "    </tr>\n",
       "    <tr>\n",
       "      <th>4</th>\n",
       "      <td>108</td>\n",
       "      <td>251</td>\n",
       "      <td>483387</td>\n",
       "    </tr>\n",
       "    <tr>\n",
       "      <th>...</th>\n",
       "      <td>...</td>\n",
       "      <td>...</td>\n",
       "      <td>...</td>\n",
       "    </tr>\n",
       "    <tr>\n",
       "      <th>595</th>\n",
       "      <td>111</td>\n",
       "      <td>510</td>\n",
       "      <td>1475091</td>\n",
       "    </tr>\n",
       "    <tr>\n",
       "      <th>596</th>\n",
       "      <td>127</td>\n",
       "      <td>286</td>\n",
       "      <td>1716438</td>\n",
       "    </tr>\n",
       "    <tr>\n",
       "      <th>597</th>\n",
       "      <td>99</td>\n",
       "      <td>123</td>\n",
       "      <td>2475</td>\n",
       "    </tr>\n",
       "    <tr>\n",
       "      <th>598</th>\n",
       "      <td>102</td>\n",
       "      <td>431</td>\n",
       "      <td>2192525</td>\n",
       "    </tr>\n",
       "    <tr>\n",
       "      <th>599</th>\n",
       "      <td>120</td>\n",
       "      <td>363</td>\n",
       "      <td>7166532</td>\n",
       "    </tr>\n",
       "  </tbody>\n",
       "</table>\n",
       "<p>600 rows × 3 columns</p>\n",
       "</div>"
      ],
      "text/plain": [
       "     time  num_staff  box_off_num\n",
       "0      96         91        23398\n",
       "1     130        387      7072501\n",
       "2     123        343      6959083\n",
       "3     101         20       217866\n",
       "4     108        251       483387\n",
       "..    ...        ...          ...\n",
       "595   111        510      1475091\n",
       "596   127        286      1716438\n",
       "597    99        123         2475\n",
       "598   102        431      2192525\n",
       "599   120        363      7166532\n",
       "\n",
       "[600 rows x 3 columns]"
      ]
     },
     "execution_count": 195,
     "metadata": {},
     "output_type": "execute_result"
    }
   ],
   "source": [
    "train"
   ]
  },
  {
   "cell_type": "code",
   "execution_count": 196,
   "id": "3fa26880",
   "metadata": {},
   "outputs": [],
   "source": [
    "#train[train['dir_prev_bfnum'].isna()]['dir_prev_num'].sum()"
   ]
  },
  {
   "cell_type": "code",
   "execution_count": 197,
   "id": "45c8c7ab",
   "metadata": {},
   "outputs": [],
   "source": [
    "#train['dir_prev_bfnum'].fillna(0, inplace=True)"
   ]
  },
  {
   "cell_type": "code",
   "execution_count": 198,
   "id": "5389ff75",
   "metadata": {},
   "outputs": [
    {
     "data": {
      "text/html": [
       "<div>\n",
       "<style scoped>\n",
       "    .dataframe tbody tr th:only-of-type {\n",
       "        vertical-align: middle;\n",
       "    }\n",
       "\n",
       "    .dataframe tbody tr th {\n",
       "        vertical-align: top;\n",
       "    }\n",
       "\n",
       "    .dataframe thead th {\n",
       "        text-align: right;\n",
       "    }\n",
       "</style>\n",
       "<table border=\"1\" class=\"dataframe\">\n",
       "  <thead>\n",
       "    <tr style=\"text-align: right;\">\n",
       "      <th></th>\n",
       "      <th>time</th>\n",
       "      <th>num_staff</th>\n",
       "      <th>box_off_num</th>\n",
       "    </tr>\n",
       "  </thead>\n",
       "  <tbody>\n",
       "    <tr>\n",
       "      <th>0</th>\n",
       "      <td>96</td>\n",
       "      <td>91</td>\n",
       "      <td>23398</td>\n",
       "    </tr>\n",
       "    <tr>\n",
       "      <th>1</th>\n",
       "      <td>130</td>\n",
       "      <td>387</td>\n",
       "      <td>7072501</td>\n",
       "    </tr>\n",
       "    <tr>\n",
       "      <th>2</th>\n",
       "      <td>123</td>\n",
       "      <td>343</td>\n",
       "      <td>6959083</td>\n",
       "    </tr>\n",
       "    <tr>\n",
       "      <th>3</th>\n",
       "      <td>101</td>\n",
       "      <td>20</td>\n",
       "      <td>217866</td>\n",
       "    </tr>\n",
       "    <tr>\n",
       "      <th>4</th>\n",
       "      <td>108</td>\n",
       "      <td>251</td>\n",
       "      <td>483387</td>\n",
       "    </tr>\n",
       "    <tr>\n",
       "      <th>...</th>\n",
       "      <td>...</td>\n",
       "      <td>...</td>\n",
       "      <td>...</td>\n",
       "    </tr>\n",
       "    <tr>\n",
       "      <th>595</th>\n",
       "      <td>111</td>\n",
       "      <td>510</td>\n",
       "      <td>1475091</td>\n",
       "    </tr>\n",
       "    <tr>\n",
       "      <th>596</th>\n",
       "      <td>127</td>\n",
       "      <td>286</td>\n",
       "      <td>1716438</td>\n",
       "    </tr>\n",
       "    <tr>\n",
       "      <th>597</th>\n",
       "      <td>99</td>\n",
       "      <td>123</td>\n",
       "      <td>2475</td>\n",
       "    </tr>\n",
       "    <tr>\n",
       "      <th>598</th>\n",
       "      <td>102</td>\n",
       "      <td>431</td>\n",
       "      <td>2192525</td>\n",
       "    </tr>\n",
       "    <tr>\n",
       "      <th>599</th>\n",
       "      <td>120</td>\n",
       "      <td>363</td>\n",
       "      <td>7166532</td>\n",
       "    </tr>\n",
       "  </tbody>\n",
       "</table>\n",
       "<p>600 rows × 3 columns</p>\n",
       "</div>"
      ],
      "text/plain": [
       "     time  num_staff  box_off_num\n",
       "0      96         91        23398\n",
       "1     130        387      7072501\n",
       "2     123        343      6959083\n",
       "3     101         20       217866\n",
       "4     108        251       483387\n",
       "..    ...        ...          ...\n",
       "595   111        510      1475091\n",
       "596   127        286      1716438\n",
       "597    99        123         2475\n",
       "598   102        431      2192525\n",
       "599   120        363      7166532\n",
       "\n",
       "[600 rows x 3 columns]"
      ]
     },
     "execution_count": 198,
     "metadata": {},
     "output_type": "execute_result"
    }
   ],
   "source": [
    "train"
   ]
  },
  {
   "cell_type": "code",
   "execution_count": 199,
   "id": "e0f0b1d1",
   "metadata": {},
   "outputs": [
    {
     "data": {
      "text/plain": [
       "time         0\n",
       "num_staff    0\n",
       "dtype: int64"
      ]
     },
     "execution_count": 199,
     "metadata": {},
     "output_type": "execute_result"
    }
   ],
   "source": [
    "test.isna().sum()"
   ]
  },
  {
   "cell_type": "code",
   "execution_count": 200,
   "id": "5d3c5361",
   "metadata": {},
   "outputs": [],
   "source": [
    "#train[train['dir_prev_bfnum'].isna()]['dir_prev_num'].sum()"
   ]
  },
  {
   "cell_type": "code",
   "execution_count": 201,
   "id": "8dfa7c06",
   "metadata": {},
   "outputs": [],
   "source": [
    "#test['dir_prev_bfnum'].fillna(0, inplace=True)"
   ]
  },
  {
   "cell_type": "code",
   "execution_count": 202,
   "id": "fcb79f38",
   "metadata": {},
   "outputs": [
    {
     "data": {
      "text/plain": [
       "<seaborn.axisgrid.FacetGrid at 0x1e2714d1ee0>"
      ]
     },
     "execution_count": 202,
     "metadata": {},
     "output_type": "execute_result"
    },
    {
     "data": {
      "image/png": "[encoded data removed]",
      "text/plain": [
       "<Figure size 360x360 with 1 Axes>"
      ]
     },
     "metadata": {},
     "output_type": "display_data"
    }
   ],
   "source": [
    "sns.lmplot(data=train, x='box_off_num', y='num_staff')"
   ]
  },
  {
   "cell_type": "code",
   "execution_count": 203,
   "id": "de02535a",
   "metadata": {},
   "outputs": [
    {
     "data": {
      "text/plain": [
       "<seaborn.axisgrid.FacetGrid at 0x1e2715b4160>"
      ]
     },
     "execution_count": 203,
     "metadata": {},
     "output_type": "execute_result"
    },
    {
     "data": {
      "image/png": "[encoded data removed]",
      "text/plain": [
       "<Figure size 360x360 with 1 Axes>"
      ]
     },
     "metadata": {},
     "output_type": "display_data"
    }
   ],
   "source": [
    "sns.lmplot(data=train, x=\"box_off_num\", y=\"time\")"
   ]
  },
  {
   "cell_type": "markdown",
   "id": "e4bc7e52",
   "metadata": {},
   "source": [
    "모델링"
   ]
  },
  {
   "cell_type": "markdown",
   "id": "1a2f8ec9",
   "metadata": {},
   "source": [
    "singleLGBM"
   ]
  },
  {
   "cell_type": "code",
   "execution_count": 204,
   "id": "17517b09",
   "metadata": {},
   "outputs": [],
   "source": [
    "model = lgb.LGBMRegressor(random_state=777, n_estimators=1000)"
   ]
  },
  {
   "cell_type": "code",
   "execution_count": 205,
   "id": "fd8e1624",
   "metadata": {},
   "outputs": [],
   "source": [
    "features = ['time', 'num_staff']\n",
    "target = ['box_off_num']"
   ]
  },
  {
   "cell_type": "code",
   "execution_count": 206,
   "id": "02d5a3d0",
   "metadata": {},
   "outputs": [],
   "source": [
    "X_train, X_test, y_train = train[features], test[features], train[target]"
   ]
  },
  {
   "cell_type": "code",
   "execution_count": 207,
   "id": "aa2e9eed",
   "metadata": {},
   "outputs": [
    {
     "data": {
      "text/plain": [
       "LGBMRegressor(n_estimators=1000, random_state=777)"
      ]
     },
     "execution_count": 207,
     "metadata": {},
     "output_type": "execute_result"
    }
   ],
   "source": [
    "model.fit(X_train, y_train)"
   ]
  },
  {
   "cell_type": "code",
   "execution_count": 208,
   "id": "96a389bc",
   "metadata": {},
   "outputs": [],
   "source": [
    "singleLGBM = submission.copy()"
   ]
  },
  {
   "cell_type": "code",
   "execution_count": 209,
   "id": "f6b880f3",
   "metadata": {},
   "outputs": [
    {
     "data": {
      "text/html": [
       "<div>\n",
       "<style scoped>\n",
       "    .dataframe tbody tr th:only-of-type {\n",
       "        vertical-align: middle;\n",
       "    }\n",
       "\n",
       "    .dataframe tbody tr th {\n",
       "        vertical-align: top;\n",
       "    }\n",
       "\n",
       "    .dataframe thead th {\n",
       "        text-align: right;\n",
       "    }\n",
       "</style>\n",
       "<table border=\"1\" class=\"dataframe\">\n",
       "  <thead>\n",
       "    <tr style=\"text-align: right;\">\n",
       "      <th></th>\n",
       "      <th>title</th>\n",
       "      <th>box_off_num</th>\n",
       "    </tr>\n",
       "  </thead>\n",
       "  <tbody>\n",
       "    <tr>\n",
       "      <th>0</th>\n",
       "      <td>용서는 없다</td>\n",
       "      <td>0</td>\n",
       "    </tr>\n",
       "    <tr>\n",
       "      <th>1</th>\n",
       "      <td>아빠가 여자를 좋아해</td>\n",
       "      <td>0</td>\n",
       "    </tr>\n",
       "    <tr>\n",
       "      <th>2</th>\n",
       "      <td>하모니</td>\n",
       "      <td>0</td>\n",
       "    </tr>\n",
       "    <tr>\n",
       "      <th>3</th>\n",
       "      <td>의형제</td>\n",
       "      <td>0</td>\n",
       "    </tr>\n",
       "    <tr>\n",
       "      <th>4</th>\n",
       "      <td>평행 이론</td>\n",
       "      <td>0</td>\n",
       "    </tr>\n",
       "  </tbody>\n",
       "</table>\n",
       "</div>"
      ],
      "text/plain": [
       "         title  box_off_num\n",
       "0       용서는 없다            0\n",
       "1  아빠가 여자를 좋아해            0\n",
       "2          하모니            0\n",
       "3          의형제            0\n",
       "4        평행 이론            0"
      ]
     },
     "execution_count": 209,
     "metadata": {},
     "output_type": "execute_result"
    }
   ],
   "source": [
    "singleLGBM.head()"
   ]
  },
  {
   "cell_type": "code",
   "execution_count": 210,
   "id": "5b49ac1d",
   "metadata": {},
   "outputs": [],
   "source": [
    "singleLGBM['box_off_num'] = model.predict(X_test)"
   ]
  },
  {
   "cell_type": "code",
   "execution_count": 211,
   "id": "2d6d6308",
   "metadata": {},
   "outputs": [],
   "source": [
    "singleLGBM.to_csv('singleLGBM', index = False)"
   ]
  },
  {
   "cell_type": "markdown",
   "id": "6e3a603c",
   "metadata": {},
   "source": [
    "KFold"
   ]
  },
  {
   "cell_type": "code",
   "execution_count": 212,
   "id": "c81886da",
   "metadata": {},
   "outputs": [],
   "source": [
    "from sklearn.model_selection import KFold"
   ]
  },
  {
   "cell_type": "code",
   "execution_count": 213,
   "id": "1fcdc1e6",
   "metadata": {},
   "outputs": [],
   "source": [
    "k_fold = KFold(n_splits=5, shuffle=True, random_state=777)"
   ]
  },
  {
   "cell_type": "code",
   "execution_count": 214,
   "id": "fa90fac8",
   "metadata": {},
   "outputs": [
    {
     "name": "stdout",
     "output_type": "stream",
     "text": [
      "480 120\n"
     ]
    }
   ],
   "source": [
    "for train_idx, val_idx in k_fold.split(X_train):\n",
    "    print(len(train_idx), len(val_idx))\n",
    "    break"
   ]
  },
  {
   "cell_type": "code",
   "execution_count": 215,
   "id": "962f58eb",
   "metadata": {},
   "outputs": [
    {
     "name": "stderr",
     "output_type": "stream",
     "text": [
      "C:\\Users\\user\\anaconda3\\lib\\site-packages\\lightgbm\\sklearn.py:726: UserWarning: 'early_stopping_rounds' argument is deprecated and will be removed in a future release of LightGBM. Pass 'early_stopping()' callback via 'callbacks' argument instead.\n",
      "  _log_warning(\"'early_stopping_rounds' argument is deprecated and will be removed in a future release of LightGBM. \"\n",
      "C:\\Users\\user\\anaconda3\\lib\\site-packages\\lightgbm\\sklearn.py:736: UserWarning: 'verbose' argument is deprecated and will be removed in a future release of LightGBM. Pass 'log_evaluation()' callback via 'callbacks' argument instead.\n",
      "  _log_warning(\"'verbose' argument is deprecated and will be removed in a future release of LightGBM. \"\n"
     ]
    },
    {
     "name": "stdout",
     "output_type": "stream",
     "text": [
      "[100]\tvalid_0's l2: 2.88521e+12\n",
      "[100]\tvalid_0's l2: 4.01909e+12\n",
      "[100]\tvalid_0's l2: 2.9793e+12\n",
      "[100]\tvalid_0's l2: 1.7188e+12\n",
      "[100]\tvalid_0's l2: 1.67975e+12\n"
     ]
    }
   ],
   "source": [
    "model = lgb.LGBMRegressor(random_state=777, n_estimators=1000)\n",
    "\n",
    "models = []\n",
    "\n",
    "for train_idx, val_idx in k_fold.split(X_train):\n",
    "    x_t = X_train.iloc[train_idx]\n",
    "    y_t = y_train.iloc[train_idx]\n",
    "    x_val = X_train.iloc[val_idx]\n",
    "    y_val = y_train.iloc[val_idx]\n",
    "    \n",
    "    models.append(model.fit(x_t, y_t, eval_set=(x_val, y_val), early_stopping_rounds=100, verbose = 100))"
   ]
  },
  {
   "cell_type": "code",
   "execution_count": 216,
   "id": "8fde1416",
   "metadata": {},
   "outputs": [
    {
     "data": {
      "text/plain": [
       "5"
      ]
     },
     "execution_count": 216,
     "metadata": {},
     "output_type": "execute_result"
    }
   ],
   "source": [
    "preds = []\n",
    "for model in models:\n",
    "    preds.append(model.predict(X_test))\n",
    "len(preds)"
   ]
  },
  {
   "cell_type": "code",
   "execution_count": 217,
   "id": "41d68696",
   "metadata": {},
   "outputs": [],
   "source": [
    "kfoldLightGBM = submission.copy()"
   ]
  },
  {
   "cell_type": "code",
   "execution_count": 218,
   "id": "da410236",
   "metadata": {},
   "outputs": [],
   "source": [
    "kfoldLightGBM['box_off_num'] = np.mean(preds, axis = 0)"
   ]
  },
  {
   "cell_type": "code",
   "execution_count": 219,
   "id": "26831b19",
   "metadata": {},
   "outputs": [
    {
     "data": {
      "text/html": [
       "<div>\n",
       "<style scoped>\n",
       "    .dataframe tbody tr th:only-of-type {\n",
       "        vertical-align: middle;\n",
       "    }\n",
       "\n",
       "    .dataframe tbody tr th {\n",
       "        vertical-align: top;\n",
       "    }\n",
       "\n",
       "    .dataframe thead th {\n",
       "        text-align: right;\n",
       "    }\n",
       "</style>\n",
       "<table border=\"1\" class=\"dataframe\">\n",
       "  <thead>\n",
       "    <tr style=\"text-align: right;\">\n",
       "      <th></th>\n",
       "      <th>title</th>\n",
       "      <th>box_off_num</th>\n",
       "    </tr>\n",
       "  </thead>\n",
       "  <tbody>\n",
       "    <tr>\n",
       "      <th>0</th>\n",
       "      <td>용서는 없다</td>\n",
       "      <td>3.238537e+06</td>\n",
       "    </tr>\n",
       "    <tr>\n",
       "      <th>1</th>\n",
       "      <td>아빠가 여자를 좋아해</td>\n",
       "      <td>9.657627e+05</td>\n",
       "    </tr>\n",
       "    <tr>\n",
       "      <th>2</th>\n",
       "      <td>하모니</td>\n",
       "      <td>1.004832e+06</td>\n",
       "    </tr>\n",
       "    <tr>\n",
       "      <th>3</th>\n",
       "      <td>의형제</td>\n",
       "      <td>1.384672e+06</td>\n",
       "    </tr>\n",
       "    <tr>\n",
       "      <th>4</th>\n",
       "      <td>평행 이론</td>\n",
       "      <td>8.962683e+05</td>\n",
       "    </tr>\n",
       "  </tbody>\n",
       "</table>\n",
       "</div>"
      ],
      "text/plain": [
       "         title   box_off_num\n",
       "0       용서는 없다  3.238537e+06\n",
       "1  아빠가 여자를 좋아해  9.657627e+05\n",
       "2          하모니  1.004832e+06\n",
       "3          의형제  1.384672e+06\n",
       "4        평행 이론  8.962683e+05"
      ]
     },
     "execution_count": 219,
     "metadata": {},
     "output_type": "execute_result"
    }
   ],
   "source": [
    "kfoldLightGBM.head()"
   ]
  },
  {
   "cell_type": "markdown",
   "id": "0cb9c5d1",
   "metadata": {},
   "source": [
    "라쏘, 릿지"
   ]
  },
  {
   "cell_type": "code",
   "execution_count": 220,
   "id": "6bb5186b",
   "metadata": {},
   "outputs": [
    {
     "name": "stdout",
     "output_type": "stream",
     "text": [
      "<class 'pandas.core.frame.DataFrame'>\n",
      "RangeIndex: 600 entries, 0 to 599\n",
      "Data columns (total 3 columns):\n",
      " #   Column       Non-Null Count  Dtype\n",
      "---  ------       --------------  -----\n",
      " 0   time         600 non-null    int64\n",
      " 1   num_staff    600 non-null    int64\n",
      " 2   box_off_num  600 non-null    int64\n",
      "dtypes: int64(3)\n",
      "memory usage: 14.2 KB\n"
     ]
    }
   ],
   "source": [
    "train.info()"
   ]
  },
  {
   "cell_type": "code",
   "execution_count": 221,
   "id": "097b10f0",
   "metadata": {},
   "outputs": [
    {
     "data": {
      "text/plain": [
       "(600, 3)"
      ]
     },
     "execution_count": 221,
     "metadata": {},
     "output_type": "execute_result"
    }
   ],
   "source": [
    "train.shape"
   ]
  },
  {
   "cell_type": "code",
   "execution_count": 222,
   "id": "e45f3b0f",
   "metadata": {},
   "outputs": [],
   "source": [
    "polynomial_transformer = PolynomialFeatures(1)\n",
    "polynomial_features = polynomial_transformer.fit_transform(train.values)"
   ]
  },
  {
   "cell_type": "code",
   "execution_count": 223,
   "id": "bb9b6450",
   "metadata": {},
   "outputs": [],
   "source": [
    "X = pd.DataFrame(polynomial_features) #다항변수 입력"
   ]
  },
  {
   "cell_type": "code",
   "execution_count": 224,
   "id": "b79c8a6a",
   "metadata": {},
   "outputs": [],
   "source": [
    "y = train[['box_off_num']] #목표변수 정의"
   ]
  },
  {
   "cell_type": "code",
   "execution_count": 225,
   "id": "a8459b22",
   "metadata": {},
   "outputs": [],
   "source": [
    "X_train, X_test, y_train, y_test = train_test_split(X, y, test_size = 0.3, random_state=5)"
   ]
  },
  {
   "cell_type": "code",
   "execution_count": 226,
   "id": "a34c8341",
   "metadata": {},
   "outputs": [
    {
     "data": {
      "text/plain": [
       "Lasso(alpha=0.001, normalize=True)"
      ]
     },
     "execution_count": 226,
     "metadata": {},
     "output_type": "execute_result"
    }
   ],
   "source": [
    "model = Lasso(alpha=0.001, max_iter=1000, normalize=True) \n",
    "model.fit(X_train, y_train)"
   ]
  },
  {
   "cell_type": "code",
   "execution_count": 227,
   "id": "d544770c",
   "metadata": {},
   "outputs": [],
   "source": [
    "y_train_predict = model.predict(X_train)\n",
    "y_test_predict = model.predict(X_test)"
   ]
  },
  {
   "cell_type": "code",
   "execution_count": 228,
   "id": "6c612e1b",
   "metadata": {},
   "outputs": [
    {
     "name": "stdout",
     "output_type": "stream",
     "text": [
      "training set에서의 성능\n",
      "-----------------------\n",
      "35.51049898462281\n",
      "test set에서의 성능\n",
      "-----------------------\n",
      "36.39460057315035\n"
     ]
    }
   ],
   "source": [
    "mse = mean_squared_error(y_train, y_train_predict)\n",
    "\n",
    "print(\"training set에서의 성능\")\n",
    "print(\"-----------------------\")\n",
    "print(sqrt(mse))\n",
    "\n",
    "mse = mean_squared_error(y_test, y_test_predict)\n",
    "\n",
    "print(\"test set에서의 성능\")\n",
    "print(\"-----------------------\")\n",
    "print(sqrt(mse))"
   ]
  },
  {
   "cell_type": "markdown",
   "id": "2ef51123",
   "metadata": {},
   "source": [
    "그리드서치"
   ]
  },
  {
   "cell_type": "code",
   "execution_count": 229,
   "id": "b64b1515",
   "metadata": {},
   "outputs": [],
   "source": [
    " from sklearn.model_selection import GridSearchCV"
   ]
  },
  {
   "cell_type": "code",
   "execution_count": 230,
   "id": "ec9b4ebd",
   "metadata": {},
   "outputs": [],
   "source": [
    "model = lgb.LGBMRegressor(random_state=777, n_estimators=1000)\n",
    "\n",
    "params = {\n",
    "    'learning_rate': [0.1, 0.01, 0.003],\n",
    "    'min_child_samples': [20, 30]}\n",
    "\n",
    "gs = GridSearchCV(estimator=model,\n",
    "                  param_grid=params,\n",
    "                  scoring='neg_mean_squared_error',\n",
    "                  cv = k_fold)"
   ]
  },
  {
   "cell_type": "code",
   "execution_count": 231,
   "id": "f6765189",
   "metadata": {},
   "outputs": [
    {
     "data": {
      "text/plain": [
       "GridSearchCV(cv=KFold(n_splits=5, random_state=777, shuffle=True),\n",
       "             estimator=LGBMRegressor(n_estimators=1000, random_state=777),\n",
       "             param_grid={'learning_rate': [0.1, 0.01, 0.003],\n",
       "                         'min_child_samples': [20, 30]},\n",
       "             scoring='neg_mean_squared_error')"
      ]
     },
     "execution_count": 231,
     "metadata": {},
     "output_type": "execute_result"
    }
   ],
   "source": [
    "gs.fit(X_train, y_train)"
   ]
  },
  {
   "cell_type": "code",
   "execution_count": 232,
   "id": "4aab4433",
   "metadata": {},
   "outputs": [
    {
     "data": {
      "text/plain": [
       "{'learning_rate': 0.01, 'min_child_samples': 20}"
      ]
     },
     "execution_count": 232,
     "metadata": {},
     "output_type": "execute_result"
    }
   ],
   "source": [
    "gs.best_params_"
   ]
  },
  {
   "cell_type": "code",
   "execution_count": 233,
   "id": "e58b3716",
   "metadata": {},
   "outputs": [
    {
     "name": "stderr",
     "output_type": "stream",
     "text": [
      "C:\\Users\\user\\anaconda3\\lib\\site-packages\\lightgbm\\sklearn.py:726: UserWarning: 'early_stopping_rounds' argument is deprecated and will be removed in a future release of LightGBM. Pass 'early_stopping()' callback via 'callbacks' argument instead.\n",
      "  _log_warning(\"'early_stopping_rounds' argument is deprecated and will be removed in a future release of LightGBM. \"\n",
      "C:\\Users\\user\\anaconda3\\lib\\site-packages\\lightgbm\\sklearn.py:736: UserWarning: 'verbose' argument is deprecated and will be removed in a future release of LightGBM. Pass 'log_evaluation()' callback via 'callbacks' argument instead.\n",
      "  _log_warning(\"'verbose' argument is deprecated and will be removed in a future release of LightGBM. \"\n"
     ]
    },
    {
     "name": "stdout",
     "output_type": "stream",
     "text": [
      "[100]\tvalid_0's l2: 2.14622e+12\n",
      "[200]\tvalid_0's l2: 1.55766e+12\n",
      "[300]\tvalid_0's l2: 1.27182e+12\n",
      "[400]\tvalid_0's l2: 1.13254e+12\n",
      "[500]\tvalid_0's l2: 1.05288e+12\n",
      "[600]\tvalid_0's l2: 1.01391e+12\n",
      "[700]\tvalid_0's l2: 9.98005e+11\n",
      "[800]\tvalid_0's l2: 9.94363e+11\n",
      "[900]\tvalid_0's l2: 9.95584e+11\n",
      "[100]\tvalid_0's l2: 5.09877e+12\n",
      "[200]\tvalid_0's l2: 4.17947e+12\n",
      "[300]\tvalid_0's l2: 3.5893e+12\n",
      "[400]\tvalid_0's l2: 3.20327e+12\n",
      "[500]\tvalid_0's l2: 2.95184e+12\n",
      "[600]\tvalid_0's l2: 2.76788e+12\n",
      "[700]\tvalid_0's l2: 2.63026e+12\n",
      "[800]\tvalid_0's l2: 2.52645e+12\n",
      "[900]\tvalid_0's l2: 2.44694e+12\n",
      "[1000]\tvalid_0's l2: 2.38511e+12\n",
      "[100]\tvalid_0's l2: 3.77379e+12\n",
      "[200]\tvalid_0's l2: 2.8508e+12\n",
      "[300]\tvalid_0's l2: 2.31568e+12\n",
      "[400]\tvalid_0's l2: 1.99687e+12\n",
      "[500]\tvalid_0's l2: 1.80047e+12\n",
      "[600]\tvalid_0's l2: 1.6631e+12\n",
      "[700]\tvalid_0's l2: 1.56434e+12\n",
      "[800]\tvalid_0's l2: 1.48802e+12\n",
      "[900]\tvalid_0's l2: 1.42259e+12\n",
      "[1000]\tvalid_0's l2: 1.37946e+12\n",
      "[100]\tvalid_0's l2: 6.27493e+11\n",
      "[200]\tvalid_0's l2: 3.2662e+11\n",
      "[300]\tvalid_0's l2: 2.34645e+11\n",
      "[400]\tvalid_0's l2: 2.35885e+11\n",
      "[100]\tvalid_0's l2: 1.25312e+12\n",
      "[200]\tvalid_0's l2: 8.46302e+11\n",
      "[300]\tvalid_0's l2: 6.26368e+11\n",
      "[400]\tvalid_0's l2: 5.08353e+11\n",
      "[500]\tvalid_0's l2: 4.41529e+11\n",
      "[600]\tvalid_0's l2: 3.98959e+11\n",
      "[700]\tvalid_0's l2: 3.71977e+11\n",
      "[800]\tvalid_0's l2: 3.5463e+11\n",
      "[900]\tvalid_0's l2: 3.42724e+11\n",
      "[1000]\tvalid_0's l2: 3.34332e+11\n"
     ]
    }
   ],
   "source": [
    "model = lgb.LGBMRegressor(random_state=777, n_estimators=1000, learning_rate=0.003, min_child_samples=30)\n",
    "\n",
    "models = []\n",
    "\n",
    "for train_idx, val_idx in k_fold.split(X_train):\n",
    "    x_t = X_train.iloc[train_idx]\n",
    "    y_t = y_train.iloc[train_idx]\n",
    "    x_val = X_train.iloc[val_idx]\n",
    "    y_val = y_train.iloc[val_idx]\n",
    "    \n",
    "    models.append(model.fit(x_t, y_t, eval_set=(x_val, y_val), early_stopping_rounds=100, verbose = 100))"
   ]
  },
  {
   "cell_type": "code",
   "execution_count": 234,
   "id": "5c1caa21",
   "metadata": {},
   "outputs": [
    {
     "data": {
      "text/plain": [
       "5"
      ]
     },
     "execution_count": 234,
     "metadata": {},
     "output_type": "execute_result"
    }
   ],
   "source": [
    "preds = []\n",
    "for model in models:\n",
    "    preds.append(model.predict(X_test))\n",
    "len(preds)"
   ]
  },
  {
   "cell_type": "code",
   "execution_count": 235,
   "id": "9caa1ccf",
   "metadata": {},
   "outputs": [
    {
     "data": {
      "text/plain": [
       "{'learning_rate': 0.01, 'min_child_samples': 20}"
      ]
     },
     "execution_count": 235,
     "metadata": {},
     "output_type": "execute_result"
    }
   ],
   "source": [
    "gs.best_params_"
   ]
  },
  {
   "cell_type": "code",
   "execution_count": 236,
   "id": "57ded7c0",
   "metadata": {},
   "outputs": [],
   "source": [
    "gslgbm = submission.copy()"
   ]
  },
  {
   "cell_type": "code",
   "execution_count": 237,
   "id": "71785ce4",
   "metadata": {},
   "outputs": [],
   "source": [
    "gslgbm.to_csv('gslgbm.csv', index = False)"
   ]
  },
  {
   "cell_type": "code",
   "execution_count": 238,
   "id": "8184170c",
   "metadata": {},
   "outputs": [
    {
     "name": "stdout",
     "output_type": "stream",
     "text": [
      "{'isSubmitted': True, 'detail': 'Success'}\n"
     ]
    }
   ],
   "source": [
    "from dacon_submit_api import dacon_submit_api \n",
    "\n",
    "result = dacon_submit_api.post_submission_file(\n",
    "'gslgbm.csv', \n",
    "'4802a80f0175b68b06c46c379deb3c0c6b28ff5b57bf947b9e1221903f4e3540', \n",
    "'235536', \n",
    "'rgm', \n",
    "'LGBMRegressor' )"
   ]
  },
  {
   "cell_type": "code",
   "execution_count": null,
   "id": "b8e0bdf3",
   "metadata": {},
   "outputs": [],
   "source": []
  }
 ],
 "metadata": {
  "kernelspec": {
   "display_name": "Python 3 (ipykernel)",
   "language": "python",
   "name": "python3"
  },
  "language_info": {
   "codemirror_mode": {
    "name": "ipython",
    "version": 3
   },
   "file_extension": ".py",
   "mimetype": "text/x-python",
   "name": "python",
   "nbconvert_exporter": "python",
   "pygments_lexer": "ipython3",
   "version": "3.9.7"
  }
 },
 "nbformat": 4,
 "nbformat_minor": 5
}
