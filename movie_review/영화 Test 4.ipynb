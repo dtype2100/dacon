{
 "cells": [
  {
   "cell_type": "code",
   "execution_count": 77,
   "id": "27f59534",
   "metadata": {},
   "outputs": [],
   "source": [
    "import pandas as pd\n",
    "import numpy as np\n",
    "import seaborn as sns\n",
    "import matplotlib.pyplot as plt\n",
    "import re\n",
    "import warnings\n",
    "warnings.filterwarnings('ignore')"
   ]
  },
  {
   "cell_type": "code",
   "execution_count": 78,
   "id": "aa13c0c5",
   "metadata": {},
   "outputs": [],
   "source": [
    "\n",
    "train = pd.read_csv('C:\\\\Users\\\\user\\\\workspace\\\\movie\\\\movies_train.csv')\n",
    "test = pd.read_csv('C:\\\\Users\\\\user\\\\workspace\\\\movie\\movies_test.csv')\n",
    "submission = pd.read_csv('C:\\\\Users\\\\user\\\\workspace\\\\movie\\\\submission.csv')"
   ]
  },
  {
   "cell_type": "markdown",
   "id": "88abef40",
   "metadata": {},
   "source": [
    "EDA 및 전처리"
   ]
  },
  {
   "cell_type": "code",
   "execution_count": 79,
   "id": "66822140",
   "metadata": {},
   "outputs": [
    {
     "data": {
      "text/html": [
       "<div>\n",
       "<style scoped>\n",
       "    .dataframe tbody tr th:only-of-type {\n",
       "        vertical-align: middle;\n",
       "    }\n",
       "\n",
       "    .dataframe tbody tr th {\n",
       "        vertical-align: top;\n",
       "    }\n",
       "\n",
       "    .dataframe thead th {\n",
       "        text-align: right;\n",
       "    }\n",
       "</style>\n",
       "<table border=\"1\" class=\"dataframe\">\n",
       "  <thead>\n",
       "    <tr style=\"text-align: right;\">\n",
       "      <th></th>\n",
       "      <th>title</th>\n",
       "      <th>distributor</th>\n",
       "      <th>genre</th>\n",
       "      <th>release_time</th>\n",
       "      <th>time</th>\n",
       "      <th>screening_rat</th>\n",
       "      <th>director</th>\n",
       "      <th>dir_prev_bfnum</th>\n",
       "      <th>dir_prev_num</th>\n",
       "      <th>num_staff</th>\n",
       "      <th>num_actor</th>\n",
       "      <th>box_off_num</th>\n",
       "    </tr>\n",
       "  </thead>\n",
       "  <tbody>\n",
       "    <tr>\n",
       "      <th>0</th>\n",
       "      <td>개들의 전쟁</td>\n",
       "      <td>롯데엔터테인먼트</td>\n",
       "      <td>액션</td>\n",
       "      <td>2012-11-22</td>\n",
       "      <td>96</td>\n",
       "      <td>청소년 관람불가</td>\n",
       "      <td>조병옥</td>\n",
       "      <td>NaN</td>\n",
       "      <td>0</td>\n",
       "      <td>91</td>\n",
       "      <td>2</td>\n",
       "      <td>23398</td>\n",
       "    </tr>\n",
       "    <tr>\n",
       "      <th>1</th>\n",
       "      <td>내부자들</td>\n",
       "      <td>(주)쇼박스</td>\n",
       "      <td>느와르</td>\n",
       "      <td>2015-11-19</td>\n",
       "      <td>130</td>\n",
       "      <td>청소년 관람불가</td>\n",
       "      <td>우민호</td>\n",
       "      <td>1161602.50</td>\n",
       "      <td>2</td>\n",
       "      <td>387</td>\n",
       "      <td>3</td>\n",
       "      <td>7072501</td>\n",
       "    </tr>\n",
       "    <tr>\n",
       "      <th>2</th>\n",
       "      <td>은밀하게 위대하게</td>\n",
       "      <td>(주)쇼박스</td>\n",
       "      <td>액션</td>\n",
       "      <td>2013-06-05</td>\n",
       "      <td>123</td>\n",
       "      <td>15세 관람가</td>\n",
       "      <td>장철수</td>\n",
       "      <td>220775.25</td>\n",
       "      <td>4</td>\n",
       "      <td>343</td>\n",
       "      <td>4</td>\n",
       "      <td>6959083</td>\n",
       "    </tr>\n",
       "  </tbody>\n",
       "</table>\n",
       "</div>"
      ],
      "text/plain": [
       "       title distributor genre release_time  time screening_rat director  \\\n",
       "0     개들의 전쟁    롯데엔터테인먼트    액션   2012-11-22    96      청소년 관람불가      조병옥   \n",
       "1       내부자들      (주)쇼박스   느와르   2015-11-19   130      청소년 관람불가      우민호   \n",
       "2  은밀하게 위대하게      (주)쇼박스    액션   2013-06-05   123       15세 관람가      장철수   \n",
       "\n",
       "   dir_prev_bfnum  dir_prev_num  num_staff  num_actor  box_off_num  \n",
       "0             NaN             0         91          2        23398  \n",
       "1      1161602.50             2        387          3      7072501  \n",
       "2       220775.25             4        343          4      6959083  "
      ]
     },
     "execution_count": 79,
     "metadata": {},
     "output_type": "execute_result"
    }
   ],
   "source": [
    "train.head(3)"
   ]
  },
  {
   "cell_type": "code",
   "execution_count": 80,
   "id": "6fa7919d",
   "metadata": {},
   "outputs": [
    {
     "data": {
      "text/html": [
       "<div>\n",
       "<style scoped>\n",
       "    .dataframe tbody tr th:only-of-type {\n",
       "        vertical-align: middle;\n",
       "    }\n",
       "\n",
       "    .dataframe tbody tr th {\n",
       "        vertical-align: top;\n",
       "    }\n",
       "\n",
       "    .dataframe thead th {\n",
       "        text-align: right;\n",
       "    }\n",
       "</style>\n",
       "<table border=\"1\" class=\"dataframe\">\n",
       "  <thead>\n",
       "    <tr style=\"text-align: right;\">\n",
       "      <th></th>\n",
       "      <th>time</th>\n",
       "      <th>dir_prev_bfnum</th>\n",
       "      <th>dir_prev_num</th>\n",
       "      <th>num_staff</th>\n",
       "      <th>num_actor</th>\n",
       "      <th>box_off_num</th>\n",
       "    </tr>\n",
       "  </thead>\n",
       "  <tbody>\n",
       "    <tr>\n",
       "      <th>count</th>\n",
       "      <td>600.000000</td>\n",
       "      <td>2.700000e+02</td>\n",
       "      <td>600.000000</td>\n",
       "      <td>600.000000</td>\n",
       "      <td>600.000000</td>\n",
       "      <td>6.000000e+02</td>\n",
       "    </tr>\n",
       "    <tr>\n",
       "      <th>mean</th>\n",
       "      <td>100.863333</td>\n",
       "      <td>1.050443e+06</td>\n",
       "      <td>0.876667</td>\n",
       "      <td>151.118333</td>\n",
       "      <td>3.706667</td>\n",
       "      <td>7.081818e+05</td>\n",
       "    </tr>\n",
       "    <tr>\n",
       "      <th>std</th>\n",
       "      <td>18.097528</td>\n",
       "      <td>1.791408e+06</td>\n",
       "      <td>1.183409</td>\n",
       "      <td>165.654671</td>\n",
       "      <td>2.446889</td>\n",
       "      <td>1.828006e+06</td>\n",
       "    </tr>\n",
       "    <tr>\n",
       "      <th>min</th>\n",
       "      <td>45.000000</td>\n",
       "      <td>1.000000e+00</td>\n",
       "      <td>0.000000</td>\n",
       "      <td>0.000000</td>\n",
       "      <td>0.000000</td>\n",
       "      <td>1.000000e+00</td>\n",
       "    </tr>\n",
       "    <tr>\n",
       "      <th>25%</th>\n",
       "      <td>89.000000</td>\n",
       "      <td>2.038000e+04</td>\n",
       "      <td>0.000000</td>\n",
       "      <td>17.000000</td>\n",
       "      <td>2.000000</td>\n",
       "      <td>1.297250e+03</td>\n",
       "    </tr>\n",
       "    <tr>\n",
       "      <th>50%</th>\n",
       "      <td>100.000000</td>\n",
       "      <td>4.784236e+05</td>\n",
       "      <td>0.000000</td>\n",
       "      <td>82.500000</td>\n",
       "      <td>3.000000</td>\n",
       "      <td>1.259100e+04</td>\n",
       "    </tr>\n",
       "    <tr>\n",
       "      <th>75%</th>\n",
       "      <td>114.000000</td>\n",
       "      <td>1.286569e+06</td>\n",
       "      <td>2.000000</td>\n",
       "      <td>264.000000</td>\n",
       "      <td>4.000000</td>\n",
       "      <td>4.798868e+05</td>\n",
       "    </tr>\n",
       "    <tr>\n",
       "      <th>max</th>\n",
       "      <td>180.000000</td>\n",
       "      <td>1.761531e+07</td>\n",
       "      <td>5.000000</td>\n",
       "      <td>869.000000</td>\n",
       "      <td>25.000000</td>\n",
       "      <td>1.426277e+07</td>\n",
       "    </tr>\n",
       "  </tbody>\n",
       "</table>\n",
       "</div>"
      ],
      "text/plain": [
       "             time  dir_prev_bfnum  dir_prev_num   num_staff   num_actor  \\\n",
       "count  600.000000    2.700000e+02    600.000000  600.000000  600.000000   \n",
       "mean   100.863333    1.050443e+06      0.876667  151.118333    3.706667   \n",
       "std     18.097528    1.791408e+06      1.183409  165.654671    2.446889   \n",
       "min     45.000000    1.000000e+00      0.000000    0.000000    0.000000   \n",
       "25%     89.000000    2.038000e+04      0.000000   17.000000    2.000000   \n",
       "50%    100.000000    4.784236e+05      0.000000   82.500000    3.000000   \n",
       "75%    114.000000    1.286569e+06      2.000000  264.000000    4.000000   \n",
       "max    180.000000    1.761531e+07      5.000000  869.000000   25.000000   \n",
       "\n",
       "        box_off_num  \n",
       "count  6.000000e+02  \n",
       "mean   7.081818e+05  \n",
       "std    1.828006e+06  \n",
       "min    1.000000e+00  \n",
       "25%    1.297250e+03  \n",
       "50%    1.259100e+04  \n",
       "75%    4.798868e+05  \n",
       "max    1.426277e+07  "
      ]
     },
     "execution_count": 80,
     "metadata": {},
     "output_type": "execute_result"
    }
   ],
   "source": [
    "train.describe()"
   ]
  },
  {
   "cell_type": "code",
   "execution_count": 81,
   "id": "d9a5f540",
   "metadata": {},
   "outputs": [
    {
     "data": {
      "text/html": [
       "<div>\n",
       "<style scoped>\n",
       "    .dataframe tbody tr th:only-of-type {\n",
       "        vertical-align: middle;\n",
       "    }\n",
       "\n",
       "    .dataframe tbody tr th {\n",
       "        vertical-align: top;\n",
       "    }\n",
       "\n",
       "    .dataframe thead th {\n",
       "        text-align: right;\n",
       "    }\n",
       "</style>\n",
       "<table border=\"1\" class=\"dataframe\">\n",
       "  <thead>\n",
       "    <tr style=\"text-align: right;\">\n",
       "      <th></th>\n",
       "      <th>time</th>\n",
       "      <th>dir_prev_bfnum</th>\n",
       "      <th>dir_prev_num</th>\n",
       "      <th>num_staff</th>\n",
       "      <th>num_actor</th>\n",
       "    </tr>\n",
       "  </thead>\n",
       "  <tbody>\n",
       "    <tr>\n",
       "      <th>count</th>\n",
       "      <td>243.000000</td>\n",
       "      <td>1.070000e+02</td>\n",
       "      <td>243.000000</td>\n",
       "      <td>243.000000</td>\n",
       "      <td>243.000000</td>\n",
       "    </tr>\n",
       "    <tr>\n",
       "      <th>mean</th>\n",
       "      <td>109.798354</td>\n",
       "      <td>8.916695e+05</td>\n",
       "      <td>0.851852</td>\n",
       "      <td>159.316872</td>\n",
       "      <td>3.477366</td>\n",
       "    </tr>\n",
       "    <tr>\n",
       "      <th>std</th>\n",
       "      <td>124.022711</td>\n",
       "      <td>1.217341e+06</td>\n",
       "      <td>1.200321</td>\n",
       "      <td>162.976607</td>\n",
       "      <td>2.111192</td>\n",
       "    </tr>\n",
       "    <tr>\n",
       "      <th>min</th>\n",
       "      <td>40.000000</td>\n",
       "      <td>3.400000e+01</td>\n",
       "      <td>0.000000</td>\n",
       "      <td>0.000000</td>\n",
       "      <td>0.000000</td>\n",
       "    </tr>\n",
       "    <tr>\n",
       "      <th>25%</th>\n",
       "      <td>91.000000</td>\n",
       "      <td>6.250200e+04</td>\n",
       "      <td>0.000000</td>\n",
       "      <td>18.000000</td>\n",
       "      <td>2.000000</td>\n",
       "    </tr>\n",
       "    <tr>\n",
       "      <th>50%</th>\n",
       "      <td>104.000000</td>\n",
       "      <td>4.931200e+05</td>\n",
       "      <td>0.000000</td>\n",
       "      <td>105.000000</td>\n",
       "      <td>3.000000</td>\n",
       "    </tr>\n",
       "    <tr>\n",
       "      <th>75%</th>\n",
       "      <td>114.500000</td>\n",
       "      <td>1.080850e+06</td>\n",
       "      <td>1.000000</td>\n",
       "      <td>282.000000</td>\n",
       "      <td>4.000000</td>\n",
       "    </tr>\n",
       "    <tr>\n",
       "      <th>max</th>\n",
       "      <td>2015.000000</td>\n",
       "      <td>6.173100e+06</td>\n",
       "      <td>6.000000</td>\n",
       "      <td>776.000000</td>\n",
       "      <td>16.000000</td>\n",
       "    </tr>\n",
       "  </tbody>\n",
       "</table>\n",
       "</div>"
      ],
      "text/plain": [
       "              time  dir_prev_bfnum  dir_prev_num   num_staff   num_actor\n",
       "count   243.000000    1.070000e+02    243.000000  243.000000  243.000000\n",
       "mean    109.798354    8.916695e+05      0.851852  159.316872    3.477366\n",
       "std     124.022711    1.217341e+06      1.200321  162.976607    2.111192\n",
       "min      40.000000    3.400000e+01      0.000000    0.000000    0.000000\n",
       "25%      91.000000    6.250200e+04      0.000000   18.000000    2.000000\n",
       "50%     104.000000    4.931200e+05      0.000000  105.000000    3.000000\n",
       "75%     114.500000    1.080850e+06      1.000000  282.000000    4.000000\n",
       "max    2015.000000    6.173100e+06      6.000000  776.000000   16.000000"
      ]
     },
     "execution_count": 81,
     "metadata": {},
     "output_type": "execute_result"
    }
   ],
   "source": [
    "test.describe()"
   ]
  },
  {
   "cell_type": "code",
   "execution_count": 82,
   "id": "c17ffe11",
   "metadata": {},
   "outputs": [],
   "source": [
    "train.dir_prev_bfnum.fillna(0, inplace=True) #결측값 0으로 변경\n",
    "test.dir_prev_bfnum.fillna(0, inplace=True)"
   ]
  },
  {
   "cell_type": "code",
   "execution_count": 83,
   "id": "cc6eba73",
   "metadata": {},
   "outputs": [
    {
     "data": {
      "text/plain": [
       "<AxesSubplot:>"
      ]
     },
     "execution_count": 83,
     "metadata": {},
     "output_type": "execute_result"
    },
    {
     "data": {
      "image/png": "[encoded data removed]",
      "text/plain": [
       "<Figure size 576x396 with 1 Axes>"
      ]
     },
     "metadata": {},
     "output_type": "display_data"
    }
   ],
   "source": [
    "plt.style.use('seaborn')\n",
    "train.plot(kind='box')"
   ]
  },
  {
   "cell_type": "code",
   "execution_count": 84,
   "id": "683e4933",
   "metadata": {},
   "outputs": [
    {
     "data": {
      "text/plain": [
       "<AxesSubplot:>"
      ]
     },
     "execution_count": 84,
     "metadata": {},
     "output_type": "execute_result"
    },
    {
     "data": {
      "image/png": "[encoded data removed]",
      "text/plain": [
       "<Figure size 576x396 with 1 Axes>"
      ]
     },
     "metadata": {},
     "output_type": "display_data"
    }
   ],
   "source": [
    "test.plot(kind='box')"
   ]
  },
  {
   "cell_type": "code",
   "execution_count": 85,
   "id": "b0a5548b",
   "metadata": {},
   "outputs": [],
   "source": [
    "q1 = train['box_off_num'].quantile(0.25)\n",
    "q3 = train['box_off_num'].quantile(0.75)\n",
    "iqr = q3 - q1"
   ]
  },
  {
   "cell_type": "code",
   "execution_count": 86,
   "id": "39573d0e",
   "metadata": {},
   "outputs": [],
   "source": [
    "condition = (train['box_off_num'] < q1 - 1.5 * iqr) | (train['box_off_num'] > q3 + 1.5 * iqr)"
   ]
  },
  {
   "cell_type": "code",
   "execution_count": 87,
   "id": "a5d69dd8",
   "metadata": {},
   "outputs": [
    {
     "data": {
      "text/plain": [
       "Int64Index([  1,   2,  16,  20,  34,  39,  44,  59,  63,  66,  74,  81,  86,\n",
       "             90,  91, 100, 101, 110, 112, 116, 118, 122, 124, 128, 139, 166,\n",
       "            169, 178, 181, 190, 201, 208, 209, 214, 219, 220, 226, 244, 267,\n",
       "            278, 287, 288, 297, 320, 322, 326, 360, 361, 362, 372, 377, 381,\n",
       "            382, 388, 393, 397, 398, 399, 409, 412, 422, 429, 434, 442, 445,\n",
       "            455, 458, 460, 466, 467, 472, 476, 477, 478, 485, 486, 487, 491,\n",
       "            494, 496, 498, 505, 507, 517, 520, 530, 536, 539, 547, 561, 568,\n",
       "            588, 592, 595, 596, 598, 599],\n",
       "           dtype='int64')"
      ]
     },
     "execution_count": 87,
     "metadata": {},
     "output_type": "execute_result"
    }
   ],
   "source": [
    "train[condition].index"
   ]
  },
  {
   "cell_type": "code",
   "execution_count": 88,
   "id": "3ee9cb2c",
   "metadata": {},
   "outputs": [],
   "source": [
    "train.drop(train[condition].index, inplace=True) #이상값 삭제"
   ]
  },
  {
   "cell_type": "code",
   "execution_count": 89,
   "id": "692fc0a9",
   "metadata": {},
   "outputs": [],
   "source": [
    "q1 = train['dir_prev_bfnum'].quantile(0.25)\n",
    "q3 = train['dir_prev_bfnum'].quantile(0.75)\n",
    "iqr = q3 - q1"
   ]
  },
  {
   "cell_type": "code",
   "execution_count": 90,
   "id": "35ef5700",
   "metadata": {},
   "outputs": [],
   "source": [
    "condition1 = (train['dir_prev_bfnum'] < q1 - 1.5 * iqr) | (train['dir_prev_bfnum'] > q3 + 1.5 * iqr)"
   ]
  },
  {
   "cell_type": "code",
   "execution_count": 91,
   "id": "334c810c",
   "metadata": {},
   "outputs": [
    {
     "data": {
      "text/plain": [
       "Int64Index([  5,   7,  12,  13,  41,  48,  50,  51,  60,  61,\n",
       "            ...\n",
       "            531, 535, 543, 548, 551, 564, 566, 570, 576, 584],\n",
       "           dtype='int64', length=110)"
      ]
     },
     "execution_count": 91,
     "metadata": {},
     "output_type": "execute_result"
    }
   ],
   "source": [
    "train[condition1].index"
   ]
  },
  {
   "cell_type": "code",
   "execution_count": 92,
   "id": "149d8c9c",
   "metadata": {},
   "outputs": [],
   "source": [
    "train.drop(train[condition1].index, inplace=True) #이상값 삭제"
   ]
  },
  {
   "cell_type": "code",
   "execution_count": 93,
   "id": "cc41ede9",
   "metadata": {},
   "outputs": [],
   "source": [
    "q1 = train['time'].quantile(0.25)\n",
    "q3 = train['time'].quantile(0.75)\n",
    "iqr = q3 - q1"
   ]
  },
  {
   "cell_type": "code",
   "execution_count": 94,
   "id": "2f8c0939",
   "metadata": {},
   "outputs": [],
   "source": [
    "condition2 = (train['time'] < q1 - 1.5 * iqr) | (train['time'] > q3 + 1.5 * iqr)"
   ]
  },
  {
   "cell_type": "code",
   "execution_count": 95,
   "id": "4ff85668",
   "metadata": {},
   "outputs": [
    {
     "data": {
      "text/plain": [
       "Int64Index([111, 257, 353, 365, 425, 438, 545], dtype='int64')"
      ]
     },
     "execution_count": 95,
     "metadata": {},
     "output_type": "execute_result"
    }
   ],
   "source": [
    "train[condition2].index"
   ]
  },
  {
   "cell_type": "code",
   "execution_count": 96,
   "id": "2f594a8e",
   "metadata": {},
   "outputs": [],
   "source": [
    "train.drop(train[condition2].index, inplace=True) #이상값 삭제"
   ]
  },
  {
   "cell_type": "code",
   "execution_count": 97,
   "id": "e4ec2043",
   "metadata": {},
   "outputs": [],
   "source": [
    "q1 = train['num_staff'].quantile(0.25)\n",
    "q3 = train['num_staff'].quantile(0.75)\n",
    "iqr = q3 - q1"
   ]
  },
  {
   "cell_type": "code",
   "execution_count": 98,
   "id": "dc3e68b3",
   "metadata": {},
   "outputs": [],
   "source": [
    "condition3 = (train['num_staff'] < q1 - 1.5 * iqr) | (train['num_staff'] > q3 + 1.5 * iqr)"
   ]
  },
  {
   "cell_type": "code",
   "execution_count": 99,
   "id": "3e639f2c",
   "metadata": {},
   "outputs": [
    {
     "data": {
      "text/plain": [
       "Int64Index([ 18,  23,  30,  47,  55,  58, 105, 119, 146, 180, 184, 192, 200,\n",
       "            270, 273, 330, 350, 417, 420, 446, 463, 489, 512, 513, 537, 540,\n",
       "            559, 589],\n",
       "           dtype='int64')"
      ]
     },
     "execution_count": 99,
     "metadata": {},
     "output_type": "execute_result"
    }
   ],
   "source": [
    "train[condition3].index"
   ]
  },
  {
   "cell_type": "code",
   "execution_count": 100,
   "id": "db6c91b0",
   "metadata": {},
   "outputs": [],
   "source": [
    "train.drop(train[condition3].index, inplace=True) #이상값 삭제"
   ]
  },
  {
   "cell_type": "code",
   "execution_count": 101,
   "id": "a1449cba",
   "metadata": {},
   "outputs": [],
   "source": [
    "q1 = train['num_actor'].quantile(0.25)\n",
    "q3 = train['num_actor'].quantile(0.75)\n",
    "iqr = q3 - q1"
   ]
  },
  {
   "cell_type": "code",
   "execution_count": 102,
   "id": "d0cedf58",
   "metadata": {},
   "outputs": [],
   "source": [
    "condition4 = (train['num_actor'] < q1 - 1.5 * iqr) | (train['num_actor'] > q3 + 1.5 * iqr)"
   ]
  },
  {
   "cell_type": "code",
   "execution_count": 103,
   "id": "ba2dbf3c",
   "metadata": {},
   "outputs": [
    {
     "data": {
      "text/plain": [
       "Int64Index([ 19,  26,  32,  52,  53,  56,  80, 108, 130, 148, 196, 203, 246,\n",
       "            264, 272, 302, 363, 371, 511, 525, 528, 574, 582],\n",
       "           dtype='int64')"
      ]
     },
     "execution_count": 103,
     "metadata": {},
     "output_type": "execute_result"
    }
   ],
   "source": [
    "train[condition4].index"
   ]
  },
  {
   "cell_type": "code",
   "execution_count": 104,
   "id": "8ee068e1",
   "metadata": {},
   "outputs": [],
   "source": [
    "train.drop(train[condition4].index, inplace=True) #이상값 삭제"
   ]
  },
  {
   "cell_type": "code",
   "execution_count": 105,
   "id": "490ec422",
   "metadata": {},
   "outputs": [],
   "source": [
    "q1 = train['dir_prev_num'].quantile(0.25)\n",
    "q3 = train['dir_prev_num'].quantile(0.75)\n",
    "iqr = q3 - q1"
   ]
  },
  {
   "cell_type": "code",
   "execution_count": 106,
   "id": "a8432ed6",
   "metadata": {},
   "outputs": [],
   "source": [
    "condition5 = (train['dir_prev_num'] < q1 - 1.5 * iqr) | (train['dir_prev_num'] > q3 + 1.5 * iqr)"
   ]
  },
  {
   "cell_type": "code",
   "execution_count": 107,
   "id": "d478865b",
   "metadata": {},
   "outputs": [
    {
     "data": {
      "text/plain": [
       "Int64Index([  3,   4,  17,  45,  54,  68,  70,  71,  73,  79,  88,  89,  98,\n",
       "            104, 114, 138, 144, 151, 160, 164, 170, 176, 179, 186, 193, 198,\n",
       "            202, 224, 238, 241, 245, 247, 251, 258, 263, 289, 300, 305, 334,\n",
       "            337, 342, 343, 344, 346, 351, 359, 367, 376, 392, 394, 403, 405,\n",
       "            411, 423, 428, 430, 464, 465, 474, 493, 519, 529, 544, 552, 563,\n",
       "            569, 578, 581, 583, 587],\n",
       "           dtype='int64')"
      ]
     },
     "execution_count": 107,
     "metadata": {},
     "output_type": "execute_result"
    }
   ],
   "source": [
    "train[condition5].index"
   ]
  },
  {
   "cell_type": "code",
   "execution_count": 108,
   "id": "ba0a23d0",
   "metadata": {},
   "outputs": [],
   "source": [
    "train.drop(train[condition5].index, inplace=True) #이상값 삭제"
   ]
  },
  {
   "cell_type": "code",
   "execution_count": 109,
   "id": "f7c75a84",
   "metadata": {},
   "outputs": [
    {
     "data": {
      "text/plain": [
       "<AxesSubplot:>"
      ]
     },
     "execution_count": 109,
     "metadata": {},
     "output_type": "execute_result"
    },
    {
     "data": {
      "image/png": "[encoded data removed]",
      "text/plain": [
       "<Figure size 576x396 with 1 Axes>"
      ]
     },
     "metadata": {},
     "output_type": "display_data"
    }
   ],
   "source": [
    "train.plot(kind='box')"
   ]
  },
  {
   "cell_type": "code",
   "execution_count": 110,
   "id": "5ae58ce9",
   "metadata": {},
   "outputs": [],
   "source": [
    "q1 = test['dir_prev_num'].quantile(0.25)\n",
    "q3 = test['dir_prev_num'].quantile(0.75)\n",
    "iqr = q3 - q1"
   ]
  },
  {
   "cell_type": "code",
   "execution_count": 111,
   "id": "f19a8a1d",
   "metadata": {},
   "outputs": [],
   "source": [
    "condition6 = (test['dir_prev_num'] < q1 - 1.5 * iqr) | (test['dir_prev_num'] > q3 + 1.5 * iqr)"
   ]
  },
  {
   "cell_type": "code",
   "execution_count": 112,
   "id": "40247407",
   "metadata": {},
   "outputs": [
    {
     "data": {
      "text/plain": [
       "Int64Index([  1,   2,  22,  58,  66,  68,  74,  76,  93, 111, 119, 134, 154,\n",
       "            166, 170, 174, 183, 185, 196, 204, 205, 207, 212, 222, 229, 230,\n",
       "            231, 233],\n",
       "           dtype='int64')"
      ]
     },
     "execution_count": 112,
     "metadata": {},
     "output_type": "execute_result"
    }
   ],
   "source": [
    "test[condition6].index"
   ]
  },
  {
   "cell_type": "code",
   "execution_count": 113,
   "id": "ea0461e0",
   "metadata": {},
   "outputs": [],
   "source": [
    "test.drop(test[condition6].index, inplace=True) #이상값 삭제"
   ]
  },
  {
   "cell_type": "code",
   "execution_count": 114,
   "id": "9ad18a0a",
   "metadata": {},
   "outputs": [],
   "source": [
    "q1 = test['dir_prev_num'].quantile(0.25)\n",
    "q3 = test['dir_prev_num'].quantile(0.75)\n",
    "iqr = q3 - q1"
   ]
  },
  {
   "cell_type": "code",
   "execution_count": 115,
   "id": "b6835105",
   "metadata": {},
   "outputs": [],
   "source": [
    "condition6 = (test['dir_prev_num'] < q1 - 1.5 * iqr) | (test['dir_prev_num'] > q3 + 1.5 * iqr)"
   ]
  },
  {
   "cell_type": "code",
   "execution_count": 116,
   "id": "cb7d45a7",
   "metadata": {},
   "outputs": [
    {
     "data": {
      "text/plain": [
       "Int64Index([], dtype='int64')"
      ]
     },
     "execution_count": 116,
     "metadata": {},
     "output_type": "execute_result"
    }
   ],
   "source": [
    "test[condition6].index"
   ]
  },
  {
   "cell_type": "code",
   "execution_count": 117,
   "id": "2f76aa03",
   "metadata": {},
   "outputs": [],
   "source": [
    "test.drop(test[condition6].index, inplace=True) #이상값 삭제"
   ]
  },
  {
   "cell_type": "code",
   "execution_count": 118,
   "id": "cb6396bd",
   "metadata": {},
   "outputs": [],
   "source": [
    "q1 = test['time'].quantile(0.25)\n",
    "q3 = test['time'].quantile(0.75)\n",
    "iqr = q3 - q1"
   ]
  },
  {
   "cell_type": "code",
   "execution_count": 119,
   "id": "5435501c",
   "metadata": {},
   "outputs": [],
   "source": [
    "condition7 = (test['time'] < q1 - 1.5 * iqr) | (test['time'] > q3 + 1.5 * iqr)"
   ]
  },
  {
   "cell_type": "code",
   "execution_count": 120,
   "id": "88283af0",
   "metadata": {},
   "outputs": [
    {
     "data": {
      "text/plain": [
       "Int64Index([33, 130, 140, 224], dtype='int64')"
      ]
     },
     "execution_count": 120,
     "metadata": {},
     "output_type": "execute_result"
    }
   ],
   "source": [
    "test[condition7].index"
   ]
  },
  {
   "cell_type": "code",
   "execution_count": 121,
   "id": "a11c3c4d",
   "metadata": {},
   "outputs": [],
   "source": [
    "test.drop(test[condition7].index, inplace=True) #이상값 삭제"
   ]
  },
  {
   "cell_type": "code",
   "execution_count": 122,
   "id": "c86a07f1",
   "metadata": {},
   "outputs": [],
   "source": [
    "q1 = test['dir_prev_bfnum'].quantile(0.25)\n",
    "q3 = test['dir_prev_bfnum'].quantile(0.75)\n",
    "iqr = q3 - q1"
   ]
  },
  {
   "cell_type": "code",
   "execution_count": 123,
   "id": "ddca83b4",
   "metadata": {},
   "outputs": [],
   "source": [
    "condition8 = (test['dir_prev_bfnum'] < q1 - 1.5 * iqr) | (test['dir_prev_bfnum'] > q3 + 1.5 * iqr)"
   ]
  },
  {
   "cell_type": "code",
   "execution_count": 124,
   "id": "1a164e41",
   "metadata": {},
   "outputs": [
    {
     "data": {
      "text/plain": [
       "Int64Index([  0,   3,  10,  11,  14,  15,  23,  25,  43,  45,  48,  53,  60,\n",
       "             70,  86,  89,  94, 100, 104, 106, 108, 112, 135, 137, 142, 145,\n",
       "            148, 149, 158, 161, 162, 163, 165, 178, 179, 184, 189, 199, 209,\n",
       "            213, 216, 220, 221, 227, 232, 236],\n",
       "           dtype='int64')"
      ]
     },
     "execution_count": 124,
     "metadata": {},
     "output_type": "execute_result"
    }
   ],
   "source": [
    "test[condition8].index"
   ]
  },
  {
   "cell_type": "code",
   "execution_count": 125,
   "id": "c0c2cd30",
   "metadata": {},
   "outputs": [],
   "source": [
    "test.drop(test[condition8].index, inplace=True) #이상값 삭제"
   ]
  },
  {
   "cell_type": "code",
   "execution_count": 126,
   "id": "5bd29a4b",
   "metadata": {},
   "outputs": [],
   "source": [
    "q1 = test['num_staff'].quantile(0.25)\n",
    "q3 = test['num_staff'].quantile(0.75)\n",
    "iqr = q3 - q1"
   ]
  },
  {
   "cell_type": "code",
   "execution_count": 127,
   "id": "971c8a0e",
   "metadata": {},
   "outputs": [],
   "source": [
    "condition9 = (test['num_staff'] < q1 - 1.5 * iqr) | (test['num_staff'] > q3 + 1.5 * iqr)"
   ]
  },
  {
   "cell_type": "code",
   "execution_count": 128,
   "id": "3a0d38b7",
   "metadata": {},
   "outputs": [
    {
     "data": {
      "text/plain": [
       "Int64Index([159, 195, 197, 206, 211], dtype='int64')"
      ]
     },
     "execution_count": 128,
     "metadata": {},
     "output_type": "execute_result"
    }
   ],
   "source": [
    "test[condition9].index"
   ]
  },
  {
   "cell_type": "code",
   "execution_count": 129,
   "id": "546def7c",
   "metadata": {},
   "outputs": [],
   "source": [
    "test.drop(test[condition9].index, inplace=True) #이상값 삭제"
   ]
  },
  {
   "cell_type": "code",
   "execution_count": 130,
   "id": "8f7d2e1e",
   "metadata": {},
   "outputs": [],
   "source": [
    "q1 = test['num_actor'].quantile(0.25)\n",
    "q3 = test['num_actor'].quantile(0.75)\n",
    "iqr = q3 - q1"
   ]
  },
  {
   "cell_type": "code",
   "execution_count": 131,
   "id": "71c33030",
   "metadata": {},
   "outputs": [],
   "source": [
    "condition10 = (test['num_actor'] < q1 - 1.5 * iqr) | (test['num_actor'] > q3 + 1.5 * iqr)"
   ]
  },
  {
   "cell_type": "code",
   "execution_count": 132,
   "id": "6ad10d55",
   "metadata": {},
   "outputs": [
    {
     "data": {
      "text/plain": [
       "Int64Index([12, 19, 32, 40, 62, 71, 92, 153], dtype='int64')"
      ]
     },
     "execution_count": 132,
     "metadata": {},
     "output_type": "execute_result"
    }
   ],
   "source": [
    "test[condition10].index"
   ]
  },
  {
   "cell_type": "code",
   "execution_count": 133,
   "id": "03ae8c9a",
   "metadata": {},
   "outputs": [],
   "source": [
    "test.drop(test[condition10].index, inplace=True) #이상값 삭제"
   ]
  },
  {
   "cell_type": "code",
   "execution_count": 134,
   "id": "ea699242",
   "metadata": {},
   "outputs": [
    {
     "data": {
      "text/html": [
       "<div>\n",
       "<style scoped>\n",
       "    .dataframe tbody tr th:only-of-type {\n",
       "        vertical-align: middle;\n",
       "    }\n",
       "\n",
       "    .dataframe tbody tr th {\n",
       "        vertical-align: top;\n",
       "    }\n",
       "\n",
       "    .dataframe thead th {\n",
       "        text-align: right;\n",
       "    }\n",
       "</style>\n",
       "<table border=\"1\" class=\"dataframe\">\n",
       "  <thead>\n",
       "    <tr style=\"text-align: right;\">\n",
       "      <th></th>\n",
       "      <th>time</th>\n",
       "      <th>dir_prev_bfnum</th>\n",
       "      <th>dir_prev_num</th>\n",
       "      <th>num_staff</th>\n",
       "      <th>num_actor</th>\n",
       "      <th>box_off_num</th>\n",
       "    </tr>\n",
       "  </thead>\n",
       "  <tbody>\n",
       "    <tr>\n",
       "      <th>count</th>\n",
       "      <td>265.000000</td>\n",
       "      <td>265.0</td>\n",
       "      <td>265.0</td>\n",
       "      <td>265.000000</td>\n",
       "      <td>265.000000</td>\n",
       "      <td>2.650000e+02</td>\n",
       "    </tr>\n",
       "    <tr>\n",
       "      <th>mean</th>\n",
       "      <td>92.860377</td>\n",
       "      <td>0.0</td>\n",
       "      <td>0.0</td>\n",
       "      <td>51.905660</td>\n",
       "      <td>3.173585</td>\n",
       "      <td>4.064162e+04</td>\n",
       "    </tr>\n",
       "    <tr>\n",
       "      <th>std</th>\n",
       "      <td>14.420870</td>\n",
       "      <td>0.0</td>\n",
       "      <td>0.0</td>\n",
       "      <td>61.108406</td>\n",
       "      <td>1.614347</td>\n",
       "      <td>1.384360e+05</td>\n",
       "    </tr>\n",
       "    <tr>\n",
       "      <th>min</th>\n",
       "      <td>60.000000</td>\n",
       "      <td>0.0</td>\n",
       "      <td>0.0</td>\n",
       "      <td>0.000000</td>\n",
       "      <td>0.000000</td>\n",
       "      <td>1.000000e+00</td>\n",
       "    </tr>\n",
       "    <tr>\n",
       "      <th>25%</th>\n",
       "      <td>83.000000</td>\n",
       "      <td>0.0</td>\n",
       "      <td>0.0</td>\n",
       "      <td>5.000000</td>\n",
       "      <td>2.000000</td>\n",
       "      <td>6.780000e+02</td>\n",
       "    </tr>\n",
       "    <tr>\n",
       "      <th>50%</th>\n",
       "      <td>92.000000</td>\n",
       "      <td>0.0</td>\n",
       "      <td>0.0</td>\n",
       "      <td>26.000000</td>\n",
       "      <td>3.000000</td>\n",
       "      <td>2.296000e+03</td>\n",
       "    </tr>\n",
       "    <tr>\n",
       "      <th>75%</th>\n",
       "      <td>100.000000</td>\n",
       "      <td>0.0</td>\n",
       "      <td>0.0</td>\n",
       "      <td>77.000000</td>\n",
       "      <td>4.000000</td>\n",
       "      <td>1.311300e+04</td>\n",
       "    </tr>\n",
       "    <tr>\n",
       "      <th>max</th>\n",
       "      <td>133.000000</td>\n",
       "      <td>0.0</td>\n",
       "      <td>0.0</td>\n",
       "      <td>253.000000</td>\n",
       "      <td>7.000000</td>\n",
       "      <td>1.118258e+06</td>\n",
       "    </tr>\n",
       "  </tbody>\n",
       "</table>\n",
       "</div>"
      ],
      "text/plain": [
       "             time  dir_prev_bfnum  dir_prev_num   num_staff   num_actor  \\\n",
       "count  265.000000           265.0         265.0  265.000000  265.000000   \n",
       "mean    92.860377             0.0           0.0   51.905660    3.173585   \n",
       "std     14.420870             0.0           0.0   61.108406    1.614347   \n",
       "min     60.000000             0.0           0.0    0.000000    0.000000   \n",
       "25%     83.000000             0.0           0.0    5.000000    2.000000   \n",
       "50%     92.000000             0.0           0.0   26.000000    3.000000   \n",
       "75%    100.000000             0.0           0.0   77.000000    4.000000   \n",
       "max    133.000000             0.0           0.0  253.000000    7.000000   \n",
       "\n",
       "        box_off_num  \n",
       "count  2.650000e+02  \n",
       "mean   4.064162e+04  \n",
       "std    1.384360e+05  \n",
       "min    1.000000e+00  \n",
       "25%    6.780000e+02  \n",
       "50%    2.296000e+03  \n",
       "75%    1.311300e+04  \n",
       "max    1.118258e+06  "
      ]
     },
     "execution_count": 134,
     "metadata": {},
     "output_type": "execute_result"
    }
   ],
   "source": [
    "train.describe()"
   ]
  },
  {
   "cell_type": "code",
   "execution_count": 135,
   "id": "50aad508",
   "metadata": {},
   "outputs": [
    {
     "data": {
      "text/html": [
       "<div>\n",
       "<style scoped>\n",
       "    .dataframe tbody tr th:only-of-type {\n",
       "        vertical-align: middle;\n",
       "    }\n",
       "\n",
       "    .dataframe tbody tr th {\n",
       "        vertical-align: top;\n",
       "    }\n",
       "\n",
       "    .dataframe thead th {\n",
       "        text-align: right;\n",
       "    }\n",
       "</style>\n",
       "<table border=\"1\" class=\"dataframe\">\n",
       "  <thead>\n",
       "    <tr style=\"text-align: right;\">\n",
       "      <th></th>\n",
       "      <th>time</th>\n",
       "      <th>dir_prev_bfnum</th>\n",
       "      <th>dir_prev_num</th>\n",
       "      <th>num_staff</th>\n",
       "      <th>num_actor</th>\n",
       "    </tr>\n",
       "  </thead>\n",
       "  <tbody>\n",
       "    <tr>\n",
       "      <th>count</th>\n",
       "      <td>152.000000</td>\n",
       "      <td>152.000000</td>\n",
       "      <td>152.000000</td>\n",
       "      <td>152.000000</td>\n",
       "      <td>152.000000</td>\n",
       "    </tr>\n",
       "    <tr>\n",
       "      <th>mean</th>\n",
       "      <td>97.539474</td>\n",
       "      <td>7972.680921</td>\n",
       "      <td>0.243421</td>\n",
       "      <td>95.361842</td>\n",
       "      <td>3.098684</td>\n",
       "    </tr>\n",
       "    <tr>\n",
       "      <th>std</th>\n",
       "      <td>15.053495</td>\n",
       "      <td>32017.600662</td>\n",
       "      <td>0.551899</td>\n",
       "      <td>105.790280</td>\n",
       "      <td>1.525761</td>\n",
       "    </tr>\n",
       "    <tr>\n",
       "      <th>min</th>\n",
       "      <td>60.000000</td>\n",
       "      <td>0.000000</td>\n",
       "      <td>0.000000</td>\n",
       "      <td>0.000000</td>\n",
       "      <td>0.000000</td>\n",
       "    </tr>\n",
       "    <tr>\n",
       "      <th>25%</th>\n",
       "      <td>86.000000</td>\n",
       "      <td>0.000000</td>\n",
       "      <td>0.000000</td>\n",
       "      <td>11.000000</td>\n",
       "      <td>2.000000</td>\n",
       "    </tr>\n",
       "    <tr>\n",
       "      <th>50%</th>\n",
       "      <td>97.500000</td>\n",
       "      <td>0.000000</td>\n",
       "      <td>0.000000</td>\n",
       "      <td>54.500000</td>\n",
       "      <td>3.000000</td>\n",
       "    </tr>\n",
       "    <tr>\n",
       "      <th>75%</th>\n",
       "      <td>107.000000</td>\n",
       "      <td>0.000000</td>\n",
       "      <td>0.000000</td>\n",
       "      <td>145.750000</td>\n",
       "      <td>4.000000</td>\n",
       "    </tr>\n",
       "    <tr>\n",
       "      <th>max</th>\n",
       "      <td>135.000000</td>\n",
       "      <td>196839.000000</td>\n",
       "      <td>2.000000</td>\n",
       "      <td>380.000000</td>\n",
       "      <td>7.000000</td>\n",
       "    </tr>\n",
       "  </tbody>\n",
       "</table>\n",
       "</div>"
      ],
      "text/plain": [
       "             time  dir_prev_bfnum  dir_prev_num   num_staff   num_actor\n",
       "count  152.000000      152.000000    152.000000  152.000000  152.000000\n",
       "mean    97.539474     7972.680921      0.243421   95.361842    3.098684\n",
       "std     15.053495    32017.600662      0.551899  105.790280    1.525761\n",
       "min     60.000000        0.000000      0.000000    0.000000    0.000000\n",
       "25%     86.000000        0.000000      0.000000   11.000000    2.000000\n",
       "50%     97.500000        0.000000      0.000000   54.500000    3.000000\n",
       "75%    107.000000        0.000000      0.000000  145.750000    4.000000\n",
       "max    135.000000   196839.000000      2.000000  380.000000    7.000000"
      ]
     },
     "execution_count": 135,
     "metadata": {},
     "output_type": "execute_result"
    }
   ],
   "source": [
    "test.describe()"
   ]
  },
  {
   "cell_type": "code",
   "execution_count": 136,
   "id": "bb112c30",
   "metadata": {},
   "outputs": [
    {
     "data": {
      "text/html": [
       "<div>\n",
       "<style scoped>\n",
       "    .dataframe tbody tr th:only-of-type {\n",
       "        vertical-align: middle;\n",
       "    }\n",
       "\n",
       "    .dataframe tbody tr th {\n",
       "        vertical-align: top;\n",
       "    }\n",
       "\n",
       "    .dataframe thead th {\n",
       "        text-align: right;\n",
       "    }\n",
       "</style>\n",
       "<table border=\"1\" class=\"dataframe\">\n",
       "  <thead>\n",
       "    <tr style=\"text-align: right;\">\n",
       "      <th></th>\n",
       "      <th>time</th>\n",
       "      <th>dir_prev_bfnum</th>\n",
       "      <th>dir_prev_num</th>\n",
       "      <th>num_staff</th>\n",
       "      <th>num_actor</th>\n",
       "      <th>box_off_num</th>\n",
       "    </tr>\n",
       "  </thead>\n",
       "  <tbody>\n",
       "    <tr>\n",
       "      <th>time</th>\n",
       "      <td>1.000000</td>\n",
       "      <td>NaN</td>\n",
       "      <td>NaN</td>\n",
       "      <td>0.362355</td>\n",
       "      <td>0.075402</td>\n",
       "      <td>0.244141</td>\n",
       "    </tr>\n",
       "    <tr>\n",
       "      <th>dir_prev_bfnum</th>\n",
       "      <td>NaN</td>\n",
       "      <td>NaN</td>\n",
       "      <td>NaN</td>\n",
       "      <td>NaN</td>\n",
       "      <td>NaN</td>\n",
       "      <td>NaN</td>\n",
       "    </tr>\n",
       "    <tr>\n",
       "      <th>dir_prev_num</th>\n",
       "      <td>NaN</td>\n",
       "      <td>NaN</td>\n",
       "      <td>NaN</td>\n",
       "      <td>NaN</td>\n",
       "      <td>NaN</td>\n",
       "      <td>NaN</td>\n",
       "    </tr>\n",
       "    <tr>\n",
       "      <th>num_staff</th>\n",
       "      <td>0.362355</td>\n",
       "      <td>NaN</td>\n",
       "      <td>NaN</td>\n",
       "      <td>1.000000</td>\n",
       "      <td>0.112132</td>\n",
       "      <td>0.392051</td>\n",
       "    </tr>\n",
       "    <tr>\n",
       "      <th>num_actor</th>\n",
       "      <td>0.075402</td>\n",
       "      <td>NaN</td>\n",
       "      <td>NaN</td>\n",
       "      <td>0.112132</td>\n",
       "      <td>1.000000</td>\n",
       "      <td>0.080397</td>\n",
       "    </tr>\n",
       "    <tr>\n",
       "      <th>box_off_num</th>\n",
       "      <td>0.244141</td>\n",
       "      <td>NaN</td>\n",
       "      <td>NaN</td>\n",
       "      <td>0.392051</td>\n",
       "      <td>0.080397</td>\n",
       "      <td>1.000000</td>\n",
       "    </tr>\n",
       "  </tbody>\n",
       "</table>\n",
       "</div>"
      ],
      "text/plain": [
       "                    time  dir_prev_bfnum  dir_prev_num  num_staff  num_actor  \\\n",
       "time            1.000000             NaN           NaN   0.362355   0.075402   \n",
       "dir_prev_bfnum       NaN             NaN           NaN        NaN        NaN   \n",
       "dir_prev_num         NaN             NaN           NaN        NaN        NaN   \n",
       "num_staff       0.362355             NaN           NaN   1.000000   0.112132   \n",
       "num_actor       0.075402             NaN           NaN   0.112132   1.000000   \n",
       "box_off_num     0.244141             NaN           NaN   0.392051   0.080397   \n",
       "\n",
       "                box_off_num  \n",
       "time               0.244141  \n",
       "dir_prev_bfnum          NaN  \n",
       "dir_prev_num            NaN  \n",
       "num_staff          0.392051  \n",
       "num_actor          0.080397  \n",
       "box_off_num        1.000000  "
      ]
     },
     "execution_count": 136,
     "metadata": {},
     "output_type": "execute_result"
    }
   ],
   "source": [
    "corr = train.corr()\n",
    "corr"
   ]
  },
  {
   "cell_type": "code",
   "execution_count": 137,
   "id": "e616db79",
   "metadata": {},
   "outputs": [
    {
     "data": {
      "text/html": [
       "<div>\n",
       "<style scoped>\n",
       "    .dataframe tbody tr th:only-of-type {\n",
       "        vertical-align: middle;\n",
       "    }\n",
       "\n",
       "    .dataframe tbody tr th {\n",
       "        vertical-align: top;\n",
       "    }\n",
       "\n",
       "    .dataframe thead th {\n",
       "        text-align: right;\n",
       "    }\n",
       "</style>\n",
       "<table border=\"1\" class=\"dataframe\">\n",
       "  <thead>\n",
       "    <tr style=\"text-align: right;\">\n",
       "      <th></th>\n",
       "      <th>time</th>\n",
       "      <th>dir_prev_bfnum</th>\n",
       "      <th>dir_prev_num</th>\n",
       "      <th>num_staff</th>\n",
       "      <th>num_actor</th>\n",
       "    </tr>\n",
       "  </thead>\n",
       "  <tbody>\n",
       "    <tr>\n",
       "      <th>time</th>\n",
       "      <td>1.000000</td>\n",
       "      <td>0.087470</td>\n",
       "      <td>0.054236</td>\n",
       "      <td>0.575297</td>\n",
       "      <td>0.078401</td>\n",
       "    </tr>\n",
       "    <tr>\n",
       "      <th>dir_prev_bfnum</th>\n",
       "      <td>0.087470</td>\n",
       "      <td>1.000000</td>\n",
       "      <td>0.494088</td>\n",
       "      <td>0.049848</td>\n",
       "      <td>-0.042426</td>\n",
       "    </tr>\n",
       "    <tr>\n",
       "      <th>dir_prev_num</th>\n",
       "      <td>0.054236</td>\n",
       "      <td>0.494088</td>\n",
       "      <td>1.000000</td>\n",
       "      <td>0.057577</td>\n",
       "      <td>0.018471</td>\n",
       "    </tr>\n",
       "    <tr>\n",
       "      <th>num_staff</th>\n",
       "      <td>0.575297</td>\n",
       "      <td>0.049848</td>\n",
       "      <td>0.057577</td>\n",
       "      <td>1.000000</td>\n",
       "      <td>-0.011259</td>\n",
       "    </tr>\n",
       "    <tr>\n",
       "      <th>num_actor</th>\n",
       "      <td>0.078401</td>\n",
       "      <td>-0.042426</td>\n",
       "      <td>0.018471</td>\n",
       "      <td>-0.011259</td>\n",
       "      <td>1.000000</td>\n",
       "    </tr>\n",
       "  </tbody>\n",
       "</table>\n",
       "</div>"
      ],
      "text/plain": [
       "                    time  dir_prev_bfnum  dir_prev_num  num_staff  num_actor\n",
       "time            1.000000        0.087470      0.054236   0.575297   0.078401\n",
       "dir_prev_bfnum  0.087470        1.000000      0.494088   0.049848  -0.042426\n",
       "dir_prev_num    0.054236        0.494088      1.000000   0.057577   0.018471\n",
       "num_staff       0.575297        0.049848      0.057577   1.000000  -0.011259\n",
       "num_actor       0.078401       -0.042426      0.018471  -0.011259   1.000000"
      ]
     },
     "execution_count": 137,
     "metadata": {},
     "output_type": "execute_result"
    }
   ],
   "source": [
    "corr1 = test.corr()\n",
    "corr1"
   ]
  },
  {
   "cell_type": "code",
   "execution_count": 138,
   "id": "707ec127",
   "metadata": {},
   "outputs": [
    {
     "data": {
      "text/html": [
       "<div>\n",
       "<style scoped>\n",
       "    .dataframe tbody tr th:only-of-type {\n",
       "        vertical-align: middle;\n",
       "    }\n",
       "\n",
       "    .dataframe tbody tr th {\n",
       "        vertical-align: top;\n",
       "    }\n",
       "\n",
       "    .dataframe thead th {\n",
       "        text-align: right;\n",
       "    }\n",
       "</style>\n",
       "<table border=\"1\" class=\"dataframe\">\n",
       "  <thead>\n",
       "    <tr style=\"text-align: right;\">\n",
       "      <th></th>\n",
       "      <th>time</th>\n",
       "      <th>dir_prev_bfnum</th>\n",
       "      <th>dir_prev_num</th>\n",
       "      <th>num_staff</th>\n",
       "      <th>num_actor</th>\n",
       "      <th>box_off_num</th>\n",
       "    </tr>\n",
       "  </thead>\n",
       "  <tbody>\n",
       "    <tr>\n",
       "      <th>time</th>\n",
       "      <td>1.000000</td>\n",
       "      <td>NaN</td>\n",
       "      <td>NaN</td>\n",
       "      <td>0.362355</td>\n",
       "      <td>0.075402</td>\n",
       "      <td>0.244141</td>\n",
       "    </tr>\n",
       "    <tr>\n",
       "      <th>dir_prev_bfnum</th>\n",
       "      <td>NaN</td>\n",
       "      <td>NaN</td>\n",
       "      <td>NaN</td>\n",
       "      <td>NaN</td>\n",
       "      <td>NaN</td>\n",
       "      <td>NaN</td>\n",
       "    </tr>\n",
       "    <tr>\n",
       "      <th>dir_prev_num</th>\n",
       "      <td>NaN</td>\n",
       "      <td>NaN</td>\n",
       "      <td>NaN</td>\n",
       "      <td>NaN</td>\n",
       "      <td>NaN</td>\n",
       "      <td>NaN</td>\n",
       "    </tr>\n",
       "    <tr>\n",
       "      <th>num_staff</th>\n",
       "      <td>0.362355</td>\n",
       "      <td>NaN</td>\n",
       "      <td>NaN</td>\n",
       "      <td>1.000000</td>\n",
       "      <td>0.112132</td>\n",
       "      <td>0.392051</td>\n",
       "    </tr>\n",
       "    <tr>\n",
       "      <th>num_actor</th>\n",
       "      <td>0.075402</td>\n",
       "      <td>NaN</td>\n",
       "      <td>NaN</td>\n",
       "      <td>0.112132</td>\n",
       "      <td>1.000000</td>\n",
       "      <td>0.080397</td>\n",
       "    </tr>\n",
       "    <tr>\n",
       "      <th>box_off_num</th>\n",
       "      <td>0.244141</td>\n",
       "      <td>NaN</td>\n",
       "      <td>NaN</td>\n",
       "      <td>0.392051</td>\n",
       "      <td>0.080397</td>\n",
       "      <td>1.000000</td>\n",
       "    </tr>\n",
       "  </tbody>\n",
       "</table>\n",
       "</div>"
      ],
      "text/plain": [
       "                    time  dir_prev_bfnum  dir_prev_num  num_staff  num_actor  \\\n",
       "time            1.000000             NaN           NaN   0.362355   0.075402   \n",
       "dir_prev_bfnum       NaN             NaN           NaN        NaN        NaN   \n",
       "dir_prev_num         NaN             NaN           NaN        NaN        NaN   \n",
       "num_staff       0.362355             NaN           NaN   1.000000   0.112132   \n",
       "num_actor       0.075402             NaN           NaN   0.112132   1.000000   \n",
       "box_off_num     0.244141             NaN           NaN   0.392051   0.080397   \n",
       "\n",
       "                box_off_num  \n",
       "time               0.244141  \n",
       "dir_prev_bfnum          NaN  \n",
       "dir_prev_num            NaN  \n",
       "num_staff          0.392051  \n",
       "num_actor          0.080397  \n",
       "box_off_num        1.000000  "
      ]
     },
     "execution_count": 138,
     "metadata": {},
     "output_type": "execute_result"
    }
   ],
   "source": [
    "corr"
   ]
  },
  {
   "cell_type": "code",
   "execution_count": 139,
   "id": "f4862712",
   "metadata": {},
   "outputs": [
    {
     "data": {
      "text/plain": [
       "<AxesSubplot:>"
      ]
     },
     "execution_count": 139,
     "metadata": {},
     "output_type": "execute_result"
    },
    {
     "data": {
      "image/png": "[encoded data removed]",
      "text/plain": [
       "<Figure size 576x396 with 2 Axes>"
      ]
     },
     "metadata": {},
     "output_type": "display_data"
    }
   ],
   "source": [
    "sns.heatmap(train.corr(), annot=True)"
   ]
  },
  {
   "cell_type": "code",
   "execution_count": 140,
   "id": "fe6d593a",
   "metadata": {},
   "outputs": [
    {
     "data": {
      "text/plain": [
       "<seaborn.axisgrid.FacetGrid at 0x183b9b3fac0>"
      ]
     },
     "execution_count": 140,
     "metadata": {},
     "output_type": "execute_result"
    },
    {
     "data": {
      "image/png": "[encoded data removed]",
      "text/plain": [
       "<Figure size 360x360 with 1 Axes>"
      ]
     },
     "metadata": {},
     "output_type": "display_data"
    },
    {
     "data": {
      "image/png": "[encoded data removed]",
      "text/plain": [
       "<Figure size 360x360 with 1 Axes>"
      ]
     },
     "metadata": {},
     "output_type": "display_data"
    },
    {
     "data": {
      "image/png": "[encoded data removed]",
      "text/plain": [
       "<Figure size 360x360 with 1 Axes>"
      ]
     },
     "metadata": {},
     "output_type": "display_data"
    }
   ],
   "source": [
    "sns.set_theme()\n",
    "sns.lmplot(data=train, x=\"box_off_num\", y=\"num_staff\")\n",
    "sns.lmplot(data=train, x=\"box_off_num\", y=\"time\")\n",
    "sns.lmplot(data=train, x=\"box_off_num\", y=\"num_actor\")"
   ]
  },
  {
   "cell_type": "code",
   "execution_count": 141,
   "id": "9aaa11be",
   "metadata": {},
   "outputs": [
    {
     "data": {
      "text/plain": [
       "<seaborn.axisgrid.FacetGrid at 0x183b9bb6700>"
      ]
     },
     "execution_count": 141,
     "metadata": {},
     "output_type": "execute_result"
    },
    {
     "data": {
      "image/png": "[encoded data removed]",
      "text/plain": [
       "<Figure size 360x360 with 1 Axes>"
      ]
     },
     "metadata": {},
     "output_type": "display_data"
    },
    {
     "data": {
      "image/png": "[encoded data removed]",
      "text/plain": [
       "<Figure size 360x360 with 1 Axes>"
      ]
     },
     "metadata": {},
     "output_type": "display_data"
    },
    {
     "data": {
      "image/png": "[encoded data removed]",
      "text/plain": [
       "<Figure size 360x360 with 1 Axes>"
      ]
     },
     "metadata": {},
     "output_type": "display_data"
    },
    {
     "data": {
      "image/png": "[encoded data removed]",
      "text/plain": [
       "<Figure size 360x360 with 1 Axes>"
      ]
     },
     "metadata": {},
     "output_type": "display_data"
    }
   ],
   "source": [
    "sns.lmplot(data=train, x=\"box_off_num\", y=\"box_off_num\")\n",
    "sns.lmplot(data=train, x=\"time\", y=\"time\")\n",
    "sns.lmplot(data=train, x=\"num_actor\", y=\"num_actor\")\n",
    "sns.lmplot(data=train, x=\"num_staff\", y=\"num_staff\")"
   ]
  },
  {
   "cell_type": "code",
   "execution_count": 142,
   "id": "9882b6ee",
   "metadata": {},
   "outputs": [],
   "source": [
    "train.dir_prev_bfnum.fillna(0, inplace=True) #결측값 0으로 변경\n",
    "test.dir_prev_bfnum.fillna(0, inplace=True)"
   ]
  },
  {
   "cell_type": "code",
   "execution_count": 143,
   "id": "3f1858d4",
   "metadata": {},
   "outputs": [],
   "source": [
    "train.dir_prev_num.fillna(0, inplace=True) #결측값 0으로 변경\n",
    "test.dir_prev_num.fillna(0, inplace=True)"
   ]
  },
  {
   "cell_type": "code",
   "execution_count": 144,
   "id": "d8e8cf50",
   "metadata": {},
   "outputs": [
    {
     "data": {
      "text/plain": [
       "Int64Index([254], dtype='int64')"
      ]
     },
     "execution_count": 144,
     "metadata": {},
     "output_type": "execute_result"
    }
   ],
   "source": [
    "train[train['box_off_num'] > 1000000].index"
   ]
  },
  {
   "cell_type": "code",
   "execution_count": 146,
   "id": "94f154c2",
   "metadata": {},
   "outputs": [
    {
     "data": {
      "text/html": [
       "<div>\n",
       "<style scoped>\n",
       "    .dataframe tbody tr th:only-of-type {\n",
       "        vertical-align: middle;\n",
       "    }\n",
       "\n",
       "    .dataframe tbody tr th {\n",
       "        vertical-align: top;\n",
       "    }\n",
       "\n",
       "    .dataframe thead th {\n",
       "        text-align: right;\n",
       "    }\n",
       "</style>\n",
       "<table border=\"1\" class=\"dataframe\">\n",
       "  <thead>\n",
       "    <tr style=\"text-align: right;\">\n",
       "      <th></th>\n",
       "      <th>title</th>\n",
       "      <th>distributor</th>\n",
       "      <th>genre</th>\n",
       "      <th>release_time</th>\n",
       "      <th>time</th>\n",
       "      <th>screening_rat</th>\n",
       "      <th>director</th>\n",
       "      <th>dir_prev_bfnum</th>\n",
       "      <th>dir_prev_num</th>\n",
       "      <th>num_staff</th>\n",
       "      <th>num_actor</th>\n",
       "      <th>box_off_num</th>\n",
       "    </tr>\n",
       "  </thead>\n",
       "  <tbody>\n",
       "    <tr>\n",
       "      <th>82</th>\n",
       "      <td>만추</td>\n",
       "      <td>보람엔터테인먼트</td>\n",
       "      <td>드라마</td>\n",
       "      <td>2011-02-17</td>\n",
       "      <td>115</td>\n",
       "      <td>15세 관람가</td>\n",
       "      <td>김태용</td>\n",
       "      <td>0.0</td>\n",
       "      <td>0</td>\n",
       "      <td>204</td>\n",
       "      <td>2</td>\n",
       "      <td>849635</td>\n",
       "    </tr>\n",
       "  </tbody>\n",
       "</table>\n",
       "</div>"
      ],
      "text/plain": [
       "   title distributor genre release_time  time screening_rat director  \\\n",
       "82    만추    보람엔터테인먼트   드라마   2011-02-17   115       15세 관람가      김태용   \n",
       "\n",
       "    dir_prev_bfnum  dir_prev_num  num_staff  num_actor  box_off_num  \n",
       "82             0.0             0        204          2       849635  "
      ]
     },
     "execution_count": 146,
     "metadata": {},
     "output_type": "execute_result"
    }
   ],
   "source": [
    "condition = (train['box_off_num'] > 800000) &  (train['num_staff'] < 250)\n",
    "train[condition]"
   ]
  },
  {
   "cell_type": "code",
   "execution_count": 149,
   "id": "4d32a6a4",
   "metadata": {},
   "outputs": [],
   "source": [
    "train.drop(82, inplace=True)"
   ]
  },
  {
   "cell_type": "code",
   "execution_count": 150,
   "id": "3daf72a8",
   "metadata": {},
   "outputs": [
    {
     "data": {
      "text/plain": [
       "<seaborn.axisgrid.FacetGrid at 0x183bb1b15e0>"
      ]
     },
     "execution_count": 150,
     "metadata": {},
     "output_type": "execute_result"
    },
    {
     "data": {
      "image/png": "[encoded data removed]",
      "text/plain": [
       "<Figure size 360x360 with 1 Axes>"
      ]
     },
     "metadata": {},
     "output_type": "display_data"
    }
   ],
   "source": [
    "sns.lmplot(data=train, x=\"box_off_num\", y=\"num_staff\")"
   ]
  },
  {
   "cell_type": "code",
   "execution_count": 151,
   "id": "4211759d",
   "metadata": {},
   "outputs": [
    {
     "data": {
      "text/html": [
       "<div>\n",
       "<style scoped>\n",
       "    .dataframe tbody tr th:only-of-type {\n",
       "        vertical-align: middle;\n",
       "    }\n",
       "\n",
       "    .dataframe tbody tr th {\n",
       "        vertical-align: top;\n",
       "    }\n",
       "\n",
       "    .dataframe thead th {\n",
       "        text-align: right;\n",
       "    }\n",
       "</style>\n",
       "<table border=\"1\" class=\"dataframe\">\n",
       "  <thead>\n",
       "    <tr style=\"text-align: right;\">\n",
       "      <th></th>\n",
       "      <th>title</th>\n",
       "      <th>distributor</th>\n",
       "      <th>genre</th>\n",
       "      <th>release_time</th>\n",
       "      <th>time</th>\n",
       "      <th>screening_rat</th>\n",
       "      <th>director</th>\n",
       "      <th>dir_prev_bfnum</th>\n",
       "      <th>dir_prev_num</th>\n",
       "      <th>num_staff</th>\n",
       "      <th>num_actor</th>\n",
       "      <th>box_off_num</th>\n",
       "    </tr>\n",
       "  </thead>\n",
       "  <tbody>\n",
       "    <tr>\n",
       "      <th>495</th>\n",
       "      <td>닥터</td>\n",
       "      <td>(주)마인스 엔터테인먼트</td>\n",
       "      <td>공포</td>\n",
       "      <td>2013-06-20</td>\n",
       "      <td>97</td>\n",
       "      <td>청소년 관람불가</td>\n",
       "      <td>김성홍</td>\n",
       "      <td>0.0</td>\n",
       "      <td>0</td>\n",
       "      <td>20</td>\n",
       "      <td>3</td>\n",
       "      <td>68312</td>\n",
       "    </tr>\n",
       "    <tr>\n",
       "      <th>497</th>\n",
       "      <td>쿠바의 연인</td>\n",
       "      <td>시네마 달</td>\n",
       "      <td>다큐멘터리</td>\n",
       "      <td>2011-01-13</td>\n",
       "      <td>93</td>\n",
       "      <td>15세 관람가</td>\n",
       "      <td>정호현</td>\n",
       "      <td>0.0</td>\n",
       "      <td>0</td>\n",
       "      <td>0</td>\n",
       "      <td>2</td>\n",
       "      <td>4340</td>\n",
       "    </tr>\n",
       "    <tr>\n",
       "      <th>500</th>\n",
       "      <td>한양 기방 춘향뎐</td>\n",
       "      <td>(주) 케이알씨지</td>\n",
       "      <td>멜로/로맨스</td>\n",
       "      <td>2015-11-25</td>\n",
       "      <td>89</td>\n",
       "      <td>청소년 관람불가</td>\n",
       "      <td>김민욱</td>\n",
       "      <td>0.0</td>\n",
       "      <td>0</td>\n",
       "      <td>0</td>\n",
       "      <td>1</td>\n",
       "      <td>400</td>\n",
       "    </tr>\n",
       "    <tr>\n",
       "      <th>501</th>\n",
       "      <td>베드</td>\n",
       "      <td>(주)마운틴픽쳐스</td>\n",
       "      <td>멜로/로맨스</td>\n",
       "      <td>2013-01-17</td>\n",
       "      <td>91</td>\n",
       "      <td>청소년 관람불가</td>\n",
       "      <td>박철수</td>\n",
       "      <td>0.0</td>\n",
       "      <td>0</td>\n",
       "      <td>37</td>\n",
       "      <td>3</td>\n",
       "      <td>660</td>\n",
       "    </tr>\n",
       "    <tr>\n",
       "      <th>502</th>\n",
       "      <td>뜨거운 안녕</td>\n",
       "      <td>나이너스엔터테인먼트(주)</td>\n",
       "      <td>드라마</td>\n",
       "      <td>2013-05-30</td>\n",
       "      <td>99</td>\n",
       "      <td>12세 관람가</td>\n",
       "      <td>남택수</td>\n",
       "      <td>0.0</td>\n",
       "      <td>0</td>\n",
       "      <td>206</td>\n",
       "      <td>4</td>\n",
       "      <td>47105</td>\n",
       "    </tr>\n",
       "    <tr>\n",
       "      <th>503</th>\n",
       "      <td>애니멀 타운</td>\n",
       "      <td>트리필름</td>\n",
       "      <td>드라마</td>\n",
       "      <td>2011-03-10</td>\n",
       "      <td>97</td>\n",
       "      <td>청소년 관람불가</td>\n",
       "      <td>전규환</td>\n",
       "      <td>0.0</td>\n",
       "      <td>0</td>\n",
       "      <td>1</td>\n",
       "      <td>2</td>\n",
       "      <td>1379</td>\n",
       "    </tr>\n",
       "    <tr>\n",
       "      <th>504</th>\n",
       "      <td>천사의 숨소리</td>\n",
       "      <td>롤러코스터 프로덕션</td>\n",
       "      <td>코미디</td>\n",
       "      <td>2012-02-23</td>\n",
       "      <td>93</td>\n",
       "      <td>12세 관람가</td>\n",
       "      <td>한지원</td>\n",
       "      <td>0.0</td>\n",
       "      <td>0</td>\n",
       "      <td>53</td>\n",
       "      <td>2</td>\n",
       "      <td>1873</td>\n",
       "    </tr>\n",
       "    <tr>\n",
       "      <th>506</th>\n",
       "      <td>우리 선희</td>\n",
       "      <td>(주) 영화제작전원사</td>\n",
       "      <td>드라마</td>\n",
       "      <td>2013-09-12</td>\n",
       "      <td>89</td>\n",
       "      <td>청소년 관람불가</td>\n",
       "      <td>홍상수</td>\n",
       "      <td>0.0</td>\n",
       "      <td>0</td>\n",
       "      <td>8</td>\n",
       "      <td>6</td>\n",
       "      <td>69122</td>\n",
       "    </tr>\n",
       "    <tr>\n",
       "      <th>508</th>\n",
       "      <td>모차르트 락 오페라</td>\n",
       "      <td>SK플래닛</td>\n",
       "      <td>뮤지컬</td>\n",
       "      <td>2011-11-17</td>\n",
       "      <td>133</td>\n",
       "      <td>전체 관람가</td>\n",
       "      <td>정성복</td>\n",
       "      <td>0.0</td>\n",
       "      <td>0</td>\n",
       "      <td>4</td>\n",
       "      <td>4</td>\n",
       "      <td>16323</td>\n",
       "    </tr>\n",
       "    <tr>\n",
       "      <th>509</th>\n",
       "      <td>고양이 춤</td>\n",
       "      <td>인디스토리</td>\n",
       "      <td>다큐멘터리</td>\n",
       "      <td>2011-11-17</td>\n",
       "      <td>76</td>\n",
       "      <td>전체 관람가</td>\n",
       "      <td>윤기형</td>\n",
       "      <td>0.0</td>\n",
       "      <td>0</td>\n",
       "      <td>42</td>\n",
       "      <td>3</td>\n",
       "      <td>12486</td>\n",
       "    </tr>\n",
       "    <tr>\n",
       "      <th>510</th>\n",
       "      <td>도약선생</td>\n",
       "      <td>(주) 영화사조제</td>\n",
       "      <td>드라마</td>\n",
       "      <td>2011-06-30</td>\n",
       "      <td>65</td>\n",
       "      <td>12세 관람가</td>\n",
       "      <td>윤성호</td>\n",
       "      <td>0.0</td>\n",
       "      <td>0</td>\n",
       "      <td>17</td>\n",
       "      <td>4</td>\n",
       "      <td>2155</td>\n",
       "    </tr>\n",
       "    <tr>\n",
       "      <th>514</th>\n",
       "      <td>윤희</td>\n",
       "      <td>노바엔터테인먼트</td>\n",
       "      <td>드라마</td>\n",
       "      <td>2014-01-09</td>\n",
       "      <td>89</td>\n",
       "      <td>청소년 관람불가</td>\n",
       "      <td>윤여창</td>\n",
       "      <td>0.0</td>\n",
       "      <td>0</td>\n",
       "      <td>11</td>\n",
       "      <td>2</td>\n",
       "      <td>561</td>\n",
       "    </tr>\n",
       "    <tr>\n",
       "      <th>515</th>\n",
       "      <td>고스톱 살인</td>\n",
       "      <td>(주)랠리버튼</td>\n",
       "      <td>SF</td>\n",
       "      <td>2014-03-20</td>\n",
       "      <td>100</td>\n",
       "      <td>15세 관람가</td>\n",
       "      <td>김준권</td>\n",
       "      <td>0.0</td>\n",
       "      <td>0</td>\n",
       "      <td>77</td>\n",
       "      <td>3</td>\n",
       "      <td>820</td>\n",
       "    </tr>\n",
       "    <tr>\n",
       "      <th>521</th>\n",
       "      <td>스타: 빛나는 사랑</td>\n",
       "      <td>(주)마운틴픽쳐스</td>\n",
       "      <td>드라마</td>\n",
       "      <td>2012-10-11</td>\n",
       "      <td>98</td>\n",
       "      <td>12세 관람가</td>\n",
       "      <td>한상희</td>\n",
       "      <td>0.0</td>\n",
       "      <td>0</td>\n",
       "      <td>65</td>\n",
       "      <td>6</td>\n",
       "      <td>577</td>\n",
       "    </tr>\n",
       "    <tr>\n",
       "      <th>522</th>\n",
       "      <td>화이트: 저주의 멜로디</td>\n",
       "      <td>CJ E&amp;M Pictures</td>\n",
       "      <td>공포</td>\n",
       "      <td>2011-06-09</td>\n",
       "      <td>106</td>\n",
       "      <td>15세 관람가</td>\n",
       "      <td>김곡</td>\n",
       "      <td>0.0</td>\n",
       "      <td>0</td>\n",
       "      <td>98</td>\n",
       "      <td>5</td>\n",
       "      <td>790959</td>\n",
       "    </tr>\n",
       "    <tr>\n",
       "      <th>523</th>\n",
       "      <td>옥희의 영화</td>\n",
       "      <td>스폰지</td>\n",
       "      <td>드라마</td>\n",
       "      <td>2010-09-16</td>\n",
       "      <td>80</td>\n",
       "      <td>청소년 관람불가</td>\n",
       "      <td>홍상수</td>\n",
       "      <td>0.0</td>\n",
       "      <td>0</td>\n",
       "      <td>57</td>\n",
       "      <td>3</td>\n",
       "      <td>37122</td>\n",
       "    </tr>\n",
       "    <tr>\n",
       "      <th>526</th>\n",
       "      <td>고스트 메신저 극장판</td>\n",
       "      <td>에이원 엔터테인먼트</td>\n",
       "      <td>애니메이션</td>\n",
       "      <td>2014-05-22</td>\n",
       "      <td>78</td>\n",
       "      <td>12세 관람가</td>\n",
       "      <td>구봉회</td>\n",
       "      <td>0.0</td>\n",
       "      <td>0</td>\n",
       "      <td>0</td>\n",
       "      <td>5</td>\n",
       "      <td>23802</td>\n",
       "    </tr>\n",
       "    <tr>\n",
       "      <th>532</th>\n",
       "      <td>남자사용설명서</td>\n",
       "      <td>(주)쇼박스</td>\n",
       "      <td>멜로/로맨스</td>\n",
       "      <td>2013-02-14</td>\n",
       "      <td>116</td>\n",
       "      <td>15세 관람가</td>\n",
       "      <td>이원석</td>\n",
       "      <td>0.0</td>\n",
       "      <td>0</td>\n",
       "      <td>158</td>\n",
       "      <td>3</td>\n",
       "      <td>507913</td>\n",
       "    </tr>\n",
       "    <tr>\n",
       "      <th>533</th>\n",
       "      <td>홈 스위트 홈</td>\n",
       "      <td>머스트 씨 무비</td>\n",
       "      <td>애니메이션</td>\n",
       "      <td>2014-07-17</td>\n",
       "      <td>67</td>\n",
       "      <td>12세 관람가</td>\n",
       "      <td>안도 마사히로</td>\n",
       "      <td>0.0</td>\n",
       "      <td>0</td>\n",
       "      <td>8</td>\n",
       "      <td>3</td>\n",
       "      <td>2329</td>\n",
       "    </tr>\n",
       "    <tr>\n",
       "      <th>534</th>\n",
       "      <td>밀양 아리랑</td>\n",
       "      <td>시네마달</td>\n",
       "      <td>다큐멘터리</td>\n",
       "      <td>2015-07-16</td>\n",
       "      <td>102</td>\n",
       "      <td>15세 관람가</td>\n",
       "      <td>박배일</td>\n",
       "      <td>0.0</td>\n",
       "      <td>0</td>\n",
       "      <td>5</td>\n",
       "      <td>4</td>\n",
       "      <td>3044</td>\n",
       "    </tr>\n",
       "    <tr>\n",
       "      <th>538</th>\n",
       "      <td>마이 보이</td>\n",
       "      <td>트리필름</td>\n",
       "      <td>드라마</td>\n",
       "      <td>2014-04-10</td>\n",
       "      <td>99</td>\n",
       "      <td>12세 관람가</td>\n",
       "      <td>전규환</td>\n",
       "      <td>0.0</td>\n",
       "      <td>0</td>\n",
       "      <td>117</td>\n",
       "      <td>4</td>\n",
       "      <td>3523</td>\n",
       "    </tr>\n",
       "    <tr>\n",
       "      <th>541</th>\n",
       "      <td>어이그 저 귓것</td>\n",
       "      <td>영화사 진진</td>\n",
       "      <td>드라마</td>\n",
       "      <td>2011-08-25</td>\n",
       "      <td>90</td>\n",
       "      <td>전체 관람가</td>\n",
       "      <td>오멸</td>\n",
       "      <td>0.0</td>\n",
       "      <td>0</td>\n",
       "      <td>0</td>\n",
       "      <td>5</td>\n",
       "      <td>732</td>\n",
       "    </tr>\n",
       "    <tr>\n",
       "      <th>542</th>\n",
       "      <td>감금의 시간</td>\n",
       "      <td>마법사필름</td>\n",
       "      <td>공포</td>\n",
       "      <td>2015-12-03</td>\n",
       "      <td>91</td>\n",
       "      <td>청소년 관람불가</td>\n",
       "      <td>김대성</td>\n",
       "      <td>0.0</td>\n",
       "      <td>0</td>\n",
       "      <td>1</td>\n",
       "      <td>2</td>\n",
       "      <td>555</td>\n",
       "    </tr>\n",
       "    <tr>\n",
       "      <th>546</th>\n",
       "      <td>설마 그럴리가 없어</td>\n",
       "      <td>(주) 영화사조제</td>\n",
       "      <td>드라마</td>\n",
       "      <td>2012-06-21</td>\n",
       "      <td>95</td>\n",
       "      <td>12세 관람가</td>\n",
       "      <td>조성규</td>\n",
       "      <td>0.0</td>\n",
       "      <td>0</td>\n",
       "      <td>23</td>\n",
       "      <td>2</td>\n",
       "      <td>1679</td>\n",
       "    </tr>\n",
       "    <tr>\n",
       "      <th>549</th>\n",
       "      <td>맛있는 택배</td>\n",
       "      <td>(주)로드하우스</td>\n",
       "      <td>멜로/로맨스</td>\n",
       "      <td>2015-04-02</td>\n",
       "      <td>84</td>\n",
       "      <td>청소년 관람불가</td>\n",
       "      <td>기대호</td>\n",
       "      <td>0.0</td>\n",
       "      <td>0</td>\n",
       "      <td>0</td>\n",
       "      <td>1</td>\n",
       "      <td>6226</td>\n",
       "    </tr>\n",
       "    <tr>\n",
       "      <th>550</th>\n",
       "      <td>두만강</td>\n",
       "      <td>인디스토리</td>\n",
       "      <td>드라마</td>\n",
       "      <td>2011-03-17</td>\n",
       "      <td>93</td>\n",
       "      <td>15세 관람가</td>\n",
       "      <td>장률</td>\n",
       "      <td>0.0</td>\n",
       "      <td>0</td>\n",
       "      <td>22</td>\n",
       "      <td>3</td>\n",
       "      <td>2429</td>\n",
       "    </tr>\n",
       "    <tr>\n",
       "      <th>553</th>\n",
       "      <td>미라클 여행기</td>\n",
       "      <td>미라클 필름</td>\n",
       "      <td>다큐멘터리</td>\n",
       "      <td>2015-01-15</td>\n",
       "      <td>84</td>\n",
       "      <td>전체 관람가</td>\n",
       "      <td>허철</td>\n",
       "      <td>0.0</td>\n",
       "      <td>0</td>\n",
       "      <td>0</td>\n",
       "      <td>1</td>\n",
       "      <td>3399</td>\n",
       "    </tr>\n",
       "    <tr>\n",
       "      <th>554</th>\n",
       "      <td>위험한 섹스</td>\n",
       "      <td>(주) 케이알씨지</td>\n",
       "      <td>멜로/로맨스</td>\n",
       "      <td>2015-09-23</td>\n",
       "      <td>72</td>\n",
       "      <td>청소년 관람불가</td>\n",
       "      <td>이전</td>\n",
       "      <td>0.0</td>\n",
       "      <td>0</td>\n",
       "      <td>0</td>\n",
       "      <td>1</td>\n",
       "      <td>419</td>\n",
       "    </tr>\n",
       "    <tr>\n",
       "      <th>555</th>\n",
       "      <td>듀엣</td>\n",
       "      <td>(주) 영화사조제</td>\n",
       "      <td>드라마</td>\n",
       "      <td>2012-04-19</td>\n",
       "      <td>96</td>\n",
       "      <td>전체 관람가</td>\n",
       "      <td>이상빈</td>\n",
       "      <td>0.0</td>\n",
       "      <td>0</td>\n",
       "      <td>61</td>\n",
       "      <td>2</td>\n",
       "      <td>1081</td>\n",
       "    </tr>\n",
       "    <tr>\n",
       "      <th>556</th>\n",
       "      <td>채식주의자</td>\n",
       "      <td>스폰지</td>\n",
       "      <td>드라마</td>\n",
       "      <td>2010-02-18</td>\n",
       "      <td>113</td>\n",
       "      <td>청소년 관람불가</td>\n",
       "      <td>임우성</td>\n",
       "      <td>0.0</td>\n",
       "      <td>0</td>\n",
       "      <td>153</td>\n",
       "      <td>5</td>\n",
       "      <td>3536</td>\n",
       "    </tr>\n",
       "    <tr>\n",
       "      <th>557</th>\n",
       "      <td>목숨</td>\n",
       "      <td>필라멘트 픽쳐스</td>\n",
       "      <td>다큐멘터리</td>\n",
       "      <td>2014-12-04</td>\n",
       "      <td>95</td>\n",
       "      <td>12세 관람가</td>\n",
       "      <td>이창재</td>\n",
       "      <td>0.0</td>\n",
       "      <td>0</td>\n",
       "      <td>139</td>\n",
       "      <td>4</td>\n",
       "      <td>38771</td>\n",
       "    </tr>\n",
       "    <tr>\n",
       "      <th>558</th>\n",
       "      <td>나나나 : 여배우 민낯 프로젝트</td>\n",
       "      <td>서울독립영화제</td>\n",
       "      <td>다큐멘터리</td>\n",
       "      <td>2012-08-23</td>\n",
       "      <td>89</td>\n",
       "      <td>12세 관람가</td>\n",
       "      <td>부지영</td>\n",
       "      <td>0.0</td>\n",
       "      <td>0</td>\n",
       "      <td>1</td>\n",
       "      <td>3</td>\n",
       "      <td>1028</td>\n",
       "    </tr>\n",
       "    <tr>\n",
       "      <th>560</th>\n",
       "      <td>폐가</td>\n",
       "      <td>시너지</td>\n",
       "      <td>공포</td>\n",
       "      <td>2010-08-19</td>\n",
       "      <td>84</td>\n",
       "      <td>15세 관람가</td>\n",
       "      <td>이철하</td>\n",
       "      <td>0.0</td>\n",
       "      <td>0</td>\n",
       "      <td>118</td>\n",
       "      <td>6</td>\n",
       "      <td>225955</td>\n",
       "    </tr>\n",
       "    <tr>\n",
       "      <th>562</th>\n",
       "      <td>이파네마 소년</td>\n",
       "      <td>프리비젼 엔터테인먼트</td>\n",
       "      <td>멜로/로맨스</td>\n",
       "      <td>2010-11-04</td>\n",
       "      <td>94</td>\n",
       "      <td>12세 관람가</td>\n",
       "      <td>김기훈</td>\n",
       "      <td>0.0</td>\n",
       "      <td>0</td>\n",
       "      <td>158</td>\n",
       "      <td>2</td>\n",
       "      <td>3436</td>\n",
       "    </tr>\n",
       "    <tr>\n",
       "      <th>565</th>\n",
       "      <td>도쿄 택시</td>\n",
       "      <td>(주)키노아이</td>\n",
       "      <td>코미디</td>\n",
       "      <td>2010-05-20</td>\n",
       "      <td>75</td>\n",
       "      <td>전체 관람가</td>\n",
       "      <td>김태식</td>\n",
       "      <td>0.0</td>\n",
       "      <td>0</td>\n",
       "      <td>80</td>\n",
       "      <td>3</td>\n",
       "      <td>6034</td>\n",
       "    </tr>\n",
       "    <tr>\n",
       "      <th>567</th>\n",
       "      <td>술에 대하여 - 극장판</td>\n",
       "      <td>이모션 픽처스</td>\n",
       "      <td>다큐멘터리</td>\n",
       "      <td>2011-09-01</td>\n",
       "      <td>72</td>\n",
       "      <td>15세 관람가</td>\n",
       "      <td>임범</td>\n",
       "      <td>0.0</td>\n",
       "      <td>0</td>\n",
       "      <td>0</td>\n",
       "      <td>2</td>\n",
       "      <td>541</td>\n",
       "    </tr>\n",
       "    <tr>\n",
       "      <th>571</th>\n",
       "      <td>뫼비우스</td>\n",
       "      <td>(주)NEW</td>\n",
       "      <td>드라마</td>\n",
       "      <td>2013-09-05</td>\n",
       "      <td>90</td>\n",
       "      <td>청소년 관람불가</td>\n",
       "      <td>김기덕</td>\n",
       "      <td>0.0</td>\n",
       "      <td>0</td>\n",
       "      <td>93</td>\n",
       "      <td>3</td>\n",
       "      <td>35348</td>\n",
       "    </tr>\n",
       "    <tr>\n",
       "      <th>572</th>\n",
       "      <td>천 번을 불러도</td>\n",
       "      <td>(주)마운틴픽쳐스</td>\n",
       "      <td>드라마</td>\n",
       "      <td>2014-10-16</td>\n",
       "      <td>97</td>\n",
       "      <td>15세 관람가</td>\n",
       "      <td>신성섭</td>\n",
       "      <td>0.0</td>\n",
       "      <td>0</td>\n",
       "      <td>51</td>\n",
       "      <td>3</td>\n",
       "      <td>685</td>\n",
       "    </tr>\n",
       "    <tr>\n",
       "      <th>573</th>\n",
       "      <td>1999, 면회</td>\n",
       "      <td>인디스토리</td>\n",
       "      <td>드라마</td>\n",
       "      <td>2013-02-21</td>\n",
       "      <td>85</td>\n",
       "      <td>15세 관람가</td>\n",
       "      <td>김태곤</td>\n",
       "      <td>0.0</td>\n",
       "      <td>0</td>\n",
       "      <td>32</td>\n",
       "      <td>4</td>\n",
       "      <td>3404</td>\n",
       "    </tr>\n",
       "    <tr>\n",
       "      <th>575</th>\n",
       "      <td>분홍돌고래</td>\n",
       "      <td>ysfilm</td>\n",
       "      <td>드라마</td>\n",
       "      <td>2010-07-01</td>\n",
       "      <td>78</td>\n",
       "      <td>12세 관람가</td>\n",
       "      <td>조연수</td>\n",
       "      <td>0.0</td>\n",
       "      <td>0</td>\n",
       "      <td>17</td>\n",
       "      <td>7</td>\n",
       "      <td>172</td>\n",
       "    </tr>\n",
       "    <tr>\n",
       "      <th>577</th>\n",
       "      <td>망원동 인공위성</td>\n",
       "      <td>시네마달</td>\n",
       "      <td>다큐멘터리</td>\n",
       "      <td>2015-02-05</td>\n",
       "      <td>108</td>\n",
       "      <td>12세 관람가</td>\n",
       "      <td>김형주</td>\n",
       "      <td>0.0</td>\n",
       "      <td>0</td>\n",
       "      <td>8</td>\n",
       "      <td>1</td>\n",
       "      <td>2972</td>\n",
       "    </tr>\n",
       "    <tr>\n",
       "      <th>579</th>\n",
       "      <td>지옥화</td>\n",
       "      <td>(주)팝엔터테인먼트</td>\n",
       "      <td>드라마</td>\n",
       "      <td>2014-11-06</td>\n",
       "      <td>99</td>\n",
       "      <td>청소년 관람불가</td>\n",
       "      <td>이상우</td>\n",
       "      <td>0.0</td>\n",
       "      <td>0</td>\n",
       "      <td>42</td>\n",
       "      <td>3</td>\n",
       "      <td>600</td>\n",
       "    </tr>\n",
       "    <tr>\n",
       "      <th>580</th>\n",
       "      <td>정글히어로</td>\n",
       "      <td>CJ 엔터테인먼트</td>\n",
       "      <td>애니메이션</td>\n",
       "      <td>2014-10-02</td>\n",
       "      <td>82</td>\n",
       "      <td>전체 관람가</td>\n",
       "      <td>박태동</td>\n",
       "      <td>0.0</td>\n",
       "      <td>0</td>\n",
       "      <td>0</td>\n",
       "      <td>6</td>\n",
       "      <td>72052</td>\n",
       "    </tr>\n",
       "    <tr>\n",
       "      <th>585</th>\n",
       "      <td>후쿠시마의 미래</td>\n",
       "      <td>인디플러그</td>\n",
       "      <td>다큐멘터리</td>\n",
       "      <td>2015-04-09</td>\n",
       "      <td>70</td>\n",
       "      <td>전체 관람가</td>\n",
       "      <td>이홍기</td>\n",
       "      <td>0.0</td>\n",
       "      <td>0</td>\n",
       "      <td>4</td>\n",
       "      <td>1</td>\n",
       "      <td>938</td>\n",
       "    </tr>\n",
       "    <tr>\n",
       "      <th>586</th>\n",
       "      <td>청야</td>\n",
       "      <td>마노엔터테인먼트</td>\n",
       "      <td>드라마</td>\n",
       "      <td>2013-12-26</td>\n",
       "      <td>83</td>\n",
       "      <td>12세 관람가</td>\n",
       "      <td>김재수</td>\n",
       "      <td>0.0</td>\n",
       "      <td>0</td>\n",
       "      <td>2</td>\n",
       "      <td>4</td>\n",
       "      <td>4550</td>\n",
       "    </tr>\n",
       "    <tr>\n",
       "      <th>590</th>\n",
       "      <td>짐승의 끝</td>\n",
       "      <td>CJ 엔터테인먼트</td>\n",
       "      <td>미스터리</td>\n",
       "      <td>2011-03-17</td>\n",
       "      <td>114</td>\n",
       "      <td>청소년 관람불가</td>\n",
       "      <td>조성희</td>\n",
       "      <td>0.0</td>\n",
       "      <td>0</td>\n",
       "      <td>92</td>\n",
       "      <td>2</td>\n",
       "      <td>1250</td>\n",
       "    </tr>\n",
       "    <tr>\n",
       "      <th>591</th>\n",
       "      <td>아티스트 봉만대</td>\n",
       "      <td>씨너스엔터테인먼트(주)</td>\n",
       "      <td>코미디</td>\n",
       "      <td>2013-08-29</td>\n",
       "      <td>101</td>\n",
       "      <td>청소년 관람불가</td>\n",
       "      <td>봉만대</td>\n",
       "      <td>0.0</td>\n",
       "      <td>0</td>\n",
       "      <td>59</td>\n",
       "      <td>4</td>\n",
       "      <td>14188</td>\n",
       "    </tr>\n",
       "    <tr>\n",
       "      <th>593</th>\n",
       "      <td>낭만파 남편의 편지</td>\n",
       "      <td>퍼스트런</td>\n",
       "      <td>미스터리</td>\n",
       "      <td>2013-09-12</td>\n",
       "      <td>97</td>\n",
       "      <td>청소년 관람불가</td>\n",
       "      <td>최위안</td>\n",
       "      <td>0.0</td>\n",
       "      <td>0</td>\n",
       "      <td>5</td>\n",
       "      <td>3</td>\n",
       "      <td>1132</td>\n",
       "    </tr>\n",
       "    <tr>\n",
       "      <th>594</th>\n",
       "      <td>오빠가 돌아왔다</td>\n",
       "      <td>(주)마운틴픽쳐스</td>\n",
       "      <td>코미디</td>\n",
       "      <td>2014-03-20</td>\n",
       "      <td>94</td>\n",
       "      <td>청소년 관람불가</td>\n",
       "      <td>노진수</td>\n",
       "      <td>0.0</td>\n",
       "      <td>0</td>\n",
       "      <td>37</td>\n",
       "      <td>5</td>\n",
       "      <td>1958</td>\n",
       "    </tr>\n",
       "    <tr>\n",
       "      <th>597</th>\n",
       "      <td>살인의 강</td>\n",
       "      <td>(주)마운틴픽쳐스</td>\n",
       "      <td>공포</td>\n",
       "      <td>2010-09-30</td>\n",
       "      <td>99</td>\n",
       "      <td>청소년 관람불가</td>\n",
       "      <td>김대현</td>\n",
       "      <td>0.0</td>\n",
       "      <td>0</td>\n",
       "      <td>123</td>\n",
       "      <td>4</td>\n",
       "      <td>2475</td>\n",
       "    </tr>\n",
       "  </tbody>\n",
       "</table>\n",
       "</div>"
      ],
      "text/plain": [
       "                 title      distributor   genre release_time  time  \\\n",
       "495                 닥터    (주)마인스 엔터테인먼트      공포   2013-06-20    97   \n",
       "497             쿠바의 연인            시네마 달   다큐멘터리   2011-01-13    93   \n",
       "500          한양 기방 춘향뎐        (주) 케이알씨지  멜로/로맨스   2015-11-25    89   \n",
       "501                 베드        (주)마운틴픽쳐스  멜로/로맨스   2013-01-17    91   \n",
       "502             뜨거운 안녕    나이너스엔터테인먼트(주)     드라마   2013-05-30    99   \n",
       "503             애니멀 타운             트리필름     드라마   2011-03-10    97   \n",
       "504            천사의 숨소리       롤러코스터 프로덕션     코미디   2012-02-23    93   \n",
       "506              우리 선희      (주) 영화제작전원사     드라마   2013-09-12    89   \n",
       "508         모차르트 락 오페라            SK플래닛     뮤지컬   2011-11-17   133   \n",
       "509              고양이 춤            인디스토리   다큐멘터리   2011-11-17    76   \n",
       "510               도약선생        (주) 영화사조제     드라마   2011-06-30    65   \n",
       "514                 윤희         노바엔터테인먼트     드라마   2014-01-09    89   \n",
       "515             고스톱 살인          (주)랠리버튼      SF   2014-03-20   100   \n",
       "521         스타: 빛나는 사랑        (주)마운틴픽쳐스     드라마   2012-10-11    98   \n",
       "522       화이트: 저주의 멜로디  CJ E&M Pictures      공포   2011-06-09   106   \n",
       "523             옥희의 영화              스폰지     드라마   2010-09-16    80   \n",
       "526        고스트 메신저 극장판       에이원 엔터테인먼트   애니메이션   2014-05-22    78   \n",
       "532            남자사용설명서           (주)쇼박스  멜로/로맨스   2013-02-14   116   \n",
       "533            홈 스위트 홈         머스트 씨 무비   애니메이션   2014-07-17    67   \n",
       "534             밀양 아리랑             시네마달   다큐멘터리   2015-07-16   102   \n",
       "538              마이 보이             트리필름     드라마   2014-04-10    99   \n",
       "541           어이그 저 귓것           영화사 진진     드라마   2011-08-25    90   \n",
       "542             감금의 시간            마법사필름      공포   2015-12-03    91   \n",
       "546         설마 그럴리가 없어        (주) 영화사조제     드라마   2012-06-21    95   \n",
       "549             맛있는 택배         (주)로드하우스  멜로/로맨스   2015-04-02    84   \n",
       "550                두만강            인디스토리     드라마   2011-03-17    93   \n",
       "553            미라클 여행기           미라클 필름   다큐멘터리   2015-01-15    84   \n",
       "554             위험한 섹스        (주) 케이알씨지  멜로/로맨스   2015-09-23    72   \n",
       "555                 듀엣        (주) 영화사조제     드라마   2012-04-19    96   \n",
       "556              채식주의자              스폰지     드라마   2010-02-18   113   \n",
       "557                 목숨         필라멘트 픽쳐스   다큐멘터리   2014-12-04    95   \n",
       "558  나나나 : 여배우 민낯 프로젝트          서울독립영화제   다큐멘터리   2012-08-23    89   \n",
       "560                 폐가              시너지      공포   2010-08-19    84   \n",
       "562            이파네마 소년      프리비젼 엔터테인먼트  멜로/로맨스   2010-11-04    94   \n",
       "565              도쿄 택시          (주)키노아이     코미디   2010-05-20    75   \n",
       "567       술에 대하여 - 극장판          이모션 픽처스   다큐멘터리   2011-09-01    72   \n",
       "571               뫼비우스           (주)NEW     드라마   2013-09-05    90   \n",
       "572           천 번을 불러도        (주)마운틴픽쳐스     드라마   2014-10-16    97   \n",
       "573           1999, 면회            인디스토리     드라마   2013-02-21    85   \n",
       "575              분홍돌고래           ysfilm     드라마   2010-07-01    78   \n",
       "577           망원동 인공위성             시네마달   다큐멘터리   2015-02-05   108   \n",
       "579                지옥화       (주)팝엔터테인먼트     드라마   2014-11-06    99   \n",
       "580              정글히어로        CJ 엔터테인먼트   애니메이션   2014-10-02    82   \n",
       "585           후쿠시마의 미래            인디플러그   다큐멘터리   2015-04-09    70   \n",
       "586                 청야         마노엔터테인먼트     드라마   2013-12-26    83   \n",
       "590              짐승의 끝        CJ 엔터테인먼트    미스터리   2011-03-17   114   \n",
       "591           아티스트 봉만대     씨너스엔터테인먼트(주)     코미디   2013-08-29   101   \n",
       "593         낭만파 남편의 편지             퍼스트런    미스터리   2013-09-12    97   \n",
       "594           오빠가 돌아왔다        (주)마운틴픽쳐스     코미디   2014-03-20    94   \n",
       "597              살인의 강        (주)마운틴픽쳐스      공포   2010-09-30    99   \n",
       "\n",
       "    screening_rat director  dir_prev_bfnum  dir_prev_num  num_staff  \\\n",
       "495      청소년 관람불가      김성홍             0.0             0         20   \n",
       "497       15세 관람가      정호현             0.0             0          0   \n",
       "500      청소년 관람불가      김민욱             0.0             0          0   \n",
       "501      청소년 관람불가      박철수             0.0             0         37   \n",
       "502       12세 관람가      남택수             0.0             0        206   \n",
       "503      청소년 관람불가      전규환             0.0             0          1   \n",
       "504       12세 관람가      한지원             0.0             0         53   \n",
       "506      청소년 관람불가      홍상수             0.0             0          8   \n",
       "508        전체 관람가      정성복             0.0             0          4   \n",
       "509        전체 관람가      윤기형             0.0             0         42   \n",
       "510       12세 관람가      윤성호             0.0             0         17   \n",
       "514      청소년 관람불가      윤여창             0.0             0         11   \n",
       "515       15세 관람가      김준권             0.0             0         77   \n",
       "521       12세 관람가      한상희             0.0             0         65   \n",
       "522       15세 관람가       김곡             0.0             0         98   \n",
       "523      청소년 관람불가      홍상수             0.0             0         57   \n",
       "526       12세 관람가      구봉회             0.0             0          0   \n",
       "532       15세 관람가      이원석             0.0             0        158   \n",
       "533       12세 관람가  안도 마사히로             0.0             0          8   \n",
       "534       15세 관람가      박배일             0.0             0          5   \n",
       "538       12세 관람가      전규환             0.0             0        117   \n",
       "541        전체 관람가       오멸             0.0             0          0   \n",
       "542      청소년 관람불가      김대성             0.0             0          1   \n",
       "546       12세 관람가      조성규             0.0             0         23   \n",
       "549      청소년 관람불가      기대호             0.0             0          0   \n",
       "550       15세 관람가       장률             0.0             0         22   \n",
       "553        전체 관람가       허철             0.0             0          0   \n",
       "554      청소년 관람불가       이전             0.0             0          0   \n",
       "555        전체 관람가      이상빈             0.0             0         61   \n",
       "556      청소년 관람불가      임우성             0.0             0        153   \n",
       "557       12세 관람가      이창재             0.0             0        139   \n",
       "558       12세 관람가      부지영             0.0             0          1   \n",
       "560       15세 관람가      이철하             0.0             0        118   \n",
       "562       12세 관람가      김기훈             0.0             0        158   \n",
       "565        전체 관람가      김태식             0.0             0         80   \n",
       "567       15세 관람가       임범             0.0             0          0   \n",
       "571      청소년 관람불가      김기덕             0.0             0         93   \n",
       "572       15세 관람가      신성섭             0.0             0         51   \n",
       "573       15세 관람가      김태곤             0.0             0         32   \n",
       "575       12세 관람가      조연수             0.0             0         17   \n",
       "577       12세 관람가      김형주             0.0             0          8   \n",
       "579      청소년 관람불가      이상우             0.0             0         42   \n",
       "580        전체 관람가      박태동             0.0             0          0   \n",
       "585        전체 관람가      이홍기             0.0             0          4   \n",
       "586       12세 관람가      김재수             0.0             0          2   \n",
       "590      청소년 관람불가      조성희             0.0             0         92   \n",
       "591      청소년 관람불가      봉만대             0.0             0         59   \n",
       "593      청소년 관람불가      최위안             0.0             0          5   \n",
       "594      청소년 관람불가      노진수             0.0             0         37   \n",
       "597      청소년 관람불가      김대현             0.0             0        123   \n",
       "\n",
       "     num_actor  box_off_num  \n",
       "495          3        68312  \n",
       "497          2         4340  \n",
       "500          1          400  \n",
       "501          3          660  \n",
       "502          4        47105  \n",
       "503          2         1379  \n",
       "504          2         1873  \n",
       "506          6        69122  \n",
       "508          4        16323  \n",
       "509          3        12486  \n",
       "510          4         2155  \n",
       "514          2          561  \n",
       "515          3          820  \n",
       "521          6          577  \n",
       "522          5       790959  \n",
       "523          3        37122  \n",
       "526          5        23802  \n",
       "532          3       507913  \n",
       "533          3         2329  \n",
       "534          4         3044  \n",
       "538          4         3523  \n",
       "541          5          732  \n",
       "542          2          555  \n",
       "546          2         1679  \n",
       "549          1         6226  \n",
       "550          3         2429  \n",
       "553          1         3399  \n",
       "554          1          419  \n",
       "555          2         1081  \n",
       "556          5         3536  \n",
       "557          4        38771  \n",
       "558          3         1028  \n",
       "560          6       225955  \n",
       "562          2         3436  \n",
       "565          3         6034  \n",
       "567          2          541  \n",
       "571          3        35348  \n",
       "572          3          685  \n",
       "573          4         3404  \n",
       "575          7          172  \n",
       "577          1         2972  \n",
       "579          3          600  \n",
       "580          6        72052  \n",
       "585          1          938  \n",
       "586          4         4550  \n",
       "590          2         1250  \n",
       "591          4        14188  \n",
       "593          3         1132  \n",
       "594          5         1958  \n",
       "597          4         2475  "
      ]
     },
     "execution_count": 151,
     "metadata": {},
     "output_type": "execute_result"
    }
   ],
   "source": [
    "train.tail(50)"
   ]
  },
  {
   "cell_type": "markdown",
   "id": "b2ed2dde",
   "metadata": {},
   "source": [
    "데이터 병합"
   ]
  },
  {
   "cell_type": "code",
   "execution_count": 152,
   "id": "1614b62c",
   "metadata": {},
   "outputs": [],
   "source": [
    "train = pd.merge(train, test, how = 'left')"
   ]
  },
  {
   "cell_type": "code",
   "execution_count": 153,
   "id": "4f4e717c",
   "metadata": {},
   "outputs": [],
   "source": [
    "test = pd.merge(test, test, how = 'left')"
   ]
  },
  {
   "cell_type": "code",
   "execution_count": 154,
   "id": "d6279032",
   "metadata": {},
   "outputs": [],
   "source": [
    "import pandas as pd\n",
    "from sklearn.ensemble import RandomForestRegressor"
   ]
  },
  {
   "cell_type": "code",
   "execution_count": 172,
   "id": "a1798774",
   "metadata": {},
   "outputs": [],
   "source": [
    "test.fillna(0, inplace = True)"
   ]
  },
  {
   "cell_type": "code",
   "execution_count": 175,
   "id": "f2f37e31",
   "metadata": {},
   "outputs": [
    {
     "name": "stdout",
     "output_type": "stream",
     "text": [
      "<class 'pandas.core.frame.DataFrame'>\n",
      "Int64Index: 263 entries, 0 to 262\n",
      "Data columns (total 12 columns):\n",
      " #   Column          Non-Null Count  Dtype  \n",
      "---  ------          --------------  -----  \n",
      " 0   title           263 non-null    object \n",
      " 1   distributor     263 non-null    object \n",
      " 2   genre           263 non-null    object \n",
      " 3   release_time    263 non-null    object \n",
      " 4   time            263 non-null    int64  \n",
      " 5   screening_rat   263 non-null    object \n",
      " 6   director        263 non-null    object \n",
      " 7   dir_prev_bfnum  263 non-null    float64\n",
      " 8   dir_prev_num    263 non-null    int64  \n",
      " 9   num_staff       263 non-null    int64  \n",
      " 10  num_actor       263 non-null    int64  \n",
      " 11  box_off_num     263 non-null    int64  \n",
      "dtypes: float64(1), int64(5), object(6)\n",
      "memory usage: 34.8+ KB\n"
     ]
    }
   ],
   "source": [
    "train.info()"
   ]
  },
  {
   "cell_type": "code",
   "execution_count": 176,
   "id": "b9e0df2a",
   "metadata": {},
   "outputs": [
    {
     "name": "stdout",
     "output_type": "stream",
     "text": [
      "<class 'pandas.core.frame.DataFrame'>\n",
      "Int64Index: 152 entries, 0 to 151\n",
      "Data columns (total 11 columns):\n",
      " #   Column          Non-Null Count  Dtype  \n",
      "---  ------          --------------  -----  \n",
      " 0   title           152 non-null    object \n",
      " 1   distributor     152 non-null    object \n",
      " 2   genre           152 non-null    object \n",
      " 3   release_time    152 non-null    object \n",
      " 4   time            152 non-null    int64  \n",
      " 5   screening_rat   152 non-null    object \n",
      " 6   director        152 non-null    object \n",
      " 7   dir_prev_bfnum  152 non-null    float64\n",
      " 8   dir_prev_num    152 non-null    int64  \n",
      " 9   num_staff       152 non-null    int64  \n",
      " 10  num_actor       152 non-null    int64  \n",
      "dtypes: float64(1), int64(4), object(6)\n",
      "memory usage: 14.2+ KB\n"
     ]
    }
   ],
   "source": [
    "test.info()"
   ]
  },
  {
   "cell_type": "code",
   "execution_count": 183,
   "id": "e3c64e72",
   "metadata": {},
   "outputs": [],
   "source": [
    "train_ti = train[['title']]"
   ]
  },
  {
   "cell_type": "code",
   "execution_count": 186,
   "id": "ba5ce4d0",
   "metadata": {},
   "outputs": [],
   "source": [
    "one_hot_encoded_df = pd.get_dummies(train_ti)"
   ]
  },
  {
   "cell_type": "markdown",
   "id": "49e4ec9a",
   "metadata": {},
   "source": [
    "모델"
   ]
  },
  {
   "cell_type": "code",
   "execution_count": 190,
   "id": "8eccb83d",
   "metadata": {},
   "outputs": [],
   "source": [
    "train_x = train.drop(['box_off_num'],axis= 1)\n",
    "train_y = train['box_off_num']"
   ]
  },
  {
   "cell_type": "code",
   "execution_count": 191,
   "id": "f3ab11f2",
   "metadata": {},
   "outputs": [
    {
     "ename": "ValueError",
     "evalue": "could not convert string to float: '개들의 전쟁'",
     "output_type": "error",
     "traceback": [
      "\u001b[1;31m---------------------------------------------------------------------------\u001b[0m",
      "\u001b[1;31mValueError\u001b[0m                                Traceback (most recent call last)",
      "\u001b[1;32m~\\AppData\\Local\\Temp/ipykernel_42828/2692248970.py\u001b[0m in \u001b[0;36m<module>\u001b[1;34m\u001b[0m\n\u001b[0;32m      1\u001b[0m \u001b[0mmodel\u001b[0m\u001b[1;33m=\u001b[0m\u001b[0mRandomForestRegressor\u001b[0m\u001b[1;33m(\u001b[0m\u001b[0mn_estimators\u001b[0m\u001b[1;33m=\u001b[0m\u001b[1;36m100\u001b[0m\u001b[1;33m)\u001b[0m\u001b[1;33m\u001b[0m\u001b[1;33m\u001b[0m\u001b[0m\n\u001b[1;32m----> 2\u001b[1;33m \u001b[0mmodel\u001b[0m\u001b[1;33m.\u001b[0m\u001b[0mfit\u001b[0m\u001b[1;33m(\u001b[0m\u001b[0mtrain_x\u001b[0m\u001b[1;33m,\u001b[0m\u001b[0mtrain_y\u001b[0m\u001b[1;33m)\u001b[0m\u001b[1;33m\u001b[0m\u001b[1;33m\u001b[0m\u001b[0m\n\u001b[0m",
      "\u001b[1;32m~\\anaconda3\\lib\\site-packages\\sklearn\\ensemble\\_forest.py\u001b[0m in \u001b[0;36mfit\u001b[1;34m(self, X, y, sample_weight)\u001b[0m\n\u001b[0;32m    302\u001b[0m                 \u001b[1;34m\"sparse multilabel-indicator for y is not supported.\"\u001b[0m\u001b[1;33m\u001b[0m\u001b[1;33m\u001b[0m\u001b[0m\n\u001b[0;32m    303\u001b[0m             )\n\u001b[1;32m--> 304\u001b[1;33m         X, y = self._validate_data(X, y, multi_output=True,\n\u001b[0m\u001b[0;32m    305\u001b[0m                                    accept_sparse=\"csc\", dtype=DTYPE)\n\u001b[0;32m    306\u001b[0m         \u001b[1;32mif\u001b[0m \u001b[0msample_weight\u001b[0m \u001b[1;32mis\u001b[0m \u001b[1;32mnot\u001b[0m \u001b[1;32mNone\u001b[0m\u001b[1;33m:\u001b[0m\u001b[1;33m\u001b[0m\u001b[1;33m\u001b[0m\u001b[0m\n",
      "\u001b[1;32m~\\anaconda3\\lib\\site-packages\\sklearn\\base.py\u001b[0m in \u001b[0;36m_validate_data\u001b[1;34m(self, X, y, reset, validate_separately, **check_params)\u001b[0m\n\u001b[0;32m    431\u001b[0m                 \u001b[0my\u001b[0m \u001b[1;33m=\u001b[0m \u001b[0mcheck_array\u001b[0m\u001b[1;33m(\u001b[0m\u001b[0my\u001b[0m\u001b[1;33m,\u001b[0m \u001b[1;33m**\u001b[0m\u001b[0mcheck_y_params\u001b[0m\u001b[1;33m)\u001b[0m\u001b[1;33m\u001b[0m\u001b[1;33m\u001b[0m\u001b[0m\n\u001b[0;32m    432\u001b[0m             \u001b[1;32melse\u001b[0m\u001b[1;33m:\u001b[0m\u001b[1;33m\u001b[0m\u001b[1;33m\u001b[0m\u001b[0m\n\u001b[1;32m--> 433\u001b[1;33m                 \u001b[0mX\u001b[0m\u001b[1;33m,\u001b[0m \u001b[0my\u001b[0m \u001b[1;33m=\u001b[0m \u001b[0mcheck_X_y\u001b[0m\u001b[1;33m(\u001b[0m\u001b[0mX\u001b[0m\u001b[1;33m,\u001b[0m \u001b[0my\u001b[0m\u001b[1;33m,\u001b[0m \u001b[1;33m**\u001b[0m\u001b[0mcheck_params\u001b[0m\u001b[1;33m)\u001b[0m\u001b[1;33m\u001b[0m\u001b[1;33m\u001b[0m\u001b[0m\n\u001b[0m\u001b[0;32m    434\u001b[0m             \u001b[0mout\u001b[0m \u001b[1;33m=\u001b[0m \u001b[0mX\u001b[0m\u001b[1;33m,\u001b[0m \u001b[0my\u001b[0m\u001b[1;33m\u001b[0m\u001b[1;33m\u001b[0m\u001b[0m\n\u001b[0;32m    435\u001b[0m \u001b[1;33m\u001b[0m\u001b[0m\n",
      "\u001b[1;32m~\\anaconda3\\lib\\site-packages\\sklearn\\utils\\validation.py\u001b[0m in \u001b[0;36minner_f\u001b[1;34m(*args, **kwargs)\u001b[0m\n\u001b[0;32m     61\u001b[0m             \u001b[0mextra_args\u001b[0m \u001b[1;33m=\u001b[0m \u001b[0mlen\u001b[0m\u001b[1;33m(\u001b[0m\u001b[0margs\u001b[0m\u001b[1;33m)\u001b[0m \u001b[1;33m-\u001b[0m \u001b[0mlen\u001b[0m\u001b[1;33m(\u001b[0m\u001b[0mall_args\u001b[0m\u001b[1;33m)\u001b[0m\u001b[1;33m\u001b[0m\u001b[1;33m\u001b[0m\u001b[0m\n\u001b[0;32m     62\u001b[0m             \u001b[1;32mif\u001b[0m \u001b[0mextra_args\u001b[0m \u001b[1;33m<=\u001b[0m \u001b[1;36m0\u001b[0m\u001b[1;33m:\u001b[0m\u001b[1;33m\u001b[0m\u001b[1;33m\u001b[0m\u001b[0m\n\u001b[1;32m---> 63\u001b[1;33m                 \u001b[1;32mreturn\u001b[0m \u001b[0mf\u001b[0m\u001b[1;33m(\u001b[0m\u001b[1;33m*\u001b[0m\u001b[0margs\u001b[0m\u001b[1;33m,\u001b[0m \u001b[1;33m**\u001b[0m\u001b[0mkwargs\u001b[0m\u001b[1;33m)\u001b[0m\u001b[1;33m\u001b[0m\u001b[1;33m\u001b[0m\u001b[0m\n\u001b[0m\u001b[0;32m     64\u001b[0m \u001b[1;33m\u001b[0m\u001b[0m\n\u001b[0;32m     65\u001b[0m             \u001b[1;31m# extra_args > 0\u001b[0m\u001b[1;33m\u001b[0m\u001b[1;33m\u001b[0m\u001b[0m\n",
      "\u001b[1;32m~\\anaconda3\\lib\\site-packages\\sklearn\\utils\\validation.py\u001b[0m in \u001b[0;36mcheck_X_y\u001b[1;34m(X, y, accept_sparse, accept_large_sparse, dtype, order, copy, force_all_finite, ensure_2d, allow_nd, multi_output, ensure_min_samples, ensure_min_features, y_numeric, estimator)\u001b[0m\n\u001b[0;32m    869\u001b[0m         \u001b[1;32mraise\u001b[0m \u001b[0mValueError\u001b[0m\u001b[1;33m(\u001b[0m\u001b[1;34m\"y cannot be None\"\u001b[0m\u001b[1;33m)\u001b[0m\u001b[1;33m\u001b[0m\u001b[1;33m\u001b[0m\u001b[0m\n\u001b[0;32m    870\u001b[0m \u001b[1;33m\u001b[0m\u001b[0m\n\u001b[1;32m--> 871\u001b[1;33m     X = check_array(X, accept_sparse=accept_sparse,\n\u001b[0m\u001b[0;32m    872\u001b[0m                     \u001b[0maccept_large_sparse\u001b[0m\u001b[1;33m=\u001b[0m\u001b[0maccept_large_sparse\u001b[0m\u001b[1;33m,\u001b[0m\u001b[1;33m\u001b[0m\u001b[1;33m\u001b[0m\u001b[0m\n\u001b[0;32m    873\u001b[0m                     \u001b[0mdtype\u001b[0m\u001b[1;33m=\u001b[0m\u001b[0mdtype\u001b[0m\u001b[1;33m,\u001b[0m \u001b[0morder\u001b[0m\u001b[1;33m=\u001b[0m\u001b[0morder\u001b[0m\u001b[1;33m,\u001b[0m \u001b[0mcopy\u001b[0m\u001b[1;33m=\u001b[0m\u001b[0mcopy\u001b[0m\u001b[1;33m,\u001b[0m\u001b[1;33m\u001b[0m\u001b[1;33m\u001b[0m\u001b[0m\n",
      "\u001b[1;32m~\\anaconda3\\lib\\site-packages\\sklearn\\utils\\validation.py\u001b[0m in \u001b[0;36minner_f\u001b[1;34m(*args, **kwargs)\u001b[0m\n\u001b[0;32m     61\u001b[0m             \u001b[0mextra_args\u001b[0m \u001b[1;33m=\u001b[0m \u001b[0mlen\u001b[0m\u001b[1;33m(\u001b[0m\u001b[0margs\u001b[0m\u001b[1;33m)\u001b[0m \u001b[1;33m-\u001b[0m \u001b[0mlen\u001b[0m\u001b[1;33m(\u001b[0m\u001b[0mall_args\u001b[0m\u001b[1;33m)\u001b[0m\u001b[1;33m\u001b[0m\u001b[1;33m\u001b[0m\u001b[0m\n\u001b[0;32m     62\u001b[0m             \u001b[1;32mif\u001b[0m \u001b[0mextra_args\u001b[0m \u001b[1;33m<=\u001b[0m \u001b[1;36m0\u001b[0m\u001b[1;33m:\u001b[0m\u001b[1;33m\u001b[0m\u001b[1;33m\u001b[0m\u001b[0m\n\u001b[1;32m---> 63\u001b[1;33m                 \u001b[1;32mreturn\u001b[0m \u001b[0mf\u001b[0m\u001b[1;33m(\u001b[0m\u001b[1;33m*\u001b[0m\u001b[0margs\u001b[0m\u001b[1;33m,\u001b[0m \u001b[1;33m**\u001b[0m\u001b[0mkwargs\u001b[0m\u001b[1;33m)\u001b[0m\u001b[1;33m\u001b[0m\u001b[1;33m\u001b[0m\u001b[0m\n\u001b[0m\u001b[0;32m     64\u001b[0m \u001b[1;33m\u001b[0m\u001b[0m\n\u001b[0;32m     65\u001b[0m             \u001b[1;31m# extra_args > 0\u001b[0m\u001b[1;33m\u001b[0m\u001b[1;33m\u001b[0m\u001b[0m\n",
      "\u001b[1;32m~\\anaconda3\\lib\\site-packages\\sklearn\\utils\\validation.py\u001b[0m in \u001b[0;36mcheck_array\u001b[1;34m(array, accept_sparse, accept_large_sparse, dtype, order, copy, force_all_finite, ensure_2d, allow_nd, ensure_min_samples, ensure_min_features, estimator)\u001b[0m\n\u001b[0;32m    671\u001b[0m                     \u001b[0marray\u001b[0m \u001b[1;33m=\u001b[0m \u001b[0marray\u001b[0m\u001b[1;33m.\u001b[0m\u001b[0mastype\u001b[0m\u001b[1;33m(\u001b[0m\u001b[0mdtype\u001b[0m\u001b[1;33m,\u001b[0m \u001b[0mcasting\u001b[0m\u001b[1;33m=\u001b[0m\u001b[1;34m\"unsafe\"\u001b[0m\u001b[1;33m,\u001b[0m \u001b[0mcopy\u001b[0m\u001b[1;33m=\u001b[0m\u001b[1;32mFalse\u001b[0m\u001b[1;33m)\u001b[0m\u001b[1;33m\u001b[0m\u001b[1;33m\u001b[0m\u001b[0m\n\u001b[0;32m    672\u001b[0m                 \u001b[1;32melse\u001b[0m\u001b[1;33m:\u001b[0m\u001b[1;33m\u001b[0m\u001b[1;33m\u001b[0m\u001b[0m\n\u001b[1;32m--> 673\u001b[1;33m                     \u001b[0marray\u001b[0m \u001b[1;33m=\u001b[0m \u001b[0mnp\u001b[0m\u001b[1;33m.\u001b[0m\u001b[0masarray\u001b[0m\u001b[1;33m(\u001b[0m\u001b[0marray\u001b[0m\u001b[1;33m,\u001b[0m \u001b[0morder\u001b[0m\u001b[1;33m=\u001b[0m\u001b[0morder\u001b[0m\u001b[1;33m,\u001b[0m \u001b[0mdtype\u001b[0m\u001b[1;33m=\u001b[0m\u001b[0mdtype\u001b[0m\u001b[1;33m)\u001b[0m\u001b[1;33m\u001b[0m\u001b[1;33m\u001b[0m\u001b[0m\n\u001b[0m\u001b[0;32m    674\u001b[0m             \u001b[1;32mexcept\u001b[0m \u001b[0mComplexWarning\u001b[0m \u001b[1;32mas\u001b[0m \u001b[0mcomplex_warning\u001b[0m\u001b[1;33m:\u001b[0m\u001b[1;33m\u001b[0m\u001b[1;33m\u001b[0m\u001b[0m\n\u001b[0;32m    675\u001b[0m                 raise ValueError(\"Complex data not supported\\n\"\n",
      "\u001b[1;32m~\\anaconda3\\lib\\site-packages\\numpy\\core\\_asarray.py\u001b[0m in \u001b[0;36masarray\u001b[1;34m(a, dtype, order, like)\u001b[0m\n\u001b[0;32m    100\u001b[0m         \u001b[1;32mreturn\u001b[0m \u001b[0m_asarray_with_like\u001b[0m\u001b[1;33m(\u001b[0m\u001b[0ma\u001b[0m\u001b[1;33m,\u001b[0m \u001b[0mdtype\u001b[0m\u001b[1;33m=\u001b[0m\u001b[0mdtype\u001b[0m\u001b[1;33m,\u001b[0m \u001b[0morder\u001b[0m\u001b[1;33m=\u001b[0m\u001b[0morder\u001b[0m\u001b[1;33m,\u001b[0m \u001b[0mlike\u001b[0m\u001b[1;33m=\u001b[0m\u001b[0mlike\u001b[0m\u001b[1;33m)\u001b[0m\u001b[1;33m\u001b[0m\u001b[1;33m\u001b[0m\u001b[0m\n\u001b[0;32m    101\u001b[0m \u001b[1;33m\u001b[0m\u001b[0m\n\u001b[1;32m--> 102\u001b[1;33m     \u001b[1;32mreturn\u001b[0m \u001b[0marray\u001b[0m\u001b[1;33m(\u001b[0m\u001b[0ma\u001b[0m\u001b[1;33m,\u001b[0m \u001b[0mdtype\u001b[0m\u001b[1;33m,\u001b[0m \u001b[0mcopy\u001b[0m\u001b[1;33m=\u001b[0m\u001b[1;32mFalse\u001b[0m\u001b[1;33m,\u001b[0m \u001b[0morder\u001b[0m\u001b[1;33m=\u001b[0m\u001b[0morder\u001b[0m\u001b[1;33m)\u001b[0m\u001b[1;33m\u001b[0m\u001b[1;33m\u001b[0m\u001b[0m\n\u001b[0m\u001b[0;32m    103\u001b[0m \u001b[1;33m\u001b[0m\u001b[0m\n\u001b[0;32m    104\u001b[0m \u001b[1;33m\u001b[0m\u001b[0m\n",
      "\u001b[1;32m~\\anaconda3\\lib\\site-packages\\pandas\\core\\generic.py\u001b[0m in \u001b[0;36m__array__\u001b[1;34m(self, dtype)\u001b[0m\n\u001b[0;32m   1991\u001b[0m \u001b[1;33m\u001b[0m\u001b[0m\n\u001b[0;32m   1992\u001b[0m     \u001b[1;32mdef\u001b[0m \u001b[0m__array__\u001b[0m\u001b[1;33m(\u001b[0m\u001b[0mself\u001b[0m\u001b[1;33m,\u001b[0m \u001b[0mdtype\u001b[0m\u001b[1;33m:\u001b[0m \u001b[0mNpDtype\u001b[0m \u001b[1;33m|\u001b[0m \u001b[1;32mNone\u001b[0m \u001b[1;33m=\u001b[0m \u001b[1;32mNone\u001b[0m\u001b[1;33m)\u001b[0m \u001b[1;33m->\u001b[0m \u001b[0mnp\u001b[0m\u001b[1;33m.\u001b[0m\u001b[0mndarray\u001b[0m\u001b[1;33m:\u001b[0m\u001b[1;33m\u001b[0m\u001b[1;33m\u001b[0m\u001b[0m\n\u001b[1;32m-> 1993\u001b[1;33m         \u001b[1;32mreturn\u001b[0m \u001b[0mnp\u001b[0m\u001b[1;33m.\u001b[0m\u001b[0masarray\u001b[0m\u001b[1;33m(\u001b[0m\u001b[0mself\u001b[0m\u001b[1;33m.\u001b[0m\u001b[0m_values\u001b[0m\u001b[1;33m,\u001b[0m \u001b[0mdtype\u001b[0m\u001b[1;33m=\u001b[0m\u001b[0mdtype\u001b[0m\u001b[1;33m)\u001b[0m\u001b[1;33m\u001b[0m\u001b[1;33m\u001b[0m\u001b[0m\n\u001b[0m\u001b[0;32m   1994\u001b[0m \u001b[1;33m\u001b[0m\u001b[0m\n\u001b[0;32m   1995\u001b[0m     def __array_wrap__(\n",
      "\u001b[1;32m~\\anaconda3\\lib\\site-packages\\numpy\\core\\_asarray.py\u001b[0m in \u001b[0;36masarray\u001b[1;34m(a, dtype, order, like)\u001b[0m\n\u001b[0;32m    100\u001b[0m         \u001b[1;32mreturn\u001b[0m \u001b[0m_asarray_with_like\u001b[0m\u001b[1;33m(\u001b[0m\u001b[0ma\u001b[0m\u001b[1;33m,\u001b[0m \u001b[0mdtype\u001b[0m\u001b[1;33m=\u001b[0m\u001b[0mdtype\u001b[0m\u001b[1;33m,\u001b[0m \u001b[0morder\u001b[0m\u001b[1;33m=\u001b[0m\u001b[0morder\u001b[0m\u001b[1;33m,\u001b[0m \u001b[0mlike\u001b[0m\u001b[1;33m=\u001b[0m\u001b[0mlike\u001b[0m\u001b[1;33m)\u001b[0m\u001b[1;33m\u001b[0m\u001b[1;33m\u001b[0m\u001b[0m\n\u001b[0;32m    101\u001b[0m \u001b[1;33m\u001b[0m\u001b[0m\n\u001b[1;32m--> 102\u001b[1;33m     \u001b[1;32mreturn\u001b[0m \u001b[0marray\u001b[0m\u001b[1;33m(\u001b[0m\u001b[0ma\u001b[0m\u001b[1;33m,\u001b[0m \u001b[0mdtype\u001b[0m\u001b[1;33m,\u001b[0m \u001b[0mcopy\u001b[0m\u001b[1;33m=\u001b[0m\u001b[1;32mFalse\u001b[0m\u001b[1;33m,\u001b[0m \u001b[0morder\u001b[0m\u001b[1;33m=\u001b[0m\u001b[0morder\u001b[0m\u001b[1;33m)\u001b[0m\u001b[1;33m\u001b[0m\u001b[1;33m\u001b[0m\u001b[0m\n\u001b[0m\u001b[0;32m    103\u001b[0m \u001b[1;33m\u001b[0m\u001b[0m\n\u001b[0;32m    104\u001b[0m \u001b[1;33m\u001b[0m\u001b[0m\n",
      "\u001b[1;31mValueError\u001b[0m: could not convert string to float: '개들의 전쟁'"
     ]
    }
   ],
   "source": [
    "model=RandomForestRegressor(n_estimators=100)\n",
    "model.fit(train_x,train_y)"
   ]
  },
  {
   "cell_type": "code",
   "execution_count": 171,
   "id": "1ed3d20e",
   "metadata": {},
   "outputs": [
    {
     "ename": "NotFittedError",
     "evalue": "This RandomForestRegressor instance is not fitted yet. Call 'fit' with appropriate arguments before using this estimator.",
     "output_type": "error",
     "traceback": [
      "\u001b[1;31m---------------------------------------------------------------------------\u001b[0m",
      "\u001b[1;31mNotFittedError\u001b[0m                            Traceback (most recent call last)",
      "\u001b[1;32m~\\AppData\\Local\\Temp/ipykernel_42828/1947792140.py\u001b[0m in \u001b[0;36m<module>\u001b[1;34m\u001b[0m\n\u001b[1;32m----> 1\u001b[1;33m \u001b[0mpred\u001b[0m \u001b[1;33m=\u001b[0m \u001b[0mmodel\u001b[0m\u001b[1;33m.\u001b[0m\u001b[0mpredict\u001b[0m\u001b[1;33m(\u001b[0m\u001b[0mtest\u001b[0m\u001b[1;33m)\u001b[0m\u001b[1;33m\u001b[0m\u001b[1;33m\u001b[0m\u001b[0m\n\u001b[0m",
      "\u001b[1;32m~\\anaconda3\\lib\\site-packages\\sklearn\\ensemble\\_forest.py\u001b[0m in \u001b[0;36mpredict\u001b[1;34m(self, X)\u001b[0m\n\u001b[0;32m    780\u001b[0m             \u001b[0mThe\u001b[0m \u001b[0mpredicted\u001b[0m \u001b[0mvalues\u001b[0m\u001b[1;33m.\u001b[0m\u001b[1;33m\u001b[0m\u001b[1;33m\u001b[0m\u001b[0m\n\u001b[0;32m    781\u001b[0m         \"\"\"\n\u001b[1;32m--> 782\u001b[1;33m         \u001b[0mcheck_is_fitted\u001b[0m\u001b[1;33m(\u001b[0m\u001b[0mself\u001b[0m\u001b[1;33m)\u001b[0m\u001b[1;33m\u001b[0m\u001b[1;33m\u001b[0m\u001b[0m\n\u001b[0m\u001b[0;32m    783\u001b[0m         \u001b[1;31m# Check data\u001b[0m\u001b[1;33m\u001b[0m\u001b[1;33m\u001b[0m\u001b[0m\n\u001b[0;32m    784\u001b[0m         \u001b[0mX\u001b[0m \u001b[1;33m=\u001b[0m \u001b[0mself\u001b[0m\u001b[1;33m.\u001b[0m\u001b[0m_validate_X_predict\u001b[0m\u001b[1;33m(\u001b[0m\u001b[0mX\u001b[0m\u001b[1;33m)\u001b[0m\u001b[1;33m\u001b[0m\u001b[1;33m\u001b[0m\u001b[0m\n",
      "\u001b[1;32m~\\anaconda3\\lib\\site-packages\\sklearn\\utils\\validation.py\u001b[0m in \u001b[0;36minner_f\u001b[1;34m(*args, **kwargs)\u001b[0m\n\u001b[0;32m     61\u001b[0m             \u001b[0mextra_args\u001b[0m \u001b[1;33m=\u001b[0m \u001b[0mlen\u001b[0m\u001b[1;33m(\u001b[0m\u001b[0margs\u001b[0m\u001b[1;33m)\u001b[0m \u001b[1;33m-\u001b[0m \u001b[0mlen\u001b[0m\u001b[1;33m(\u001b[0m\u001b[0mall_args\u001b[0m\u001b[1;33m)\u001b[0m\u001b[1;33m\u001b[0m\u001b[1;33m\u001b[0m\u001b[0m\n\u001b[0;32m     62\u001b[0m             \u001b[1;32mif\u001b[0m \u001b[0mextra_args\u001b[0m \u001b[1;33m<=\u001b[0m \u001b[1;36m0\u001b[0m\u001b[1;33m:\u001b[0m\u001b[1;33m\u001b[0m\u001b[1;33m\u001b[0m\u001b[0m\n\u001b[1;32m---> 63\u001b[1;33m                 \u001b[1;32mreturn\u001b[0m \u001b[0mf\u001b[0m\u001b[1;33m(\u001b[0m\u001b[1;33m*\u001b[0m\u001b[0margs\u001b[0m\u001b[1;33m,\u001b[0m \u001b[1;33m**\u001b[0m\u001b[0mkwargs\u001b[0m\u001b[1;33m)\u001b[0m\u001b[1;33m\u001b[0m\u001b[1;33m\u001b[0m\u001b[0m\n\u001b[0m\u001b[0;32m     64\u001b[0m \u001b[1;33m\u001b[0m\u001b[0m\n\u001b[0;32m     65\u001b[0m             \u001b[1;31m# extra_args > 0\u001b[0m\u001b[1;33m\u001b[0m\u001b[1;33m\u001b[0m\u001b[0m\n",
      "\u001b[1;32m~\\anaconda3\\lib\\site-packages\\sklearn\\utils\\validation.py\u001b[0m in \u001b[0;36mcheck_is_fitted\u001b[1;34m(estimator, attributes, msg, all_or_any)\u001b[0m\n\u001b[0;32m   1096\u001b[0m \u001b[1;33m\u001b[0m\u001b[0m\n\u001b[0;32m   1097\u001b[0m     \u001b[1;32mif\u001b[0m \u001b[1;32mnot\u001b[0m \u001b[0mattrs\u001b[0m\u001b[1;33m:\u001b[0m\u001b[1;33m\u001b[0m\u001b[1;33m\u001b[0m\u001b[0m\n\u001b[1;32m-> 1098\u001b[1;33m         \u001b[1;32mraise\u001b[0m \u001b[0mNotFittedError\u001b[0m\u001b[1;33m(\u001b[0m\u001b[0mmsg\u001b[0m \u001b[1;33m%\u001b[0m \u001b[1;33m{\u001b[0m\u001b[1;34m'name'\u001b[0m\u001b[1;33m:\u001b[0m \u001b[0mtype\u001b[0m\u001b[1;33m(\u001b[0m\u001b[0mestimator\u001b[0m\u001b[1;33m)\u001b[0m\u001b[1;33m.\u001b[0m\u001b[0m__name__\u001b[0m\u001b[1;33m}\u001b[0m\u001b[1;33m)\u001b[0m\u001b[1;33m\u001b[0m\u001b[1;33m\u001b[0m\u001b[0m\n\u001b[0m\u001b[0;32m   1099\u001b[0m \u001b[1;33m\u001b[0m\u001b[0m\n\u001b[0;32m   1100\u001b[0m \u001b[1;33m\u001b[0m\u001b[0m\n",
      "\u001b[1;31mNotFittedError\u001b[0m: This RandomForestRegressor instance is not fitted yet. Call 'fit' with appropriate arguments before using this estimator."
     ]
    }
   ],
   "source": [
    "pred = model.predict(test)"
   ]
  },
  {
   "cell_type": "code",
   "execution_count": null,
   "id": "c07103cb",
   "metadata": {},
   "outputs": [],
   "source": []
  },
  {
   "cell_type": "code",
   "execution_count": null,
   "id": "f6d82896",
   "metadata": {},
   "outputs": [],
   "source": [
    "submission['box_off_num'] = (xgb_pred)"
   ]
  },
  {
   "cell_type": "code",
   "execution_count": null,
   "id": "930c3752",
   "metadata": {},
   "outputs": [],
   "source": [
    "submission.sort_values(by = 'box_off_num')"
   ]
  },
  {
   "cell_type": "code",
   "execution_count": null,
   "id": "b7736cbb",
   "metadata": {},
   "outputs": [],
   "source": [
    "submission"
   ]
  },
  {
   "cell_type": "code",
   "execution_count": null,
   "id": "07ca80b0",
   "metadata": {},
   "outputs": [],
   "source": [
    "submission.to_csv('second_movies.csv',index = False)"
   ]
  },
  {
   "cell_type": "code",
   "execution_count": null,
   "id": "32a88548",
   "metadata": {},
   "outputs": [],
   "source": [
    "from dacon_submit_api import dacon_submit_api \n",
    "\n",
    "result = dacon_submit_api.post_submission_file(\n",
    "'second_movies.csv', \n",
    "'f6ad2d1aa34753fbc5c9c5288933d8c895954de18de4b3bd09191c03d29e2c60', \n",
    "'235536', \n",
    "'rgm', \n",
    "'XGBRegressor' )"
   ]
  },
  {
   "cell_type": "code",
   "execution_count": null,
   "id": "a6fd7a32",
   "metadata": {},
   "outputs": [],
   "source": []
  }
 ],
 "metadata": {
  "kernelspec": {
   "display_name": "Python 3 (ipykernel)",
   "language": "python",
   "name": "python3"
  },
  "language_info": {
   "codemirror_mode": {
    "name": "ipython",
    "version": 3
   },
   "file_extension": ".py",
   "mimetype": "text/x-python",
   "name": "python",
   "nbconvert_exporter": "python",
   "pygments_lexer": "ipython3",
   "version": "3.9.7"
  }
 },
 "nbformat": 4,
 "nbformat_minor": 5
}
