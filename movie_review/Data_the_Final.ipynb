{
 "cells": [
  {
   "cell_type": "markdown",
   "id": "7238c15b",
   "metadata": {},
   "source": [
    "# 라이브러리"
   ]
  },
  {
   "cell_type": "code",
   "execution_count": 113,
   "id": "f6f4cae4",
   "metadata": {},
   "outputs": [],
   "source": [
    "import pandas as pd\n",
    "from sklearn.ensemble import RandomForestRegressor\n",
    "import numpy as np\n",
    "import seaborn as sns\n",
    "import matplotlib.pyplot as plt\n",
    "import re\n",
    "\n",
    "#개봉월 전처리\n",
    "def get_month(x):\n",
    "        return x[5:7]\n",
    "\n",
    "#배급사 전처리\n",
    "def get_dis(x) :\n",
    "    if 'CJ' in x or 'CGV' in x :\n",
    "        return 'CJ'\n",
    "    elif '쇼박스' in x :\n",
    "        return '쇼박스'\n",
    "    elif 'SK' in x :\n",
    "        return 'SK'\n",
    "    elif '리틀빅' in x :\n",
    "        return '리틀빅픽처스'\n",
    "    elif '스폰지' in x :\n",
    "        return '스폰지'\n",
    "    elif '싸이더스' in x :\n",
    "        return '싸이더스'\n",
    "    elif '에이원' in x :\n",
    "        return '에이원'\n",
    "    elif '마인스' in x :\n",
    "        return '마인스엔터'\n",
    "    elif '마운틴' in x :\n",
    "        return '마운틴픽처스'\n",
    "    elif '디씨드' in x :\n",
    "        return '디씨드'\n",
    "    elif '드림팩트' in x :\n",
    "        return '드림팩트'\n",
    "    elif '메가박스' in x :\n",
    "        return '메가박스'\n",
    "    elif '마운틴' in x :\n",
    "        return '마운틴'\n",
    "    elif 'NEW' in x :\n",
    "        return 'NEW'\n",
    "    elif '롯데' in x :\n",
    "        return '롯데엔터'\n",
    "    elif '프리비젼' in x :\n",
    "        return '프리비젼엔터'\n",
    "    elif '타임스' in x :\n",
    "        return '타임스토리'\n",
    "    elif '마달'in x or '마 달' in x:\n",
    "        return '시네마달'\n",
    "    else :\n",
    "        return x"
   ]
  },
  {
   "cell_type": "markdown",
   "id": "d2e06d81",
   "metadata": {},
   "source": [
    "# 불러오기"
   ]
  },
  {
   "cell_type": "code",
   "execution_count": 114,
   "id": "4ea0b802",
   "metadata": {},
   "outputs": [],
   "source": [
    "train = pd.read_csv(\"train_3.csv\")\n",
    "test = pd.read_csv('test_3.csv')\n",
    "submission = pd.read_csv('submission.csv')"
   ]
  },
  {
   "cell_type": "markdown",
   "id": "b79f12b1",
   "metadata": {},
   "source": [
    "# 1. 배급사 전처리"
   ]
  },
  {
   "cell_type": "code",
   "execution_count": 115,
   "id": "ac8f3c78",
   "metadata": {},
   "outputs": [
    {
     "name": "stderr",
     "output_type": "stream",
     "text": [
      "C:\\Users\\zls99\\AppData\\Local\\Temp/ipykernel_7036/768766398.py:1: FutureWarning: The default value of regex will change from True to False in a future version.\n",
      "  train['distributor'] = train.distributor.str.replace(\"(주)\", '')\n",
      "C:\\Users\\zls99\\AppData\\Local\\Temp/ipykernel_7036/768766398.py:2: FutureWarning: The default value of regex will change from True to False in a future version.\n",
      "  test['distributor'] = test.distributor.str.replace(\"(주)\", '')\n"
     ]
    }
   ],
   "source": [
    "train['distributor'] = train.distributor.str.replace(\"(주)\", '')\n",
    "test['distributor'] = test.distributor.str.replace(\"(주)\", '')\n",
    "train['distributor'] = [re.sub(r'[^0-9a-zA-Z가-힣]', '', x) for x in train.distributor]\n",
    "test['distributor'] = [re.sub(r'[^0-9a-zA-Z가-힣]', '', x) for x in test.distributor]\n",
    "train['distributor'] = train.distributor.apply(get_dis)\n",
    "test['distributor'] = test.distributor.apply(get_dis)"
   ]
  },
  {
   "cell_type": "markdown",
   "id": "d591a943",
   "metadata": {},
   "source": [
    "### 배급사 중위값으로 랭크 생성"
   ]
  },
  {
   "cell_type": "code",
   "execution_count": 116,
   "id": "791aa89d",
   "metadata": {
    "scrolled": true
   },
   "outputs": [
    {
     "data": {
      "text/html": [
       "<div>\n",
       "<style scoped>\n",
       "    .dataframe tbody tr th:only-of-type {\n",
       "        vertical-align: middle;\n",
       "    }\n",
       "\n",
       "    .dataframe tbody tr th {\n",
       "        vertical-align: top;\n",
       "    }\n",
       "\n",
       "    .dataframe thead th {\n",
       "        text-align: right;\n",
       "    }\n",
       "</style>\n",
       "<table border=\"1\" class=\"dataframe\">\n",
       "  <thead>\n",
       "    <tr style=\"text-align: right;\">\n",
       "      <th></th>\n",
       "      <th>distributor</th>\n",
       "      <th>dis_medi_rank</th>\n",
       "    </tr>\n",
       "  </thead>\n",
       "  <tbody>\n",
       "    <tr>\n",
       "      <th>108</th>\n",
       "      <td>인피니티엔터테인먼트</td>\n",
       "      <td>1</td>\n",
       "    </tr>\n",
       "    <tr>\n",
       "      <th>51</th>\n",
       "      <td>사람과사람들</td>\n",
       "      <td>2</td>\n",
       "    </tr>\n",
       "    <tr>\n",
       "      <th>95</th>\n",
       "      <td>위드시네마</td>\n",
       "      <td>3</td>\n",
       "    </tr>\n",
       "    <tr>\n",
       "      <th>18</th>\n",
       "      <td>나우콘텐츠</td>\n",
       "      <td>4</td>\n",
       "    </tr>\n",
       "    <tr>\n",
       "      <th>141</th>\n",
       "      <td>한국YWCA연합회</td>\n",
       "      <td>5</td>\n",
       "    </tr>\n",
       "    <tr>\n",
       "      <th>...</th>\n",
       "      <td>...</td>\n",
       "      <td>...</td>\n",
       "    </tr>\n",
       "    <tr>\n",
       "      <th>42</th>\n",
       "      <td>머니필름</td>\n",
       "      <td>141</td>\n",
       "    </tr>\n",
       "    <tr>\n",
       "      <th>111</th>\n",
       "      <td>전망좋은영화사</td>\n",
       "      <td>142</td>\n",
       "    </tr>\n",
       "    <tr>\n",
       "      <th>103</th>\n",
       "      <td>이십세기폭스코리아</td>\n",
       "      <td>143</td>\n",
       "    </tr>\n",
       "    <tr>\n",
       "      <th>55</th>\n",
       "      <td>쇼박스</td>\n",
       "      <td>144</td>\n",
       "    </tr>\n",
       "    <tr>\n",
       "      <th>74</th>\n",
       "      <td>아이필름코퍼레이션</td>\n",
       "      <td>145</td>\n",
       "    </tr>\n",
       "  </tbody>\n",
       "</table>\n",
       "<p>145 rows × 2 columns</p>\n",
       "</div>"
      ],
      "text/plain": [
       "    distributor  dis_medi_rank\n",
       "108  인피니티엔터테인먼트              1\n",
       "51       사람과사람들              2\n",
       "95        위드시네마              3\n",
       "18        나우콘텐츠              4\n",
       "141   한국YWCA연합회              5\n",
       "..          ...            ...\n",
       "42         머니필름            141\n",
       "111     전망좋은영화사            142\n",
       "103   이십세기폭스코리아            143\n",
       "55          쇼박스            144\n",
       "74    아이필름코퍼레이션            145\n",
       "\n",
       "[145 rows x 2 columns]"
      ]
     },
     "execution_count": 116,
     "metadata": {},
     "output_type": "execute_result"
    }
   ],
   "source": [
    "dis_medi_rank = train.groupby('distributor').box_off_num.median().reset_index(name = 'dis_medi_rank').sort_values(by = 'dis_medi_rank')\n",
    "dis_medi_rank['dis_medi_rank'] = [i + 1 for i in range(dis_medi_rank.shape[0])]\n",
    "dis_medi_rank"
   ]
  },
  {
   "cell_type": "markdown",
   "id": "304c3ba7",
   "metadata": {},
   "source": [
    "### 배급사 평균값으로 랭크 생성"
   ]
  },
  {
   "cell_type": "code",
   "execution_count": 117,
   "id": "0f78ce04",
   "metadata": {
    "scrolled": true
   },
   "outputs": [
    {
     "data": {
      "text/html": [
       "<div>\n",
       "<style scoped>\n",
       "    .dataframe tbody tr th:only-of-type {\n",
       "        vertical-align: middle;\n",
       "    }\n",
       "\n",
       "    .dataframe tbody tr th {\n",
       "        vertical-align: top;\n",
       "    }\n",
       "\n",
       "    .dataframe thead th {\n",
       "        text-align: right;\n",
       "    }\n",
       "</style>\n",
       "<table border=\"1\" class=\"dataframe\">\n",
       "  <thead>\n",
       "    <tr style=\"text-align: right;\">\n",
       "      <th></th>\n",
       "      <th>distributor</th>\n",
       "      <th>dis_mean_rank</th>\n",
       "    </tr>\n",
       "  </thead>\n",
       "  <tbody>\n",
       "    <tr>\n",
       "      <th>108</th>\n",
       "      <td>인피니티엔터테인먼트</td>\n",
       "      <td>1</td>\n",
       "    </tr>\n",
       "    <tr>\n",
       "      <th>51</th>\n",
       "      <td>사람과사람들</td>\n",
       "      <td>2</td>\n",
       "    </tr>\n",
       "    <tr>\n",
       "      <th>95</th>\n",
       "      <td>위드시네마</td>\n",
       "      <td>3</td>\n",
       "    </tr>\n",
       "    <tr>\n",
       "      <th>18</th>\n",
       "      <td>나우콘텐츠</td>\n",
       "      <td>4</td>\n",
       "    </tr>\n",
       "    <tr>\n",
       "      <th>141</th>\n",
       "      <td>한국YWCA연합회</td>\n",
       "      <td>5</td>\n",
       "    </tr>\n",
       "    <tr>\n",
       "      <th>...</th>\n",
       "      <td>...</td>\n",
       "      <td>...</td>\n",
       "    </tr>\n",
       "    <tr>\n",
       "      <th>103</th>\n",
       "      <td>이십세기폭스코리아</td>\n",
       "      <td>141</td>\n",
       "    </tr>\n",
       "    <tr>\n",
       "      <th>7</th>\n",
       "      <td>NEW</td>\n",
       "      <td>142</td>\n",
       "    </tr>\n",
       "    <tr>\n",
       "      <th>1</th>\n",
       "      <td>CJ</td>\n",
       "      <td>143</td>\n",
       "    </tr>\n",
       "    <tr>\n",
       "      <th>74</th>\n",
       "      <td>아이필름코퍼레이션</td>\n",
       "      <td>144</td>\n",
       "    </tr>\n",
       "    <tr>\n",
       "      <th>55</th>\n",
       "      <td>쇼박스</td>\n",
       "      <td>145</td>\n",
       "    </tr>\n",
       "  </tbody>\n",
       "</table>\n",
       "<p>145 rows × 2 columns</p>\n",
       "</div>"
      ],
      "text/plain": [
       "    distributor  dis_mean_rank\n",
       "108  인피니티엔터테인먼트              1\n",
       "51       사람과사람들              2\n",
       "95        위드시네마              3\n",
       "18        나우콘텐츠              4\n",
       "141   한국YWCA연합회              5\n",
       "..          ...            ...\n",
       "103   이십세기폭스코리아            141\n",
       "7           NEW            142\n",
       "1            CJ            143\n",
       "74    아이필름코퍼레이션            144\n",
       "55          쇼박스            145\n",
       "\n",
       "[145 rows x 2 columns]"
      ]
     },
     "execution_count": 117,
     "metadata": {},
     "output_type": "execute_result"
    }
   ],
   "source": [
    "dis_mean_rank = train.groupby('distributor').box_off_num.mean().reset_index(name = 'dis_mean_rank').sort_values(by = 'dis_mean_rank')\n",
    "dis_mean_rank['dis_mean_rank'] = [i + 1 for i in range(dis_mean_rank.shape[0])]\n",
    "dis_mean_rank"
   ]
  },
  {
   "cell_type": "markdown",
   "id": "07b29340",
   "metadata": {},
   "source": [
    "### 배급사 관객수 합 변수 생성"
   ]
  },
  {
   "cell_type": "code",
   "execution_count": 118,
   "id": "47a459a8",
   "metadata": {},
   "outputs": [
    {
     "data": {
      "text/html": [
       "<div>\n",
       "<style scoped>\n",
       "    .dataframe tbody tr th:only-of-type {\n",
       "        vertical-align: middle;\n",
       "    }\n",
       "\n",
       "    .dataframe tbody tr th {\n",
       "        vertical-align: top;\n",
       "    }\n",
       "\n",
       "    .dataframe thead th {\n",
       "        text-align: right;\n",
       "    }\n",
       "</style>\n",
       "<table border=\"1\" class=\"dataframe\">\n",
       "  <thead>\n",
       "    <tr style=\"text-align: right;\">\n",
       "      <th></th>\n",
       "      <th>distributor</th>\n",
       "      <th>dis_sum</th>\n",
       "    </tr>\n",
       "  </thead>\n",
       "  <tbody>\n",
       "    <tr>\n",
       "      <th>0</th>\n",
       "      <td>BoXoo엔터테인먼트</td>\n",
       "      <td>93432</td>\n",
       "    </tr>\n",
       "    <tr>\n",
       "      <th>1</th>\n",
       "      <td>CJ</td>\n",
       "      <td>135411811</td>\n",
       "    </tr>\n",
       "    <tr>\n",
       "      <th>2</th>\n",
       "      <td>JK필름</td>\n",
       "      <td>688639</td>\n",
       "    </tr>\n",
       "    <tr>\n",
       "      <th>3</th>\n",
       "      <td>KBS미디어</td>\n",
       "      <td>7956</td>\n",
       "    </tr>\n",
       "    <tr>\n",
       "      <th>4</th>\n",
       "      <td>KT</td>\n",
       "      <td>807835</td>\n",
       "    </tr>\n",
       "    <tr>\n",
       "      <th>...</th>\n",
       "      <td>...</td>\n",
       "      <td>...</td>\n",
       "    </tr>\n",
       "    <tr>\n",
       "      <th>140</th>\n",
       "      <td>하준사</td>\n",
       "      <td>600</td>\n",
       "    </tr>\n",
       "    <tr>\n",
       "      <th>141</th>\n",
       "      <td>한국YWCA연합회</td>\n",
       "      <td>71</td>\n",
       "    </tr>\n",
       "    <tr>\n",
       "      <th>142</th>\n",
       "      <td>홀리가든</td>\n",
       "      <td>6886</td>\n",
       "    </tr>\n",
       "    <tr>\n",
       "      <th>143</th>\n",
       "      <td>화앤담이엔티</td>\n",
       "      <td>344393</td>\n",
       "    </tr>\n",
       "    <tr>\n",
       "      <th>144</th>\n",
       "      <td>휘엔터테인먼트</td>\n",
       "      <td>228</td>\n",
       "    </tr>\n",
       "  </tbody>\n",
       "</table>\n",
       "<p>145 rows × 2 columns</p>\n",
       "</div>"
      ],
      "text/plain": [
       "     distributor    dis_sum\n",
       "0    BoXoo엔터테인먼트      93432\n",
       "1             CJ  135411811\n",
       "2           JK필름     688639\n",
       "3         KBS미디어       7956\n",
       "4             KT     807835\n",
       "..           ...        ...\n",
       "140          하준사        600\n",
       "141    한국YWCA연합회         71\n",
       "142         홀리가든       6886\n",
       "143       화앤담이엔티     344393\n",
       "144      휘엔터테인먼트        228\n",
       "\n",
       "[145 rows x 2 columns]"
      ]
     },
     "execution_count": 118,
     "metadata": {},
     "output_type": "execute_result"
    }
   ],
   "source": [
    "dis_sum = train.groupby('distributor').box_off_num.sum().reset_index(name = 'dis_sum')\n",
    "dis_sum"
   ]
  },
  {
   "cell_type": "markdown",
   "id": "5835fa00",
   "metadata": {},
   "source": [
    "### 배급사 MERGE"
   ]
  },
  {
   "cell_type": "code",
   "execution_count": 119,
   "id": "e448715c",
   "metadata": {},
   "outputs": [],
   "source": [
    "#중위값 merge\n",
    "train = pd.merge(train, dis_medi_rank, how = 'left')\n",
    "test = pd.merge(test, dis_medi_rank, how = 'left')\n",
    "#평균값 merge\n",
    "train = pd.merge(train, dis_mean_rank, how = 'left')\n",
    "test = pd.merge(test, dis_mean_rank, how = 'left')\n",
    "#합 merge\n",
    "train = pd.merge(train, dis_sum, how = 'left')\n",
    "test = pd.merge(test, dis_sum, how = 'left')"
   ]
  },
  {
   "cell_type": "markdown",
   "id": "ef0bfc77",
   "metadata": {},
   "source": [
    "# 2. 장르 전처리"
   ]
  },
  {
   "cell_type": "markdown",
   "id": "35db93f2",
   "metadata": {},
   "source": [
    "### 장르 평균값 순위 확인"
   ]
  },
  {
   "cell_type": "code",
   "execution_count": 7,
   "id": "94e3f93c",
   "metadata": {},
   "outputs": [
    {
     "data": {
      "text/plain": [
       "genre\n",
       "뮤지컬       6.627000e+03\n",
       "다큐멘터리     1.099477e+04\n",
       "애니메이션     5.214429e+04\n",
       "서스펜스      8.261100e+04\n",
       "멜로/로맨스    4.259680e+05\n",
       "미스터리      5.275482e+05\n",
       "공포        5.908325e+05\n",
       "드라마       6.423515e+05\n",
       "코미디       1.164402e+06\n",
       "SF        1.788346e+06\n",
       "액션        2.203974e+06\n",
       "느와르       2.263695e+06\n",
       "Name: box_off_num, dtype: float64"
      ]
     },
     "execution_count": 7,
     "metadata": {},
     "output_type": "execute_result"
    }
   ],
   "source": [
    "train.groupby('genre').box_off_num.mean().sort_values()"
   ]
  },
  {
   "cell_type": "markdown",
   "id": "7ebb808f",
   "metadata": {},
   "source": [
    "### 장르 중위값 순위 확인"
   ]
  },
  {
   "cell_type": "code",
   "execution_count": 8,
   "id": "17072180",
   "metadata": {
    "scrolled": false
   },
   "outputs": [
    {
     "data": {
      "text/plain": [
       "genre\n",
       "다큐멘터리        2972.0\n",
       "미스터리         3199.0\n",
       "멜로/로맨스       3653.0\n",
       "뮤지컬          4778.0\n",
       "드라마          7173.0\n",
       "SF           9323.0\n",
       "애니메이션       22525.0\n",
       "서스펜스        82611.0\n",
       "공포         179810.0\n",
       "코미디        210526.5\n",
       "액션        1147846.5\n",
       "느와르       1646142.0\n",
       "Name: box_off_num, dtype: float64"
      ]
     },
     "execution_count": 8,
     "metadata": {},
     "output_type": "execute_result"
    }
   ],
   "source": [
    "train.groupby('genre').box_off_num.median().sort_values()"
   ]
  },
  {
   "cell_type": "markdown",
   "id": "9e655db7",
   "metadata": {},
   "source": [
    "### 장르 평균값 순위 맵핑"
   ]
  },
  {
   "cell_type": "code",
   "execution_count": 120,
   "id": "7c934fdd",
   "metadata": {},
   "outputs": [],
   "source": [
    "train['gr_mean_rank'] = train.genre.map({'뮤지컬' : 1, '다큐멘터리' : 2, '서스펜스' : 3, '애니메이션' : 4, '멜로/로맨스' : 5,\n",
    "                                      '미스터리' : 6, '공포' : 7, '드라마' : 8, '코미디' : 9, 'SF' : 10, '액션' : 11, '느와르' : 12})\n",
    "test['gr_mean_rank'] = test.genre.map({'뮤지컬' : 1, '다큐멘터리' : 2, '서스펜스' : 3, '애니메이션' : 4, '멜로/로맨스' : 5,\n",
    "                                      '미스터리' : 6, '공포' : 7, '드라마' : 8, '코미디' : 9, 'SF' : 10, '액션' : 11, '느와르' : 12})"
   ]
  },
  {
   "cell_type": "markdown",
   "id": "bc627171",
   "metadata": {},
   "source": [
    "### 장르 중위값 순위 맵핑"
   ]
  },
  {
   "cell_type": "code",
   "execution_count": 121,
   "id": "d5ac5201",
   "metadata": {},
   "outputs": [],
   "source": [
    "train['gr_medi_rank'] = train.genre.map({'다큐멘터리' : 1, '미스터리' : 2, '멜로/로맨스' : 3, '뮤지컬' : 4, '드라마' : 5,\n",
    "                                      'SF' : 6, '애니메이션' : 7, '서스펜스' : 8, '공포' : 9, '코미디' : 10, '액션' : 11, '느와르' : 12})\n",
    "test['gr_medi_rank'] = test.genre.map({'뮤지컬' : 1, '미스터리' : 2, '멜로/로맨스' : 3, '뮤지컬' : 4, '드라마' : 5,\n",
    "                                      'SF' : 6, '애니메이션' : 7, '서스펜스' : 8, '공포' : 9, '코미디' : 10, '액션' : 11, '느와르' : 12})"
   ]
  },
  {
   "cell_type": "markdown",
   "id": "85889a62",
   "metadata": {},
   "source": [
    "# 3. 개봉월 전처리"
   ]
  },
  {
   "cell_type": "code",
   "execution_count": 122,
   "id": "10851c79",
   "metadata": {},
   "outputs": [],
   "source": [
    "month = train.release_time.apply(get_month)\n",
    "train['month'] = month\n",
    "month = test.release_time.apply(get_month)\n",
    "test['month'] = month"
   ]
  },
  {
   "cell_type": "markdown",
   "id": "ab6c1163",
   "metadata": {},
   "source": [
    "### 개봉월 중위값 순위 확인"
   ]
  },
  {
   "cell_type": "code",
   "execution_count": 12,
   "id": "8934dc3b",
   "metadata": {
    "scrolled": false
   },
   "outputs": [
    {
     "data": {
      "text/plain": [
       "month\n",
       "03      4449.0\n",
       "04      6226.0\n",
       "12      7173.0\n",
       "07      7845.0\n",
       "05      8071.5\n",
       "02     10203.0\n",
       "11     14780.0\n",
       "09     14931.0\n",
       "08     16248.0\n",
       "06     18202.0\n",
       "10     45112.0\n",
       "01    283449.0\n",
       "Name: box_off_num, dtype: float64"
      ]
     },
     "execution_count": 12,
     "metadata": {},
     "output_type": "execute_result"
    }
   ],
   "source": [
    "train.groupby('month').box_off_num.median().sort_values()"
   ]
  },
  {
   "cell_type": "markdown",
   "id": "4edfaee5",
   "metadata": {},
   "source": [
    "### 개봉월 평균값 순위 확인"
   ]
  },
  {
   "cell_type": "code",
   "execution_count": 13,
   "id": "9aa87499",
   "metadata": {
    "scrolled": false
   },
   "outputs": [
    {
     "data": {
      "text/plain": [
       "month\n",
       "04    2.627894e+05\n",
       "03    2.792561e+05\n",
       "10    3.859042e+05\n",
       "11    4.436762e+05\n",
       "06    5.283140e+05\n",
       "05    5.646376e+05\n",
       "02    6.630252e+05\n",
       "09    7.489896e+05\n",
       "08    1.029162e+06\n",
       "07    1.091120e+06\n",
       "12    1.279500e+06\n",
       "01    1.365931e+06\n",
       "Name: box_off_num, dtype: float64"
      ]
     },
     "execution_count": 13,
     "metadata": {},
     "output_type": "execute_result"
    }
   ],
   "source": [
    "train.groupby('month').box_off_num.mean().sort_values()"
   ]
  },
  {
   "cell_type": "markdown",
   "id": "075837ba",
   "metadata": {},
   "source": [
    "### 개봉월 관객수 합 변수 생성"
   ]
  },
  {
   "cell_type": "code",
   "execution_count": 123,
   "id": "fe450e8f",
   "metadata": {},
   "outputs": [
    {
     "data": {
      "text/html": [
       "<div>\n",
       "<style scoped>\n",
       "    .dataframe tbody tr th:only-of-type {\n",
       "        vertical-align: middle;\n",
       "    }\n",
       "\n",
       "    .dataframe tbody tr th {\n",
       "        vertical-align: top;\n",
       "    }\n",
       "\n",
       "    .dataframe thead th {\n",
       "        text-align: right;\n",
       "    }\n",
       "</style>\n",
       "<table border=\"1\" class=\"dataframe\">\n",
       "  <thead>\n",
       "    <tr style=\"text-align: right;\">\n",
       "      <th></th>\n",
       "      <th>month</th>\n",
       "      <th>month_sum</th>\n",
       "    </tr>\n",
       "  </thead>\n",
       "  <tbody>\n",
       "    <tr>\n",
       "      <th>0</th>\n",
       "      <td>01</td>\n",
       "      <td>53271292</td>\n",
       "    </tr>\n",
       "    <tr>\n",
       "      <th>1</th>\n",
       "      <td>02</td>\n",
       "      <td>20553781</td>\n",
       "    </tr>\n",
       "    <tr>\n",
       "      <th>2</th>\n",
       "      <td>03</td>\n",
       "      <td>14242062</td>\n",
       "    </tr>\n",
       "    <tr>\n",
       "      <th>3</th>\n",
       "      <td>04</td>\n",
       "      <td>11825522</td>\n",
       "    </tr>\n",
       "    <tr>\n",
       "      <th>4</th>\n",
       "      <td>05</td>\n",
       "      <td>30490428</td>\n",
       "    </tr>\n",
       "    <tr>\n",
       "      <th>5</th>\n",
       "      <td>06</td>\n",
       "      <td>14792791</td>\n",
       "    </tr>\n",
       "    <tr>\n",
       "      <th>6</th>\n",
       "      <td>07</td>\n",
       "      <td>52373767</td>\n",
       "    </tr>\n",
       "    <tr>\n",
       "      <th>7</th>\n",
       "      <td>08</td>\n",
       "      <td>56603892</td>\n",
       "    </tr>\n",
       "    <tr>\n",
       "      <th>8</th>\n",
       "      <td>09</td>\n",
       "      <td>43441391</td>\n",
       "    </tr>\n",
       "    <tr>\n",
       "      <th>9</th>\n",
       "      <td>10</td>\n",
       "      <td>23154249</td>\n",
       "    </tr>\n",
       "    <tr>\n",
       "      <th>10</th>\n",
       "      <td>11</td>\n",
       "      <td>30613655</td>\n",
       "    </tr>\n",
       "    <tr>\n",
       "      <th>11</th>\n",
       "      <td>12</td>\n",
       "      <td>60136482</td>\n",
       "    </tr>\n",
       "  </tbody>\n",
       "</table>\n",
       "</div>"
      ],
      "text/plain": [
       "   month  month_sum\n",
       "0     01   53271292\n",
       "1     02   20553781\n",
       "2     03   14242062\n",
       "3     04   11825522\n",
       "4     05   30490428\n",
       "5     06   14792791\n",
       "6     07   52373767\n",
       "7     08   56603892\n",
       "8     09   43441391\n",
       "9     10   23154249\n",
       "10    11   30613655\n",
       "11    12   60136482"
      ]
     },
     "execution_count": 123,
     "metadata": {},
     "output_type": "execute_result"
    }
   ],
   "source": [
    "month_sum = train.groupby('month').box_off_num.sum().reset_index(name = 'month_sum')\n",
    "month_sum"
   ]
  },
  {
   "cell_type": "markdown",
   "id": "3d2a4028",
   "metadata": {},
   "source": [
    "### 개봉월 MERGE"
   ]
  },
  {
   "cell_type": "code",
   "execution_count": 124,
   "id": "c5c94c0d",
   "metadata": {},
   "outputs": [],
   "source": [
    "#합 merge\n",
    "train = pd.merge(train, month_sum, how = 'left')\n",
    "test = pd.merge(test, month_sum, how = 'left')"
   ]
  },
  {
   "cell_type": "markdown",
   "id": "e8564618",
   "metadata": {},
   "source": [
    "### 개봉월 평균값 순위 맵핑"
   ]
  },
  {
   "cell_type": "code",
   "execution_count": 125,
   "id": "e259174e",
   "metadata": {},
   "outputs": [],
   "source": [
    "train['month_mean_rank'] = train.month.map({'04' : 1, '03' : 2, '10' : 3, '11' : 4, '06' : 5,\n",
    "                                      '05' : 6, '02' : 7, '09' : 8, '08' : 9, '07' : 10, '12' : 11, '01' : 12})\n",
    "test['month_mean_rank'] = test.month.map({'04' : 1, '03' : 2, '10' : 3, '11' : 4, '06' : 5,\n",
    "                                      '05' : 6, '02' : 7, '09' : 8, '08' : 9, '07' : 10, '12' : 11, '01' : 12})"
   ]
  },
  {
   "cell_type": "markdown",
   "id": "b57800c1",
   "metadata": {},
   "source": [
    "### 개봉월 중위값 순위 맵핑"
   ]
  },
  {
   "cell_type": "code",
   "execution_count": 126,
   "id": "2d256899",
   "metadata": {},
   "outputs": [],
   "source": [
    "train['month_medi_rank'] = train.month.map({'03' : 1, '04' : 2, '12' : 3, '07' : 4, '05' : 5,\n",
    "                                      '02' : 6, '11' : 7, '09' : 8, '08' : 9, '06' : 10, '10' : 11, '01' : 12})\n",
    "test['month_medi_rank'] = test.month.map({'03' : 1, '04' : 2, '12' : 3, '07' : 4, '05' : 5,\n",
    "                                      '02' : 6, '11' : 7, '09' : 8, '08' : 9, '06' : 10, '10' : 11, '01' : 12})"
   ]
  },
  {
   "cell_type": "markdown",
   "id": "b9cb3399",
   "metadata": {},
   "source": [
    "# 4. 상영시간 그대로 사용\n",
    "# 5. 영상등급은 모델 설정시 원핫인코딩\n",
    "# 6. 스태프수 그대로 사용"
   ]
  },
  {
   "cell_type": "markdown",
   "id": "64ab02b4",
   "metadata": {},
   "source": [
    "# 7. 데이터 스케일링"
   ]
  },
  {
   "cell_type": "markdown",
   "id": "e665d9f3",
   "metadata": {},
   "source": [
    "### 배급사, 장르, 월, 스태프 수, 상영시간 스케일링"
   ]
  },
  {
   "cell_type": "code",
   "execution_count": 127,
   "id": "221b2f0a",
   "metadata": {},
   "outputs": [],
   "source": [
    "dis_medi_norm = train.groupby('distributor').box_off_num.median().reset_index(name = 'dis_medi_norm').sort_values(by = 'dis_medi_norm')\n",
    "dis_mean_norm = train.groupby('distributor').box_off_num.mean().reset_index(name = 'dis_mean_norm').sort_values(by = 'dis_mean_norm')\n",
    "gr_medi_norm = train.groupby('genre').box_off_num.median().reset_index(name = 'gr_medi_norm').sort_values(by = 'gr_medi_norm')\n",
    "gr_mean_norm = train.groupby('genre').box_off_num.mean().reset_index(name = 'gr_mean_norm').sort_values(by = 'gr_mean_norm')\n",
    "month_medi_norm = train.groupby('month').box_off_num.median().reset_index(name = 'month_medi_norm').sort_values(by = 'month_medi_norm')\n",
    "month_mean_norm = train.groupby('month').box_off_num.mean().reset_index(name = 'month_mean_norm').sort_values(by = 'month_mean_norm')"
   ]
  },
  {
   "cell_type": "code",
   "execution_count": 128,
   "id": "a0d1e35a",
   "metadata": {},
   "outputs": [],
   "source": [
    "train = pd.merge(train, dis_medi_norm, how = 'left')\n",
    "train = pd.merge(train, dis_mean_norm, how = 'left')\n",
    "train = pd.merge(train, gr_medi_norm, how = 'left')\n",
    "train = pd.merge(train, gr_mean_norm, how = 'left')\n",
    "train = pd.merge(train, month_medi_norm, how = 'left')\n",
    "train = pd.merge(train, month_mean_norm, how = 'left')\n",
    "\n",
    "test = pd.merge(test, dis_medi_norm, how = 'left')\n",
    "test = pd.merge(test, dis_mean_norm, how = 'left')\n",
    "test = pd.merge(test, gr_medi_norm, how = 'left')\n",
    "test = pd.merge(test, gr_mean_norm, how = 'left')\n",
    "test = pd.merge(test, month_medi_norm, how = 'left')\n",
    "test = pd.merge(test, month_mean_norm, how = 'left')"
   ]
  },
  {
   "cell_type": "code",
   "execution_count": 129,
   "id": "542f07d6",
   "metadata": {},
   "outputs": [],
   "source": [
    "from sklearn.preprocessing import minmax_scale, StandardScaler, MinMaxScaler\n",
    "\n",
    "train['dis_mean_norm'] = MinMaxScaler(feature_range=[0,1]).fit(train[['dis_mean_norm']]).transform(train[['dis_mean_norm']])\n",
    "train['dis_medi_norm'] = MinMaxScaler(feature_range=[0,1]).fit(train[['dis_medi_norm']]).transform(train[['dis_medi_norm']])\n",
    "train['gr_mean_norm'] = MinMaxScaler(feature_range=[0,1]).fit(train[['gr_mean_norm']]).transform(train[['gr_mean_norm']])\n",
    "train['gr_medi_norm'] = MinMaxScaler(feature_range=[0,1]).fit(train[['gr_medi_norm']]).transform(train[['gr_medi_norm']])\n",
    "train['month_mean_norm'] = MinMaxScaler(feature_range=[0,1]).fit(train[['month_mean_norm']]).transform(train[['month_mean_norm']])\n",
    "train['month_medi_norm'] = MinMaxScaler(feature_range=[0,1]).fit(train[['month_medi_norm']]).transform(train[['month_medi_norm']])\n",
    "train['num_staff_norm'] = MinMaxScaler(feature_range=[0,1]).fit(train[['num_staff']]).transform(train[['num_staff']])\n",
    "train['time_norm'] = MinMaxScaler(feature_range=[0,1]).fit(train[['time']]).transform(train[['time']])\n",
    "train['dis_sum_norm'] = MinMaxScaler(feature_range=[0,1]).fit(train[['dis_sum']]).transform(train[['dis_sum']])\n",
    "train['dir_prev_bfnum_norm'] = MinMaxScaler(feature_range=[0,1]).fit(train[['dir_prev_bfnum']]).transform(train[['dir_prev_bfnum']])\n",
    "train['month_sum_norm'] = MinMaxScaler(feature_range=[0,1]).fit(train[['month_sum']]).transform(train[['month_sum']])"
   ]
  },
  {
   "cell_type": "code",
   "execution_count": 130,
   "id": "3f1ccd5a",
   "metadata": {},
   "outputs": [],
   "source": [
    "test['dis_mean_norm'] = MinMaxScaler(feature_range=[0,1]).fit(test[['dis_mean_norm']]).transform(test[['dis_mean_norm']])\n",
    "test['dis_medi_norm'] = MinMaxScaler(feature_range=[0,1]).fit(test[['dis_medi_norm']]).transform(test[['dis_medi_norm']])\n",
    "test['gr_mean_norm'] = MinMaxScaler(feature_range=[0,1]).fit(test[['gr_mean_norm']]).transform(test[['gr_mean_norm']])\n",
    "test['gr_medi_norm'] = MinMaxScaler(feature_range=[0,1]).fit(test[['gr_medi_norm']]).transform(test[['gr_medi_norm']])\n",
    "test['month_mean_norm'] = MinMaxScaler(feature_range=[0,1]).fit(test[['month_mean_norm']]).transform(test[['month_mean_norm']])\n",
    "test['month_medi_norm'] = MinMaxScaler(feature_range=[0,1]).fit(test[['month_medi_norm']]).transform(test[['month_medi_norm']])\n",
    "test['num_staff_norm'] = MinMaxScaler(feature_range=[0,1]).fit(test[['num_staff']]).transform(test[['num_staff']])\n",
    "test['time_norm'] = MinMaxScaler(feature_range=[0,1]).fit(test[['time']]).transform(test[['time']])\n",
    "test['dis_sum_norm'] = MinMaxScaler(feature_range=[0,1]).fit(test[['dis_sum']]).transform(test[['dis_sum']])\n",
    "test['dir_prev_bfnum_norm'] = MinMaxScaler(feature_range=[0,1]).fit(test[['dir_prev_bfnum']]).transform(test[['dir_prev_bfnum']])\n",
    "test['month_sum_norm'] = MinMaxScaler(feature_range=[0,1]).fit(test[['month_sum']]).transform(test[['month_sum']])"
   ]
  },
  {
   "cell_type": "markdown",
   "id": "986b1f24",
   "metadata": {},
   "source": [
    "# 데이터 확인"
   ]
  },
  {
   "cell_type": "code",
   "execution_count": 131,
   "id": "fa693b62",
   "metadata": {},
   "outputs": [],
   "source": [
    "test = test.fillna(0)\n",
    "train = train.fillna(0)"
   ]
  },
  {
   "cell_type": "code",
   "execution_count": 132,
   "id": "8d404b39",
   "metadata": {},
   "outputs": [
    {
     "data": {
      "text/html": [
       "<div>\n",
       "<style scoped>\n",
       "    .dataframe tbody tr th:only-of-type {\n",
       "        vertical-align: middle;\n",
       "    }\n",
       "\n",
       "    .dataframe tbody tr th {\n",
       "        vertical-align: top;\n",
       "    }\n",
       "\n",
       "    .dataframe thead th {\n",
       "        text-align: right;\n",
       "    }\n",
       "</style>\n",
       "<table border=\"1\" class=\"dataframe\">\n",
       "  <thead>\n",
       "    <tr style=\"text-align: right;\">\n",
       "      <th></th>\n",
       "      <th>time</th>\n",
       "      <th>dir_prev_bfnum</th>\n",
       "      <th>dir_prev_num</th>\n",
       "      <th>num_staff</th>\n",
       "      <th>num_actor</th>\n",
       "      <th>box_off_num</th>\n",
       "      <th>dis_medi_rank</th>\n",
       "      <th>dis_mean_rank</th>\n",
       "      <th>dis_sum</th>\n",
       "      <th>gr_mean_rank</th>\n",
       "      <th>...</th>\n",
       "      <th>dis_mean_norm</th>\n",
       "      <th>gr_medi_norm</th>\n",
       "      <th>gr_mean_norm</th>\n",
       "      <th>month_medi_norm</th>\n",
       "      <th>month_mean_norm</th>\n",
       "      <th>num_staff_norm</th>\n",
       "      <th>time_norm</th>\n",
       "      <th>dis_sum_norm</th>\n",
       "      <th>dir_prev_bfnum_norm</th>\n",
       "      <th>month_sum_norm</th>\n",
       "    </tr>\n",
       "  </thead>\n",
       "  <tbody>\n",
       "    <tr>\n",
       "      <th>count</th>\n",
       "      <td>584.000000</td>\n",
       "      <td>5.840000e+02</td>\n",
       "      <td>584.000000</td>\n",
       "      <td>584.000000</td>\n",
       "      <td>584.000000</td>\n",
       "      <td>5.840000e+02</td>\n",
       "      <td>584.000000</td>\n",
       "      <td>584.000000</td>\n",
       "      <td>5.840000e+02</td>\n",
       "      <td>584.000000</td>\n",
       "      <td>...</td>\n",
       "      <td>584.000000</td>\n",
       "      <td>584.000000</td>\n",
       "      <td>584.000000</td>\n",
       "      <td>584.000000</td>\n",
       "      <td>584.000000</td>\n",
       "      <td>584.000000</td>\n",
       "      <td>584.000000</td>\n",
       "      <td>584.000000</td>\n",
       "      <td>584.000000</td>\n",
       "      <td>584.000000</td>\n",
       "    </tr>\n",
       "    <tr>\n",
       "      <th>mean</th>\n",
       "      <td>100.619863</td>\n",
       "      <td>4.351574e+05</td>\n",
       "      <td>0.883562</td>\n",
       "      <td>151.857877</td>\n",
       "      <td>3.681507</td>\n",
       "      <td>7.046221e+05</td>\n",
       "      <td>92.011986</td>\n",
       "      <td>100.710616</td>\n",
       "      <td>2.977835e+07</td>\n",
       "      <td>6.804795</td>\n",
       "      <td>...</td>\n",
       "      <td>0.211410</td>\n",
       "      <td>0.099810</td>\n",
       "      <td>0.309249</td>\n",
       "      <td>0.102941</td>\n",
       "      <td>0.400522</td>\n",
       "      <td>0.174750</td>\n",
       "      <td>0.411999</td>\n",
       "      <td>0.219910</td>\n",
       "      <td>0.049440</td>\n",
       "      <td>0.480589</td>\n",
       "    </tr>\n",
       "    <tr>\n",
       "      <th>std</th>\n",
       "      <td>17.648153</td>\n",
       "      <td>1.073686e+06</td>\n",
       "      <td>1.187472</td>\n",
       "      <td>165.717149</td>\n",
       "      <td>2.453254</td>\n",
       "      <td>1.839302e+06</td>\n",
       "      <td>43.303408</td>\n",
       "      <td>39.384286</td>\n",
       "      <td>4.714601e+07</td>\n",
       "      <td>2.808266</td>\n",
       "      <td>...</td>\n",
       "      <td>0.295735</td>\n",
       "      <td>0.248729</td>\n",
       "      <td>0.269864</td>\n",
       "      <td>0.243581</td>\n",
       "      <td>0.328432</td>\n",
       "      <td>0.190699</td>\n",
       "      <td>0.130727</td>\n",
       "      <td>0.348168</td>\n",
       "      <td>0.121987</td>\n",
       "      <td>0.344862</td>\n",
       "    </tr>\n",
       "    <tr>\n",
       "      <th>min</th>\n",
       "      <td>45.000000</td>\n",
       "      <td>0.000000e+00</td>\n",
       "      <td>0.000000</td>\n",
       "      <td>0.000000</td>\n",
       "      <td>0.000000</td>\n",
       "      <td>1.000000e+00</td>\n",
       "      <td>1.000000</td>\n",
       "      <td>1.000000</td>\n",
       "      <td>2.000000e+00</td>\n",
       "      <td>1.000000</td>\n",
       "      <td>...</td>\n",
       "      <td>0.000000</td>\n",
       "      <td>0.000000</td>\n",
       "      <td>0.000000</td>\n",
       "      <td>0.000000</td>\n",
       "      <td>0.000000</td>\n",
       "      <td>0.000000</td>\n",
       "      <td>0.000000</td>\n",
       "      <td>0.000000</td>\n",
       "      <td>0.000000</td>\n",
       "      <td>0.000000</td>\n",
       "    </tr>\n",
       "    <tr>\n",
       "      <th>25%</th>\n",
       "      <td>89.000000</td>\n",
       "      <td>0.000000e+00</td>\n",
       "      <td>0.000000</td>\n",
       "      <td>17.000000</td>\n",
       "      <td>2.000000</td>\n",
       "      <td>1.284500e+03</td>\n",
       "      <td>52.000000</td>\n",
       "      <td>75.000000</td>\n",
       "      <td>3.529300e+04</td>\n",
       "      <td>5.000000</td>\n",
       "      <td>...</td>\n",
       "      <td>0.001563</td>\n",
       "      <td>0.000487</td>\n",
       "      <td>0.188241</td>\n",
       "      <td>0.012172</td>\n",
       "      <td>0.111604</td>\n",
       "      <td>0.019563</td>\n",
       "      <td>0.325926</td>\n",
       "      <td>0.000261</td>\n",
       "      <td>0.000000</td>\n",
       "      <td>0.180668</td>\n",
       "    </tr>\n",
       "    <tr>\n",
       "      <th>50%</th>\n",
       "      <td>100.000000</td>\n",
       "      <td>0.000000e+00</td>\n",
       "      <td>0.000000</td>\n",
       "      <td>85.500000</td>\n",
       "      <td>3.000000</td>\n",
       "      <td>1.215500e+04</td>\n",
       "      <td>96.000000</td>\n",
       "      <td>99.000000</td>\n",
       "      <td>2.769910e+05</td>\n",
       "      <td>8.000000</td>\n",
       "      <td>...</td>\n",
       "      <td>0.004742</td>\n",
       "      <td>0.002557</td>\n",
       "      <td>0.281659</td>\n",
       "      <td>0.037029</td>\n",
       "      <td>0.273626</td>\n",
       "      <td>0.098389</td>\n",
       "      <td>0.407407</td>\n",
       "      <td>0.002046</td>\n",
       "      <td>0.000000</td>\n",
       "      <td>0.388900</td>\n",
       "    </tr>\n",
       "    <tr>\n",
       "      <th>75%</th>\n",
       "      <td>113.250000</td>\n",
       "      <td>3.649332e+05</td>\n",
       "      <td>2.000000</td>\n",
       "      <td>265.000000</td>\n",
       "      <td>4.000000</td>\n",
       "      <td>4.798868e+05</td>\n",
       "      <td>133.000000</td>\n",
       "      <td>140.000000</td>\n",
       "      <td>6.218096e+07</td>\n",
       "      <td>8.000000</td>\n",
       "      <td>...</td>\n",
       "      <td>0.365812</td>\n",
       "      <td>0.107620</td>\n",
       "      <td>0.281659</td>\n",
       "      <td>0.060380</td>\n",
       "      <td>0.694718</td>\n",
       "      <td>0.304948</td>\n",
       "      <td>0.505556</td>\n",
       "      <td>0.459199</td>\n",
       "      <td>0.041462</td>\n",
       "      <td>0.839318</td>\n",
       "    </tr>\n",
       "    <tr>\n",
       "      <th>max</th>\n",
       "      <td>180.000000</td>\n",
       "      <td>8.801639e+06</td>\n",
       "      <td>5.000000</td>\n",
       "      <td>869.000000</td>\n",
       "      <td>25.000000</td>\n",
       "      <td>1.426277e+07</td>\n",
       "      <td>145.000000</td>\n",
       "      <td>145.000000</td>\n",
       "      <td>1.354118e+08</td>\n",
       "      <td>12.000000</td>\n",
       "      <td>...</td>\n",
       "      <td>1.000000</td>\n",
       "      <td>1.000000</td>\n",
       "      <td>1.000000</td>\n",
       "      <td>1.000000</td>\n",
       "      <td>1.000000</td>\n",
       "      <td>1.000000</td>\n",
       "      <td>1.000000</td>\n",
       "      <td>1.000000</td>\n",
       "      <td>1.000000</td>\n",
       "      <td>1.000000</td>\n",
       "    </tr>\n",
       "  </tbody>\n",
       "</table>\n",
       "<p>8 rows × 25 columns</p>\n",
       "</div>"
      ],
      "text/plain": [
       "             time  dir_prev_bfnum  dir_prev_num   num_staff   num_actor  \\\n",
       "count  584.000000    5.840000e+02    584.000000  584.000000  584.000000   \n",
       "mean   100.619863    4.351574e+05      0.883562  151.857877    3.681507   \n",
       "std     17.648153    1.073686e+06      1.187472  165.717149    2.453254   \n",
       "min     45.000000    0.000000e+00      0.000000    0.000000    0.000000   \n",
       "25%     89.000000    0.000000e+00      0.000000   17.000000    2.000000   \n",
       "50%    100.000000    0.000000e+00      0.000000   85.500000    3.000000   \n",
       "75%    113.250000    3.649332e+05      2.000000  265.000000    4.000000   \n",
       "max    180.000000    8.801639e+06      5.000000  869.000000   25.000000   \n",
       "\n",
       "        box_off_num  dis_medi_rank  dis_mean_rank       dis_sum  gr_mean_rank  \\\n",
       "count  5.840000e+02     584.000000     584.000000  5.840000e+02    584.000000   \n",
       "mean   7.046221e+05      92.011986     100.710616  2.977835e+07      6.804795   \n",
       "std    1.839302e+06      43.303408      39.384286  4.714601e+07      2.808266   \n",
       "min    1.000000e+00       1.000000       1.000000  2.000000e+00      1.000000   \n",
       "25%    1.284500e+03      52.000000      75.000000  3.529300e+04      5.000000   \n",
       "50%    1.215500e+04      96.000000      99.000000  2.769910e+05      8.000000   \n",
       "75%    4.798868e+05     133.000000     140.000000  6.218096e+07      8.000000   \n",
       "max    1.426277e+07     145.000000     145.000000  1.354118e+08     12.000000   \n",
       "\n",
       "       ...  dis_mean_norm  gr_medi_norm  gr_mean_norm  month_medi_norm  \\\n",
       "count  ...     584.000000    584.000000    584.000000       584.000000   \n",
       "mean   ...       0.211410      0.099810      0.309249         0.102941   \n",
       "std    ...       0.295735      0.248729      0.269864         0.243581   \n",
       "min    ...       0.000000      0.000000      0.000000         0.000000   \n",
       "25%    ...       0.001563      0.000487      0.188241         0.012172   \n",
       "50%    ...       0.004742      0.002557      0.281659         0.037029   \n",
       "75%    ...       0.365812      0.107620      0.281659         0.060380   \n",
       "max    ...       1.000000      1.000000      1.000000         1.000000   \n",
       "\n",
       "       month_mean_norm  num_staff_norm   time_norm  dis_sum_norm  \\\n",
       "count       584.000000      584.000000  584.000000    584.000000   \n",
       "mean          0.400522        0.174750    0.411999      0.219910   \n",
       "std           0.328432        0.190699    0.130727      0.348168   \n",
       "min           0.000000        0.000000    0.000000      0.000000   \n",
       "25%           0.111604        0.019563    0.325926      0.000261   \n",
       "50%           0.273626        0.098389    0.407407      0.002046   \n",
       "75%           0.694718        0.304948    0.505556      0.459199   \n",
       "max           1.000000        1.000000    1.000000      1.000000   \n",
       "\n",
       "       dir_prev_bfnum_norm  month_sum_norm  \n",
       "count           584.000000      584.000000  \n",
       "mean              0.049440        0.480589  \n",
       "std               0.121987        0.344862  \n",
       "min               0.000000        0.000000  \n",
       "25%               0.000000        0.180668  \n",
       "50%               0.000000        0.388900  \n",
       "75%               0.041462        0.839318  \n",
       "max               1.000000        1.000000  \n",
       "\n",
       "[8 rows x 25 columns]"
      ]
     },
     "execution_count": 132,
     "metadata": {},
     "output_type": "execute_result"
    }
   ],
   "source": [
    "train.describe()"
   ]
  },
  {
   "cell_type": "code",
   "execution_count": null,
   "id": "39f0f932",
   "metadata": {},
   "outputs": [],
   "source": []
  },
  {
   "cell_type": "code",
   "execution_count": null,
   "id": "9ce9e5fb",
   "metadata": {},
   "outputs": [],
   "source": []
  },
  {
   "cell_type": "code",
   "execution_count": null,
   "id": "8cb763ae",
   "metadata": {},
   "outputs": [],
   "source": []
  },
  {
   "cell_type": "code",
   "execution_count": null,
   "id": "688e1c8c",
   "metadata": {},
   "outputs": [],
   "source": []
  },
  {
   "cell_type": "code",
   "execution_count": null,
   "id": "47591d5d",
   "metadata": {},
   "outputs": [],
   "source": []
  },
  {
   "cell_type": "code",
   "execution_count": null,
   "id": "4d697cc4",
   "metadata": {},
   "outputs": [],
   "source": []
  },
  {
   "cell_type": "code",
   "execution_count": null,
   "id": "1f3bbb80",
   "metadata": {},
   "outputs": [],
   "source": []
  },
  {
   "cell_type": "markdown",
   "id": "32fe91c2",
   "metadata": {},
   "source": [
    "# 학습데이터 설정"
   ]
  },
  {
   "cell_type": "markdown",
   "id": "7334fb33",
   "metadata": {},
   "source": [
    "변수 정리 (12개 계획)\n",
    "\n",
    "배급사\n",
    "1. 중위값 랭크 'dis_medi_rank'\n",
    "2. 평균값 랭크 'dis_mean_rank'\n",
    "3. 중위값 스케일링 'dis_medi_norm'\n",
    "4. 평균값 스케일링 'dis_mean_norm'\n",
    "\n",
    "장르\n",
    "5. 중위값 랭크 'gr_medi_rank'\n",
    "6. 평균값 랭크 'gr_mean_rank'\n",
    "7. 중위값 스케일링 'gr_medi_norm'\n",
    "8. 평균값 스케일링 'gr_mean_norm'\n",
    "\n",
    "\n",
    "개봉월\n",
    "9. 중위값 랭크 'month_medi_rank'\n",
    "10. 평균값 랭크 'month_mean_rank'\n",
    "11. 중위값 스케일링 'month_medi_norm'\n",
    "12. 평균값 스케일링 'month_mean_norm'\n",
    "\n",
    "\n",
    "상영시간\n",
    "13. 전처리 없이 'time'\n",
    "14. 스케일링 'time_norm'\n",
    "\n",
    "스태프 수\n",
    "15. 전처리 없이 'num_staff'\n",
    "16. 스케일링 'num_staff_norm'\n",
    "\n",
    "상영등급\n",
    "17. 원핫인코딩 'screening_rat'\n",
    "- 학습데이터 = pd.get_dummies(columns = ['screening_rat'], data = 학습데이터)\n",
    "\n",
    "=============================\n",
    "\n",
    "\n",
    "감독 이전 관객수\n",
    "18. 기본값 'dir_prev_bfnum'\n",
    "\n",
    "감독 이전 영화수\n",
    "19. 기본값 'dir_prev_num'"
   ]
  },
  {
   "cell_type": "code",
   "execution_count": 207,
   "id": "053e7830",
   "metadata": {},
   "outputs": [],
   "source": [
    "#####학습 변수#####\n",
    "X = train[['dis_sum','dis_sum_norm','gr_mean_norm','gr_mean_rank','month_mean_norm','dir_prev_num','dir_prev_bfnum','time','num_staff','screening_rat']]\n",
    "#상영등급 원핫 인코딩 사용\n",
    "X = pd.get_dummies(columns = ['screening_rat'], data = X)\n",
    "\n",
    "#####예측 값#####\n",
    "y = train['box_off_num']\n",
    "#로그를 씌우고 싶다면\n",
    "y = np.log1p(train.box_off_num)\n",
    "\n",
    "\n",
    "target = test[['dis_sum','dis_sum_norm','gr_mean_norm','gr_mean_rank','month_mean_norm','dir_prev_num','dir_prev_bfnum','time','num_staff','screening_rat']]\n",
    "#상영등급 원핫 인코딩 사용\n",
    "target = pd.get_dummies(columns = ['screening_rat'], data = target)"
   ]
  },
  {
   "cell_type": "markdown",
   "id": "e27d2d11",
   "metadata": {},
   "source": [
    "# 히트맵 참고하세요"
   ]
  },
  {
   "cell_type": "code",
   "execution_count": 168,
   "id": "698283c7",
   "metadata": {
    "scrolled": false
   },
   "outputs": [
    {
     "data": {
      "image/png": "[encoded data removed]",
      "text/plain": [
       "<Figure size 1440x1152 with 2 Axes>"
      ]
     },
     "metadata": {
      "needs_background": "light"
     },
     "output_type": "display_data"
    }
   ],
   "source": [
    "def draw_corrmat(df):\n",
    "  y_corrmat = df.corr()\n",
    "  f, ax = plt.subplots(figsize=(20,16))\n",
    "  sns.heatmap(y_corrmat, vmax=.8, annot=True, fmt='.1f', square=True);\n",
    "  \n",
    "draw_corrmat(X)"
   ]
  },
  {
   "cell_type": "markdown",
   "id": "93cff778",
   "metadata": {},
   "source": [
    "# 교차 검증 10 Fold"
   ]
  },
  {
   "cell_type": "code",
   "execution_count": 139,
   "id": "4352a23d",
   "metadata": {},
   "outputs": [],
   "source": [
    "from sklearn.model_selection import KFold\n",
    "\n",
    "kf = KFold(n_splits =  10, shuffle = True, random_state = 42)"
   ]
  },
  {
   "cell_type": "code",
   "execution_count": 140,
   "id": "7a59cb32",
   "metadata": {
    "scrolled": true
   },
   "outputs": [],
   "source": [
    "from sklearn.ensemble import GradientBoostingRegressor, RandomForestRegressor\n",
    "from xgboost import XGBRegressor\n",
    "from lightgbm import LGBMRegressor\n",
    "from catboost import CatBoostRegressor\n",
    "from sklearn.metrics import mean_squared_error\n",
    "from sklearn.model_selection import KFold\n",
    "from ngboost import NGBRegressor"
   ]
  },
  {
   "cell_type": "code",
   "execution_count": 144,
   "id": "68b11514",
   "metadata": {},
   "outputs": [
    {
     "data": {
      "text/plain": [
       "1122913.3795107626"
      ]
     },
     "execution_count": 144,
     "metadata": {},
     "output_type": "execute_result"
    }
   ],
   "source": [
    "gbm = GradientBoostingRegressor(random_state = 42)\n",
    "\n",
    "rmse_list = []\n",
    "gb_pred = np.zeros((test.shape[0]))\n",
    "for tr_idx, val_idx in kf.split(X, y) :\n",
    "    tr_x, tr_y = X.iloc[tr_idx], y.iloc[tr_idx]\n",
    "    val_x, val_y = X.iloc[val_idx], y.iloc[val_idx]\n",
    "    \n",
    "    gbm.fit(tr_x, tr_y)\n",
    "    \n",
    "    pred = np.expm1([0 if x < 0 else x for x in gbm.predict(val_x)])\n",
    "    sub_pred = np.expm1([0 if x < 0 else x for x in gbm.predict(target)])\n",
    "    rmse = np.sqrt(mean_squared_error(val_y, pred))\n",
    "    \n",
    "    rmse_list.append(rmse)\n",
    "    \n",
    "    gb_pred += (sub_pred / 10)\n",
    "    \n",
    "np.mean(rmse_list)"
   ]
  },
  {
   "cell_type": "code",
   "execution_count": 145,
   "id": "afe703b4",
   "metadata": {
    "scrolled": true
   },
   "outputs": [
    {
     "name": "stdout",
     "output_type": "stream",
     "text": [
      "[iter 0] loss=2.6121 val_loss=0.0000 scale=1.0000 norm=2.9398\n",
      "[iter 100] loss=2.0139 val_loss=0.0000 scale=2.0000 norm=2.8401\n",
      "[iter 200] loss=1.5554 val_loss=0.0000 scale=2.0000 norm=2.1282\n",
      "[iter 300] loss=1.3701 val_loss=0.0000 scale=2.0000 norm=1.9961\n",
      "[iter 400] loss=1.2748 val_loss=0.0000 scale=1.0000 norm=0.9625\n",
      "[iter 0] loss=1.2771 val_loss=0.0000 scale=1.0000 norm=1.0002\n",
      "[iter 100] loss=1.2079 val_loss=0.0000 scale=1.0000 norm=0.9454\n",
      "[iter 200] loss=1.1758 val_loss=0.0000 scale=1.0000 norm=0.9269\n",
      "[iter 300] loss=1.1330 val_loss=0.0000 scale=1.0000 norm=0.9062\n",
      "[iter 400] loss=1.0965 val_loss=0.0000 scale=0.5000 norm=0.4454\n",
      "[iter 0] loss=1.2141 val_loss=0.0000 scale=1.0000 norm=0.9931\n",
      "[iter 100] loss=1.0823 val_loss=0.0000 scale=1.0000 norm=0.8762\n",
      "[iter 200] loss=1.0503 val_loss=0.0000 scale=2.0000 norm=1.7206\n",
      "[iter 300] loss=1.0138 val_loss=0.0000 scale=0.5000 norm=0.4211\n",
      "[iter 400] loss=0.9822 val_loss=0.0000 scale=1.0000 norm=0.8289\n",
      "[iter 0] loss=0.9921 val_loss=0.0000 scale=0.5000 norm=0.4261\n",
      "[iter 100] loss=0.9503 val_loss=0.0000 scale=0.2500 norm=0.2042\n",
      "[iter 200] loss=0.9256 val_loss=0.0000 scale=0.5000 norm=0.4002\n",
      "[iter 300] loss=0.9012 val_loss=0.0000 scale=0.5000 norm=0.3930\n",
      "[iter 400] loss=0.8770 val_loss=0.0000 scale=0.1250 norm=0.0968\n",
      "[iter 0] loss=0.8623 val_loss=0.0000 scale=0.5000 norm=0.3854\n",
      "[iter 100] loss=0.8377 val_loss=0.0000 scale=0.2500 norm=0.1900\n",
      "[iter 200] loss=0.8064 val_loss=0.0000 scale=0.2500 norm=0.1870\n",
      "[iter 300] loss=0.7881 val_loss=0.0000 scale=0.5000 norm=0.3708\n",
      "[iter 400] loss=0.7737 val_loss=0.0000 scale=0.2500 norm=0.1842\n",
      "[iter 0] loss=0.7748 val_loss=0.0000 scale=1.0000 norm=0.7410\n",
      "[iter 100] loss=0.7324 val_loss=0.0000 scale=1.0000 norm=0.7089\n",
      "[iter 200] loss=0.7119 val_loss=0.0000 scale=0.2500 norm=0.1747\n",
      "[iter 300] loss=0.6943 val_loss=0.0000 scale=0.1250 norm=0.0862\n",
      "[iter 400] loss=0.6835 val_loss=0.0000 scale=0.5000 norm=0.3421\n",
      "[iter 0] loss=0.7225 val_loss=0.0000 scale=1.0000 norm=0.7288\n",
      "[iter 100] loss=0.6755 val_loss=0.0000 scale=0.5000 norm=0.3480\n",
      "[iter 200] loss=0.6579 val_loss=0.0000 scale=0.5000 norm=0.3431\n",
      "[iter 300] loss=0.6510 val_loss=0.0000 scale=0.0078 norm=0.0053\n",
      "[iter 400] loss=0.6402 val_loss=0.0000 scale=0.5000 norm=0.3396\n",
      "[iter 0] loss=0.6527 val_loss=0.0000 scale=1.0000 norm=0.6935\n",
      "[iter 100] loss=0.6149 val_loss=0.0000 scale=0.2500 norm=0.1676\n",
      "[iter 200] loss=0.5987 val_loss=0.0000 scale=0.5000 norm=0.3316\n",
      "[iter 300] loss=0.5857 val_loss=0.0000 scale=1.0000 norm=0.6577\n",
      "[iter 400] loss=0.5770 val_loss=0.0000 scale=1.0000 norm=0.6542\n",
      "[iter 0] loss=0.5788 val_loss=0.0000 scale=1.0000 norm=0.6604\n",
      "[iter 100] loss=0.5448 val_loss=0.0000 scale=1.0000 norm=0.6416\n",
      "[iter 200] loss=0.5282 val_loss=0.0000 scale=0.2500 norm=0.1581\n",
      "[iter 300] loss=0.5176 val_loss=0.0000 scale=0.1250 norm=0.0785\n",
      "[iter 400] loss=0.5075 val_loss=0.0000 scale=0.0156 norm=0.0098\n",
      "[iter 0] loss=0.5328 val_loss=0.0000 scale=0.5000 norm=0.3275\n",
      "[iter 100] loss=0.5025 val_loss=0.0000 scale=0.5000 norm=0.3153\n",
      "[iter 200] loss=0.4834 val_loss=0.0000 scale=0.5000 norm=0.3122\n",
      "[iter 300] loss=0.4718 val_loss=0.0000 scale=0.5000 norm=0.3099\n",
      "[iter 400] loss=0.4635 val_loss=0.0000 scale=0.2500 norm=0.1546\n"
     ]
    },
    {
     "data": {
      "text/plain": [
       "1177456.8236650869"
      ]
     },
     "execution_count": 145,
     "metadata": {},
     "output_type": "execute_result"
    }
   ],
   "source": [
    "ngb = NGBRegressor(random_state = 518)\n",
    "\n",
    "rmse_list = []\n",
    "ngb_pred = np.zeros((test.shape[0]))\n",
    "for tr_idx, val_idx in kf.split(X, y) :\n",
    "    tr_x, tr_y = X.iloc[tr_idx], y.iloc[tr_idx]\n",
    "    val_x, val_y = X.iloc[val_idx], y.iloc[val_idx]\n",
    "    \n",
    "    ngb.fit(tr_x, tr_y)\n",
    "    \n",
    "    pred = np.expm1([0 if x < 0 else x for x in ngb.predict(val_x)])\n",
    "    sub_pred = np.expm1([0 if x < 0 else x for x in ngb.predict(target)])\n",
    "    rmse = np.sqrt(mean_squared_error(val_y, pred))\n",
    "    \n",
    "    rmse_list.append(rmse)\n",
    "    \n",
    "    ngb_pred += (sub_pred / 10)\n",
    "    \n",
    "np.mean(rmse_list)"
   ]
  },
  {
   "cell_type": "markdown",
   "id": "6d5631ac",
   "metadata": {},
   "source": [
    "# lgbm 가장 예측력이 좋았음"
   ]
  },
  {
   "cell_type": "code",
   "execution_count": 208,
   "id": "7e2c544c",
   "metadata": {},
   "outputs": [
    {
     "data": {
      "text/plain": [
       "1178129.1862135793"
      ]
     },
     "execution_count": 208,
     "metadata": {},
     "output_type": "execute_result"
    }
   ],
   "source": [
    "lgbm = LGBMRegressor(random_state = 518)\n",
    "\n",
    "rmse_list = []\n",
    "lgb_pred = np.zeros((test.shape[0]))\n",
    "for tr_idx, val_idx in kf.split(X, y) :\n",
    "    tr_x, tr_y = X.iloc[tr_idx], y.iloc[tr_idx]\n",
    "    val_x, val_y = X.iloc[val_idx], y.iloc[val_idx]\n",
    "    \n",
    "    lgbm.fit(tr_x, tr_y)\n",
    "    \n",
    "    pred = np.expm1([0 if x < 0 else x for x in lgbm.predict(val_x)])\n",
    "    sub_pred = np.expm1([0 if x < 0 else x for x in lgbm.predict(target)])\n",
    "    rmse = np.sqrt(mean_squared_error(val_y, pred))\n",
    "    \n",
    "    rmse_list.append(rmse)\n",
    "    \n",
    "    lgb_pred += (sub_pred / 10)\n",
    "    \n",
    "np.mean(rmse_list)"
   ]
  },
  {
   "cell_type": "markdown",
   "id": "4b87eacf",
   "metadata": {},
   "source": [
    "# xgb 그 다음으로 좋았음"
   ]
  },
  {
   "cell_type": "code",
   "execution_count": 209,
   "id": "6db1b210",
   "metadata": {},
   "outputs": [
    {
     "data": {
      "text/plain": [
       "1246413.8356501558"
      ]
     },
     "execution_count": 209,
     "metadata": {},
     "output_type": "execute_result"
    }
   ],
   "source": [
    "xgb = XGBRegressor(random_state = 518)\n",
    "\n",
    "rmse_list = []\n",
    "xgb_pred = np.zeros((test.shape[0]))\n",
    "for tr_idx, val_idx in kf.split(X, y) :\n",
    "    tr_x, tr_y = X.iloc[tr_idx], y.iloc[tr_idx]\n",
    "    val_x, val_y = X.iloc[val_idx], y.iloc[val_idx]\n",
    "    \n",
    "    xgb.fit(tr_x, tr_y)\n",
    "    \n",
    "    pred = np.expm1([0 if x < 0 else x for x in xgb.predict(val_x)])\n",
    "    sub_pred = np.expm1([0 if x < 0 else x for x in xgb.predict(target)])\n",
    "    rmse = np.sqrt(mean_squared_error(val_y, pred))\n",
    "    \n",
    "    rmse_list.append(rmse)\n",
    "    \n",
    "    xgb_pred += (sub_pred / 10)\n",
    "    \n",
    "np.mean(rmse_list)"
   ]
  },
  {
   "cell_type": "code",
   "execution_count": 148,
   "id": "6850f065",
   "metadata": {},
   "outputs": [
    {
     "data": {
      "text/plain": [
       "1166766.1923800795"
      ]
     },
     "execution_count": 148,
     "metadata": {},
     "output_type": "execute_result"
    }
   ],
   "source": [
    "cat = CatBoostRegressor(random_state = 518, silent = True)\n",
    "\n",
    "rmse_list = []\n",
    "cat_pred = np.zeros((test.shape[0]))\n",
    "for tr_idx, val_idx in kf.split(X, y) :\n",
    "    tr_x, tr_y = X.iloc[tr_idx], y.iloc[tr_idx]\n",
    "    val_x, val_y = X.iloc[val_idx], y.iloc[val_idx]\n",
    "    \n",
    "    cat.fit(tr_x, tr_y)\n",
    "    \n",
    "    pred = np.expm1([0 if x < 0 else x for x in cat.predict(val_x)])\n",
    "    sub_pred = np.expm1([0 if x < 0 else x for x in cat.predict(target)])\n",
    "    rmse = np.sqrt(mean_squared_error(val_y, pred))\n",
    "    \n",
    "    rmse_list.append(rmse)\n",
    "    \n",
    "    cat_pred += (sub_pred / 10)\n",
    "    \n",
    "np.mean(rmse_list)"
   ]
  },
  {
   "cell_type": "code",
   "execution_count": 149,
   "id": "f8f2e4e9",
   "metadata": {},
   "outputs": [
    {
     "data": {
      "text/plain": [
       "952993.0520586999"
      ]
     },
     "execution_count": 149,
     "metadata": {},
     "output_type": "execute_result"
    }
   ],
   "source": [
    "rf = RandomForestRegressor(random_state = 518)\n",
    "\n",
    "rmse_list = []\n",
    "rf_pred = np.zeros((test.shape[0]))\n",
    "for tr_idx, val_idx in kf.split(X, y) :\n",
    "    tr_x, tr_y = X.iloc[tr_idx], y.iloc[tr_idx]\n",
    "    val_x, val_y = X.iloc[val_idx], y.iloc[val_idx]\n",
    "    \n",
    "    rf.fit(tr_x, tr_y)\n",
    "    \n",
    "    pred = np.expm1([0 if x < 0 else x for x in rf.predict(val_x)])\n",
    "    sub_pred = np.expm1([0 if x < 0 else x for x in rf.predict(target)])\n",
    "    rmse = np.sqrt(mean_squared_error(val_y, pred))\n",
    "    \n",
    "    rmse_list.append(rmse)\n",
    "    \n",
    "    rf_pred += (sub_pred / 10)\n",
    "    \n",
    "np.mean(rmse_list)"
   ]
  },
  {
   "cell_type": "code",
   "execution_count": 211,
   "id": "1cb95808",
   "metadata": {},
   "outputs": [
    {
     "data": {
      "text/html": [
       "<div>\n",
       "<style scoped>\n",
       "    .dataframe tbody tr th:only-of-type {\n",
       "        vertical-align: middle;\n",
       "    }\n",
       "\n",
       "    .dataframe tbody tr th {\n",
       "        vertical-align: top;\n",
       "    }\n",
       "\n",
       "    .dataframe thead th {\n",
       "        text-align: right;\n",
       "    }\n",
       "</style>\n",
       "<table border=\"1\" class=\"dataframe\">\n",
       "  <thead>\n",
       "    <tr style=\"text-align: right;\">\n",
       "      <th></th>\n",
       "      <th>title</th>\n",
       "      <th>box_off_num</th>\n",
       "    </tr>\n",
       "  </thead>\n",
       "  <tbody>\n",
       "    <tr>\n",
       "      <th>173</th>\n",
       "      <td>옹녀뎐</td>\n",
       "      <td>1.111537e+02</td>\n",
       "    </tr>\n",
       "    <tr>\n",
       "      <th>130</th>\n",
       "      <td>댄서김의 은밀한 교수법</td>\n",
       "      <td>1.168678e+02</td>\n",
       "    </tr>\n",
       "    <tr>\n",
       "      <th>46</th>\n",
       "      <td>은어</td>\n",
       "      <td>1.297110e+02</td>\n",
       "    </tr>\n",
       "    <tr>\n",
       "      <th>39</th>\n",
       "      <td>REC 알이씨</td>\n",
       "      <td>1.389978e+02</td>\n",
       "    </tr>\n",
       "    <tr>\n",
       "      <th>49</th>\n",
       "      <td>겨울냄새</td>\n",
       "      <td>1.407461e+02</td>\n",
       "    </tr>\n",
       "    <tr>\n",
       "      <th>...</th>\n",
       "      <td>...</td>\n",
       "      <td>...</td>\n",
       "    </tr>\n",
       "    <tr>\n",
       "      <th>229</th>\n",
       "      <td>베테랑</td>\n",
       "      <td>5.315760e+06</td>\n",
       "    </tr>\n",
       "    <tr>\n",
       "      <th>106</th>\n",
       "      <td>댄싱퀸</td>\n",
       "      <td>5.415464e+06</td>\n",
       "    </tr>\n",
       "    <tr>\n",
       "      <th>179</th>\n",
       "      <td>군도: 민란의 시대</td>\n",
       "      <td>5.514046e+06</td>\n",
       "    </tr>\n",
       "    <tr>\n",
       "      <th>142</th>\n",
       "      <td>박수건달</td>\n",
       "      <td>6.971277e+06</td>\n",
       "    </tr>\n",
       "    <tr>\n",
       "      <th>178</th>\n",
       "      <td>명량</td>\n",
       "      <td>1.052797e+07</td>\n",
       "    </tr>\n",
       "  </tbody>\n",
       "</table>\n",
       "<p>243 rows × 2 columns</p>\n",
       "</div>"
      ],
      "text/plain": [
       "            title   box_off_num\n",
       "173           옹녀뎐  1.111537e+02\n",
       "130  댄서김의 은밀한 교수법  1.168678e+02\n",
       "46             은어  1.297110e+02\n",
       "39        REC 알이씨  1.389978e+02\n",
       "49           겨울냄새  1.407461e+02\n",
       "..            ...           ...\n",
       "229           베테랑  5.315760e+06\n",
       "106           댄싱퀸  5.415464e+06\n",
       "179    군도: 민란의 시대  5.514046e+06\n",
       "142          박수건달  6.971277e+06\n",
       "178            명량  1.052797e+07\n",
       "\n",
       "[243 rows x 2 columns]"
      ]
     },
     "execution_count": 211,
     "metadata": {},
     "output_type": "execute_result"
    }
   ],
   "source": [
    "submission = pd.read_csv('submission.csv')\n",
    "#submission['box_off_num'] = (xgb_pred + lgb_pred) / 2\n",
    "#submission['box_off_num'] = xgb_pred\n",
    "submission['box_off_num'] = lgb_pred\n",
    "submission.sort_values(by = 'box_off_num')"
   ]
  },
  {
   "cell_type": "code",
   "execution_count": 212,
   "id": "76e1b2b5",
   "metadata": {},
   "outputs": [],
   "source": [
    "submission.to_csv('team2_movies_13.csv', index = False)"
   ]
  },
  {
   "cell_type": "code",
   "execution_count": 213,
   "id": "04c29278",
   "metadata": {},
   "outputs": [
    {
     "name": "stdout",
     "output_type": "stream",
     "text": [
      "{'isSubmitted': True, 'detail': 'Success'}\n"
     ]
    }
   ],
   "source": [
    "from dacon_submit_api import dacon_submit_api \n",
    "\n",
    "result = dacon_submit_api.post_submission_file(\n",
    "'team2_movies_13.csv', \n",
    "'61bbe3d0a7cc90dea2a88fe1a617507b8b597f9bdb5e200bb3a039208649ae7d', \n",
    "'235536', \n",
    "'수키', \n",
    "'RandomForestRegressor' )"
   ]
  },
  {
   "cell_type": "code",
   "execution_count": null,
   "id": "4114b291",
   "metadata": {},
   "outputs": [],
   "source": []
  },
  {
   "cell_type": "code",
   "execution_count": null,
   "id": "a0a696b9",
   "metadata": {},
   "outputs": [],
   "source": []
  }
 ],
 "metadata": {
  "kernelspec": {
   "display_name": "Python 3 (ipykernel)",
   "language": "python",
   "name": "python3"
  },
  "language_info": {
   "codemirror_mode": {
    "name": "ipython",
    "version": 3
   },
   "file_extension": ".py",
   "mimetype": "text/x-python",
   "name": "python",
   "nbconvert_exporter": "python",
   "pygments_lexer": "ipython3",
   "version": "3.9.7"
  }
 },
 "nbformat": 4,
 "nbformat_minor": 5
}
