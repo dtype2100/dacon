{
 "cells": [
  {
   "cell_type": "markdown",
   "id": "7238c15b",
   "metadata": {},
   "source": [
    "# 라이브러리"
   ]
  },
  {
   "cell_type": "code",
   "execution_count": 1,
   "id": "f6f4cae4",
   "metadata": {},
   "outputs": [],
   "source": [
    "import pandas as pd\n",
    "from sklearn.ensemble import RandomForestRegressor\n",
    "import numpy as np\n",
    "import seaborn as sns\n",
    "import matplotlib.pyplot as plt\n",
    "import re\n",
    "\n",
    "#개봉월 전처리\n",
    "def get_month(x):\n",
    "        return x[5:7]\n",
    "\n",
    "#배급사 전처리\n",
    "def get_dis(x) :\n",
    "    if 'CJ' in x or 'CGV' in x :\n",
    "        return 'CJ'\n",
    "    elif '쇼박스' in x :\n",
    "        return '쇼박스'\n",
    "    elif 'SK' in x :\n",
    "        return 'SK'\n",
    "    elif '리틀빅' in x :\n",
    "        return '리틀빅픽처스'\n",
    "    elif '스폰지' in x :\n",
    "        return '스폰지'\n",
    "    elif '싸이더스' in x :\n",
    "        return '싸이더스'\n",
    "    elif '에이원' in x :\n",
    "        return '에이원'\n",
    "    elif '마인스' in x :\n",
    "        return '마인스엔터'\n",
    "    elif '마운틴' in x :\n",
    "        return '마운틴픽처스'\n",
    "    elif '디씨드' in x :\n",
    "        return '디씨드'\n",
    "    elif '드림팩트' in x :\n",
    "        return '드림팩트'\n",
    "    elif '메가박스' in x :\n",
    "        return '메가박스'\n",
    "    elif '마운틴' in x :\n",
    "        return '마운틴'\n",
    "    elif 'NEW' in x :\n",
    "        return 'NEW'\n",
    "    elif '롯데' in x :\n",
    "        return '롯데엔터'\n",
    "    elif '프리비젼' in x :\n",
    "        return '프리비젼엔터'\n",
    "    elif '타임스' in x :\n",
    "        return '타임스토리'\n",
    "    elif '마달'in x or '마 달' in x:\n",
    "        return '시네마달'\n",
    "    else :\n",
    "        return x"
   ]
  },
  {
   "cell_type": "markdown",
   "id": "d2e06d81",
   "metadata": {},
   "source": [
    "# 불러오기"
   ]
  },
  {
   "cell_type": "code",
   "execution_count": 2,
   "id": "4ea0b802",
   "metadata": {},
   "outputs": [],
   "source": [
    "train = pd.read_csv('C:\\\\Users\\\\user\\\\workspace\\\\movie\\\\movies_train.csv')\n",
    "test = pd.read_csv('C:\\\\Users\\\\user\\\\workspace\\\\movie\\movies_test.csv')\n",
    "submission = pd.read_csv('C:\\\\Users\\\\user\\\\workspace\\\\movie\\\\submission.csv')"
   ]
  },
  {
   "cell_type": "markdown",
   "id": "b79f12b1",
   "metadata": {},
   "source": [
    "# 1. 배급사 전처리"
   ]
  },
  {
   "cell_type": "code",
   "execution_count": 3,
   "id": "ac8f3c78",
   "metadata": {},
   "outputs": [
    {
     "name": "stderr",
     "output_type": "stream",
     "text": [
      "C:\\Users\\user\\AppData\\Local\\Temp/ipykernel_4672/768766398.py:1: FutureWarning: The default value of regex will change from True to False in a future version.\n",
      "  train['distributor'] = train.distributor.str.replace(\"(주)\", '')\n",
      "C:\\Users\\user\\AppData\\Local\\Temp/ipykernel_4672/768766398.py:2: FutureWarning: The default value of regex will change from True to False in a future version.\n",
      "  test['distributor'] = test.distributor.str.replace(\"(주)\", '')\n"
     ]
    }
   ],
   "source": [
    "train['distributor'] = train.distributor.str.replace(\"(주)\", '')\n",
    "test['distributor'] = test.distributor.str.replace(\"(주)\", '')\n",
    "train['distributor'] = [re.sub(r'[^0-9a-zA-Z가-힣]', '', x) for x in train.distributor]\n",
    "test['distributor'] = [re.sub(r'[^0-9a-zA-Z가-힣]', '', x) for x in test.distributor]\n",
    "train['distributor'] = train.distributor.apply(get_dis)\n",
    "test['distributor'] = test.distributor.apply(get_dis)"
   ]
  },
  {
   "cell_type": "markdown",
   "id": "d591a943",
   "metadata": {},
   "source": [
    "### 배급사 중위값으로 랭크 생성"
   ]
  },
  {
   "cell_type": "code",
   "execution_count": 4,
   "id": "791aa89d",
   "metadata": {
    "scrolled": true
   },
   "outputs": [
    {
     "data": {
      "text/html": [
       "<div>\n",
       "<style scoped>\n",
       "    .dataframe tbody tr th:only-of-type {\n",
       "        vertical-align: middle;\n",
       "    }\n",
       "\n",
       "    .dataframe tbody tr th {\n",
       "        vertical-align: top;\n",
       "    }\n",
       "\n",
       "    .dataframe thead th {\n",
       "        text-align: right;\n",
       "    }\n",
       "</style>\n",
       "<table border=\"1\" class=\"dataframe\">\n",
       "  <thead>\n",
       "    <tr style=\"text-align: right;\">\n",
       "      <th></th>\n",
       "      <th>distributor</th>\n",
       "      <th>dis_medi_rank</th>\n",
       "    </tr>\n",
       "  </thead>\n",
       "  <tbody>\n",
       "    <tr>\n",
       "      <th>110</th>\n",
       "      <td>인피니티엔터테인먼트</td>\n",
       "      <td>1</td>\n",
       "    </tr>\n",
       "    <tr>\n",
       "      <th>15</th>\n",
       "      <td>고구마공작소</td>\n",
       "      <td>2</td>\n",
       "    </tr>\n",
       "    <tr>\n",
       "      <th>52</th>\n",
       "      <td>사람과사람들</td>\n",
       "      <td>3</td>\n",
       "    </tr>\n",
       "    <tr>\n",
       "      <th>97</th>\n",
       "      <td>위드시네마</td>\n",
       "      <td>4</td>\n",
       "    </tr>\n",
       "    <tr>\n",
       "      <th>19</th>\n",
       "      <td>나우콘텐츠</td>\n",
       "      <td>5</td>\n",
       "    </tr>\n",
       "    <tr>\n",
       "      <th>...</th>\n",
       "      <td>...</td>\n",
       "      <td>...</td>\n",
       "    </tr>\n",
       "    <tr>\n",
       "      <th>113</th>\n",
       "      <td>전망좋은영화사</td>\n",
       "      <td>143</td>\n",
       "    </tr>\n",
       "    <tr>\n",
       "      <th>105</th>\n",
       "      <td>이십세기폭스코리아</td>\n",
       "      <td>144</td>\n",
       "    </tr>\n",
       "    <tr>\n",
       "      <th>56</th>\n",
       "      <td>쇼박스</td>\n",
       "      <td>145</td>\n",
       "    </tr>\n",
       "    <tr>\n",
       "      <th>84</th>\n",
       "      <td>영구아트무비</td>\n",
       "      <td>146</td>\n",
       "    </tr>\n",
       "    <tr>\n",
       "      <th>75</th>\n",
       "      <td>아이필름코퍼레이션</td>\n",
       "      <td>147</td>\n",
       "    </tr>\n",
       "  </tbody>\n",
       "</table>\n",
       "<p>147 rows × 2 columns</p>\n",
       "</div>"
      ],
      "text/plain": [
       "    distributor  dis_medi_rank\n",
       "110  인피니티엔터테인먼트              1\n",
       "15       고구마공작소              2\n",
       "52       사람과사람들              3\n",
       "97        위드시네마              4\n",
       "19        나우콘텐츠              5\n",
       "..          ...            ...\n",
       "113     전망좋은영화사            143\n",
       "105   이십세기폭스코리아            144\n",
       "56          쇼박스            145\n",
       "84       영구아트무비            146\n",
       "75    아이필름코퍼레이션            147\n",
       "\n",
       "[147 rows x 2 columns]"
      ]
     },
     "execution_count": 4,
     "metadata": {},
     "output_type": "execute_result"
    }
   ],
   "source": [
    "dis_medi_rank = train.groupby('distributor').box_off_num.median().reset_index(name = 'dis_medi_rank').sort_values(by = 'dis_medi_rank')\n",
    "dis_medi_rank['dis_medi_rank'] = [i + 1 for i in range(dis_medi_rank.shape[0])]\n",
    "dis_medi_rank"
   ]
  },
  {
   "cell_type": "markdown",
   "id": "304c3ba7",
   "metadata": {},
   "source": [
    "### 배급사 평균값으로 랭크 생성"
   ]
  },
  {
   "cell_type": "code",
   "execution_count": 5,
   "id": "0f78ce04",
   "metadata": {
    "scrolled": true
   },
   "outputs": [
    {
     "data": {
      "text/html": [
       "<div>\n",
       "<style scoped>\n",
       "    .dataframe tbody tr th:only-of-type {\n",
       "        vertical-align: middle;\n",
       "    }\n",
       "\n",
       "    .dataframe tbody tr th {\n",
       "        vertical-align: top;\n",
       "    }\n",
       "\n",
       "    .dataframe thead th {\n",
       "        text-align: right;\n",
       "    }\n",
       "</style>\n",
       "<table border=\"1\" class=\"dataframe\">\n",
       "  <thead>\n",
       "    <tr style=\"text-align: right;\">\n",
       "      <th></th>\n",
       "      <th>distributor</th>\n",
       "      <th>dis_mean_rank</th>\n",
       "    </tr>\n",
       "  </thead>\n",
       "  <tbody>\n",
       "    <tr>\n",
       "      <th>110</th>\n",
       "      <td>인피니티엔터테인먼트</td>\n",
       "      <td>1</td>\n",
       "    </tr>\n",
       "    <tr>\n",
       "      <th>15</th>\n",
       "      <td>고구마공작소</td>\n",
       "      <td>2</td>\n",
       "    </tr>\n",
       "    <tr>\n",
       "      <th>52</th>\n",
       "      <td>사람과사람들</td>\n",
       "      <td>3</td>\n",
       "    </tr>\n",
       "    <tr>\n",
       "      <th>97</th>\n",
       "      <td>위드시네마</td>\n",
       "      <td>4</td>\n",
       "    </tr>\n",
       "    <tr>\n",
       "      <th>19</th>\n",
       "      <td>나우콘텐츠</td>\n",
       "      <td>5</td>\n",
       "    </tr>\n",
       "    <tr>\n",
       "      <th>...</th>\n",
       "      <td>...</td>\n",
       "      <td>...</td>\n",
       "    </tr>\n",
       "    <tr>\n",
       "      <th>7</th>\n",
       "      <td>NEW</td>\n",
       "      <td>143</td>\n",
       "    </tr>\n",
       "    <tr>\n",
       "      <th>1</th>\n",
       "      <td>CJ</td>\n",
       "      <td>144</td>\n",
       "    </tr>\n",
       "    <tr>\n",
       "      <th>84</th>\n",
       "      <td>영구아트무비</td>\n",
       "      <td>145</td>\n",
       "    </tr>\n",
       "    <tr>\n",
       "      <th>75</th>\n",
       "      <td>아이필름코퍼레이션</td>\n",
       "      <td>146</td>\n",
       "    </tr>\n",
       "    <tr>\n",
       "      <th>56</th>\n",
       "      <td>쇼박스</td>\n",
       "      <td>147</td>\n",
       "    </tr>\n",
       "  </tbody>\n",
       "</table>\n",
       "<p>147 rows × 2 columns</p>\n",
       "</div>"
      ],
      "text/plain": [
       "    distributor  dis_mean_rank\n",
       "110  인피니티엔터테인먼트              1\n",
       "15       고구마공작소              2\n",
       "52       사람과사람들              3\n",
       "97        위드시네마              4\n",
       "19        나우콘텐츠              5\n",
       "..          ...            ...\n",
       "7           NEW            143\n",
       "1            CJ            144\n",
       "84       영구아트무비            145\n",
       "75    아이필름코퍼레이션            146\n",
       "56          쇼박스            147\n",
       "\n",
       "[147 rows x 2 columns]"
      ]
     },
     "execution_count": 5,
     "metadata": {},
     "output_type": "execute_result"
    }
   ],
   "source": [
    "dis_mean_rank = train.groupby('distributor').box_off_num.mean().reset_index(name = 'dis_mean_rank').sort_values(by = 'dis_mean_rank')\n",
    "dis_mean_rank['dis_mean_rank'] = [i + 1 for i in range(dis_mean_rank.shape[0])]\n",
    "dis_mean_rank"
   ]
  },
  {
   "cell_type": "markdown",
   "id": "07b29340",
   "metadata": {},
   "source": [
    "### 배급사 관객수 합 변수 생성"
   ]
  },
  {
   "cell_type": "code",
   "execution_count": 6,
   "id": "47a459a8",
   "metadata": {},
   "outputs": [
    {
     "data": {
      "text/html": [
       "<div>\n",
       "<style scoped>\n",
       "    .dataframe tbody tr th:only-of-type {\n",
       "        vertical-align: middle;\n",
       "    }\n",
       "\n",
       "    .dataframe tbody tr th {\n",
       "        vertical-align: top;\n",
       "    }\n",
       "\n",
       "    .dataframe thead th {\n",
       "        text-align: right;\n",
       "    }\n",
       "</style>\n",
       "<table border=\"1\" class=\"dataframe\">\n",
       "  <thead>\n",
       "    <tr style=\"text-align: right;\">\n",
       "      <th></th>\n",
       "      <th>distributor</th>\n",
       "      <th>dis_sum</th>\n",
       "    </tr>\n",
       "  </thead>\n",
       "  <tbody>\n",
       "    <tr>\n",
       "      <th>0</th>\n",
       "      <td>BoXoo엔터테인먼트</td>\n",
       "      <td>93432</td>\n",
       "    </tr>\n",
       "    <tr>\n",
       "      <th>1</th>\n",
       "      <td>CJ</td>\n",
       "      <td>140522374</td>\n",
       "    </tr>\n",
       "    <tr>\n",
       "      <th>2</th>\n",
       "      <td>JK필름</td>\n",
       "      <td>688639</td>\n",
       "    </tr>\n",
       "    <tr>\n",
       "      <th>3</th>\n",
       "      <td>KBS미디어</td>\n",
       "      <td>7956</td>\n",
       "    </tr>\n",
       "    <tr>\n",
       "      <th>4</th>\n",
       "      <td>KT</td>\n",
       "      <td>807835</td>\n",
       "    </tr>\n",
       "    <tr>\n",
       "      <th>...</th>\n",
       "      <td>...</td>\n",
       "      <td>...</td>\n",
       "    </tr>\n",
       "    <tr>\n",
       "      <th>142</th>\n",
       "      <td>하준사</td>\n",
       "      <td>600</td>\n",
       "    </tr>\n",
       "    <tr>\n",
       "      <th>143</th>\n",
       "      <td>한국YWCA연합회</td>\n",
       "      <td>71</td>\n",
       "    </tr>\n",
       "    <tr>\n",
       "      <th>144</th>\n",
       "      <td>홀리가든</td>\n",
       "      <td>6886</td>\n",
       "    </tr>\n",
       "    <tr>\n",
       "      <th>145</th>\n",
       "      <td>화앤담이엔티</td>\n",
       "      <td>344393</td>\n",
       "    </tr>\n",
       "    <tr>\n",
       "      <th>146</th>\n",
       "      <td>휘엔터테인먼트</td>\n",
       "      <td>228</td>\n",
       "    </tr>\n",
       "  </tbody>\n",
       "</table>\n",
       "<p>147 rows × 2 columns</p>\n",
       "</div>"
      ],
      "text/plain": [
       "     distributor    dis_sum\n",
       "0    BoXoo엔터테인먼트      93432\n",
       "1             CJ  140522374\n",
       "2           JK필름     688639\n",
       "3         KBS미디어       7956\n",
       "4             KT     807835\n",
       "..           ...        ...\n",
       "142          하준사        600\n",
       "143    한국YWCA연합회         71\n",
       "144         홀리가든       6886\n",
       "145       화앤담이엔티     344393\n",
       "146      휘엔터테인먼트        228\n",
       "\n",
       "[147 rows x 2 columns]"
      ]
     },
     "execution_count": 6,
     "metadata": {},
     "output_type": "execute_result"
    }
   ],
   "source": [
    "dis_sum = train.groupby('distributor').box_off_num.sum().reset_index(name = 'dis_sum')\n",
    "dis_sum"
   ]
  },
  {
   "cell_type": "markdown",
   "id": "5835fa00",
   "metadata": {},
   "source": [
    "### 배급사 MERGE"
   ]
  },
  {
   "cell_type": "code",
   "execution_count": 7,
   "id": "e448715c",
   "metadata": {},
   "outputs": [],
   "source": [
    "#중위값 merge\n",
    "train = pd.merge(train, dis_medi_rank, how = 'left')\n",
    "test = pd.merge(test, dis_medi_rank, how = 'left')\n",
    "#평균값 merge\n",
    "train = pd.merge(train, dis_mean_rank, how = 'left')\n",
    "test = pd.merge(test, dis_mean_rank, how = 'left')\n",
    "#합 merge\n",
    "train = pd.merge(train, dis_sum, how = 'left')\n",
    "test = pd.merge(test, dis_sum, how = 'left')"
   ]
  },
  {
   "cell_type": "markdown",
   "id": "ef0bfc77",
   "metadata": {},
   "source": [
    "# 2. 장르 전처리"
   ]
  },
  {
   "cell_type": "markdown",
   "id": "35db93f2",
   "metadata": {},
   "source": [
    "### 장르 평균값 순위 확인"
   ]
  },
  {
   "cell_type": "code",
   "execution_count": 8,
   "id": "94e3f93c",
   "metadata": {},
   "outputs": [
    {
     "data": {
      "text/plain": [
       "genre\n",
       "뮤지컬       6.627000e+03\n",
       "다큐멘터리     6.717226e+04\n",
       "서스펜스      8.261100e+04\n",
       "애니메이션     1.819267e+05\n",
       "멜로/로맨스    4.259680e+05\n",
       "미스터리      5.275482e+05\n",
       "공포        5.908325e+05\n",
       "드라마       6.256898e+05\n",
       "코미디       1.193914e+06\n",
       "SF        1.788346e+06\n",
       "액션        2.203974e+06\n",
       "느와르       2.263695e+06\n",
       "Name: box_off_num, dtype: float64"
      ]
     },
     "execution_count": 8,
     "metadata": {},
     "output_type": "execute_result"
    }
   ],
   "source": [
    "train.groupby('genre').box_off_num.mean().sort_values()"
   ]
  },
  {
   "cell_type": "markdown",
   "id": "7ebb808f",
   "metadata": {},
   "source": [
    "### 장르 중위값 순위 확인"
   ]
  },
  {
   "cell_type": "code",
   "execution_count": 9,
   "id": "17072180",
   "metadata": {
    "scrolled": false
   },
   "outputs": [
    {
     "data": {
      "text/plain": [
       "genre\n",
       "다큐멘터리        3044.0\n",
       "미스터리         3199.0\n",
       "멜로/로맨스       3653.0\n",
       "뮤지컬          4778.0\n",
       "드라마          7173.0\n",
       "SF           9323.0\n",
       "애니메이션       23802.0\n",
       "서스펜스        82611.0\n",
       "공포         179810.0\n",
       "코미디        210775.0\n",
       "액션        1147846.5\n",
       "느와르       1646142.0\n",
       "Name: box_off_num, dtype: float64"
      ]
     },
     "execution_count": 9,
     "metadata": {},
     "output_type": "execute_result"
    }
   ],
   "source": [
    "train.groupby('genre').box_off_num.median().sort_values()"
   ]
  },
  {
   "cell_type": "markdown",
   "id": "9e655db7",
   "metadata": {},
   "source": [
    "### 장르 평균값 순위 맵핑"
   ]
  },
  {
   "cell_type": "code",
   "execution_count": 10,
   "id": "7c934fdd",
   "metadata": {},
   "outputs": [],
   "source": [
    "train['gr_mean_rank'] = train.genre.map({'뮤지컬' : 1, '다큐멘터리' : 2, '서스펜스' : 3, '애니메이션' : 4, '멜로/로맨스' : 5,\n",
    "                                      '미스터리' : 6, '공포' : 7, '드라마' : 8, '코미디' : 9, 'SF' : 10, '액션' : 11, '느와르' : 12})\n",
    "test['gr_mean_rank'] = test.genre.map({'뮤지컬' : 1, '다큐멘터리' : 2, '서스펜스' : 3, '애니메이션' : 4, '멜로/로맨스' : 5,\n",
    "                                      '미스터리' : 6, '공포' : 7, '드라마' : 8, '코미디' : 9, 'SF' : 10, '액션' : 11, '느와르' : 12})"
   ]
  },
  {
   "cell_type": "markdown",
   "id": "bc627171",
   "metadata": {},
   "source": [
    "### 장르 중위값 순위 맵핑"
   ]
  },
  {
   "cell_type": "code",
   "execution_count": 11,
   "id": "d5ac5201",
   "metadata": {},
   "outputs": [],
   "source": [
    "train['gr_medi_rank'] = train.genre.map({'다큐멘터리' : 1, '미스터리' : 2, '멜로/로맨스' : 3, '뮤지컬' : 4, '드라마' : 5,\n",
    "                                      'SF' : 6, '애니메이션' : 7, '서스펜스' : 8, '공포' : 9, '코미디' : 10, '액션' : 11, '느와르' : 12})\n",
    "test['gr_medi_rank'] = test.genre.map({'뮤지컬' : 1, '미스터리' : 2, '멜로/로맨스' : 3, '뮤지컬' : 4, '드라마' : 5,\n",
    "                                      'SF' : 6, '애니메이션' : 7, '서스펜스' : 8, '공포' : 9, '코미디' : 10, '액션' : 11, '느와르' : 12})"
   ]
  },
  {
   "cell_type": "markdown",
   "id": "85889a62",
   "metadata": {},
   "source": [
    "# 3. 개봉월 전처리"
   ]
  },
  {
   "cell_type": "code",
   "execution_count": 12,
   "id": "10851c79",
   "metadata": {},
   "outputs": [],
   "source": [
    "month = train.release_time.apply(get_month)\n",
    "train['month'] = month\n",
    "month = test.release_time.apply(get_month)\n",
    "test['month'] = month"
   ]
  },
  {
   "cell_type": "markdown",
   "id": "ab6c1163",
   "metadata": {},
   "source": [
    "### 개봉월 중위값 순위 확인"
   ]
  },
  {
   "cell_type": "code",
   "execution_count": 13,
   "id": "8934dc3b",
   "metadata": {
    "scrolled": false
   },
   "outputs": [
    {
     "data": {
      "text/plain": [
       "month\n",
       "03      4110.5\n",
       "05      7448.0\n",
       "04      7956.0\n",
       "07      9301.0\n",
       "12      9323.0\n",
       "02     10203.0\n",
       "09     14931.0\n",
       "11     15813.0\n",
       "08     16248.0\n",
       "06     18343.0\n",
       "10     45112.0\n",
       "01    283449.0\n",
       "Name: box_off_num, dtype: float64"
      ]
     },
     "execution_count": 13,
     "metadata": {},
     "output_type": "execute_result"
    }
   ],
   "source": [
    "train.groupby('month').box_off_num.median().sort_values()"
   ]
  },
  {
   "cell_type": "markdown",
   "id": "4edfaee5",
   "metadata": {},
   "source": [
    "### 개봉월 평균값 순위 확인"
   ]
  },
  {
   "cell_type": "code",
   "execution_count": 14,
   "id": "9aa87499",
   "metadata": {
    "scrolled": false
   },
   "outputs": [
    {
     "data": {
      "text/plain": [
       "month\n",
       "04    2.581667e+05\n",
       "03    2.738874e+05\n",
       "10    3.859042e+05\n",
       "11    4.956539e+05\n",
       "06    5.122865e+05\n",
       "05    5.756852e+05\n",
       "02    6.630252e+05\n",
       "09    7.315286e+05\n",
       "08    1.029162e+06\n",
       "07    1.113807e+06\n",
       "12    1.288248e+06\n",
       "01    1.365931e+06\n",
       "Name: box_off_num, dtype: float64"
      ]
     },
     "execution_count": 14,
     "metadata": {},
     "output_type": "execute_result"
    }
   ],
   "source": [
    "train.groupby('month').box_off_num.mean().sort_values()"
   ]
  },
  {
   "cell_type": "markdown",
   "id": "075837ba",
   "metadata": {},
   "source": [
    "### 개봉월 관객수 합 변수 생성"
   ]
  },
  {
   "cell_type": "code",
   "execution_count": 15,
   "id": "fe450e8f",
   "metadata": {},
   "outputs": [
    {
     "data": {
      "text/html": [
       "<div>\n",
       "<style scoped>\n",
       "    .dataframe tbody tr th:only-of-type {\n",
       "        vertical-align: middle;\n",
       "    }\n",
       "\n",
       "    .dataframe tbody tr th {\n",
       "        vertical-align: top;\n",
       "    }\n",
       "\n",
       "    .dataframe thead th {\n",
       "        text-align: right;\n",
       "    }\n",
       "</style>\n",
       "<table border=\"1\" class=\"dataframe\">\n",
       "  <thead>\n",
       "    <tr style=\"text-align: right;\">\n",
       "      <th></th>\n",
       "      <th>month</th>\n",
       "      <th>month_sum</th>\n",
       "    </tr>\n",
       "  </thead>\n",
       "  <tbody>\n",
       "    <tr>\n",
       "      <th>0</th>\n",
       "      <td>01</td>\n",
       "      <td>53271292</td>\n",
       "    </tr>\n",
       "    <tr>\n",
       "      <th>1</th>\n",
       "      <td>02</td>\n",
       "      <td>20553781</td>\n",
       "    </tr>\n",
       "    <tr>\n",
       "      <th>2</th>\n",
       "      <td>03</td>\n",
       "      <td>14242143</td>\n",
       "    </tr>\n",
       "    <tr>\n",
       "      <th>3</th>\n",
       "      <td>04</td>\n",
       "      <td>12133835</td>\n",
       "    </tr>\n",
       "    <tr>\n",
       "      <th>4</th>\n",
       "      <td>05</td>\n",
       "      <td>32814059</td>\n",
       "    </tr>\n",
       "    <tr>\n",
       "      <th>5</th>\n",
       "      <td>06</td>\n",
       "      <td>14856308</td>\n",
       "    </tr>\n",
       "    <tr>\n",
       "      <th>6</th>\n",
       "      <td>07</td>\n",
       "      <td>54576555</td>\n",
       "    </tr>\n",
       "    <tr>\n",
       "      <th>7</th>\n",
       "      <td>08</td>\n",
       "      <td>56603892</td>\n",
       "    </tr>\n",
       "    <tr>\n",
       "      <th>8</th>\n",
       "      <td>09</td>\n",
       "      <td>43891718</td>\n",
       "    </tr>\n",
       "    <tr>\n",
       "      <th>9</th>\n",
       "      <td>10</td>\n",
       "      <td>23154249</td>\n",
       "    </tr>\n",
       "    <tr>\n",
       "      <th>10</th>\n",
       "      <td>11</td>\n",
       "      <td>35687080</td>\n",
       "    </tr>\n",
       "    <tr>\n",
       "      <th>11</th>\n",
       "      <td>12</td>\n",
       "      <td>63124139</td>\n",
       "    </tr>\n",
       "  </tbody>\n",
       "</table>\n",
       "</div>"
      ],
      "text/plain": [
       "   month  month_sum\n",
       "0     01   53271292\n",
       "1     02   20553781\n",
       "2     03   14242143\n",
       "3     04   12133835\n",
       "4     05   32814059\n",
       "5     06   14856308\n",
       "6     07   54576555\n",
       "7     08   56603892\n",
       "8     09   43891718\n",
       "9     10   23154249\n",
       "10    11   35687080\n",
       "11    12   63124139"
      ]
     },
     "execution_count": 15,
     "metadata": {},
     "output_type": "execute_result"
    }
   ],
   "source": [
    "month_sum = train.groupby('month').box_off_num.sum().reset_index(name = 'month_sum')\n",
    "month_sum"
   ]
  },
  {
   "cell_type": "markdown",
   "id": "3d2a4028",
   "metadata": {},
   "source": [
    "### 개봉월 MERGE"
   ]
  },
  {
   "cell_type": "code",
   "execution_count": 16,
   "id": "c5c94c0d",
   "metadata": {},
   "outputs": [],
   "source": [
    "#합 merge\n",
    "train = pd.merge(train, month_sum, how = 'left')\n",
    "test = pd.merge(test, month_sum, how = 'left')"
   ]
  },
  {
   "cell_type": "markdown",
   "id": "e8564618",
   "metadata": {},
   "source": [
    "### 개봉월 평균값 순위 맵핑"
   ]
  },
  {
   "cell_type": "code",
   "execution_count": 17,
   "id": "e259174e",
   "metadata": {},
   "outputs": [],
   "source": [
    "train['month_mean_rank'] = train.month.map({'04' : 1, '03' : 2, '10' : 3, '11' : 4, '06' : 5,\n",
    "                                      '05' : 6, '02' : 7, '09' : 8, '08' : 9, '07' : 10, '12' : 11, '01' : 12})\n",
    "test['month_mean_rank'] = test.month.map({'04' : 1, '03' : 2, '10' : 3, '11' : 4, '06' : 5,\n",
    "                                      '05' : 6, '02' : 7, '09' : 8, '08' : 9, '07' : 10, '12' : 11, '01' : 12})"
   ]
  },
  {
   "cell_type": "markdown",
   "id": "b57800c1",
   "metadata": {},
   "source": [
    "### 개봉월 중위값 순위 맵핑"
   ]
  },
  {
   "cell_type": "code",
   "execution_count": 18,
   "id": "2d256899",
   "metadata": {},
   "outputs": [],
   "source": [
    "train['month_medi_rank'] = train.month.map({'03' : 1, '04' : 2, '12' : 3, '07' : 4, '05' : 5,\n",
    "                                      '02' : 6, '11' : 7, '09' : 8, '08' : 9, '06' : 10, '10' : 11, '01' : 12})\n",
    "test['month_medi_rank'] = test.month.map({'03' : 1, '04' : 2, '12' : 3, '07' : 4, '05' : 5,\n",
    "                                      '02' : 6, '11' : 7, '09' : 8, '08' : 9, '06' : 10, '10' : 11, '01' : 12})"
   ]
  },
  {
   "cell_type": "markdown",
   "id": "b9cb3399",
   "metadata": {},
   "source": [
    "# 4. 상영시간 그대로 사용\n",
    "# 5. 영상등급은 모델 설정시 원핫인코딩\n",
    "# 6. 스태프수 그대로 사용"
   ]
  },
  {
   "cell_type": "markdown",
   "id": "64ab02b4",
   "metadata": {},
   "source": [
    "# 7. 데이터 스케일링"
   ]
  },
  {
   "cell_type": "markdown",
   "id": "e665d9f3",
   "metadata": {},
   "source": [
    "### 배급사, 장르, 월, 스태프 수, 상영시간 스케일링"
   ]
  },
  {
   "cell_type": "code",
   "execution_count": 19,
   "id": "221b2f0a",
   "metadata": {},
   "outputs": [],
   "source": [
    "dis_medi_norm = train.groupby('distributor').box_off_num.median().reset_index(name = 'dis_medi_norm').sort_values(by = 'dis_medi_norm')\n",
    "dis_mean_norm = train.groupby('distributor').box_off_num.mean().reset_index(name = 'dis_mean_norm').sort_values(by = 'dis_mean_norm')\n",
    "gr_medi_norm = train.groupby('genre').box_off_num.median().reset_index(name = 'gr_medi_norm').sort_values(by = 'gr_medi_norm')\n",
    "gr_mean_norm = train.groupby('genre').box_off_num.mean().reset_index(name = 'gr_mean_norm').sort_values(by = 'gr_mean_norm')\n",
    "month_medi_norm = train.groupby('month').box_off_num.median().reset_index(name = 'month_medi_norm').sort_values(by = 'month_medi_norm')\n",
    "month_mean_norm = train.groupby('month').box_off_num.mean().reset_index(name = 'month_mean_norm').sort_values(by = 'month_mean_norm')"
   ]
  },
  {
   "cell_type": "code",
   "execution_count": 20,
   "id": "a0d1e35a",
   "metadata": {},
   "outputs": [],
   "source": [
    "train = pd.merge(train, dis_medi_norm, how = 'left')\n",
    "train = pd.merge(train, dis_mean_norm, how = 'left')\n",
    "train = pd.merge(train, gr_medi_norm, how = 'left')\n",
    "train = pd.merge(train, gr_mean_norm, how = 'left')\n",
    "train = pd.merge(train, month_medi_norm, how = 'left')\n",
    "train = pd.merge(train, month_mean_norm, how = 'left')\n",
    "\n",
    "test = pd.merge(test, dis_medi_norm, how = 'left')\n",
    "test = pd.merge(test, dis_mean_norm, how = 'left')\n",
    "test = pd.merge(test, gr_medi_norm, how = 'left')\n",
    "test = pd.merge(test, gr_mean_norm, how = 'left')\n",
    "test = pd.merge(test, month_medi_norm, how = 'left')\n",
    "test = pd.merge(test, month_mean_norm, how = 'left')"
   ]
  },
  {
   "cell_type": "code",
   "execution_count": 21,
   "id": "542f07d6",
   "metadata": {},
   "outputs": [],
   "source": [
    "from sklearn.preprocessing import minmax_scale, StandardScaler, MinMaxScaler\n",
    "\n",
    "train['dis_mean_norm'] = MinMaxScaler(feature_range=[0,1]).fit(train[['dis_mean_norm']]).transform(train[['dis_mean_norm']])\n",
    "train['dis_medi_norm'] = MinMaxScaler(feature_range=[0,1]).fit(train[['dis_medi_norm']]).transform(train[['dis_medi_norm']])\n",
    "train['gr_mean_norm'] = MinMaxScaler(feature_range=[0,1]).fit(train[['gr_mean_norm']]).transform(train[['gr_mean_norm']])\n",
    "train['gr_medi_norm'] = MinMaxScaler(feature_range=[0,1]).fit(train[['gr_medi_norm']]).transform(train[['gr_medi_norm']])\n",
    "train['month_mean_norm'] = MinMaxScaler(feature_range=[0,1]).fit(train[['month_mean_norm']]).transform(train[['month_mean_norm']])\n",
    "train['month_medi_norm'] = MinMaxScaler(feature_range=[0,1]).fit(train[['month_medi_norm']]).transform(train[['month_medi_norm']])\n",
    "train['num_staff_norm'] = MinMaxScaler(feature_range=[0,1]).fit(train[['num_staff']]).transform(train[['num_staff']])\n",
    "train['time_norm'] = MinMaxScaler(feature_range=[0,1]).fit(train[['time']]).transform(train[['time']])\n",
    "train['dis_sum_norm'] = MinMaxScaler(feature_range=[0,1]).fit(train[['dis_sum']]).transform(train[['dis_sum']])\n",
    "train['dir_prev_bfnum_norm'] = MinMaxScaler(feature_range=[0,1]).fit(train[['dir_prev_bfnum']]).transform(train[['dir_prev_bfnum']])\n",
    "train['month_sum_norm'] = MinMaxScaler(feature_range=[0,1]).fit(train[['month_sum']]).transform(train[['month_sum']])"
   ]
  },
  {
   "cell_type": "code",
   "execution_count": 22,
   "id": "3f1ccd5a",
   "metadata": {},
   "outputs": [],
   "source": [
    "test['dis_mean_norm'] = MinMaxScaler(feature_range=[0,1]).fit(test[['dis_mean_norm']]).transform(test[['dis_mean_norm']])\n",
    "test['dis_medi_norm'] = MinMaxScaler(feature_range=[0,1]).fit(test[['dis_medi_norm']]).transform(test[['dis_medi_norm']])\n",
    "test['gr_mean_norm'] = MinMaxScaler(feature_range=[0,1]).fit(test[['gr_mean_norm']]).transform(test[['gr_mean_norm']])\n",
    "test['gr_medi_norm'] = MinMaxScaler(feature_range=[0,1]).fit(test[['gr_medi_norm']]).transform(test[['gr_medi_norm']])\n",
    "test['month_mean_norm'] = MinMaxScaler(feature_range=[0,1]).fit(test[['month_mean_norm']]).transform(test[['month_mean_norm']])\n",
    "test['month_medi_norm'] = MinMaxScaler(feature_range=[0,1]).fit(test[['month_medi_norm']]).transform(test[['month_medi_norm']])\n",
    "test['num_staff_norm'] = MinMaxScaler(feature_range=[0,1]).fit(test[['num_staff']]).transform(test[['num_staff']])\n",
    "test['time_norm'] = MinMaxScaler(feature_range=[0,1]).fit(test[['time']]).transform(test[['time']])\n",
    "test['dis_sum_norm'] = MinMaxScaler(feature_range=[0,1]).fit(test[['dis_sum']]).transform(test[['dis_sum']])\n",
    "test['dir_prev_bfnum_norm'] = MinMaxScaler(feature_range=[0,1]).fit(test[['dir_prev_bfnum']]).transform(test[['dir_prev_bfnum']])\n",
    "test['month_sum_norm'] = MinMaxScaler(feature_range=[0,1]).fit(test[['month_sum']]).transform(test[['month_sum']])"
   ]
  },
  {
   "cell_type": "markdown",
   "id": "986b1f24",
   "metadata": {},
   "source": [
    "# 데이터 확인"
   ]
  },
  {
   "cell_type": "code",
   "execution_count": 23,
   "id": "fa693b62",
   "metadata": {},
   "outputs": [],
   "source": [
    "test = test.fillna(0)\n",
    "train = train.fillna(0)"
   ]
  },
  {
   "cell_type": "code",
   "execution_count": 24,
   "id": "8d404b39",
   "metadata": {},
   "outputs": [
    {
     "data": {
      "text/html": [
       "<div>\n",
       "<style scoped>\n",
       "    .dataframe tbody tr th:only-of-type {\n",
       "        vertical-align: middle;\n",
       "    }\n",
       "\n",
       "    .dataframe tbody tr th {\n",
       "        vertical-align: top;\n",
       "    }\n",
       "\n",
       "    .dataframe thead th {\n",
       "        text-align: right;\n",
       "    }\n",
       "</style>\n",
       "<table border=\"1\" class=\"dataframe\">\n",
       "  <thead>\n",
       "    <tr style=\"text-align: right;\">\n",
       "      <th></th>\n",
       "      <th>time</th>\n",
       "      <th>dir_prev_bfnum</th>\n",
       "      <th>dir_prev_num</th>\n",
       "      <th>num_staff</th>\n",
       "      <th>num_actor</th>\n",
       "      <th>box_off_num</th>\n",
       "      <th>dis_medi_rank</th>\n",
       "      <th>dis_mean_rank</th>\n",
       "      <th>dis_sum</th>\n",
       "      <th>gr_mean_rank</th>\n",
       "      <th>...</th>\n",
       "      <th>dis_mean_norm</th>\n",
       "      <th>gr_medi_norm</th>\n",
       "      <th>gr_mean_norm</th>\n",
       "      <th>month_medi_norm</th>\n",
       "      <th>month_mean_norm</th>\n",
       "      <th>num_staff_norm</th>\n",
       "      <th>time_norm</th>\n",
       "      <th>dis_sum_norm</th>\n",
       "      <th>dir_prev_bfnum_norm</th>\n",
       "      <th>month_sum_norm</th>\n",
       "    </tr>\n",
       "  </thead>\n",
       "  <tbody>\n",
       "    <tr>\n",
       "      <th>count</th>\n",
       "      <td>600.000000</td>\n",
       "      <td>6.000000e+02</td>\n",
       "      <td>600.000000</td>\n",
       "      <td>600.000000</td>\n",
       "      <td>600.000000</td>\n",
       "      <td>6.000000e+02</td>\n",
       "      <td>600.000000</td>\n",
       "      <td>600.000000</td>\n",
       "      <td>6.000000e+02</td>\n",
       "      <td>600.000000</td>\n",
       "      <td>...</td>\n",
       "      <td>600.000000</td>\n",
       "      <td>600.000000</td>\n",
       "      <td>600.000000</td>\n",
       "      <td>600.000000</td>\n",
       "      <td>600.000000</td>\n",
       "      <td>600.000000</td>\n",
       "      <td>600.000000</td>\n",
       "      <td>600.000000</td>\n",
       "      <td>600.000000</td>\n",
       "      <td>600.000000</td>\n",
       "    </tr>\n",
       "    <tr>\n",
       "      <th>mean</th>\n",
       "      <td>100.863333</td>\n",
       "      <td>4.726993e+05</td>\n",
       "      <td>0.876667</td>\n",
       "      <td>151.118333</td>\n",
       "      <td>3.706667</td>\n",
       "      <td>7.081818e+05</td>\n",
       "      <td>93.520000</td>\n",
       "      <td>102.576667</td>\n",
       "      <td>3.098719e+07</td>\n",
       "      <td>6.790000</td>\n",
       "      <td>...</td>\n",
       "      <td>0.212478</td>\n",
       "      <td>0.097884</td>\n",
       "      <td>0.310826</td>\n",
       "      <td>0.101406</td>\n",
       "      <td>0.406237</td>\n",
       "      <td>0.173899</td>\n",
       "      <td>0.413802</td>\n",
       "      <td>0.220514</td>\n",
       "      <td>0.026835</td>\n",
       "      <td>0.474578</td>\n",
       "    </tr>\n",
       "    <tr>\n",
       "      <th>std</th>\n",
       "      <td>18.097528</td>\n",
       "      <td>1.309474e+06</td>\n",
       "      <td>1.183409</td>\n",
       "      <td>165.654671</td>\n",
       "      <td>2.446889</td>\n",
       "      <td>1.828006e+06</td>\n",
       "      <td>43.390138</td>\n",
       "      <td>39.472618</td>\n",
       "      <td>4.891525e+07</td>\n",
       "      <td>2.801603</td>\n",
       "      <td>...</td>\n",
       "      <td>0.293144</td>\n",
       "      <td>0.245787</td>\n",
       "      <td>0.263436</td>\n",
       "      <td>0.240284</td>\n",
       "      <td>0.325977</td>\n",
       "      <td>0.190627</td>\n",
       "      <td>0.134056</td>\n",
       "      <td>0.348096</td>\n",
       "      <td>0.074337</td>\n",
       "      <td>0.334105</td>\n",
       "    </tr>\n",
       "    <tr>\n",
       "      <th>min</th>\n",
       "      <td>45.000000</td>\n",
       "      <td>0.000000e+00</td>\n",
       "      <td>0.000000</td>\n",
       "      <td>0.000000</td>\n",
       "      <td>0.000000</td>\n",
       "      <td>1.000000e+00</td>\n",
       "      <td>1.000000</td>\n",
       "      <td>1.000000</td>\n",
       "      <td>2.000000e+00</td>\n",
       "      <td>1.000000</td>\n",
       "      <td>...</td>\n",
       "      <td>0.000000</td>\n",
       "      <td>0.000000</td>\n",
       "      <td>0.000000</td>\n",
       "      <td>0.000000</td>\n",
       "      <td>0.000000</td>\n",
       "      <td>0.000000</td>\n",
       "      <td>0.000000</td>\n",
       "      <td>0.000000</td>\n",
       "      <td>0.000000</td>\n",
       "      <td>0.000000</td>\n",
       "    </tr>\n",
       "    <tr>\n",
       "      <th>25%</th>\n",
       "      <td>89.000000</td>\n",
       "      <td>0.000000e+00</td>\n",
       "      <td>0.000000</td>\n",
       "      <td>17.000000</td>\n",
       "      <td>2.000000</td>\n",
       "      <td>1.297250e+03</td>\n",
       "      <td>53.750000</td>\n",
       "      <td>76.000000</td>\n",
       "      <td>3.529300e+04</td>\n",
       "      <td>5.000000</td>\n",
       "      <td>...</td>\n",
       "      <td>0.001563</td>\n",
       "      <td>0.000371</td>\n",
       "      <td>0.185790</td>\n",
       "      <td>0.013766</td>\n",
       "      <td>0.115311</td>\n",
       "      <td>0.019563</td>\n",
       "      <td>0.325926</td>\n",
       "      <td>0.000251</td>\n",
       "      <td>0.000000</td>\n",
       "      <td>0.165128</td>\n",
       "    </tr>\n",
       "    <tr>\n",
       "      <th>50%</th>\n",
       "      <td>100.000000</td>\n",
       "      <td>0.000000e+00</td>\n",
       "      <td>0.000000</td>\n",
       "      <td>82.500000</td>\n",
       "      <td>3.000000</td>\n",
       "      <td>1.259100e+04</td>\n",
       "      <td>99.000000</td>\n",
       "      <td>107.000000</td>\n",
       "      <td>3.037420e+05</td>\n",
       "      <td>8.000000</td>\n",
       "      <td>...</td>\n",
       "      <td>0.008638</td>\n",
       "      <td>0.002513</td>\n",
       "      <td>0.274277</td>\n",
       "      <td>0.038736</td>\n",
       "      <td>0.286630</td>\n",
       "      <td>0.094937</td>\n",
       "      <td>0.407407</td>\n",
       "      <td>0.002162</td>\n",
       "      <td>0.000000</td>\n",
       "      <td>0.461916</td>\n",
       "    </tr>\n",
       "    <tr>\n",
       "      <th>75%</th>\n",
       "      <td>114.000000</td>\n",
       "      <td>3.761416e+05</td>\n",
       "      <td>2.000000</td>\n",
       "      <td>264.000000</td>\n",
       "      <td>4.000000</td>\n",
       "      <td>4.798868e+05</td>\n",
       "      <td>134.250000</td>\n",
       "      <td>141.000000</td>\n",
       "      <td>6.438374e+07</td>\n",
       "      <td>8.000000</td>\n",
       "      <td>...</td>\n",
       "      <td>0.371487</td>\n",
       "      <td>0.063214</td>\n",
       "      <td>0.274277</td>\n",
       "      <td>0.043451</td>\n",
       "      <td>0.695992</td>\n",
       "      <td>0.303797</td>\n",
       "      <td>0.511111</td>\n",
       "      <td>0.458174</td>\n",
       "      <td>0.021353</td>\n",
       "      <td>0.832368</td>\n",
       "    </tr>\n",
       "    <tr>\n",
       "      <th>max</th>\n",
       "      <td>180.000000</td>\n",
       "      <td>1.761531e+07</td>\n",
       "      <td>5.000000</td>\n",
       "      <td>869.000000</td>\n",
       "      <td>25.000000</td>\n",
       "      <td>1.426277e+07</td>\n",
       "      <td>147.000000</td>\n",
       "      <td>147.000000</td>\n",
       "      <td>1.405224e+08</td>\n",
       "      <td>12.000000</td>\n",
       "      <td>...</td>\n",
       "      <td>1.000000</td>\n",
       "      <td>1.000000</td>\n",
       "      <td>1.000000</td>\n",
       "      <td>1.000000</td>\n",
       "      <td>1.000000</td>\n",
       "      <td>1.000000</td>\n",
       "      <td>1.000000</td>\n",
       "      <td>1.000000</td>\n",
       "      <td>1.000000</td>\n",
       "      <td>1.000000</td>\n",
       "    </tr>\n",
       "  </tbody>\n",
       "</table>\n",
       "<p>8 rows × 25 columns</p>\n",
       "</div>"
      ],
      "text/plain": [
       "             time  dir_prev_bfnum  dir_prev_num   num_staff   num_actor  \\\n",
       "count  600.000000    6.000000e+02    600.000000  600.000000  600.000000   \n",
       "mean   100.863333    4.726993e+05      0.876667  151.118333    3.706667   \n",
       "std     18.097528    1.309474e+06      1.183409  165.654671    2.446889   \n",
       "min     45.000000    0.000000e+00      0.000000    0.000000    0.000000   \n",
       "25%     89.000000    0.000000e+00      0.000000   17.000000    2.000000   \n",
       "50%    100.000000    0.000000e+00      0.000000   82.500000    3.000000   \n",
       "75%    114.000000    3.761416e+05      2.000000  264.000000    4.000000   \n",
       "max    180.000000    1.761531e+07      5.000000  869.000000   25.000000   \n",
       "\n",
       "        box_off_num  dis_medi_rank  dis_mean_rank       dis_sum  gr_mean_rank  \\\n",
       "count  6.000000e+02     600.000000     600.000000  6.000000e+02    600.000000   \n",
       "mean   7.081818e+05      93.520000     102.576667  3.098719e+07      6.790000   \n",
       "std    1.828006e+06      43.390138      39.472618  4.891525e+07      2.801603   \n",
       "min    1.000000e+00       1.000000       1.000000  2.000000e+00      1.000000   \n",
       "25%    1.297250e+03      53.750000      76.000000  3.529300e+04      5.000000   \n",
       "50%    1.259100e+04      99.000000     107.000000  3.037420e+05      8.000000   \n",
       "75%    4.798868e+05     134.250000     141.000000  6.438374e+07      8.000000   \n",
       "max    1.426277e+07     147.000000     147.000000  1.405224e+08     12.000000   \n",
       "\n",
       "       ...  dis_mean_norm  gr_medi_norm  gr_mean_norm  month_medi_norm  \\\n",
       "count  ...     600.000000    600.000000    600.000000       600.000000   \n",
       "mean   ...       0.212478      0.097884      0.310826         0.101406   \n",
       "std    ...       0.293144      0.245787      0.263436         0.240284   \n",
       "min    ...       0.000000      0.000000      0.000000         0.000000   \n",
       "25%    ...       0.001563      0.000371      0.185790         0.013766   \n",
       "50%    ...       0.008638      0.002513      0.274277         0.038736   \n",
       "75%    ...       0.371487      0.063214      0.274277         0.043451   \n",
       "max    ...       1.000000      1.000000      1.000000         1.000000   \n",
       "\n",
       "       month_mean_norm  num_staff_norm   time_norm  dis_sum_norm  \\\n",
       "count       600.000000      600.000000  600.000000    600.000000   \n",
       "mean          0.406237        0.173899    0.413802      0.220514   \n",
       "std           0.325977        0.190627    0.134056      0.348096   \n",
       "min           0.000000        0.000000    0.000000      0.000000   \n",
       "25%           0.115311        0.019563    0.325926      0.000251   \n",
       "50%           0.286630        0.094937    0.407407      0.002162   \n",
       "75%           0.695992        0.303797    0.511111      0.458174   \n",
       "max           1.000000        1.000000    1.000000      1.000000   \n",
       "\n",
       "       dir_prev_bfnum_norm  month_sum_norm  \n",
       "count           600.000000      600.000000  \n",
       "mean              0.026835        0.474578  \n",
       "std               0.074337        0.334105  \n",
       "min               0.000000        0.000000  \n",
       "25%               0.000000        0.165128  \n",
       "50%               0.000000        0.461916  \n",
       "75%               0.021353        0.832368  \n",
       "max               1.000000        1.000000  \n",
       "\n",
       "[8 rows x 25 columns]"
      ]
     },
     "execution_count": 24,
     "metadata": {},
     "output_type": "execute_result"
    }
   ],
   "source": [
    "train.describe()"
   ]
  },
  {
   "cell_type": "markdown",
   "id": "32fe91c2",
   "metadata": {},
   "source": [
    "# 학습데이터 설정"
   ]
  },
  {
   "cell_type": "markdown",
   "id": "7334fb33",
   "metadata": {},
   "source": [
    "변수 정리 (12개 계획)\n",
    "\n",
    "배급사\n",
    "1. 중위값 랭크 'dis_medi_rank'\n",
    "2. 평균값 랭크 'dis_mean_rank'\n",
    "3. 중위값 스케일링 'dis_medi_norm'\n",
    "4. 평균값 스케일링 'dis_mean_norm'\n",
    "\n",
    "장르\n",
    "5. 중위값 랭크 'gr_medi_rank'\n",
    "6. 평균값 랭크 'gr_mean_rank'\n",
    "7. 중위값 스케일링 'gr_medi_norm'\n",
    "8. 평균값 스케일링 'gr_mean_norm'\n",
    "\n",
    "\n",
    "개봉월\n",
    "9. 중위값 랭크 'month_medi_rank'\n",
    "10. 평균값 랭크 'month_mean_rank'\n",
    "11. 중위값 스케일링 'month_medi_norm'\n",
    "12. 평균값 스케일링 'month_mean_norm'\n",
    "\n",
    "\n",
    "상영시간\n",
    "13. 전처리 없이 'time'\n",
    "14. 스케일링 'time_norm'\n",
    "\n",
    "스태프 수\n",
    "15. 전처리 없이 'num_staff'\n",
    "16. 스케일링 'num_staff_norm'\n",
    "\n",
    "상영등급\n",
    "17. 원핫인코딩 'screening_rat'\n",
    "- 학습데이터 = pd.get_dummies(columns = ['screening_rat'], data = 학습데이터)\n",
    "\n",
    "=============================\n",
    "\n",
    "\n",
    "감독 이전 관객수\n",
    "18. 기본값 'dir_prev_bfnum'\n",
    "\n",
    "감독 이전 영화수\n",
    "19. 기본값 'dir_prev_num'"
   ]
  },
  {
   "cell_type": "code",
   "execution_count": 25,
   "id": "053e7830",
   "metadata": {},
   "outputs": [],
   "source": [
    "#####학습 변수#####\n",
    "X = train[['dis_sum','dis_sum_norm','gr_mean_norm','gr_mean_rank','month_mean_norm','dir_prev_num','dir_prev_bfnum','time','num_staff']]\n",
    "\n",
    "#####예측 값#####\n",
    "y = train['box_off_num']\n",
    "#로그를 씌우고 싶다면\n",
    "y = np.log1p(train.box_off_num)\n",
    "\n",
    "\n",
    "target = test[['dis_sum','dis_sum_norm','gr_mean_norm','gr_mean_rank','month_mean_norm','dir_prev_num','dir_prev_bfnum','time','num_staff']]"
   ]
  },
  {
   "cell_type": "markdown",
   "id": "93cff778",
   "metadata": {},
   "source": [
    "# 모델 설정"
   ]
  },
  {
   "cell_type": "code",
   "execution_count": 52,
   "id": "7a59cb32",
   "metadata": {
    "scrolled": true
   },
   "outputs": [],
   "source": [
    "from sklearn.ensemble import GradientBoostingRegressor, RandomForestRegressor\n",
    "from sklearn.model_selection import train_test_split\n",
    "from sklearn.preprocessing import PolynomialFeatures\n",
    "from sklearn.model_selection import GridSearchCV\n",
    "from sklearn.ensemble import AdaBoostRegressor\n",
    "from sklearn.metrics import mean_squared_error\n",
    "from sklearn.model_selection import KFold\n",
    "from sklearn.linear_model import Lasso\n",
    "from xgboost import XGBRegressor\n",
    "from math import sqrt\n",
    "from lightgbm import LGBMRegressor\n",
    "from ngboost import NGBRegressor\n",
    "from catboost import CatBoostRegressor"
   ]
  },
  {
   "cell_type": "code",
   "execution_count": 27,
   "id": "69cb1a10",
   "metadata": {},
   "outputs": [],
   "source": [
    "kf = KFold(n_splits =  5, shuffle = True, random_state = 42)"
   ]
  },
  {
   "cell_type": "code",
   "execution_count": 28,
   "id": "b94f1ce9",
   "metadata": {},
   "outputs": [],
   "source": [
    "X_train, X_test, y_train, y_test = train_test_split(X, y, test_size=0.2, random_state=121)"
   ]
  },
  {
   "cell_type": "code",
   "execution_count": 29,
   "id": "72a72721",
   "metadata": {},
   "outputs": [],
   "source": [
    "hyper_parameter = {\n",
    "    'alpha' : [0.01, 0.1, 1, 10],\n",
    "    'max_iter' : [100, 500, 1000, 1500, 2000]\n",
    "}"
   ]
  },
  {
   "cell_type": "code",
   "execution_count": 30,
   "id": "274e438e",
   "metadata": {},
   "outputs": [],
   "source": [
    "lasso_model = Lasso(alpha=0.001, max_iter=1000, normalize=True)"
   ]
  },
  {
   "cell_type": "code",
   "execution_count": 31,
   "id": "ddc57f41",
   "metadata": {},
   "outputs": [
    {
     "data": {
      "text/plain": [
       "GridSearchCV(cv=KFold(n_splits=5, random_state=42, shuffle=True),\n",
       "             estimator=Lasso(alpha=0.001, normalize=True),\n",
       "             param_grid={'alpha': [0.01, 0.1, 1, 10],\n",
       "                         'max_iter': [100, 500, 1000, 1500, 2000]})"
      ]
     },
     "execution_count": 31,
     "metadata": {},
     "output_type": "execute_result"
    }
   ],
   "source": [
    "hyper_parameter_tuner = GridSearchCV(lasso_model, hyper_parameter, cv=kf)\n",
    "hyper_parameter_tuner.fit(X, y)"
   ]
  },
  {
   "cell_type": "code",
   "execution_count": 32,
   "id": "e3646787",
   "metadata": {},
   "outputs": [
    {
     "data": {
      "text/plain": [
       "{'alpha': 0.01, 'max_iter': 100}"
      ]
     },
     "execution_count": 32,
     "metadata": {},
     "output_type": "execute_result"
    }
   ],
   "source": [
    "hyper_parameter_tuner.best_params_"
   ]
  },
  {
   "cell_type": "code",
   "execution_count": 33,
   "id": "a68bc90f",
   "metadata": {},
   "outputs": [],
   "source": [
    "xgb = XGBRegressor(random_state = 42, alpha=0.01, max_iter=100)\n",
    "gbr = GradientBoostingRegressor(random_state=42)\n",
    "rf = RandomForestRegressor(n_estimators=100, max_depth=4, random_state=42)\n",
    "ada = AdaBoostRegressor(n_estimators=100)\n",
    "lgb = LGBMRegressor(random_state=42)\n",
    "ngb = NGBRegressor(random_state=42)\n",
    "cat = CatBoostRegressor(random_state=42)"
   ]
  },
  {
   "cell_type": "code",
   "execution_count": 34,
   "id": "194156ce",
   "metadata": {},
   "outputs": [
    {
     "name": "stdout",
     "output_type": "stream",
     "text": [
      "[01:20:11] WARNING: C:/Users/Administrator/workspace/xgboost-win64_release_1.5.1/src/learner.cc:576: \n",
      "Parameters: { \"max_iter\" } might not be used.\n",
      "\n",
      "  This could be a false alarm, with some parameters getting used by language bindings but\n",
      "  then being mistakenly passed down to XGBoost core, or some parameter actually being used\n",
      "  but getting flagged wrongly here. Please open an issue if you find any such cases.\n",
      "\n",
      "\n"
     ]
    },
    {
     "data": {
      "text/plain": [
       "XGBRegressor(alpha=0.01, base_score=0.5, booster='gbtree', colsample_bylevel=1,\n",
       "             colsample_bynode=1, colsample_bytree=1, enable_categorical=False,\n",
       "             gamma=0, gpu_id=-1, importance_type=None,\n",
       "             interaction_constraints='', learning_rate=0.300000012,\n",
       "             max_delta_step=0, max_depth=6, max_iter=100, min_child_weight=1,\n",
       "             missing=nan, monotone_constraints='()', n_estimators=100, n_jobs=6,\n",
       "             num_parallel_tree=1, predictor='auto', random_state=42,\n",
       "             reg_alpha=0.00999999978, reg_lambda=1, scale_pos_weight=1,\n",
       "             subsample=1, tree_method='exact', validate_parameters=1,\n",
       "             verbosity=None)"
      ]
     },
     "execution_count": 34,
     "metadata": {},
     "output_type": "execute_result"
    }
   ],
   "source": [
    "xgb.fit(X_train, y_train)"
   ]
  },
  {
   "cell_type": "code",
   "execution_count": 35,
   "id": "3a026f58",
   "metadata": {},
   "outputs": [
    {
     "data": {
      "text/plain": [
       "GradientBoostingRegressor(random_state=42)"
      ]
     },
     "execution_count": 35,
     "metadata": {},
     "output_type": "execute_result"
    }
   ],
   "source": [
    "gbr.fit(X_train, y_train)"
   ]
  },
  {
   "cell_type": "code",
   "execution_count": 36,
   "id": "82dd275b",
   "metadata": {},
   "outputs": [
    {
     "data": {
      "text/plain": [
       "RandomForestRegressor(max_depth=4, random_state=42)"
      ]
     },
     "execution_count": 36,
     "metadata": {},
     "output_type": "execute_result"
    }
   ],
   "source": [
    "rf.fit(X_train, y_train)"
   ]
  },
  {
   "cell_type": "code",
   "execution_count": 37,
   "id": "a2ea82d9",
   "metadata": {},
   "outputs": [
    {
     "data": {
      "text/plain": [
       "AdaBoostRegressor(n_estimators=100)"
      ]
     },
     "execution_count": 37,
     "metadata": {},
     "output_type": "execute_result"
    }
   ],
   "source": [
    "ada.fit(X_train, y_train)"
   ]
  },
  {
   "cell_type": "code",
   "execution_count": 38,
   "id": "ad8881da",
   "metadata": {},
   "outputs": [
    {
     "data": {
      "text/plain": [
       "LGBMRegressor(random_state=42)"
      ]
     },
     "execution_count": 38,
     "metadata": {},
     "output_type": "execute_result"
    }
   ],
   "source": [
    "lgb.fit(X_train, y_train)"
   ]
  },
  {
   "cell_type": "code",
   "execution_count": 39,
   "id": "e088884e",
   "metadata": {},
   "outputs": [
    {
     "name": "stdout",
     "output_type": "stream",
     "text": [
      "[iter 0] loss=2.5964 val_loss=0.0000 scale=1.0000 norm=2.8588\n",
      "[iter 100] loss=2.1096 val_loss=0.0000 scale=2.0000 norm=3.2777\n",
      "[iter 200] loss=1.7080 val_loss=0.0000 scale=2.0000 norm=2.4525\n",
      "[iter 300] loss=1.5416 val_loss=0.0000 scale=1.0000 norm=1.1461\n",
      "[iter 400] loss=1.4647 val_loss=0.0000 scale=1.0000 norm=1.1079\n"
     ]
    },
    {
     "data": {
      "text/plain": [
       "NGBRegressor(random_state=RandomState(MT19937) at 0x18FF71F0640)"
      ]
     },
     "execution_count": 39,
     "metadata": {},
     "output_type": "execute_result"
    }
   ],
   "source": [
    "ngb.fit(X_train, y_train)"
   ]
  },
  {
   "cell_type": "code",
   "execution_count": 40,
   "id": "c797ecf6",
   "metadata": {},
   "outputs": [
    {
     "name": "stdout",
     "output_type": "stream",
     "text": [
      "Learning rate set to 0.03646\n",
      "0:\tlearn: 3.1730561\ttotal: 131ms\tremaining: 2m 10s\n",
      "1:\tlearn: 3.1052876\ttotal: 132ms\tremaining: 1m 5s\n",
      "2:\tlearn: 3.0392604\ttotal: 133ms\tremaining: 44.1s\n",
      "3:\tlearn: 2.9781242\ttotal: 134ms\tremaining: 33.3s\n",
      "4:\tlearn: 2.9145438\ttotal: 135ms\tremaining: 26.8s\n",
      "5:\tlearn: 2.8599694\ttotal: 135ms\tremaining: 22.4s\n",
      "6:\tlearn: 2.8007577\ttotal: 136ms\tremaining: 19.3s\n",
      "7:\tlearn: 2.7513289\ttotal: 137ms\tremaining: 17s\n",
      "8:\tlearn: 2.6958816\ttotal: 138ms\tremaining: 15.2s\n",
      "9:\tlearn: 2.6474135\ttotal: 139ms\tremaining: 13.7s\n",
      "10:\tlearn: 2.6020121\ttotal: 140ms\tremaining: 12.6s\n",
      "11:\tlearn: 2.5551841\ttotal: 140ms\tremaining: 11.6s\n",
      "12:\tlearn: 2.5135467\ttotal: 141ms\tremaining: 10.7s\n",
      "13:\tlearn: 2.4698675\ttotal: 142ms\tremaining: 10s\n",
      "14:\tlearn: 2.4343944\ttotal: 143ms\tremaining: 9.39s\n",
      "15:\tlearn: 2.3966813\ttotal: 144ms\tremaining: 8.85s\n",
      "16:\tlearn: 2.3627587\ttotal: 145ms\tremaining: 8.39s\n",
      "17:\tlearn: 2.3266095\ttotal: 146ms\tremaining: 7.96s\n",
      "18:\tlearn: 2.2911555\ttotal: 147ms\tremaining: 7.58s\n",
      "19:\tlearn: 2.2563254\ttotal: 148ms\tremaining: 7.23s\n",
      "20:\tlearn: 2.2255150\ttotal: 148ms\tremaining: 6.92s\n",
      "21:\tlearn: 2.1957397\ttotal: 149ms\tremaining: 6.63s\n",
      "22:\tlearn: 2.1653621\ttotal: 150ms\tremaining: 6.37s\n",
      "23:\tlearn: 2.1377906\ttotal: 151ms\tremaining: 6.15s\n",
      "24:\tlearn: 2.1116627\ttotal: 152ms\tremaining: 5.93s\n",
      "25:\tlearn: 2.0874933\ttotal: 153ms\tremaining: 5.73s\n",
      "26:\tlearn: 2.0626657\ttotal: 154ms\tremaining: 5.54s\n",
      "27:\tlearn: 2.0381172\ttotal: 155ms\tremaining: 5.36s\n",
      "28:\tlearn: 2.0174466\ttotal: 155ms\tremaining: 5.2s\n",
      "29:\tlearn: 1.9961186\ttotal: 156ms\tremaining: 5.05s\n",
      "30:\tlearn: 1.9741991\ttotal: 157ms\tremaining: 4.92s\n",
      "31:\tlearn: 1.9543383\ttotal: 158ms\tremaining: 4.78s\n",
      "32:\tlearn: 1.9348536\ttotal: 159ms\tremaining: 4.66s\n",
      "33:\tlearn: 1.9175389\ttotal: 160ms\tremaining: 4.54s\n",
      "34:\tlearn: 1.8986506\ttotal: 161ms\tremaining: 4.43s\n",
      "35:\tlearn: 1.8823764\ttotal: 161ms\tremaining: 4.32s\n",
      "36:\tlearn: 1.8668652\ttotal: 162ms\tremaining: 4.22s\n",
      "37:\tlearn: 1.8535759\ttotal: 163ms\tremaining: 4.13s\n",
      "38:\tlearn: 1.8393640\ttotal: 164ms\tremaining: 4.03s\n",
      "39:\tlearn: 1.8268715\ttotal: 165ms\tremaining: 3.95s\n",
      "40:\tlearn: 1.8103124\ttotal: 165ms\tremaining: 3.87s\n",
      "41:\tlearn: 1.7959868\ttotal: 167ms\tremaining: 3.8s\n",
      "42:\tlearn: 1.7835042\ttotal: 167ms\tremaining: 3.73s\n",
      "43:\tlearn: 1.7733433\ttotal: 168ms\tremaining: 3.66s\n",
      "44:\tlearn: 1.7635029\ttotal: 169ms\tremaining: 3.6s\n",
      "45:\tlearn: 1.7511841\ttotal: 171ms\tremaining: 3.54s\n",
      "46:\tlearn: 1.7410996\ttotal: 171ms\tremaining: 3.47s\n",
      "47:\tlearn: 1.7321472\ttotal: 172ms\tremaining: 3.41s\n",
      "48:\tlearn: 1.7240017\ttotal: 173ms\tremaining: 3.36s\n",
      "49:\tlearn: 1.7157085\ttotal: 174ms\tremaining: 3.31s\n",
      "50:\tlearn: 1.7073647\ttotal: 176ms\tremaining: 3.27s\n",
      "51:\tlearn: 1.6991387\ttotal: 176ms\tremaining: 3.22s\n",
      "52:\tlearn: 1.6922394\ttotal: 177ms\tremaining: 3.17s\n",
      "53:\tlearn: 1.6846375\ttotal: 178ms\tremaining: 3.12s\n",
      "54:\tlearn: 1.6770470\ttotal: 179ms\tremaining: 3.07s\n",
      "55:\tlearn: 1.6689249\ttotal: 180ms\tremaining: 3.03s\n",
      "56:\tlearn: 1.6614759\ttotal: 181ms\tremaining: 2.99s\n",
      "57:\tlearn: 1.6554071\ttotal: 182ms\tremaining: 2.96s\n",
      "58:\tlearn: 1.6493384\ttotal: 184ms\tremaining: 2.93s\n",
      "59:\tlearn: 1.6419213\ttotal: 185ms\tremaining: 2.89s\n",
      "60:\tlearn: 1.6347931\ttotal: 186ms\tremaining: 2.86s\n",
      "61:\tlearn: 1.6268911\ttotal: 187ms\tremaining: 2.83s\n",
      "62:\tlearn: 1.6223198\ttotal: 188ms\tremaining: 2.8s\n",
      "63:\tlearn: 1.6185111\ttotal: 189ms\tremaining: 2.76s\n",
      "64:\tlearn: 1.6125643\ttotal: 190ms\tremaining: 2.73s\n",
      "65:\tlearn: 1.6081489\ttotal: 191ms\tremaining: 2.7s\n",
      "66:\tlearn: 1.6013558\ttotal: 191ms\tremaining: 2.66s\n",
      "67:\tlearn: 1.5962589\ttotal: 192ms\tremaining: 2.64s\n",
      "68:\tlearn: 1.5911864\ttotal: 193ms\tremaining: 2.61s\n",
      "69:\tlearn: 1.5870518\ttotal: 194ms\tremaining: 2.58s\n",
      "70:\tlearn: 1.5822778\ttotal: 195ms\tremaining: 2.55s\n",
      "71:\tlearn: 1.5780390\ttotal: 196ms\tremaining: 2.52s\n",
      "72:\tlearn: 1.5734896\ttotal: 197ms\tremaining: 2.5s\n",
      "73:\tlearn: 1.5692475\ttotal: 198ms\tremaining: 2.47s\n",
      "74:\tlearn: 1.5645263\ttotal: 199ms\tremaining: 2.45s\n",
      "75:\tlearn: 1.5613016\ttotal: 200ms\tremaining: 2.43s\n",
      "76:\tlearn: 1.5573970\ttotal: 200ms\tremaining: 2.4s\n",
      "77:\tlearn: 1.5535533\ttotal: 201ms\tremaining: 2.38s\n",
      "78:\tlearn: 1.5478721\ttotal: 202ms\tremaining: 2.35s\n",
      "79:\tlearn: 1.5419208\ttotal: 203ms\tremaining: 2.33s\n",
      "80:\tlearn: 1.5372948\ttotal: 204ms\tremaining: 2.31s\n",
      "81:\tlearn: 1.5348608\ttotal: 205ms\tremaining: 2.29s\n",
      "82:\tlearn: 1.5301203\ttotal: 205ms\tremaining: 2.27s\n",
      "83:\tlearn: 1.5253166\ttotal: 206ms\tremaining: 2.25s\n",
      "84:\tlearn: 1.5204891\ttotal: 207ms\tremaining: 2.23s\n",
      "85:\tlearn: 1.5158719\ttotal: 208ms\tremaining: 2.21s\n",
      "86:\tlearn: 1.5114656\ttotal: 209ms\tremaining: 2.19s\n",
      "87:\tlearn: 1.5082773\ttotal: 210ms\tremaining: 2.17s\n",
      "88:\tlearn: 1.5053724\ttotal: 211ms\tremaining: 2.16s\n",
      "89:\tlearn: 1.5014749\ttotal: 212ms\tremaining: 2.14s\n",
      "90:\tlearn: 1.4995960\ttotal: 212ms\tremaining: 2.12s\n",
      "91:\tlearn: 1.4975429\ttotal: 213ms\tremaining: 2.1s\n",
      "92:\tlearn: 1.4942143\ttotal: 214ms\tremaining: 2.09s\n",
      "93:\tlearn: 1.4916782\ttotal: 215ms\tremaining: 2.07s\n",
      "94:\tlearn: 1.4886576\ttotal: 216ms\tremaining: 2.05s\n",
      "95:\tlearn: 1.4835209\ttotal: 217ms\tremaining: 2.04s\n",
      "96:\tlearn: 1.4800339\ttotal: 217ms\tremaining: 2.02s\n",
      "97:\tlearn: 1.4768390\ttotal: 218ms\tremaining: 2.01s\n",
      "98:\tlearn: 1.4755180\ttotal: 219ms\tremaining: 1.99s\n",
      "99:\tlearn: 1.4725612\ttotal: 220ms\tremaining: 1.98s\n",
      "100:\tlearn: 1.4695348\ttotal: 220ms\tremaining: 1.96s\n",
      "101:\tlearn: 1.4666927\ttotal: 221ms\tremaining: 1.95s\n",
      "102:\tlearn: 1.4644451\ttotal: 222ms\tremaining: 1.94s\n",
      "103:\tlearn: 1.4621471\ttotal: 223ms\tremaining: 1.92s\n",
      "104:\tlearn: 1.4604024\ttotal: 224ms\tremaining: 1.91s\n",
      "105:\tlearn: 1.4557957\ttotal: 225ms\tremaining: 1.9s\n",
      "106:\tlearn: 1.4541223\ttotal: 226ms\tremaining: 1.89s\n",
      "107:\tlearn: 1.4517520\ttotal: 227ms\tremaining: 1.87s\n",
      "108:\tlearn: 1.4496883\ttotal: 228ms\tremaining: 1.86s\n",
      "109:\tlearn: 1.4461474\ttotal: 229ms\tremaining: 1.85s\n",
      "110:\tlearn: 1.4436763\ttotal: 230ms\tremaining: 1.84s\n",
      "111:\tlearn: 1.4409316\ttotal: 231ms\tremaining: 1.83s\n",
      "112:\tlearn: 1.4378584\ttotal: 232ms\tremaining: 1.82s\n",
      "113:\tlearn: 1.4360565\ttotal: 232ms\tremaining: 1.8s\n",
      "114:\tlearn: 1.4334349\ttotal: 233ms\tremaining: 1.79s\n",
      "115:\tlearn: 1.4306176\ttotal: 234ms\tremaining: 1.78s\n",
      "116:\tlearn: 1.4278300\ttotal: 236ms\tremaining: 1.78s\n",
      "117:\tlearn: 1.4262663\ttotal: 237ms\tremaining: 1.77s\n",
      "118:\tlearn: 1.4241586\ttotal: 237ms\tremaining: 1.76s\n",
      "119:\tlearn: 1.4220290\ttotal: 238ms\tremaining: 1.75s\n",
      "120:\tlearn: 1.4191301\ttotal: 239ms\tremaining: 1.74s\n",
      "121:\tlearn: 1.4166535\ttotal: 240ms\tremaining: 1.73s\n",
      "122:\tlearn: 1.4143302\ttotal: 241ms\tremaining: 1.72s\n",
      "123:\tlearn: 1.4130882\ttotal: 242ms\tremaining: 1.71s\n",
      "124:\tlearn: 1.4119410\ttotal: 243ms\tremaining: 1.7s\n",
      "125:\tlearn: 1.4101384\ttotal: 244ms\tremaining: 1.69s\n",
      "126:\tlearn: 1.4075123\ttotal: 245ms\tremaining: 1.68s\n",
      "127:\tlearn: 1.4067687\ttotal: 245ms\tremaining: 1.67s\n",
      "128:\tlearn: 1.4041293\ttotal: 247ms\tremaining: 1.66s\n",
      "129:\tlearn: 1.4024259\ttotal: 248ms\tremaining: 1.66s\n",
      "130:\tlearn: 1.4014861\ttotal: 249ms\tremaining: 1.65s\n",
      "131:\tlearn: 1.3980687\ttotal: 249ms\tremaining: 1.64s\n",
      "132:\tlearn: 1.3958372\ttotal: 250ms\tremaining: 1.63s\n",
      "133:\tlearn: 1.3940350\ttotal: 251ms\tremaining: 1.62s\n",
      "134:\tlearn: 1.3913325\ttotal: 252ms\tremaining: 1.61s\n",
      "135:\tlearn: 1.3888847\ttotal: 253ms\tremaining: 1.61s\n",
      "136:\tlearn: 1.3861741\ttotal: 254ms\tremaining: 1.6s\n",
      "137:\tlearn: 1.3847842\ttotal: 255ms\tremaining: 1.59s\n",
      "138:\tlearn: 1.3828750\ttotal: 256ms\tremaining: 1.58s\n",
      "139:\tlearn: 1.3793844\ttotal: 257ms\tremaining: 1.58s\n",
      "140:\tlearn: 1.3770908\ttotal: 257ms\tremaining: 1.57s\n",
      "141:\tlearn: 1.3751666\ttotal: 259ms\tremaining: 1.56s\n",
      "142:\tlearn: 1.3743167\ttotal: 261ms\tremaining: 1.56s\n",
      "143:\tlearn: 1.3739355\ttotal: 262ms\tremaining: 1.56s\n",
      "144:\tlearn: 1.3712103\ttotal: 263ms\tremaining: 1.55s\n",
      "145:\tlearn: 1.3670808\ttotal: 264ms\tremaining: 1.54s\n",
      "146:\tlearn: 1.3661296\ttotal: 265ms\tremaining: 1.54s\n",
      "147:\tlearn: 1.3643279\ttotal: 266ms\tremaining: 1.53s\n",
      "148:\tlearn: 1.3626775\ttotal: 267ms\tremaining: 1.52s\n",
      "149:\tlearn: 1.3613233\ttotal: 268ms\tremaining: 1.52s\n",
      "150:\tlearn: 1.3583097\ttotal: 269ms\tremaining: 1.51s\n",
      "151:\tlearn: 1.3561599\ttotal: 271ms\tremaining: 1.51s\n",
      "152:\tlearn: 1.3537227\ttotal: 272ms\tremaining: 1.5s\n",
      "153:\tlearn: 1.3515910\ttotal: 273ms\tremaining: 1.5s\n",
      "154:\tlearn: 1.3510256\ttotal: 273ms\tremaining: 1.49s\n",
      "155:\tlearn: 1.3484110\ttotal: 274ms\tremaining: 1.48s\n",
      "156:\tlearn: 1.3456006\ttotal: 276ms\tremaining: 1.48s\n",
      "157:\tlearn: 1.3440718\ttotal: 277ms\tremaining: 1.48s\n",
      "158:\tlearn: 1.3426663\ttotal: 279ms\tremaining: 1.47s\n",
      "159:\tlearn: 1.3402510\ttotal: 280ms\tremaining: 1.47s\n",
      "160:\tlearn: 1.3374852\ttotal: 280ms\tremaining: 1.46s\n",
      "161:\tlearn: 1.3369797\ttotal: 281ms\tremaining: 1.45s\n",
      "162:\tlearn: 1.3346798\ttotal: 282ms\tremaining: 1.45s\n",
      "163:\tlearn: 1.3324460\ttotal: 283ms\tremaining: 1.44s\n",
      "164:\tlearn: 1.3306783\ttotal: 284ms\tremaining: 1.44s\n",
      "165:\tlearn: 1.3290076\ttotal: 285ms\tremaining: 1.43s\n",
      "166:\tlearn: 1.3269198\ttotal: 286ms\tremaining: 1.43s\n",
      "167:\tlearn: 1.3251236\ttotal: 287ms\tremaining: 1.42s\n",
      "168:\tlearn: 1.3227032\ttotal: 288ms\tremaining: 1.42s\n",
      "169:\tlearn: 1.3210881\ttotal: 289ms\tremaining: 1.41s\n",
      "170:\tlearn: 1.3193596\ttotal: 290ms\tremaining: 1.41s\n",
      "171:\tlearn: 1.3180194\ttotal: 291ms\tremaining: 1.4s\n",
      "172:\tlearn: 1.3159767\ttotal: 292ms\tremaining: 1.39s\n",
      "173:\tlearn: 1.3149462\ttotal: 292ms\tremaining: 1.39s\n",
      "174:\tlearn: 1.3144579\ttotal: 293ms\tremaining: 1.38s\n",
      "175:\tlearn: 1.3126998\ttotal: 294ms\tremaining: 1.38s\n",
      "176:\tlearn: 1.3122423\ttotal: 295ms\tremaining: 1.37s\n",
      "177:\tlearn: 1.3103065\ttotal: 296ms\tremaining: 1.37s\n",
      "178:\tlearn: 1.3095002\ttotal: 297ms\tremaining: 1.36s\n",
      "179:\tlearn: 1.3064667\ttotal: 298ms\tremaining: 1.35s\n",
      "180:\tlearn: 1.3047988\ttotal: 299ms\tremaining: 1.35s\n",
      "181:\tlearn: 1.3045310\ttotal: 300ms\tremaining: 1.35s\n",
      "182:\tlearn: 1.3026385\ttotal: 301ms\tremaining: 1.34s\n",
      "183:\tlearn: 1.3008923\ttotal: 302ms\tremaining: 1.34s\n",
      "184:\tlearn: 1.2981189\ttotal: 303ms\tremaining: 1.33s\n",
      "185:\tlearn: 1.2956997\ttotal: 304ms\tremaining: 1.33s\n",
      "186:\tlearn: 1.2925380\ttotal: 304ms\tremaining: 1.32s\n",
      "187:\tlearn: 1.2902581\ttotal: 306ms\tremaining: 1.32s\n",
      "188:\tlearn: 1.2898420\ttotal: 307ms\tremaining: 1.31s\n",
      "189:\tlearn: 1.2885675\ttotal: 307ms\tremaining: 1.31s\n",
      "190:\tlearn: 1.2853961\ttotal: 308ms\tremaining: 1.3s\n",
      "191:\tlearn: 1.2849089\ttotal: 309ms\tremaining: 1.3s\n",
      "192:\tlearn: 1.2818443\ttotal: 310ms\tremaining: 1.29s\n",
      "193:\tlearn: 1.2803355\ttotal: 311ms\tremaining: 1.29s\n",
      "194:\tlearn: 1.2795714\ttotal: 313ms\tremaining: 1.29s\n",
      "195:\tlearn: 1.2777751\ttotal: 313ms\tremaining: 1.28s\n",
      "196:\tlearn: 1.2760667\ttotal: 314ms\tremaining: 1.28s\n",
      "197:\tlearn: 1.2753524\ttotal: 315ms\tremaining: 1.28s\n",
      "198:\tlearn: 1.2750018\ttotal: 316ms\tremaining: 1.27s\n",
      "199:\tlearn: 1.2738103\ttotal: 317ms\tremaining: 1.27s\n",
      "200:\tlearn: 1.2723154\ttotal: 318ms\tremaining: 1.26s\n",
      "201:\tlearn: 1.2717655\ttotal: 319ms\tremaining: 1.26s\n",
      "202:\tlearn: 1.2696635\ttotal: 320ms\tremaining: 1.26s\n",
      "203:\tlearn: 1.2693991\ttotal: 321ms\tremaining: 1.25s\n",
      "204:\tlearn: 1.2689306\ttotal: 322ms\tremaining: 1.25s\n",
      "205:\tlearn: 1.2686395\ttotal: 322ms\tremaining: 1.24s\n",
      "206:\tlearn: 1.2681574\ttotal: 324ms\tremaining: 1.24s\n",
      "207:\tlearn: 1.2667111\ttotal: 325ms\tremaining: 1.24s\n",
      "208:\tlearn: 1.2663400\ttotal: 326ms\tremaining: 1.23s\n",
      "209:\tlearn: 1.2659259\ttotal: 327ms\tremaining: 1.23s\n",
      "210:\tlearn: 1.2654324\ttotal: 328ms\tremaining: 1.23s\n",
      "211:\tlearn: 1.2635144\ttotal: 328ms\tremaining: 1.22s\n",
      "212:\tlearn: 1.2620264\ttotal: 329ms\tremaining: 1.22s\n",
      "213:\tlearn: 1.2600715\ttotal: 331ms\tremaining: 1.21s\n",
      "214:\tlearn: 1.2583818\ttotal: 332ms\tremaining: 1.21s\n",
      "215:\tlearn: 1.2581273\ttotal: 332ms\tremaining: 1.21s\n",
      "216:\tlearn: 1.2562815\ttotal: 333ms\tremaining: 1.2s\n",
      "217:\tlearn: 1.2556685\ttotal: 334ms\tremaining: 1.2s\n"
     ]
    },
    {
     "name": "stdout",
     "output_type": "stream",
     "text": [
      "218:\tlearn: 1.2553903\ttotal: 335ms\tremaining: 1.2s\n",
      "219:\tlearn: 1.2523898\ttotal: 337ms\tremaining: 1.19s\n",
      "220:\tlearn: 1.2506962\ttotal: 338ms\tremaining: 1.19s\n",
      "221:\tlearn: 1.2491022\ttotal: 339ms\tremaining: 1.19s\n",
      "222:\tlearn: 1.2486471\ttotal: 340ms\tremaining: 1.18s\n",
      "223:\tlearn: 1.2483724\ttotal: 341ms\tremaining: 1.18s\n",
      "224:\tlearn: 1.2469216\ttotal: 342ms\tremaining: 1.18s\n",
      "225:\tlearn: 1.2454590\ttotal: 343ms\tremaining: 1.18s\n",
      "226:\tlearn: 1.2450053\ttotal: 344ms\tremaining: 1.17s\n",
      "227:\tlearn: 1.2447126\ttotal: 345ms\tremaining: 1.17s\n",
      "228:\tlearn: 1.2437972\ttotal: 346ms\tremaining: 1.16s\n",
      "229:\tlearn: 1.2435075\ttotal: 347ms\tremaining: 1.16s\n",
      "230:\tlearn: 1.2433148\ttotal: 349ms\tremaining: 1.16s\n",
      "231:\tlearn: 1.2415081\ttotal: 351ms\tremaining: 1.16s\n",
      "232:\tlearn: 1.2412661\ttotal: 352ms\tremaining: 1.16s\n",
      "233:\tlearn: 1.2393375\ttotal: 353ms\tremaining: 1.15s\n",
      "234:\tlearn: 1.2385672\ttotal: 354ms\tremaining: 1.15s\n",
      "235:\tlearn: 1.2381362\ttotal: 355ms\tremaining: 1.15s\n",
      "236:\tlearn: 1.2376822\ttotal: 356ms\tremaining: 1.15s\n",
      "237:\tlearn: 1.2361342\ttotal: 357ms\tremaining: 1.14s\n",
      "238:\tlearn: 1.2357453\ttotal: 358ms\tremaining: 1.14s\n",
      "239:\tlearn: 1.2350224\ttotal: 359ms\tremaining: 1.14s\n",
      "240:\tlearn: 1.2318113\ttotal: 360ms\tremaining: 1.13s\n",
      "241:\tlearn: 1.2311507\ttotal: 361ms\tremaining: 1.13s\n",
      "242:\tlearn: 1.2304989\ttotal: 362ms\tremaining: 1.13s\n",
      "243:\tlearn: 1.2295714\ttotal: 363ms\tremaining: 1.13s\n",
      "244:\tlearn: 1.2291364\ttotal: 365ms\tremaining: 1.12s\n",
      "245:\tlearn: 1.2270221\ttotal: 367ms\tremaining: 1.13s\n",
      "246:\tlearn: 1.2244879\ttotal: 368ms\tremaining: 1.12s\n",
      "247:\tlearn: 1.2236310\ttotal: 370ms\tremaining: 1.12s\n",
      "248:\tlearn: 1.2219417\ttotal: 370ms\tremaining: 1.12s\n",
      "249:\tlearn: 1.2198401\ttotal: 372ms\tremaining: 1.12s\n",
      "250:\tlearn: 1.2179129\ttotal: 373ms\tremaining: 1.11s\n",
      "251:\tlearn: 1.2155374\ttotal: 375ms\tremaining: 1.11s\n",
      "252:\tlearn: 1.2141151\ttotal: 375ms\tremaining: 1.11s\n",
      "253:\tlearn: 1.2137497\ttotal: 376ms\tremaining: 1.1s\n",
      "254:\tlearn: 1.2120442\ttotal: 379ms\tremaining: 1.11s\n",
      "255:\tlearn: 1.2099929\ttotal: 380ms\tremaining: 1.1s\n",
      "256:\tlearn: 1.2097803\ttotal: 381ms\tremaining: 1.1s\n",
      "257:\tlearn: 1.2065863\ttotal: 382ms\tremaining: 1.1s\n",
      "258:\tlearn: 1.2063312\ttotal: 383ms\tremaining: 1.09s\n",
      "259:\tlearn: 1.2043196\ttotal: 385ms\tremaining: 1.1s\n",
      "260:\tlearn: 1.2029469\ttotal: 386ms\tremaining: 1.09s\n",
      "261:\tlearn: 1.2015685\ttotal: 387ms\tremaining: 1.09s\n",
      "262:\tlearn: 1.2012157\ttotal: 388ms\tremaining: 1.09s\n",
      "263:\tlearn: 1.1992657\ttotal: 389ms\tremaining: 1.08s\n",
      "264:\tlearn: 1.1974073\ttotal: 393ms\tremaining: 1.09s\n",
      "265:\tlearn: 1.1952464\ttotal: 394ms\tremaining: 1.09s\n",
      "266:\tlearn: 1.1946043\ttotal: 394ms\tremaining: 1.08s\n",
      "267:\tlearn: 1.1944784\ttotal: 395ms\tremaining: 1.08s\n",
      "268:\tlearn: 1.1943493\ttotal: 398ms\tremaining: 1.08s\n",
      "269:\tlearn: 1.1915877\ttotal: 399ms\tremaining: 1.08s\n",
      "270:\tlearn: 1.1913133\ttotal: 400ms\tremaining: 1.07s\n",
      "271:\tlearn: 1.1875972\ttotal: 401ms\tremaining: 1.07s\n",
      "272:\tlearn: 1.1854199\ttotal: 402ms\tremaining: 1.07s\n",
      "273:\tlearn: 1.1831425\ttotal: 403ms\tremaining: 1.07s\n",
      "274:\tlearn: 1.1813022\ttotal: 404ms\tremaining: 1.07s\n",
      "275:\tlearn: 1.1794281\ttotal: 405ms\tremaining: 1.06s\n",
      "276:\tlearn: 1.1793011\ttotal: 406ms\tremaining: 1.06s\n",
      "277:\tlearn: 1.1789416\ttotal: 408ms\tremaining: 1.06s\n",
      "278:\tlearn: 1.1776064\ttotal: 409ms\tremaining: 1.06s\n",
      "279:\tlearn: 1.1747115\ttotal: 410ms\tremaining: 1.05s\n",
      "280:\tlearn: 1.1730253\ttotal: 411ms\tremaining: 1.05s\n",
      "281:\tlearn: 1.1721394\ttotal: 412ms\tremaining: 1.05s\n",
      "282:\tlearn: 1.1716838\ttotal: 413ms\tremaining: 1.04s\n",
      "283:\tlearn: 1.1714333\ttotal: 415ms\tremaining: 1.04s\n",
      "284:\tlearn: 1.1711727\ttotal: 416ms\tremaining: 1.04s\n",
      "285:\tlearn: 1.1704524\ttotal: 417ms\tremaining: 1.04s\n",
      "286:\tlearn: 1.1701872\ttotal: 418ms\tremaining: 1.04s\n",
      "287:\tlearn: 1.1694585\ttotal: 418ms\tremaining: 1.03s\n",
      "288:\tlearn: 1.1664407\ttotal: 419ms\tremaining: 1.03s\n",
      "289:\tlearn: 1.1637787\ttotal: 421ms\tremaining: 1.03s\n",
      "290:\tlearn: 1.1612212\ttotal: 422ms\tremaining: 1.03s\n",
      "291:\tlearn: 1.1593458\ttotal: 423ms\tremaining: 1.02s\n",
      "292:\tlearn: 1.1566485\ttotal: 423ms\tremaining: 1.02s\n",
      "293:\tlearn: 1.1564674\ttotal: 424ms\tremaining: 1.02s\n",
      "294:\tlearn: 1.1549181\ttotal: 425ms\tremaining: 1.02s\n",
      "295:\tlearn: 1.1519957\ttotal: 427ms\tremaining: 1.01s\n",
      "296:\tlearn: 1.1497855\ttotal: 428ms\tremaining: 1.01s\n",
      "297:\tlearn: 1.1467904\ttotal: 429ms\tremaining: 1.01s\n",
      "298:\tlearn: 1.1466825\ttotal: 430ms\tremaining: 1.01s\n",
      "299:\tlearn: 1.1459556\ttotal: 431ms\tremaining: 1s\n",
      "300:\tlearn: 1.1422515\ttotal: 433ms\tremaining: 1s\n",
      "301:\tlearn: 1.1409280\ttotal: 434ms\tremaining: 1s\n",
      "302:\tlearn: 1.1407449\ttotal: 435ms\tremaining: 1000ms\n",
      "303:\tlearn: 1.1385012\ttotal: 435ms\tremaining: 997ms\n",
      "304:\tlearn: 1.1366693\ttotal: 436ms\tremaining: 994ms\n",
      "305:\tlearn: 1.1346574\ttotal: 437ms\tremaining: 991ms\n",
      "306:\tlearn: 1.1330256\ttotal: 439ms\tremaining: 991ms\n",
      "307:\tlearn: 1.1311006\ttotal: 440ms\tremaining: 988ms\n",
      "308:\tlearn: 1.1306987\ttotal: 441ms\tremaining: 985ms\n",
      "309:\tlearn: 1.1283383\ttotal: 441ms\tremaining: 982ms\n",
      "310:\tlearn: 1.1255256\ttotal: 442ms\tremaining: 980ms\n",
      "311:\tlearn: 1.1238446\ttotal: 443ms\tremaining: 977ms\n",
      "312:\tlearn: 1.1231406\ttotal: 446ms\tremaining: 979ms\n",
      "313:\tlearn: 1.1221499\ttotal: 447ms\tremaining: 976ms\n",
      "314:\tlearn: 1.1199441\ttotal: 448ms\tremaining: 973ms\n",
      "315:\tlearn: 1.1184662\ttotal: 448ms\tremaining: 971ms\n",
      "316:\tlearn: 1.1157696\ttotal: 449ms\tremaining: 968ms\n",
      "317:\tlearn: 1.1141557\ttotal: 451ms\tremaining: 966ms\n",
      "318:\tlearn: 1.1135666\ttotal: 452ms\tremaining: 964ms\n",
      "319:\tlearn: 1.1107439\ttotal: 453ms\tremaining: 962ms\n",
      "320:\tlearn: 1.1105681\ttotal: 453ms\tremaining: 959ms\n",
      "321:\tlearn: 1.1078541\ttotal: 454ms\tremaining: 956ms\n",
      "322:\tlearn: 1.1064226\ttotal: 455ms\tremaining: 954ms\n",
      "323:\tlearn: 1.1060130\ttotal: 457ms\tremaining: 954ms\n",
      "324:\tlearn: 1.1049639\ttotal: 458ms\tremaining: 951ms\n",
      "325:\tlearn: 1.1027262\ttotal: 459ms\tremaining: 949ms\n",
      "326:\tlearn: 1.1004991\ttotal: 460ms\tremaining: 947ms\n",
      "327:\tlearn: 1.0979035\ttotal: 461ms\tremaining: 945ms\n",
      "328:\tlearn: 1.0957620\ttotal: 463ms\tremaining: 944ms\n",
      "329:\tlearn: 1.0951208\ttotal: 464ms\tremaining: 942ms\n",
      "330:\tlearn: 1.0922552\ttotal: 465ms\tremaining: 939ms\n",
      "331:\tlearn: 1.0901791\ttotal: 466ms\tremaining: 937ms\n",
      "332:\tlearn: 1.0885600\ttotal: 467ms\tremaining: 934ms\n",
      "333:\tlearn: 1.0848030\ttotal: 467ms\tremaining: 932ms\n",
      "334:\tlearn: 1.0838621\ttotal: 469ms\tremaining: 931ms\n",
      "335:\tlearn: 1.0837010\ttotal: 470ms\tremaining: 929ms\n",
      "336:\tlearn: 1.0818431\ttotal: 471ms\tremaining: 927ms\n",
      "337:\tlearn: 1.0802463\ttotal: 472ms\tremaining: 924ms\n",
      "338:\tlearn: 1.0781736\ttotal: 473ms\tremaining: 922ms\n",
      "339:\tlearn: 1.0773851\ttotal: 474ms\tremaining: 920ms\n",
      "340:\tlearn: 1.0752801\ttotal: 475ms\tremaining: 918ms\n",
      "341:\tlearn: 1.0728934\ttotal: 476ms\tremaining: 916ms\n",
      "342:\tlearn: 1.0709362\ttotal: 477ms\tremaining: 913ms\n",
      "343:\tlearn: 1.0689641\ttotal: 478ms\tremaining: 911ms\n",
      "344:\tlearn: 1.0675220\ttotal: 478ms\tremaining: 908ms\n",
      "345:\tlearn: 1.0671642\ttotal: 479ms\tremaining: 906ms\n",
      "346:\tlearn: 1.0649861\ttotal: 481ms\tremaining: 905ms\n",
      "347:\tlearn: 1.0615999\ttotal: 482ms\tremaining: 903ms\n",
      "348:\tlearn: 1.0593682\ttotal: 483ms\tremaining: 900ms\n",
      "349:\tlearn: 1.0584660\ttotal: 483ms\tremaining: 898ms\n",
      "350:\tlearn: 1.0569542\ttotal: 484ms\tremaining: 896ms\n",
      "351:\tlearn: 1.0550305\ttotal: 485ms\tremaining: 893ms\n",
      "352:\tlearn: 1.0544215\ttotal: 487ms\tremaining: 893ms\n",
      "353:\tlearn: 1.0526175\ttotal: 488ms\tremaining: 891ms\n",
      "354:\tlearn: 1.0514791\ttotal: 489ms\tremaining: 889ms\n",
      "355:\tlearn: 1.0494715\ttotal: 490ms\tremaining: 886ms\n",
      "356:\tlearn: 1.0479175\ttotal: 491ms\tremaining: 884ms\n",
      "357:\tlearn: 1.0450586\ttotal: 492ms\tremaining: 881ms\n",
      "358:\tlearn: 1.0427910\ttotal: 493ms\tremaining: 881ms\n",
      "359:\tlearn: 1.0402930\ttotal: 494ms\tremaining: 879ms\n",
      "360:\tlearn: 1.0384234\ttotal: 495ms\tremaining: 876ms\n",
      "361:\tlearn: 1.0381517\ttotal: 496ms\tremaining: 874ms\n",
      "362:\tlearn: 1.0373659\ttotal: 497ms\tremaining: 872ms\n",
      "363:\tlearn: 1.0368933\ttotal: 500ms\tremaining: 874ms\n",
      "364:\tlearn: 1.0359358\ttotal: 501ms\tremaining: 872ms\n",
      "365:\tlearn: 1.0334457\ttotal: 502ms\tremaining: 870ms\n",
      "366:\tlearn: 1.0311621\ttotal: 503ms\tremaining: 868ms\n",
      "367:\tlearn: 1.0297174\ttotal: 506ms\tremaining: 869ms\n",
      "368:\tlearn: 1.0275139\ttotal: 507ms\tremaining: 867ms\n",
      "369:\tlearn: 1.0254444\ttotal: 509ms\tremaining: 866ms\n",
      "370:\tlearn: 1.0236086\ttotal: 510ms\tremaining: 864ms\n",
      "371:\tlearn: 1.0216186\ttotal: 512ms\tremaining: 865ms\n",
      "372:\tlearn: 1.0195510\ttotal: 513ms\tremaining: 863ms\n",
      "373:\tlearn: 1.0181329\ttotal: 514ms\tremaining: 860ms\n",
      "374:\tlearn: 1.0174378\ttotal: 515ms\tremaining: 858ms\n",
      "375:\tlearn: 1.0154394\ttotal: 516ms\tremaining: 856ms\n",
      "376:\tlearn: 1.0151043\ttotal: 518ms\tremaining: 856ms\n",
      "377:\tlearn: 1.0142635\ttotal: 519ms\tremaining: 854ms\n",
      "378:\tlearn: 1.0130009\ttotal: 520ms\tremaining: 851ms\n",
      "379:\tlearn: 1.0115663\ttotal: 520ms\tremaining: 849ms\n",
      "380:\tlearn: 1.0113993\ttotal: 521ms\tremaining: 847ms\n",
      "381:\tlearn: 1.0089034\ttotal: 522ms\tremaining: 845ms\n",
      "382:\tlearn: 1.0085779\ttotal: 524ms\tremaining: 844ms\n",
      "383:\tlearn: 1.0066761\ttotal: 526ms\tremaining: 843ms\n",
      "384:\tlearn: 1.0049956\ttotal: 527ms\tremaining: 841ms\n",
      "385:\tlearn: 1.0031640\ttotal: 527ms\tremaining: 839ms\n",
      "386:\tlearn: 1.0019856\ttotal: 528ms\tremaining: 837ms\n",
      "387:\tlearn: 1.0002322\ttotal: 531ms\tremaining: 837ms\n",
      "388:\tlearn: 0.9982666\ttotal: 533ms\tremaining: 836ms\n",
      "389:\tlearn: 0.9964561\ttotal: 534ms\tremaining: 835ms\n",
      "390:\tlearn: 0.9947091\ttotal: 535ms\tremaining: 834ms\n",
      "391:\tlearn: 0.9925052\ttotal: 538ms\tremaining: 834ms\n",
      "392:\tlearn: 0.9917208\ttotal: 539ms\tremaining: 833ms\n",
      "393:\tlearn: 0.9901428\ttotal: 544ms\tremaining: 836ms\n",
      "394:\tlearn: 0.9899060\ttotal: 544ms\tremaining: 834ms\n",
      "395:\tlearn: 0.9882332\ttotal: 545ms\tremaining: 832ms\n",
      "396:\tlearn: 0.9859842\ttotal: 546ms\tremaining: 830ms\n",
      "397:\tlearn: 0.9847103\ttotal: 548ms\tremaining: 829ms\n",
      "398:\tlearn: 0.9823374\ttotal: 549ms\tremaining: 827ms\n",
      "399:\tlearn: 0.9798950\ttotal: 550ms\tremaining: 825ms\n",
      "400:\tlearn: 0.9786052\ttotal: 551ms\tremaining: 823ms\n",
      "401:\tlearn: 0.9774804\ttotal: 552ms\tremaining: 821ms\n",
      "402:\tlearn: 0.9759730\ttotal: 554ms\tremaining: 821ms\n",
      "403:\tlearn: 0.9734918\ttotal: 555ms\tremaining: 819ms\n",
      "404:\tlearn: 0.9718810\ttotal: 557ms\tremaining: 818ms\n",
      "405:\tlearn: 0.9712357\ttotal: 558ms\tremaining: 816ms\n",
      "406:\tlearn: 0.9707824\ttotal: 559ms\tremaining: 814ms\n",
      "407:\tlearn: 0.9694651\ttotal: 561ms\tremaining: 813ms\n",
      "408:\tlearn: 0.9684161\ttotal: 561ms\tremaining: 811ms\n",
      "409:\tlearn: 0.9670422\ttotal: 562ms\tremaining: 809ms\n",
      "410:\tlearn: 0.9651402\ttotal: 563ms\tremaining: 807ms\n",
      "411:\tlearn: 0.9637571\ttotal: 564ms\tremaining: 806ms\n",
      "412:\tlearn: 0.9634690\ttotal: 580ms\tremaining: 824ms\n",
      "413:\tlearn: 0.9622886\ttotal: 581ms\tremaining: 822ms\n",
      "414:\tlearn: 0.9609350\ttotal: 582ms\tremaining: 820ms\n",
      "415:\tlearn: 0.9596522\ttotal: 583ms\tremaining: 818ms\n",
      "416:\tlearn: 0.9581191\ttotal: 584ms\tremaining: 816ms\n",
      "417:\tlearn: 0.9555653\ttotal: 588ms\tremaining: 819ms\n",
      "418:\tlearn: 0.9542676\ttotal: 589ms\tremaining: 817ms\n",
      "419:\tlearn: 0.9540103\ttotal: 592ms\tremaining: 817ms\n",
      "420:\tlearn: 0.9525828\ttotal: 594ms\tremaining: 817ms\n",
      "421:\tlearn: 0.9512471\ttotal: 595ms\tremaining: 815ms\n",
      "422:\tlearn: 0.9505881\ttotal: 596ms\tremaining: 813ms\n",
      "423:\tlearn: 0.9495809\ttotal: 598ms\tremaining: 812ms\n",
      "424:\tlearn: 0.9475524\ttotal: 599ms\tremaining: 810ms\n",
      "425:\tlearn: 0.9458187\ttotal: 600ms\tremaining: 808ms\n",
      "426:\tlearn: 0.9453041\ttotal: 601ms\tremaining: 806ms\n",
      "427:\tlearn: 0.9440039\ttotal: 603ms\tremaining: 806ms\n",
      "428:\tlearn: 0.9425152\ttotal: 604ms\tremaining: 804ms\n",
      "429:\tlearn: 0.9409153\ttotal: 605ms\tremaining: 802ms\n",
      "430:\tlearn: 0.9393640\ttotal: 606ms\tremaining: 800ms\n",
      "431:\tlearn: 0.9378903\ttotal: 607ms\tremaining: 798ms\n",
      "432:\tlearn: 0.9359745\ttotal: 610ms\tremaining: 798ms\n",
      "433:\tlearn: 0.9349647\ttotal: 611ms\tremaining: 796ms\n",
      "434:\tlearn: 0.9343297\ttotal: 611ms\tremaining: 794ms\n",
      "435:\tlearn: 0.9331894\ttotal: 612ms\tremaining: 792ms\n",
      "436:\tlearn: 0.9320950\ttotal: 613ms\tremaining: 790ms\n",
      "437:\tlearn: 0.9306066\ttotal: 615ms\tremaining: 789ms\n",
      "438:\tlearn: 0.9303728\ttotal: 616ms\tremaining: 787ms\n",
      "439:\tlearn: 0.9289682\ttotal: 617ms\tremaining: 785ms\n",
      "440:\tlearn: 0.9276823\ttotal: 618ms\tremaining: 783ms\n",
      "441:\tlearn: 0.9261050\ttotal: 619ms\tremaining: 781ms\n",
      "442:\tlearn: 0.9245859\ttotal: 620ms\tremaining: 779ms\n",
      "443:\tlearn: 0.9237326\ttotal: 621ms\tremaining: 778ms\n",
      "444:\tlearn: 0.9223222\ttotal: 622ms\tremaining: 776ms\n",
      "445:\tlearn: 0.9222042\ttotal: 623ms\tremaining: 774ms\n",
      "446:\tlearn: 0.9200950\ttotal: 624ms\tremaining: 772ms\n",
      "447:\tlearn: 0.9186377\ttotal: 625ms\tremaining: 770ms\n",
      "448:\tlearn: 0.9185555\ttotal: 625ms\tremaining: 767ms\n",
      "449:\tlearn: 0.9165432\ttotal: 627ms\tremaining: 766ms\n",
      "450:\tlearn: 0.9154311\ttotal: 628ms\tremaining: 765ms\n",
      "451:\tlearn: 0.9153194\ttotal: 629ms\tremaining: 763ms\n",
      "452:\tlearn: 0.9138559\ttotal: 630ms\tremaining: 761ms\n",
      "453:\tlearn: 0.9121835\ttotal: 631ms\tremaining: 758ms\n",
      "454:\tlearn: 0.9112359\ttotal: 632ms\tremaining: 757ms\n",
      "455:\tlearn: 0.9097650\ttotal: 634ms\tremaining: 756ms\n",
      "456:\tlearn: 0.9091964\ttotal: 635ms\tremaining: 755ms\n",
      "457:\tlearn: 0.9080889\ttotal: 636ms\tremaining: 753ms\n",
      "458:\tlearn: 0.9071428\ttotal: 637ms\tremaining: 751ms\n",
      "459:\tlearn: 0.9061145\ttotal: 639ms\tremaining: 750ms\n",
      "460:\tlearn: 0.9039341\ttotal: 640ms\tremaining: 749ms\n",
      "461:\tlearn: 0.9028172\ttotal: 642ms\tremaining: 747ms\n",
      "462:\tlearn: 0.9008251\ttotal: 643ms\tremaining: 745ms\n",
      "463:\tlearn: 0.9005315\ttotal: 643ms\tremaining: 743ms\n",
      "464:\tlearn: 0.8995167\ttotal: 646ms\tremaining: 743ms\n",
      "465:\tlearn: 0.8978412\ttotal: 647ms\tremaining: 741ms\n",
      "466:\tlearn: 0.8965714\ttotal: 648ms\tremaining: 740ms\n",
      "467:\tlearn: 0.8954716\ttotal: 649ms\tremaining: 738ms\n",
      "468:\tlearn: 0.8941972\ttotal: 652ms\tremaining: 738ms\n",
      "469:\tlearn: 0.8933873\ttotal: 653ms\tremaining: 736ms\n",
      "470:\tlearn: 0.8929241\ttotal: 654ms\tremaining: 734ms\n",
      "471:\tlearn: 0.8919198\ttotal: 655ms\tremaining: 732ms\n",
      "472:\tlearn: 0.8910391\ttotal: 656ms\tremaining: 731ms\n",
      "473:\tlearn: 0.8898913\ttotal: 660ms\tremaining: 732ms\n",
      "474:\tlearn: 0.8897936\ttotal: 661ms\tremaining: 731ms\n"
     ]
    },
    {
     "name": "stdout",
     "output_type": "stream",
     "text": [
      "475:\tlearn: 0.8894195\ttotal: 664ms\tremaining: 730ms\n",
      "476:\tlearn: 0.8893255\ttotal: 666ms\tremaining: 730ms\n",
      "477:\tlearn: 0.8878861\ttotal: 670ms\tremaining: 732ms\n",
      "478:\tlearn: 0.8863151\ttotal: 672ms\tremaining: 731ms\n",
      "479:\tlearn: 0.8856049\ttotal: 674ms\tremaining: 730ms\n",
      "480:\tlearn: 0.8849303\ttotal: 675ms\tremaining: 728ms\n",
      "481:\tlearn: 0.8847112\ttotal: 676ms\tremaining: 726ms\n",
      "482:\tlearn: 0.8846444\ttotal: 677ms\tremaining: 725ms\n",
      "483:\tlearn: 0.8839561\ttotal: 678ms\tremaining: 723ms\n",
      "484:\tlearn: 0.8818538\ttotal: 679ms\tremaining: 721ms\n",
      "485:\tlearn: 0.8803697\ttotal: 680ms\tremaining: 719ms\n",
      "486:\tlearn: 0.8802227\ttotal: 682ms\tremaining: 718ms\n",
      "487:\tlearn: 0.8794778\ttotal: 683ms\tremaining: 716ms\n",
      "488:\tlearn: 0.8784540\ttotal: 684ms\tremaining: 715ms\n",
      "489:\tlearn: 0.8762594\ttotal: 685ms\tremaining: 713ms\n",
      "490:\tlearn: 0.8743927\ttotal: 688ms\tremaining: 713ms\n",
      "491:\tlearn: 0.8734974\ttotal: 689ms\tremaining: 711ms\n",
      "492:\tlearn: 0.8721027\ttotal: 690ms\tremaining: 709ms\n",
      "493:\tlearn: 0.8714307\ttotal: 691ms\tremaining: 707ms\n",
      "494:\tlearn: 0.8706376\ttotal: 692ms\tremaining: 705ms\n",
      "495:\tlearn: 0.8695909\ttotal: 694ms\tremaining: 705ms\n",
      "496:\tlearn: 0.8681833\ttotal: 695ms\tremaining: 703ms\n",
      "497:\tlearn: 0.8676215\ttotal: 696ms\tremaining: 701ms\n",
      "498:\tlearn: 0.8664680\ttotal: 697ms\tremaining: 700ms\n",
      "499:\tlearn: 0.8660303\ttotal: 698ms\tremaining: 698ms\n",
      "500:\tlearn: 0.8651786\ttotal: 700ms\tremaining: 697ms\n",
      "501:\tlearn: 0.8636049\ttotal: 701ms\tremaining: 695ms\n",
      "502:\tlearn: 0.8624978\ttotal: 702ms\tremaining: 694ms\n",
      "503:\tlearn: 0.8616622\ttotal: 703ms\tremaining: 692ms\n",
      "504:\tlearn: 0.8608080\ttotal: 704ms\tremaining: 690ms\n",
      "505:\tlearn: 0.8604732\ttotal: 706ms\tremaining: 689ms\n",
      "506:\tlearn: 0.8595459\ttotal: 707ms\tremaining: 687ms\n",
      "507:\tlearn: 0.8579753\ttotal: 707ms\tremaining: 685ms\n",
      "508:\tlearn: 0.8569592\ttotal: 708ms\tremaining: 683ms\n",
      "509:\tlearn: 0.8568982\ttotal: 709ms\tremaining: 681ms\n",
      "510:\tlearn: 0.8556092\ttotal: 712ms\tremaining: 681ms\n",
      "511:\tlearn: 0.8539715\ttotal: 713ms\tremaining: 680ms\n",
      "512:\tlearn: 0.8531821\ttotal: 714ms\tremaining: 678ms\n",
      "513:\tlearn: 0.8516561\ttotal: 715ms\tremaining: 676ms\n",
      "514:\tlearn: 0.8503948\ttotal: 718ms\tremaining: 676ms\n",
      "515:\tlearn: 0.8500756\ttotal: 719ms\tremaining: 674ms\n",
      "516:\tlearn: 0.8493948\ttotal: 720ms\tremaining: 673ms\n",
      "517:\tlearn: 0.8480032\ttotal: 721ms\tremaining: 671ms\n",
      "518:\tlearn: 0.8464361\ttotal: 724ms\tremaining: 671ms\n",
      "519:\tlearn: 0.8460646\ttotal: 726ms\tremaining: 670ms\n",
      "520:\tlearn: 0.8454380\ttotal: 727ms\tremaining: 668ms\n",
      "521:\tlearn: 0.8446410\ttotal: 728ms\tremaining: 666ms\n",
      "522:\tlearn: 0.8437747\ttotal: 731ms\tremaining: 666ms\n",
      "523:\tlearn: 0.8432617\ttotal: 732ms\tremaining: 665ms\n",
      "524:\tlearn: 0.8416050\ttotal: 733ms\tremaining: 663ms\n",
      "525:\tlearn: 0.8403136\ttotal: 736ms\tremaining: 663ms\n",
      "526:\tlearn: 0.8390794\ttotal: 737ms\tremaining: 661ms\n",
      "527:\tlearn: 0.8376524\ttotal: 738ms\tremaining: 660ms\n",
      "528:\tlearn: 0.8367551\ttotal: 740ms\tremaining: 658ms\n",
      "529:\tlearn: 0.8347915\ttotal: 742ms\tremaining: 658ms\n",
      "530:\tlearn: 0.8333395\ttotal: 743ms\tremaining: 656ms\n",
      "531:\tlearn: 0.8324322\ttotal: 744ms\tremaining: 655ms\n",
      "532:\tlearn: 0.8312594\ttotal: 746ms\tremaining: 653ms\n",
      "533:\tlearn: 0.8304624\ttotal: 748ms\tremaining: 653ms\n",
      "534:\tlearn: 0.8303785\ttotal: 749ms\tremaining: 651ms\n",
      "535:\tlearn: 0.8301422\ttotal: 750ms\tremaining: 649ms\n",
      "536:\tlearn: 0.8291137\ttotal: 751ms\tremaining: 647ms\n",
      "537:\tlearn: 0.8286815\ttotal: 752ms\tremaining: 646ms\n",
      "538:\tlearn: 0.8274238\ttotal: 754ms\tremaining: 645ms\n",
      "539:\tlearn: 0.8257773\ttotal: 755ms\tremaining: 643ms\n",
      "540:\tlearn: 0.8252394\ttotal: 756ms\tremaining: 641ms\n",
      "541:\tlearn: 0.8250881\ttotal: 757ms\tremaining: 639ms\n",
      "542:\tlearn: 0.8243750\ttotal: 759ms\tremaining: 639ms\n",
      "543:\tlearn: 0.8223543\ttotal: 760ms\tremaining: 637ms\n",
      "544:\tlearn: 0.8215445\ttotal: 761ms\tremaining: 636ms\n",
      "545:\tlearn: 0.8212661\ttotal: 762ms\tremaining: 634ms\n",
      "546:\tlearn: 0.8211838\ttotal: 763ms\tremaining: 632ms\n",
      "547:\tlearn: 0.8200689\ttotal: 766ms\tremaining: 632ms\n",
      "548:\tlearn: 0.8196118\ttotal: 767ms\tremaining: 630ms\n",
      "549:\tlearn: 0.8183497\ttotal: 768ms\tremaining: 628ms\n",
      "550:\tlearn: 0.8181014\ttotal: 769ms\tremaining: 626ms\n",
      "551:\tlearn: 0.8171985\ttotal: 770ms\tremaining: 625ms\n",
      "552:\tlearn: 0.8167468\ttotal: 773ms\tremaining: 624ms\n",
      "553:\tlearn: 0.8162041\ttotal: 774ms\tremaining: 623ms\n",
      "554:\tlearn: 0.8155874\ttotal: 774ms\tremaining: 621ms\n",
      "555:\tlearn: 0.8138065\ttotal: 775ms\tremaining: 619ms\n",
      "556:\tlearn: 0.8127146\ttotal: 778ms\tremaining: 619ms\n",
      "557:\tlearn: 0.8124184\ttotal: 779ms\tremaining: 617ms\n",
      "558:\tlearn: 0.8113500\ttotal: 780ms\tremaining: 616ms\n",
      "559:\tlearn: 0.8101299\ttotal: 781ms\tremaining: 614ms\n",
      "560:\tlearn: 0.8095160\ttotal: 783ms\tremaining: 613ms\n",
      "561:\tlearn: 0.8089462\ttotal: 784ms\tremaining: 611ms\n",
      "562:\tlearn: 0.8087735\ttotal: 785ms\tremaining: 609ms\n",
      "563:\tlearn: 0.8081724\ttotal: 786ms\tremaining: 608ms\n",
      "564:\tlearn: 0.8070410\ttotal: 787ms\tremaining: 606ms\n",
      "565:\tlearn: 0.8056261\ttotal: 788ms\tremaining: 604ms\n",
      "566:\tlearn: 0.8048813\ttotal: 789ms\tremaining: 603ms\n",
      "567:\tlearn: 0.8039884\ttotal: 790ms\tremaining: 601ms\n",
      "568:\tlearn: 0.8033017\ttotal: 791ms\tremaining: 599ms\n",
      "569:\tlearn: 0.8021828\ttotal: 792ms\tremaining: 598ms\n",
      "570:\tlearn: 0.8002571\ttotal: 793ms\tremaining: 596ms\n",
      "571:\tlearn: 0.7987106\ttotal: 795ms\tremaining: 595ms\n",
      "572:\tlearn: 0.7982583\ttotal: 796ms\tremaining: 593ms\n",
      "573:\tlearn: 0.7981090\ttotal: 797ms\tremaining: 592ms\n",
      "574:\tlearn: 0.7969137\ttotal: 798ms\tremaining: 590ms\n",
      "575:\tlearn: 0.7965737\ttotal: 799ms\tremaining: 588ms\n",
      "576:\tlearn: 0.7960673\ttotal: 799ms\tremaining: 586ms\n",
      "577:\tlearn: 0.7952667\ttotal: 801ms\tremaining: 585ms\n",
      "578:\tlearn: 0.7939165\ttotal: 802ms\tremaining: 583ms\n",
      "579:\tlearn: 0.7935401\ttotal: 803ms\tremaining: 581ms\n",
      "580:\tlearn: 0.7922819\ttotal: 804ms\tremaining: 580ms\n",
      "581:\tlearn: 0.7915067\ttotal: 805ms\tremaining: 578ms\n",
      "582:\tlearn: 0.7912350\ttotal: 806ms\tremaining: 576ms\n",
      "583:\tlearn: 0.7892043\ttotal: 807ms\tremaining: 575ms\n",
      "584:\tlearn: 0.7881820\ttotal: 808ms\tremaining: 574ms\n",
      "585:\tlearn: 0.7876425\ttotal: 809ms\tremaining: 572ms\n",
      "586:\tlearn: 0.7862674\ttotal: 810ms\tremaining: 570ms\n",
      "587:\tlearn: 0.7856942\ttotal: 811ms\tremaining: 568ms\n",
      "588:\tlearn: 0.7843691\ttotal: 812ms\tremaining: 567ms\n",
      "589:\tlearn: 0.7836526\ttotal: 814ms\tremaining: 566ms\n",
      "590:\tlearn: 0.7822327\ttotal: 815ms\tremaining: 564ms\n",
      "591:\tlearn: 0.7808106\ttotal: 816ms\tremaining: 562ms\n",
      "592:\tlearn: 0.7804182\ttotal: 816ms\tremaining: 560ms\n",
      "593:\tlearn: 0.7800669\ttotal: 818ms\tremaining: 559ms\n",
      "594:\tlearn: 0.7788604\ttotal: 819ms\tremaining: 557ms\n",
      "595:\tlearn: 0.7778445\ttotal: 820ms\tremaining: 556ms\n",
      "596:\tlearn: 0.7773921\ttotal: 821ms\tremaining: 554ms\n",
      "597:\tlearn: 0.7762407\ttotal: 822ms\tremaining: 553ms\n",
      "598:\tlearn: 0.7759688\ttotal: 823ms\tremaining: 551ms\n",
      "599:\tlearn: 0.7752622\ttotal: 824ms\tremaining: 549ms\n",
      "600:\tlearn: 0.7742670\ttotal: 827ms\tremaining: 549ms\n",
      "601:\tlearn: 0.7731921\ttotal: 828ms\tremaining: 547ms\n",
      "602:\tlearn: 0.7727655\ttotal: 829ms\tremaining: 546ms\n",
      "603:\tlearn: 0.7718511\ttotal: 830ms\tremaining: 544ms\n",
      "604:\tlearn: 0.7704584\ttotal: 832ms\tremaining: 543ms\n",
      "605:\tlearn: 0.7700781\ttotal: 834ms\tremaining: 542ms\n",
      "606:\tlearn: 0.7697275\ttotal: 835ms\tremaining: 540ms\n",
      "607:\tlearn: 0.7693122\ttotal: 835ms\tremaining: 539ms\n",
      "608:\tlearn: 0.7687130\ttotal: 836ms\tremaining: 537ms\n",
      "609:\tlearn: 0.7680749\ttotal: 838ms\tremaining: 536ms\n",
      "610:\tlearn: 0.7680131\ttotal: 839ms\tremaining: 534ms\n",
      "611:\tlearn: 0.7666613\ttotal: 840ms\tremaining: 533ms\n",
      "612:\tlearn: 0.7661205\ttotal: 841ms\tremaining: 531ms\n",
      "613:\tlearn: 0.7651260\ttotal: 842ms\tremaining: 529ms\n",
      "614:\tlearn: 0.7637190\ttotal: 842ms\tremaining: 527ms\n",
      "615:\tlearn: 0.7631867\ttotal: 845ms\tremaining: 527ms\n",
      "616:\tlearn: 0.7619044\ttotal: 846ms\tremaining: 525ms\n",
      "617:\tlearn: 0.7608281\ttotal: 847ms\tremaining: 523ms\n",
      "618:\tlearn: 0.7605720\ttotal: 848ms\tremaining: 522ms\n",
      "619:\tlearn: 0.7592905\ttotal: 849ms\tremaining: 520ms\n",
      "620:\tlearn: 0.7580106\ttotal: 851ms\tremaining: 519ms\n",
      "621:\tlearn: 0.7570991\ttotal: 852ms\tremaining: 518ms\n",
      "622:\tlearn: 0.7558307\ttotal: 853ms\tremaining: 516ms\n",
      "623:\tlearn: 0.7553454\ttotal: 854ms\tremaining: 514ms\n",
      "624:\tlearn: 0.7544942\ttotal: 855ms\tremaining: 513ms\n",
      "625:\tlearn: 0.7534860\ttotal: 857ms\tremaining: 512ms\n",
      "626:\tlearn: 0.7524128\ttotal: 859ms\tremaining: 511ms\n",
      "627:\tlearn: 0.7521081\ttotal: 860ms\tremaining: 509ms\n",
      "628:\tlearn: 0.7517056\ttotal: 861ms\tremaining: 508ms\n",
      "629:\tlearn: 0.7504471\ttotal: 863ms\tremaining: 507ms\n",
      "630:\tlearn: 0.7494280\ttotal: 864ms\tremaining: 506ms\n",
      "631:\tlearn: 0.7485884\ttotal: 865ms\tremaining: 504ms\n",
      "632:\tlearn: 0.7474762\ttotal: 867ms\tremaining: 503ms\n",
      "633:\tlearn: 0.7465759\ttotal: 872ms\tremaining: 503ms\n",
      "634:\tlearn: 0.7465045\ttotal: 873ms\tremaining: 502ms\n",
      "635:\tlearn: 0.7464460\ttotal: 873ms\tremaining: 500ms\n",
      "636:\tlearn: 0.7455973\ttotal: 876ms\tremaining: 499ms\n",
      "637:\tlearn: 0.7450834\ttotal: 876ms\tremaining: 497ms\n",
      "638:\tlearn: 0.7443916\ttotal: 877ms\tremaining: 496ms\n",
      "639:\tlearn: 0.7434095\ttotal: 878ms\tremaining: 494ms\n",
      "640:\tlearn: 0.7432211\ttotal: 879ms\tremaining: 492ms\n",
      "641:\tlearn: 0.7426486\ttotal: 880ms\tremaining: 491ms\n",
      "642:\tlearn: 0.7419554\ttotal: 882ms\tremaining: 490ms\n",
      "643:\tlearn: 0.7411403\ttotal: 883ms\tremaining: 488ms\n",
      "644:\tlearn: 0.7400601\ttotal: 883ms\tremaining: 486ms\n",
      "645:\tlearn: 0.7392081\ttotal: 884ms\tremaining: 485ms\n",
      "646:\tlearn: 0.7386900\ttotal: 885ms\tremaining: 483ms\n",
      "647:\tlearn: 0.7381358\ttotal: 888ms\tremaining: 482ms\n",
      "648:\tlearn: 0.7370558\ttotal: 888ms\tremaining: 481ms\n",
      "649:\tlearn: 0.7362432\ttotal: 889ms\tremaining: 479ms\n",
      "650:\tlearn: 0.7352278\ttotal: 890ms\tremaining: 477ms\n",
      "651:\tlearn: 0.7336527\ttotal: 891ms\tremaining: 476ms\n",
      "652:\tlearn: 0.7332379\ttotal: 893ms\tremaining: 474ms\n",
      "653:\tlearn: 0.7324271\ttotal: 894ms\tremaining: 473ms\n",
      "654:\tlearn: 0.7312532\ttotal: 895ms\tremaining: 471ms\n",
      "655:\tlearn: 0.7299624\ttotal: 896ms\tremaining: 470ms\n",
      "656:\tlearn: 0.7287606\ttotal: 897ms\tremaining: 468ms\n",
      "657:\tlearn: 0.7283620\ttotal: 899ms\tremaining: 467ms\n",
      "658:\tlearn: 0.7283057\ttotal: 900ms\tremaining: 466ms\n",
      "659:\tlearn: 0.7269954\ttotal: 901ms\tremaining: 464ms\n",
      "660:\tlearn: 0.7258910\ttotal: 902ms\tremaining: 462ms\n",
      "661:\tlearn: 0.7252789\ttotal: 902ms\tremaining: 461ms\n",
      "662:\tlearn: 0.7243204\ttotal: 903ms\tremaining: 459ms\n",
      "663:\tlearn: 0.7238118\ttotal: 904ms\tremaining: 457ms\n",
      "664:\tlearn: 0.7230809\ttotal: 905ms\tremaining: 456ms\n",
      "665:\tlearn: 0.7227204\ttotal: 906ms\tremaining: 454ms\n",
      "666:\tlearn: 0.7217513\ttotal: 907ms\tremaining: 453ms\n",
      "667:\tlearn: 0.7215955\ttotal: 908ms\tremaining: 451ms\n",
      "668:\tlearn: 0.7206810\ttotal: 908ms\tremaining: 449ms\n",
      "669:\tlearn: 0.7206374\ttotal: 911ms\tremaining: 449ms\n",
      "670:\tlearn: 0.7190604\ttotal: 912ms\tremaining: 447ms\n",
      "671:\tlearn: 0.7186795\ttotal: 913ms\tremaining: 445ms\n",
      "672:\tlearn: 0.7181791\ttotal: 913ms\tremaining: 444ms\n",
      "673:\tlearn: 0.7169373\ttotal: 914ms\tremaining: 442ms\n",
      "674:\tlearn: 0.7158878\ttotal: 915ms\tremaining: 441ms\n",
      "675:\tlearn: 0.7148438\ttotal: 917ms\tremaining: 439ms\n",
      "676:\tlearn: 0.7139511\ttotal: 918ms\tremaining: 438ms\n",
      "677:\tlearn: 0.7131688\ttotal: 919ms\tremaining: 436ms\n",
      "678:\tlearn: 0.7126191\ttotal: 920ms\tremaining: 435ms\n",
      "679:\tlearn: 0.7125653\ttotal: 920ms\tremaining: 433ms\n",
      "680:\tlearn: 0.7122482\ttotal: 921ms\tremaining: 431ms\n",
      "681:\tlearn: 0.7109832\ttotal: 923ms\tremaining: 430ms\n",
      "682:\tlearn: 0.7105527\ttotal: 924ms\tremaining: 429ms\n",
      "683:\tlearn: 0.7095971\ttotal: 925ms\tremaining: 427ms\n",
      "684:\tlearn: 0.7083578\ttotal: 926ms\tremaining: 426ms\n",
      "685:\tlearn: 0.7074757\ttotal: 926ms\tremaining: 424ms\n",
      "686:\tlearn: 0.7069964\ttotal: 927ms\tremaining: 422ms\n",
      "687:\tlearn: 0.7062139\ttotal: 930ms\tremaining: 422ms\n",
      "688:\tlearn: 0.7054557\ttotal: 930ms\tremaining: 420ms\n",
      "689:\tlearn: 0.7046682\ttotal: 931ms\tremaining: 418ms\n",
      "690:\tlearn: 0.7046229\ttotal: 932ms\tremaining: 417ms\n",
      "691:\tlearn: 0.7039045\ttotal: 933ms\tremaining: 415ms\n",
      "692:\tlearn: 0.7029438\ttotal: 934ms\tremaining: 414ms\n",
      "693:\tlearn: 0.7025963\ttotal: 935ms\tremaining: 412ms\n",
      "694:\tlearn: 0.7015723\ttotal: 936ms\tremaining: 411ms\n",
      "695:\tlearn: 0.7007626\ttotal: 937ms\tremaining: 409ms\n",
      "696:\tlearn: 0.6996945\ttotal: 938ms\tremaining: 408ms\n",
      "697:\tlearn: 0.6994465\ttotal: 939ms\tremaining: 406ms\n",
      "698:\tlearn: 0.6987601\ttotal: 941ms\tremaining: 405ms\n",
      "699:\tlearn: 0.6979891\ttotal: 942ms\tremaining: 404ms\n",
      "700:\tlearn: 0.6972323\ttotal: 943ms\tremaining: 402ms\n",
      "701:\tlearn: 0.6965854\ttotal: 943ms\tremaining: 400ms\n",
      "702:\tlearn: 0.6961804\ttotal: 944ms\tremaining: 399ms\n",
      "703:\tlearn: 0.6954253\ttotal: 946ms\tremaining: 398ms\n",
      "704:\tlearn: 0.6952325\ttotal: 947ms\tremaining: 396ms\n",
      "705:\tlearn: 0.6939932\ttotal: 948ms\tremaining: 395ms\n",
      "706:\tlearn: 0.6933529\ttotal: 949ms\tremaining: 393ms\n",
      "707:\tlearn: 0.6927649\ttotal: 949ms\tremaining: 392ms\n",
      "708:\tlearn: 0.6924194\ttotal: 950ms\tremaining: 390ms\n",
      "709:\tlearn: 0.6916263\ttotal: 952ms\tremaining: 389ms\n",
      "710:\tlearn: 0.6910815\ttotal: 953ms\tremaining: 387ms\n",
      "711:\tlearn: 0.6905002\ttotal: 955ms\tremaining: 386ms\n",
      "712:\tlearn: 0.6899289\ttotal: 956ms\tremaining: 385ms\n",
      "713:\tlearn: 0.6889306\ttotal: 956ms\tremaining: 383ms\n",
      "714:\tlearn: 0.6887494\ttotal: 958ms\tremaining: 382ms\n",
      "715:\tlearn: 0.6879596\ttotal: 959ms\tremaining: 380ms\n",
      "716:\tlearn: 0.6869130\ttotal: 961ms\tremaining: 379ms\n",
      "717:\tlearn: 0.6864776\ttotal: 961ms\tremaining: 378ms\n",
      "718:\tlearn: 0.6859485\ttotal: 962ms\tremaining: 376ms\n",
      "719:\tlearn: 0.6855989\ttotal: 964ms\tremaining: 375ms\n",
      "720:\tlearn: 0.6848016\ttotal: 965ms\tremaining: 373ms\n",
      "721:\tlearn: 0.6842152\ttotal: 966ms\tremaining: 372ms\n",
      "722:\tlearn: 0.6830552\ttotal: 967ms\tremaining: 371ms\n",
      "723:\tlearn: 0.6828603\ttotal: 968ms\tremaining: 369ms\n",
      "724:\tlearn: 0.6813393\ttotal: 969ms\tremaining: 368ms\n",
      "725:\tlearn: 0.6809303\ttotal: 971ms\tremaining: 366ms\n",
      "726:\tlearn: 0.6799042\ttotal: 972ms\tremaining: 365ms\n",
      "727:\tlearn: 0.6791868\ttotal: 973ms\tremaining: 363ms\n",
      "728:\tlearn: 0.6774303\ttotal: 973ms\tremaining: 362ms\n",
      "729:\tlearn: 0.6768472\ttotal: 974ms\tremaining: 360ms\n",
      "730:\tlearn: 0.6762883\ttotal: 976ms\tremaining: 359ms\n",
      "731:\tlearn: 0.6753292\ttotal: 977ms\tremaining: 358ms\n",
      "732:\tlearn: 0.6744368\ttotal: 978ms\tremaining: 356ms\n",
      "733:\tlearn: 0.6736988\ttotal: 979ms\tremaining: 355ms\n",
      "734:\tlearn: 0.6726572\ttotal: 980ms\tremaining: 353ms\n",
      "735:\tlearn: 0.6717595\ttotal: 980ms\tremaining: 352ms\n",
      "736:\tlearn: 0.6717093\ttotal: 982ms\tremaining: 351ms\n",
      "737:\tlearn: 0.6714668\ttotal: 983ms\tremaining: 349ms\n",
      "738:\tlearn: 0.6707491\ttotal: 984ms\tremaining: 348ms\n",
      "739:\tlearn: 0.6696871\ttotal: 985ms\tremaining: 346ms\n",
      "740:\tlearn: 0.6685893\ttotal: 986ms\tremaining: 345ms\n"
     ]
    },
    {
     "name": "stdout",
     "output_type": "stream",
     "text": [
      "741:\tlearn: 0.6679062\ttotal: 988ms\tremaining: 344ms\n",
      "742:\tlearn: 0.6673970\ttotal: 1s\tremaining: 347ms\n",
      "743:\tlearn: 0.6670886\ttotal: 1s\tremaining: 346ms\n",
      "744:\tlearn: 0.6658068\ttotal: 1s\tremaining: 344ms\n",
      "745:\tlearn: 0.6652866\ttotal: 1.01s\tremaining: 343ms\n",
      "746:\tlearn: 0.6647163\ttotal: 1.01s\tremaining: 342ms\n",
      "747:\tlearn: 0.6642016\ttotal: 1.01s\tremaining: 340ms\n",
      "748:\tlearn: 0.6636847\ttotal: 1.01s\tremaining: 339ms\n",
      "749:\tlearn: 0.6631353\ttotal: 1.01s\tremaining: 337ms\n",
      "750:\tlearn: 0.6626597\ttotal: 1.01s\tremaining: 335ms\n",
      "751:\tlearn: 0.6613458\ttotal: 1.01s\tremaining: 334ms\n",
      "752:\tlearn: 0.6610823\ttotal: 1.01s\tremaining: 333ms\n",
      "753:\tlearn: 0.6602657\ttotal: 1.01s\tremaining: 331ms\n",
      "754:\tlearn: 0.6592541\ttotal: 1.02s\tremaining: 330ms\n",
      "755:\tlearn: 0.6592097\ttotal: 1.02s\tremaining: 328ms\n",
      "756:\tlearn: 0.6588552\ttotal: 1.02s\tremaining: 327ms\n",
      "757:\tlearn: 0.6581234\ttotal: 1.02s\tremaining: 325ms\n",
      "758:\tlearn: 0.6578451\ttotal: 1.02s\tremaining: 324ms\n",
      "759:\tlearn: 0.6575698\ttotal: 1.02s\tremaining: 323ms\n",
      "760:\tlearn: 0.6574171\ttotal: 1.02s\tremaining: 321ms\n",
      "761:\tlearn: 0.6567509\ttotal: 1.02s\tremaining: 320ms\n",
      "762:\tlearn: 0.6563518\ttotal: 1.02s\tremaining: 318ms\n",
      "763:\tlearn: 0.6553781\ttotal: 1.02s\tremaining: 317ms\n",
      "764:\tlearn: 0.6541858\ttotal: 1.03s\tremaining: 315ms\n",
      "765:\tlearn: 0.6540380\ttotal: 1.03s\tremaining: 314ms\n",
      "766:\tlearn: 0.6533584\ttotal: 1.03s\tremaining: 312ms\n",
      "767:\tlearn: 0.6529455\ttotal: 1.03s\tremaining: 311ms\n",
      "768:\tlearn: 0.6524918\ttotal: 1.03s\tremaining: 309ms\n",
      "769:\tlearn: 0.6514651\ttotal: 1.03s\tremaining: 308ms\n",
      "770:\tlearn: 0.6514228\ttotal: 1.03s\tremaining: 307ms\n",
      "771:\tlearn: 0.6507392\ttotal: 1.03s\tremaining: 305ms\n",
      "772:\tlearn: 0.6496627\ttotal: 1.03s\tremaining: 304ms\n",
      "773:\tlearn: 0.6489223\ttotal: 1.03s\tremaining: 302ms\n",
      "774:\tlearn: 0.6485503\ttotal: 1.03s\tremaining: 301ms\n",
      "775:\tlearn: 0.6476875\ttotal: 1.04s\tremaining: 300ms\n",
      "776:\tlearn: 0.6472167\ttotal: 1.04s\tremaining: 298ms\n",
      "777:\tlearn: 0.6460622\ttotal: 1.04s\tremaining: 297ms\n",
      "778:\tlearn: 0.6449593\ttotal: 1.04s\tremaining: 295ms\n",
      "779:\tlearn: 0.6445980\ttotal: 1.04s\tremaining: 294ms\n",
      "780:\tlearn: 0.6442305\ttotal: 1.04s\tremaining: 292ms\n",
      "781:\tlearn: 0.6436383\ttotal: 1.04s\tremaining: 291ms\n",
      "782:\tlearn: 0.6426609\ttotal: 1.04s\tremaining: 290ms\n",
      "783:\tlearn: 0.6418653\ttotal: 1.04s\tremaining: 288ms\n",
      "784:\tlearn: 0.6411765\ttotal: 1.05s\tremaining: 287ms\n",
      "785:\tlearn: 0.6409408\ttotal: 1.05s\tremaining: 285ms\n",
      "786:\tlearn: 0.6404872\ttotal: 1.05s\tremaining: 284ms\n",
      "787:\tlearn: 0.6392256\ttotal: 1.05s\tremaining: 283ms\n",
      "788:\tlearn: 0.6386807\ttotal: 1.05s\tremaining: 281ms\n",
      "789:\tlearn: 0.6383966\ttotal: 1.05s\tremaining: 280ms\n",
      "790:\tlearn: 0.6381441\ttotal: 1.05s\tremaining: 278ms\n",
      "791:\tlearn: 0.6379252\ttotal: 1.05s\tremaining: 277ms\n",
      "792:\tlearn: 0.6375342\ttotal: 1.05s\tremaining: 276ms\n",
      "793:\tlearn: 0.6368691\ttotal: 1.06s\tremaining: 274ms\n",
      "794:\tlearn: 0.6360087\ttotal: 1.06s\tremaining: 273ms\n",
      "795:\tlearn: 0.6355229\ttotal: 1.06s\tremaining: 271ms\n",
      "796:\tlearn: 0.6345197\ttotal: 1.06s\tremaining: 270ms\n",
      "797:\tlearn: 0.6332435\ttotal: 1.06s\tremaining: 269ms\n",
      "798:\tlearn: 0.6325206\ttotal: 1.06s\tremaining: 267ms\n",
      "799:\tlearn: 0.6321359\ttotal: 1.06s\tremaining: 266ms\n",
      "800:\tlearn: 0.6317886\ttotal: 1.06s\tremaining: 264ms\n",
      "801:\tlearn: 0.6312672\ttotal: 1.06s\tremaining: 263ms\n",
      "802:\tlearn: 0.6306742\ttotal: 1.06s\tremaining: 261ms\n",
      "803:\tlearn: 0.6306207\ttotal: 1.07s\tremaining: 260ms\n",
      "804:\tlearn: 0.6304768\ttotal: 1.07s\tremaining: 259ms\n",
      "805:\tlearn: 0.6296084\ttotal: 1.07s\tremaining: 257ms\n",
      "806:\tlearn: 0.6284932\ttotal: 1.07s\tremaining: 256ms\n",
      "807:\tlearn: 0.6281273\ttotal: 1.07s\tremaining: 254ms\n",
      "808:\tlearn: 0.6274627\ttotal: 1.07s\tremaining: 253ms\n",
      "809:\tlearn: 0.6274222\ttotal: 1.07s\tremaining: 252ms\n",
      "810:\tlearn: 0.6267758\ttotal: 1.07s\tremaining: 250ms\n",
      "811:\tlearn: 0.6259000\ttotal: 1.07s\tremaining: 249ms\n",
      "812:\tlearn: 0.6255003\ttotal: 1.08s\tremaining: 248ms\n",
      "813:\tlearn: 0.6251275\ttotal: 1.08s\tremaining: 246ms\n",
      "814:\tlearn: 0.6246751\ttotal: 1.08s\tremaining: 245ms\n",
      "815:\tlearn: 0.6241705\ttotal: 1.08s\tremaining: 244ms\n",
      "816:\tlearn: 0.6239290\ttotal: 1.08s\tremaining: 242ms\n",
      "817:\tlearn: 0.6237527\ttotal: 1.08s\tremaining: 241ms\n",
      "818:\tlearn: 0.6228300\ttotal: 1.08s\tremaining: 239ms\n",
      "819:\tlearn: 0.6222543\ttotal: 1.08s\tremaining: 238ms\n",
      "820:\tlearn: 0.6219059\ttotal: 1.08s\tremaining: 236ms\n",
      "821:\tlearn: 0.6208857\ttotal: 1.09s\tremaining: 235ms\n",
      "822:\tlearn: 0.6203568\ttotal: 1.09s\tremaining: 234ms\n",
      "823:\tlearn: 0.6199671\ttotal: 1.09s\tremaining: 232ms\n",
      "824:\tlearn: 0.6197444\ttotal: 1.09s\tremaining: 231ms\n",
      "825:\tlearn: 0.6190363\ttotal: 1.09s\tremaining: 230ms\n",
      "826:\tlearn: 0.6178837\ttotal: 1.09s\tremaining: 228ms\n",
      "827:\tlearn: 0.6173104\ttotal: 1.09s\tremaining: 227ms\n",
      "828:\tlearn: 0.6171671\ttotal: 1.09s\tremaining: 225ms\n",
      "829:\tlearn: 0.6167690\ttotal: 1.09s\tremaining: 224ms\n",
      "830:\tlearn: 0.6160951\ttotal: 1.09s\tremaining: 223ms\n",
      "831:\tlearn: 0.6160446\ttotal: 1.09s\tremaining: 221ms\n",
      "832:\tlearn: 0.6149507\ttotal: 1.1s\tremaining: 220ms\n",
      "833:\tlearn: 0.6137485\ttotal: 1.1s\tremaining: 219ms\n",
      "834:\tlearn: 0.6126185\ttotal: 1.1s\tremaining: 217ms\n",
      "835:\tlearn: 0.6123017\ttotal: 1.1s\tremaining: 216ms\n",
      "836:\tlearn: 0.6116491\ttotal: 1.1s\tremaining: 214ms\n",
      "837:\tlearn: 0.6109105\ttotal: 1.1s\tremaining: 213ms\n",
      "838:\tlearn: 0.6102448\ttotal: 1.1s\tremaining: 212ms\n",
      "839:\tlearn: 0.6091052\ttotal: 1.1s\tremaining: 210ms\n",
      "840:\tlearn: 0.6086157\ttotal: 1.1s\tremaining: 209ms\n",
      "841:\tlearn: 0.6076332\ttotal: 1.1s\tremaining: 207ms\n",
      "842:\tlearn: 0.6068919\ttotal: 1.11s\tremaining: 206ms\n",
      "843:\tlearn: 0.6058743\ttotal: 1.11s\tremaining: 205ms\n",
      "844:\tlearn: 0.6048330\ttotal: 1.11s\tremaining: 203ms\n",
      "845:\tlearn: 0.6041551\ttotal: 1.11s\tremaining: 202ms\n",
      "846:\tlearn: 0.6040740\ttotal: 1.11s\tremaining: 201ms\n",
      "847:\tlearn: 0.6040462\ttotal: 1.11s\tremaining: 199ms\n",
      "848:\tlearn: 0.6030597\ttotal: 1.11s\tremaining: 198ms\n",
      "849:\tlearn: 0.6025207\ttotal: 1.11s\tremaining: 197ms\n",
      "850:\tlearn: 0.6018309\ttotal: 1.11s\tremaining: 195ms\n",
      "851:\tlearn: 0.6013753\ttotal: 1.12s\tremaining: 194ms\n",
      "852:\tlearn: 0.6005398\ttotal: 1.12s\tremaining: 193ms\n",
      "853:\tlearn: 0.6001909\ttotal: 1.12s\tremaining: 191ms\n",
      "854:\tlearn: 0.5998125\ttotal: 1.12s\tremaining: 190ms\n",
      "855:\tlearn: 0.5986637\ttotal: 1.12s\tremaining: 188ms\n",
      "856:\tlearn: 0.5982520\ttotal: 1.12s\tremaining: 187ms\n",
      "857:\tlearn: 0.5976080\ttotal: 1.12s\tremaining: 186ms\n",
      "858:\tlearn: 0.5972860\ttotal: 1.12s\tremaining: 184ms\n",
      "859:\tlearn: 0.5968452\ttotal: 1.12s\tremaining: 183ms\n",
      "860:\tlearn: 0.5964075\ttotal: 1.13s\tremaining: 182ms\n",
      "861:\tlearn: 0.5955234\ttotal: 1.13s\tremaining: 180ms\n",
      "862:\tlearn: 0.5951844\ttotal: 1.13s\tremaining: 179ms\n",
      "863:\tlearn: 0.5945824\ttotal: 1.13s\tremaining: 178ms\n",
      "864:\tlearn: 0.5943177\ttotal: 1.13s\tremaining: 176ms\n",
      "865:\tlearn: 0.5940677\ttotal: 1.13s\tremaining: 175ms\n",
      "866:\tlearn: 0.5936190\ttotal: 1.13s\tremaining: 174ms\n",
      "867:\tlearn: 0.5928794\ttotal: 1.13s\tremaining: 172ms\n",
      "868:\tlearn: 0.5920899\ttotal: 1.13s\tremaining: 171ms\n",
      "869:\tlearn: 0.5920570\ttotal: 1.14s\tremaining: 170ms\n",
      "870:\tlearn: 0.5912070\ttotal: 1.14s\tremaining: 168ms\n",
      "871:\tlearn: 0.5904337\ttotal: 1.14s\tremaining: 167ms\n",
      "872:\tlearn: 0.5899693\ttotal: 1.14s\tremaining: 166ms\n",
      "873:\tlearn: 0.5894466\ttotal: 1.14s\tremaining: 164ms\n",
      "874:\tlearn: 0.5888957\ttotal: 1.14s\tremaining: 163ms\n",
      "875:\tlearn: 0.5883525\ttotal: 1.14s\tremaining: 162ms\n",
      "876:\tlearn: 0.5878934\ttotal: 1.14s\tremaining: 160ms\n",
      "877:\tlearn: 0.5869900\ttotal: 1.14s\tremaining: 159ms\n",
      "878:\tlearn: 0.5860622\ttotal: 1.15s\tremaining: 158ms\n",
      "879:\tlearn: 0.5859553\ttotal: 1.15s\tremaining: 156ms\n",
      "880:\tlearn: 0.5854150\ttotal: 1.15s\tremaining: 155ms\n",
      "881:\tlearn: 0.5846916\ttotal: 1.15s\tremaining: 154ms\n",
      "882:\tlearn: 0.5844784\ttotal: 1.15s\tremaining: 152ms\n",
      "883:\tlearn: 0.5839227\ttotal: 1.15s\tremaining: 151ms\n",
      "884:\tlearn: 0.5834021\ttotal: 1.15s\tremaining: 150ms\n",
      "885:\tlearn: 0.5827369\ttotal: 1.15s\tremaining: 148ms\n",
      "886:\tlearn: 0.5820170\ttotal: 1.15s\tremaining: 147ms\n",
      "887:\tlearn: 0.5814443\ttotal: 1.16s\tremaining: 146ms\n",
      "888:\tlearn: 0.5805770\ttotal: 1.16s\tremaining: 145ms\n",
      "889:\tlearn: 0.5802594\ttotal: 1.16s\tremaining: 143ms\n",
      "890:\tlearn: 0.5798343\ttotal: 1.16s\tremaining: 142ms\n",
      "891:\tlearn: 0.5793125\ttotal: 1.16s\tremaining: 141ms\n",
      "892:\tlearn: 0.5792821\ttotal: 1.16s\tremaining: 139ms\n",
      "893:\tlearn: 0.5779747\ttotal: 1.16s\tremaining: 138ms\n",
      "894:\tlearn: 0.5776782\ttotal: 1.16s\tremaining: 137ms\n",
      "895:\tlearn: 0.5764215\ttotal: 1.17s\tremaining: 135ms\n",
      "896:\tlearn: 0.5759399\ttotal: 1.17s\tremaining: 134ms\n",
      "897:\tlearn: 0.5752800\ttotal: 1.17s\tremaining: 133ms\n",
      "898:\tlearn: 0.5744897\ttotal: 1.17s\tremaining: 131ms\n",
      "899:\tlearn: 0.5742223\ttotal: 1.17s\tremaining: 130ms\n",
      "900:\tlearn: 0.5735693\ttotal: 1.17s\tremaining: 129ms\n",
      "901:\tlearn: 0.5731448\ttotal: 1.17s\tremaining: 127ms\n",
      "902:\tlearn: 0.5723400\ttotal: 1.17s\tremaining: 126ms\n",
      "903:\tlearn: 0.5716684\ttotal: 1.17s\tremaining: 125ms\n",
      "904:\tlearn: 0.5716286\ttotal: 1.17s\tremaining: 123ms\n",
      "905:\tlearn: 0.5711402\ttotal: 1.18s\tremaining: 122ms\n",
      "906:\tlearn: 0.5709447\ttotal: 1.18s\tremaining: 121ms\n",
      "907:\tlearn: 0.5701817\ttotal: 1.18s\tremaining: 119ms\n",
      "908:\tlearn: 0.5696232\ttotal: 1.18s\tremaining: 118ms\n",
      "909:\tlearn: 0.5689145\ttotal: 1.18s\tremaining: 117ms\n",
      "910:\tlearn: 0.5688699\ttotal: 1.18s\tremaining: 115ms\n",
      "911:\tlearn: 0.5688323\ttotal: 1.18s\tremaining: 114ms\n",
      "912:\tlearn: 0.5677608\ttotal: 1.18s\tremaining: 113ms\n",
      "913:\tlearn: 0.5669189\ttotal: 1.18s\tremaining: 111ms\n",
      "914:\tlearn: 0.5665176\ttotal: 1.18s\tremaining: 110ms\n",
      "915:\tlearn: 0.5664227\ttotal: 1.19s\tremaining: 109ms\n",
      "916:\tlearn: 0.5652593\ttotal: 1.19s\tremaining: 107ms\n",
      "917:\tlearn: 0.5648537\ttotal: 1.19s\tremaining: 106ms\n",
      "918:\tlearn: 0.5643425\ttotal: 1.19s\tremaining: 105ms\n",
      "919:\tlearn: 0.5638655\ttotal: 1.19s\tremaining: 103ms\n",
      "920:\tlearn: 0.5632044\ttotal: 1.19s\tremaining: 102ms\n",
      "921:\tlearn: 0.5625508\ttotal: 1.19s\tremaining: 101ms\n",
      "922:\tlearn: 0.5625219\ttotal: 1.19s\tremaining: 99.5ms\n",
      "923:\tlearn: 0.5620792\ttotal: 1.19s\tremaining: 98.2ms\n",
      "924:\tlearn: 0.5616171\ttotal: 1.19s\tremaining: 96.9ms\n",
      "925:\tlearn: 0.5614232\ttotal: 1.2s\tremaining: 95.6ms\n",
      "926:\tlearn: 0.5607487\ttotal: 1.2s\tremaining: 94.2ms\n",
      "927:\tlearn: 0.5603556\ttotal: 1.2s\tremaining: 92.9ms\n",
      "928:\tlearn: 0.5594187\ttotal: 1.2s\tremaining: 91.6ms\n",
      "929:\tlearn: 0.5590654\ttotal: 1.2s\tremaining: 90.4ms\n",
      "930:\tlearn: 0.5588340\ttotal: 1.2s\tremaining: 89.1ms\n",
      "931:\tlearn: 0.5583236\ttotal: 1.2s\tremaining: 87.7ms\n",
      "932:\tlearn: 0.5582904\ttotal: 1.2s\tremaining: 86.4ms\n",
      "933:\tlearn: 0.5579071\ttotal: 1.2s\tremaining: 85.1ms\n",
      "934:\tlearn: 0.5568678\ttotal: 1.21s\tremaining: 83.8ms\n",
      "935:\tlearn: 0.5568376\ttotal: 1.21s\tremaining: 82.5ms\n",
      "936:\tlearn: 0.5561459\ttotal: 1.21s\tremaining: 81.2ms\n",
      "937:\tlearn: 0.5548643\ttotal: 1.21s\tremaining: 79.9ms\n",
      "938:\tlearn: 0.5541339\ttotal: 1.21s\tremaining: 78.6ms\n",
      "939:\tlearn: 0.5535588\ttotal: 1.21s\tremaining: 77.3ms\n",
      "940:\tlearn: 0.5532694\ttotal: 1.21s\tremaining: 76ms\n",
      "941:\tlearn: 0.5532404\ttotal: 1.21s\tremaining: 74.7ms\n",
      "942:\tlearn: 0.5527273\ttotal: 1.21s\tremaining: 73.4ms\n",
      "943:\tlearn: 0.5526123\ttotal: 1.22s\tremaining: 72.1ms\n",
      "944:\tlearn: 0.5524064\ttotal: 1.22s\tremaining: 70.8ms\n",
      "945:\tlearn: 0.5520900\ttotal: 1.22s\tremaining: 69.4ms\n",
      "946:\tlearn: 0.5515282\ttotal: 1.22s\tremaining: 68.1ms\n",
      "947:\tlearn: 0.5512760\ttotal: 1.22s\tremaining: 66.9ms\n",
      "948:\tlearn: 0.5510266\ttotal: 1.22s\tremaining: 65.6ms\n",
      "949:\tlearn: 0.5507322\ttotal: 1.22s\tremaining: 64.3ms\n",
      "950:\tlearn: 0.5502538\ttotal: 1.22s\tremaining: 63ms\n",
      "951:\tlearn: 0.5497241\ttotal: 1.22s\tremaining: 61.7ms\n",
      "952:\tlearn: 0.5496951\ttotal: 1.22s\tremaining: 60.3ms\n",
      "953:\tlearn: 0.5492166\ttotal: 1.23s\tremaining: 59.1ms\n",
      "954:\tlearn: 0.5488544\ttotal: 1.23s\tremaining: 57.8ms\n",
      "955:\tlearn: 0.5479676\ttotal: 1.23s\tremaining: 56.5ms\n",
      "956:\tlearn: 0.5479361\ttotal: 1.23s\tremaining: 55.2ms\n",
      "957:\tlearn: 0.5479112\ttotal: 1.23s\tremaining: 53.9ms\n",
      "958:\tlearn: 0.5471633\ttotal: 1.23s\tremaining: 52.6ms\n",
      "959:\tlearn: 0.5468353\ttotal: 1.23s\tremaining: 51.3ms\n",
      "960:\tlearn: 0.5456121\ttotal: 1.23s\tremaining: 50ms\n",
      "961:\tlearn: 0.5451933\ttotal: 1.23s\tremaining: 48.7ms\n",
      "962:\tlearn: 0.5448443\ttotal: 1.23s\tremaining: 47.4ms\n",
      "963:\tlearn: 0.5443273\ttotal: 1.23s\tremaining: 46.1ms\n",
      "964:\tlearn: 0.5443093\ttotal: 1.24s\tremaining: 44.8ms\n",
      "965:\tlearn: 0.5433582\ttotal: 1.24s\tremaining: 43.5ms\n",
      "966:\tlearn: 0.5427640\ttotal: 1.24s\tremaining: 42.2ms\n",
      "967:\tlearn: 0.5423396\ttotal: 1.24s\tremaining: 40.9ms\n",
      "968:\tlearn: 0.5418524\ttotal: 1.24s\tremaining: 39.6ms\n",
      "969:\tlearn: 0.5417105\ttotal: 1.24s\tremaining: 38.4ms\n",
      "970:\tlearn: 0.5416225\ttotal: 1.24s\tremaining: 37.1ms\n",
      "971:\tlearn: 0.5415972\ttotal: 1.24s\tremaining: 35.8ms\n",
      "972:\tlearn: 0.5407886\ttotal: 1.24s\tremaining: 34.5ms\n",
      "973:\tlearn: 0.5404078\ttotal: 1.24s\tremaining: 33.2ms\n",
      "974:\tlearn: 0.5399922\ttotal: 1.24s\tremaining: 31.9ms\n",
      "975:\tlearn: 0.5393018\ttotal: 1.25s\tremaining: 30.6ms\n",
      "976:\tlearn: 0.5390033\ttotal: 1.25s\tremaining: 29.3ms\n",
      "977:\tlearn: 0.5385266\ttotal: 1.25s\tremaining: 28.1ms\n",
      "978:\tlearn: 0.5377346\ttotal: 1.25s\tremaining: 26.8ms\n",
      "979:\tlearn: 0.5374213\ttotal: 1.25s\tremaining: 25.5ms\n",
      "980:\tlearn: 0.5364938\ttotal: 1.25s\tremaining: 24.2ms\n",
      "981:\tlearn: 0.5356227\ttotal: 1.25s\tremaining: 22.9ms\n",
      "982:\tlearn: 0.5353398\ttotal: 1.25s\tremaining: 21.7ms\n",
      "983:\tlearn: 0.5347454\ttotal: 1.25s\tremaining: 20.4ms\n",
      "984:\tlearn: 0.5345470\ttotal: 1.25s\tremaining: 19.1ms\n",
      "985:\tlearn: 0.5336796\ttotal: 1.25s\tremaining: 17.8ms\n",
      "986:\tlearn: 0.5329071\ttotal: 1.26s\tremaining: 16.6ms\n",
      "987:\tlearn: 0.5325050\ttotal: 1.26s\tremaining: 15.3ms\n",
      "988:\tlearn: 0.5321862\ttotal: 1.26s\tremaining: 14ms\n",
      "989:\tlearn: 0.5318282\ttotal: 1.26s\tremaining: 12.7ms\n",
      "990:\tlearn: 0.5309132\ttotal: 1.26s\tremaining: 11.5ms\n",
      "991:\tlearn: 0.5301333\ttotal: 1.26s\tremaining: 10.2ms\n",
      "992:\tlearn: 0.5293015\ttotal: 1.26s\tremaining: 8.9ms\n",
      "993:\tlearn: 0.5289751\ttotal: 1.26s\tremaining: 7.63ms\n",
      "994:\tlearn: 0.5289488\ttotal: 1.26s\tremaining: 6.36ms\n",
      "995:\tlearn: 0.5289223\ttotal: 1.27s\tremaining: 5.08ms\n",
      "996:\tlearn: 0.5283859\ttotal: 1.27s\tremaining: 3.81ms\n",
      "997:\tlearn: 0.5278389\ttotal: 1.27s\tremaining: 2.54ms\n",
      "998:\tlearn: 0.5278087\ttotal: 1.27s\tremaining: 1.27ms\n",
      "999:\tlearn: 0.5274195\ttotal: 1.27s\tremaining: 0us\n"
     ]
    },
    {
     "data": {
      "text/plain": [
       "<catboost.core.CatBoostRegressor at 0x18ff96c5e80>"
      ]
     },
     "execution_count": 40,
     "metadata": {},
     "output_type": "execute_result"
    }
   ],
   "source": [
    "cat.fit(X_train, y_train)"
   ]
  },
  {
   "cell_type": "code",
   "execution_count": 41,
   "id": "9871b82b",
   "metadata": {},
   "outputs": [],
   "source": [
    "xg_pred = xgb.predict(X_test)\n",
    "gbr_pred = gbr.predict(X_test)\n",
    "rf_pred = rf.predict(X_test)\n",
    "ada_pred = ada.predict(X_test)\n",
    "lgb_pred = lgb.predict(X_test)\n",
    "ngb_pred = ngb.predict(X_test)\n",
    "cat_pred = cat.predict(X_test)"
   ]
  },
  {
   "cell_type": "code",
   "execution_count": 42,
   "id": "1c8f0705",
   "metadata": {},
   "outputs": [
    {
     "data": {
      "text/plain": [
       "1.5708469730091057"
      ]
     },
     "execution_count": 42,
     "metadata": {},
     "output_type": "execute_result"
    }
   ],
   "source": [
    "mean_squared_error(y_test, xg_pred) ** 0.5"
   ]
  },
  {
   "cell_type": "code",
   "execution_count": 43,
   "id": "8ea82bf3",
   "metadata": {},
   "outputs": [
    {
     "data": {
      "text/plain": [
       "1.4241646313271805"
      ]
     },
     "execution_count": 43,
     "metadata": {},
     "output_type": "execute_result"
    }
   ],
   "source": [
    "mean_squared_error(y_test, gbr_pred) ** 0.5"
   ]
  },
  {
   "cell_type": "code",
   "execution_count": 44,
   "id": "f4fd54f9",
   "metadata": {},
   "outputs": [
    {
     "data": {
      "text/plain": [
       "1.3879613849322596"
      ]
     },
     "execution_count": 44,
     "metadata": {},
     "output_type": "execute_result"
    }
   ],
   "source": [
    "mean_squared_error(y_test, rf_pred) ** 0.5"
   ]
  },
  {
   "cell_type": "code",
   "execution_count": 45,
   "id": "6f945c2f",
   "metadata": {},
   "outputs": [
    {
     "data": {
      "text/plain": [
       "1.6937528625173932"
      ]
     },
     "execution_count": 45,
     "metadata": {},
     "output_type": "execute_result"
    }
   ],
   "source": [
    "mean_squared_error(y_test, ada_pred) ** 0.5"
   ]
  },
  {
   "cell_type": "code",
   "execution_count": 46,
   "id": "769ff221",
   "metadata": {},
   "outputs": [
    {
     "data": {
      "text/plain": [
       "1.5337287209191663"
      ]
     },
     "execution_count": 46,
     "metadata": {},
     "output_type": "execute_result"
    }
   ],
   "source": [
    "mean_squared_error(y_test, lgb_pred) ** 0.5"
   ]
  },
  {
   "cell_type": "code",
   "execution_count": 47,
   "id": "7a164ceb",
   "metadata": {},
   "outputs": [
    {
     "data": {
      "text/plain": [
       "1.3986074128920452"
      ]
     },
     "execution_count": 47,
     "metadata": {},
     "output_type": "execute_result"
    }
   ],
   "source": [
    "mean_squared_error(y_test, ngb_pred) ** 0.5"
   ]
  },
  {
   "cell_type": "code",
   "execution_count": 48,
   "id": "ca6fe9e3",
   "metadata": {},
   "outputs": [
    {
     "data": {
      "text/plain": [
       "1.355410147409198"
      ]
     },
     "execution_count": 48,
     "metadata": {},
     "output_type": "execute_result"
    }
   ],
   "source": [
    "mean_squared_error(y_test, cat_pred) ** 0.5"
   ]
  },
  {
   "cell_type": "markdown",
   "id": "fbf43546",
   "metadata": {},
   "source": [
    "# Score"
   ]
  },
  {
   "cell_type": "code",
   "execution_count": 56,
   "id": "e86a9496",
   "metadata": {},
   "outputs": [
    {
     "data": {
      "text/plain": [
       "0.7985845358111746"
      ]
     },
     "execution_count": 56,
     "metadata": {},
     "output_type": "execute_result"
    }
   ],
   "source": [
    "xgb.score(X_test, y_test) "
   ]
  },
  {
   "cell_type": "code",
   "execution_count": 57,
   "id": "f4170d5b",
   "metadata": {},
   "outputs": [
    {
     "data": {
      "text/plain": [
       "0.8344438018757437"
      ]
     },
     "execution_count": 57,
     "metadata": {},
     "output_type": "execute_result"
    }
   ],
   "source": [
    "gbr.score(X_test, y_test)"
   ]
  },
  {
   "cell_type": "code",
   "execution_count": 58,
   "id": "4160c816",
   "metadata": {},
   "outputs": [
    {
     "data": {
      "text/plain": [
       "0.8427539228666171"
      ]
     },
     "execution_count": 58,
     "metadata": {},
     "output_type": "execute_result"
    }
   ],
   "source": [
    "rf.score(X_test, y_test) "
   ]
  },
  {
   "cell_type": "code",
   "execution_count": 59,
   "id": "42e08e2b",
   "metadata": {},
   "outputs": [
    {
     "data": {
      "text/plain": [
       "0.7658332993000095"
      ]
     },
     "execution_count": 59,
     "metadata": {},
     "output_type": "execute_result"
    }
   ],
   "source": [
    "ada.score(X_test, y_test)"
   ]
  },
  {
   "cell_type": "code",
   "execution_count": 60,
   "id": "e1907378",
   "metadata": {},
   "outputs": [
    {
     "data": {
      "text/plain": [
       "0.8079907491062421"
      ]
     },
     "execution_count": 60,
     "metadata": {},
     "output_type": "execute_result"
    }
   ],
   "source": [
    "lgb.score(X_test, y_test)"
   ]
  },
  {
   "cell_type": "code",
   "execution_count": 61,
   "id": "4dffbd35",
   "metadata": {},
   "outputs": [
    {
     "data": {
      "text/plain": [
       "1.7056450488870802"
      ]
     },
     "execution_count": 61,
     "metadata": {},
     "output_type": "execute_result"
    }
   ],
   "source": [
    "ngb.score(X_test, y_test)"
   ]
  },
  {
   "cell_type": "code",
   "execution_count": 62,
   "id": "2474fa24",
   "metadata": {},
   "outputs": [
    {
     "data": {
      "text/plain": [
       "0.944567085935726"
      ]
     },
     "execution_count": 62,
     "metadata": {},
     "output_type": "execute_result"
    }
   ],
   "source": [
    "cat.score(X_test, y_test)"
   ]
  },
  {
   "cell_type": "code",
   "execution_count": null,
   "id": "76e1b2b5",
   "metadata": {},
   "outputs": [],
   "source": [
    "submission.to_csv('team2_movies_13.csv', index = False)"
   ]
  },
  {
   "cell_type": "code",
   "execution_count": 63,
   "id": "4114b291",
   "metadata": {},
   "outputs": [
    {
     "name": "stdout",
     "output_type": "stream",
     "text": [
      "{'isSubmitted': True, 'detail': 'Success'}\n"
     ]
    }
   ],
   "source": [
    "from dacon_submit_api import dacon_submit_api \n",
    "\n",
    "result = dacon_submit_api.post_submission_file(\n",
    "'team2_movies_13.csv', \n",
    "'ed46486eadd3709b4b77ea7d60356ad450e758d489ba722313c748347d2fac93', \n",
    "'235536', \n",
    "'rgm', \n",
    "'RandomForestRegressor' )"
   ]
  },
  {
   "cell_type": "code",
   "execution_count": null,
   "id": "a0a696b9",
   "metadata": {},
   "outputs": [],
   "source": []
  }
 ],
 "metadata": {
  "kernelspec": {
   "display_name": "Python 3 (ipykernel)",
   "language": "python",
   "name": "python3"
  },
  "language_info": {
   "codemirror_mode": {
    "name": "ipython",
    "version": 3
   },
   "file_extension": ".py",
   "mimetype": "text/x-python",
   "name": "python",
   "nbconvert_exporter": "python",
   "pygments_lexer": "ipython3",
   "version": "3.9.7"
  }
 },
 "nbformat": 4,
 "nbformat_minor": 5
}
