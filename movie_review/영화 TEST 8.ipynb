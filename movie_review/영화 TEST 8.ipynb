{
 "cells": [
  {
   "cell_type": "code",
   "execution_count": 2,
   "id": "f08e2f4e",
   "metadata": {},
   "outputs": [],
   "source": [
    "import pandas as pd\n",
    "import numpy as np\n",
    "import seaborn as sns\n",
    "import matplotlib.pyplot as plt\n",
    "import lightgbm as lgb\n",
    "from sklearn.model_selection import train_test_split\n",
    "\n"
   ]
  },
  {
   "cell_type": "code",
   "execution_count": 3,
   "id": "ac01cb7f",
   "metadata": {},
   "outputs": [],
   "source": [
    "train = pd.read_csv('C:\\\\Users\\\\user\\\\workspace\\\\movie\\\\movies_train.csv')\n",
    "test = pd.read_csv('C:\\\\Users\\\\user\\\\workspace\\\\movie\\movies_test.csv')\n",
    "submission = pd.read_csv('C:\\\\Users\\\\user\\\\workspace\\\\movie\\\\submission.csv')"
   ]
  },
  {
   "cell_type": "markdown",
   "id": "5796721b",
   "metadata": {},
   "source": [
    "EDA 및 전처리"
   ]
  },
  {
   "cell_type": "code",
   "execution_count": 4,
   "id": "a5172ecf",
   "metadata": {},
   "outputs": [
    {
     "name": "stdout",
     "output_type": "stream",
     "text": [
      "(600, 12)\n",
      "(243, 11)\n",
      "(243, 2)\n"
     ]
    }
   ],
   "source": [
    "print(train.shape)\n",
    "print(test.shape)\n",
    "print(submission.shape)"
   ]
  },
  {
   "cell_type": "code",
   "execution_count": 5,
   "id": "263a672b",
   "metadata": {},
   "outputs": [
    {
     "name": "stdout",
     "output_type": "stream",
     "text": [
      "<class 'pandas.core.frame.DataFrame'>\n",
      "RangeIndex: 600 entries, 0 to 599\n",
      "Data columns (total 12 columns):\n",
      " #   Column          Non-Null Count  Dtype  \n",
      "---  ------          --------------  -----  \n",
      " 0   title           600 non-null    object \n",
      " 1   distributor     600 non-null    object \n",
      " 2   genre           600 non-null    object \n",
      " 3   release_time    600 non-null    object \n",
      " 4   time            600 non-null    int64  \n",
      " 5   screening_rat   600 non-null    object \n",
      " 6   director        600 non-null    object \n",
      " 7   dir_prev_bfnum  270 non-null    float64\n",
      " 8   dir_prev_num    600 non-null    int64  \n",
      " 9   num_staff       600 non-null    int64  \n",
      " 10  num_actor       600 non-null    int64  \n",
      " 11  box_off_num     600 non-null    int64  \n",
      "dtypes: float64(1), int64(5), object(6)\n",
      "memory usage: 56.4+ KB\n"
     ]
    }
   ],
   "source": [
    "train.info()"
   ]
  },
  {
   "cell_type": "code",
   "execution_count": 6,
   "id": "544d6e7e",
   "metadata": {},
   "outputs": [
    {
     "name": "stdout",
     "output_type": "stream",
     "text": [
      "<class 'pandas.core.frame.DataFrame'>\n",
      "RangeIndex: 243 entries, 0 to 242\n",
      "Data columns (total 11 columns):\n",
      " #   Column          Non-Null Count  Dtype  \n",
      "---  ------          --------------  -----  \n",
      " 0   title           243 non-null    object \n",
      " 1   distributor     243 non-null    object \n",
      " 2   genre           243 non-null    object \n",
      " 3   release_time    243 non-null    object \n",
      " 4   time            243 non-null    int64  \n",
      " 5   screening_rat   243 non-null    object \n",
      " 6   director        243 non-null    object \n",
      " 7   dir_prev_bfnum  107 non-null    float64\n",
      " 8   dir_prev_num    243 non-null    int64  \n",
      " 9   num_staff       243 non-null    int64  \n",
      " 10  num_actor       243 non-null    int64  \n",
      "dtypes: float64(1), int64(4), object(6)\n",
      "memory usage: 21.0+ KB\n"
     ]
    }
   ],
   "source": [
    "test.info()"
   ]
  },
  {
   "cell_type": "code",
   "execution_count": 7,
   "id": "6a8f8695",
   "metadata": {},
   "outputs": [
    {
     "data": {
      "text/html": [
       "<div>\n",
       "<style scoped>\n",
       "    .dataframe tbody tr th:only-of-type {\n",
       "        vertical-align: middle;\n",
       "    }\n",
       "\n",
       "    .dataframe tbody tr th {\n",
       "        vertical-align: top;\n",
       "    }\n",
       "\n",
       "    .dataframe thead th {\n",
       "        text-align: right;\n",
       "    }\n",
       "</style>\n",
       "<table border=\"1\" class=\"dataframe\">\n",
       "  <thead>\n",
       "    <tr style=\"text-align: right;\">\n",
       "      <th></th>\n",
       "      <th>time</th>\n",
       "      <th>dir_prev_bfnum</th>\n",
       "      <th>dir_prev_num</th>\n",
       "      <th>num_staff</th>\n",
       "      <th>num_actor</th>\n",
       "      <th>box_off_num</th>\n",
       "    </tr>\n",
       "  </thead>\n",
       "  <tbody>\n",
       "    <tr>\n",
       "      <th>count</th>\n",
       "      <td>600.000000</td>\n",
       "      <td>2.700000e+02</td>\n",
       "      <td>600.000000</td>\n",
       "      <td>600.000000</td>\n",
       "      <td>600.000000</td>\n",
       "      <td>6.000000e+02</td>\n",
       "    </tr>\n",
       "    <tr>\n",
       "      <th>mean</th>\n",
       "      <td>100.863333</td>\n",
       "      <td>1.050443e+06</td>\n",
       "      <td>0.876667</td>\n",
       "      <td>151.118333</td>\n",
       "      <td>3.706667</td>\n",
       "      <td>7.081818e+05</td>\n",
       "    </tr>\n",
       "    <tr>\n",
       "      <th>std</th>\n",
       "      <td>18.097528</td>\n",
       "      <td>1.791408e+06</td>\n",
       "      <td>1.183409</td>\n",
       "      <td>165.654671</td>\n",
       "      <td>2.446889</td>\n",
       "      <td>1.828006e+06</td>\n",
       "    </tr>\n",
       "    <tr>\n",
       "      <th>min</th>\n",
       "      <td>45.000000</td>\n",
       "      <td>1.000000e+00</td>\n",
       "      <td>0.000000</td>\n",
       "      <td>0.000000</td>\n",
       "      <td>0.000000</td>\n",
       "      <td>1.000000e+00</td>\n",
       "    </tr>\n",
       "    <tr>\n",
       "      <th>25%</th>\n",
       "      <td>89.000000</td>\n",
       "      <td>2.038000e+04</td>\n",
       "      <td>0.000000</td>\n",
       "      <td>17.000000</td>\n",
       "      <td>2.000000</td>\n",
       "      <td>1.297250e+03</td>\n",
       "    </tr>\n",
       "    <tr>\n",
       "      <th>50%</th>\n",
       "      <td>100.000000</td>\n",
       "      <td>4.784236e+05</td>\n",
       "      <td>0.000000</td>\n",
       "      <td>82.500000</td>\n",
       "      <td>3.000000</td>\n",
       "      <td>1.259100e+04</td>\n",
       "    </tr>\n",
       "    <tr>\n",
       "      <th>75%</th>\n",
       "      <td>114.000000</td>\n",
       "      <td>1.286569e+06</td>\n",
       "      <td>2.000000</td>\n",
       "      <td>264.000000</td>\n",
       "      <td>4.000000</td>\n",
       "      <td>4.798868e+05</td>\n",
       "    </tr>\n",
       "    <tr>\n",
       "      <th>max</th>\n",
       "      <td>180.000000</td>\n",
       "      <td>1.761531e+07</td>\n",
       "      <td>5.000000</td>\n",
       "      <td>869.000000</td>\n",
       "      <td>25.000000</td>\n",
       "      <td>1.426277e+07</td>\n",
       "    </tr>\n",
       "  </tbody>\n",
       "</table>\n",
       "</div>"
      ],
      "text/plain": [
       "             time  dir_prev_bfnum  dir_prev_num   num_staff   num_actor  \\\n",
       "count  600.000000    2.700000e+02    600.000000  600.000000  600.000000   \n",
       "mean   100.863333    1.050443e+06      0.876667  151.118333    3.706667   \n",
       "std     18.097528    1.791408e+06      1.183409  165.654671    2.446889   \n",
       "min     45.000000    1.000000e+00      0.000000    0.000000    0.000000   \n",
       "25%     89.000000    2.038000e+04      0.000000   17.000000    2.000000   \n",
       "50%    100.000000    4.784236e+05      0.000000   82.500000    3.000000   \n",
       "75%    114.000000    1.286569e+06      2.000000  264.000000    4.000000   \n",
       "max    180.000000    1.761531e+07      5.000000  869.000000   25.000000   \n",
       "\n",
       "        box_off_num  \n",
       "count  6.000000e+02  \n",
       "mean   7.081818e+05  \n",
       "std    1.828006e+06  \n",
       "min    1.000000e+00  \n",
       "25%    1.297250e+03  \n",
       "50%    1.259100e+04  \n",
       "75%    4.798868e+05  \n",
       "max    1.426277e+07  "
      ]
     },
     "execution_count": 7,
     "metadata": {},
     "output_type": "execute_result"
    }
   ],
   "source": [
    "train.describe()"
   ]
  },
  {
   "cell_type": "code",
   "execution_count": 8,
   "id": "59a89741",
   "metadata": {},
   "outputs": [
    {
     "data": {
      "text/html": [
       "<div>\n",
       "<style scoped>\n",
       "    .dataframe tbody tr th:only-of-type {\n",
       "        vertical-align: middle;\n",
       "    }\n",
       "\n",
       "    .dataframe tbody tr th {\n",
       "        vertical-align: top;\n",
       "    }\n",
       "\n",
       "    .dataframe thead th {\n",
       "        text-align: right;\n",
       "    }\n",
       "</style>\n",
       "<table border=\"1\" class=\"dataframe\">\n",
       "  <thead>\n",
       "    <tr style=\"text-align: right;\">\n",
       "      <th></th>\n",
       "      <th>box_off_num</th>\n",
       "    </tr>\n",
       "    <tr>\n",
       "      <th>genre</th>\n",
       "      <th></th>\n",
       "    </tr>\n",
       "  </thead>\n",
       "  <tbody>\n",
       "    <tr>\n",
       "      <th>뮤지컬</th>\n",
       "      <td>6.627000e+03</td>\n",
       "    </tr>\n",
       "    <tr>\n",
       "      <th>다큐멘터리</th>\n",
       "      <td>6.717226e+04</td>\n",
       "    </tr>\n",
       "    <tr>\n",
       "      <th>서스펜스</th>\n",
       "      <td>8.261100e+04</td>\n",
       "    </tr>\n",
       "    <tr>\n",
       "      <th>애니메이션</th>\n",
       "      <td>1.819267e+05</td>\n",
       "    </tr>\n",
       "    <tr>\n",
       "      <th>멜로/로맨스</th>\n",
       "      <td>4.259680e+05</td>\n",
       "    </tr>\n",
       "    <tr>\n",
       "      <th>미스터리</th>\n",
       "      <td>5.275482e+05</td>\n",
       "    </tr>\n",
       "    <tr>\n",
       "      <th>공포</th>\n",
       "      <td>5.908325e+05</td>\n",
       "    </tr>\n",
       "    <tr>\n",
       "      <th>드라마</th>\n",
       "      <td>6.256898e+05</td>\n",
       "    </tr>\n",
       "    <tr>\n",
       "      <th>코미디</th>\n",
       "      <td>1.193914e+06</td>\n",
       "    </tr>\n",
       "    <tr>\n",
       "      <th>SF</th>\n",
       "      <td>1.788346e+06</td>\n",
       "    </tr>\n",
       "    <tr>\n",
       "      <th>액션</th>\n",
       "      <td>2.203974e+06</td>\n",
       "    </tr>\n",
       "    <tr>\n",
       "      <th>느와르</th>\n",
       "      <td>2.263695e+06</td>\n",
       "    </tr>\n",
       "  </tbody>\n",
       "</table>\n",
       "</div>"
      ],
      "text/plain": [
       "         box_off_num\n",
       "genre               \n",
       "뮤지컬     6.627000e+03\n",
       "다큐멘터리   6.717226e+04\n",
       "서스펜스    8.261100e+04\n",
       "애니메이션   1.819267e+05\n",
       "멜로/로맨스  4.259680e+05\n",
       "미스터리    5.275482e+05\n",
       "공포      5.908325e+05\n",
       "드라마     6.256898e+05\n",
       "코미디     1.193914e+06\n",
       "SF      1.788346e+06\n",
       "액션      2.203974e+06\n",
       "느와르     2.263695e+06"
      ]
     },
     "execution_count": 8,
     "metadata": {},
     "output_type": "execute_result"
    }
   ],
   "source": [
    "train[['genre', 'box_off_num']].groupby('genre').mean().sort_values('box_off_num') #장르별 평균 관객수"
   ]
  },
  {
   "cell_type": "code",
   "execution_count": 9,
   "id": "e802e0fd",
   "metadata": {},
   "outputs": [],
   "source": [
    "pd.reset_option('display.float.format')"
   ]
  },
  {
   "cell_type": "code",
   "execution_count": 10,
   "id": "bd4a4903",
   "metadata": {},
   "outputs": [
    {
     "data": {
      "text/html": [
       "<div>\n",
       "<style scoped>\n",
       "    .dataframe tbody tr th:only-of-type {\n",
       "        vertical-align: middle;\n",
       "    }\n",
       "\n",
       "    .dataframe tbody tr th {\n",
       "        vertical-align: top;\n",
       "    }\n",
       "\n",
       "    .dataframe thead th {\n",
       "        text-align: right;\n",
       "    }\n",
       "</style>\n",
       "<table border=\"1\" class=\"dataframe\">\n",
       "  <thead>\n",
       "    <tr style=\"text-align: right;\">\n",
       "      <th></th>\n",
       "      <th>time</th>\n",
       "      <th>dir_prev_bfnum</th>\n",
       "      <th>dir_prev_num</th>\n",
       "      <th>num_staff</th>\n",
       "      <th>num_actor</th>\n",
       "      <th>box_off_num</th>\n",
       "    </tr>\n",
       "  </thead>\n",
       "  <tbody>\n",
       "    <tr>\n",
       "      <th>time</th>\n",
       "      <td>1.000000</td>\n",
       "      <td>0.264675</td>\n",
       "      <td>0.306727</td>\n",
       "      <td>0.623205</td>\n",
       "      <td>0.114153</td>\n",
       "      <td>0.441452</td>\n",
       "    </tr>\n",
       "    <tr>\n",
       "      <th>dir_prev_bfnum</th>\n",
       "      <td>0.264675</td>\n",
       "      <td>1.000000</td>\n",
       "      <td>0.131822</td>\n",
       "      <td>0.323521</td>\n",
       "      <td>0.083818</td>\n",
       "      <td>0.283184</td>\n",
       "    </tr>\n",
       "    <tr>\n",
       "      <th>dir_prev_num</th>\n",
       "      <td>0.306727</td>\n",
       "      <td>0.131822</td>\n",
       "      <td>1.000000</td>\n",
       "      <td>0.450706</td>\n",
       "      <td>0.014006</td>\n",
       "      <td>0.259674</td>\n",
       "    </tr>\n",
       "    <tr>\n",
       "      <th>num_staff</th>\n",
       "      <td>0.623205</td>\n",
       "      <td>0.323521</td>\n",
       "      <td>0.450706</td>\n",
       "      <td>1.000000</td>\n",
       "      <td>0.077871</td>\n",
       "      <td>0.544265</td>\n",
       "    </tr>\n",
       "    <tr>\n",
       "      <th>num_actor</th>\n",
       "      <td>0.114153</td>\n",
       "      <td>0.083818</td>\n",
       "      <td>0.014006</td>\n",
       "      <td>0.077871</td>\n",
       "      <td>1.000000</td>\n",
       "      <td>0.111179</td>\n",
       "    </tr>\n",
       "    <tr>\n",
       "      <th>box_off_num</th>\n",
       "      <td>0.441452</td>\n",
       "      <td>0.283184</td>\n",
       "      <td>0.259674</td>\n",
       "      <td>0.544265</td>\n",
       "      <td>0.111179</td>\n",
       "      <td>1.000000</td>\n",
       "    </tr>\n",
       "  </tbody>\n",
       "</table>\n",
       "</div>"
      ],
      "text/plain": [
       "                    time  dir_prev_bfnum  dir_prev_num  num_staff  num_actor  \\\n",
       "time            1.000000        0.264675      0.306727   0.623205   0.114153   \n",
       "dir_prev_bfnum  0.264675        1.000000      0.131822   0.323521   0.083818   \n",
       "dir_prev_num    0.306727        0.131822      1.000000   0.450706   0.014006   \n",
       "num_staff       0.623205        0.323521      0.450706   1.000000   0.077871   \n",
       "num_actor       0.114153        0.083818      0.014006   0.077871   1.000000   \n",
       "box_off_num     0.441452        0.283184      0.259674   0.544265   0.111179   \n",
       "\n",
       "                box_off_num  \n",
       "time               0.441452  \n",
       "dir_prev_bfnum     0.283184  \n",
       "dir_prev_num       0.259674  \n",
       "num_staff          0.544265  \n",
       "num_actor          0.111179  \n",
       "box_off_num        1.000000  "
      ]
     },
     "execution_count": 10,
     "metadata": {},
     "output_type": "execute_result"
    }
   ],
   "source": [
    "train.corr()"
   ]
  },
  {
   "cell_type": "code",
   "execution_count": 11,
   "id": "b715d7ad",
   "metadata": {},
   "outputs": [
    {
     "data": {
      "text/plain": [
       "<AxesSubplot:>"
      ]
     },
     "execution_count": 11,
     "metadata": {},
     "output_type": "execute_result"
    },
    {
     "data": {
      "image/png": "[encoded data removed]",
      "text/plain": [
       "<Figure size 576x396 with 2 Axes>"
      ]
     },
     "metadata": {},
     "output_type": "display_data"
    }
   ],
   "source": [
    "plt.style.use('seaborn')\n",
    "sns.heatmap(train.corr(), annot=True)"
   ]
  },
  {
   "cell_type": "code",
   "execution_count": 12,
   "id": "5aab66df",
   "metadata": {},
   "outputs": [
    {
     "data": {
      "text/plain": [
       "title             0.00\n",
       "distributor       0.00\n",
       "genre             0.00\n",
       "release_time      0.00\n",
       "time              0.00\n",
       "screening_rat     0.00\n",
       "director          0.00\n",
       "dir_prev_bfnum    0.55\n",
       "dir_prev_num      0.00\n",
       "num_staff         0.00\n",
       "num_actor         0.00\n",
       "box_off_num       0.00\n",
       "dtype: float64"
      ]
     },
     "execution_count": 12,
     "metadata": {},
     "output_type": "execute_result"
    }
   ],
   "source": [
    "train.isna().sum() / 600"
   ]
  },
  {
   "cell_type": "code",
   "execution_count": 13,
   "id": "017868c1",
   "metadata": {},
   "outputs": [
    {
     "data": {
      "text/plain": [
       "title             0.000000\n",
       "distributor       0.000000\n",
       "genre             0.000000\n",
       "release_time      0.000000\n",
       "time              0.000000\n",
       "screening_rat     0.000000\n",
       "director          0.000000\n",
       "dir_prev_bfnum    0.226667\n",
       "dir_prev_num      0.000000\n",
       "num_staff         0.000000\n",
       "num_actor         0.000000\n",
       "dtype: float64"
      ]
     },
     "execution_count": 13,
     "metadata": {},
     "output_type": "execute_result"
    }
   ],
   "source": [
    "test.isna().sum() / 600"
   ]
  },
  {
   "cell_type": "code",
   "execution_count": 14,
   "id": "c70b64d9",
   "metadata": {},
   "outputs": [
    {
     "data": {
      "text/html": [
       "<div>\n",
       "<style scoped>\n",
       "    .dataframe tbody tr th:only-of-type {\n",
       "        vertical-align: middle;\n",
       "    }\n",
       "\n",
       "    .dataframe tbody tr th {\n",
       "        vertical-align: top;\n",
       "    }\n",
       "\n",
       "    .dataframe thead th {\n",
       "        text-align: right;\n",
       "    }\n",
       "</style>\n",
       "<table border=\"1\" class=\"dataframe\">\n",
       "  <thead>\n",
       "    <tr style=\"text-align: right;\">\n",
       "      <th></th>\n",
       "      <th>title</th>\n",
       "      <th>distributor</th>\n",
       "      <th>genre</th>\n",
       "      <th>release_time</th>\n",
       "      <th>time</th>\n",
       "      <th>screening_rat</th>\n",
       "      <th>director</th>\n",
       "      <th>dir_prev_bfnum</th>\n",
       "      <th>dir_prev_num</th>\n",
       "      <th>num_staff</th>\n",
       "      <th>num_actor</th>\n",
       "      <th>box_off_num</th>\n",
       "    </tr>\n",
       "  </thead>\n",
       "  <tbody>\n",
       "    <tr>\n",
       "      <th>0</th>\n",
       "      <td>개들의 전쟁</td>\n",
       "      <td>롯데엔터테인먼트</td>\n",
       "      <td>액션</td>\n",
       "      <td>2012-11-22</td>\n",
       "      <td>96</td>\n",
       "      <td>청소년 관람불가</td>\n",
       "      <td>조병옥</td>\n",
       "      <td>NaN</td>\n",
       "      <td>0</td>\n",
       "      <td>91</td>\n",
       "      <td>2</td>\n",
       "      <td>23398</td>\n",
       "    </tr>\n",
       "    <tr>\n",
       "      <th>1</th>\n",
       "      <td>내부자들</td>\n",
       "      <td>(주)쇼박스</td>\n",
       "      <td>느와르</td>\n",
       "      <td>2015-11-19</td>\n",
       "      <td>130</td>\n",
       "      <td>청소년 관람불가</td>\n",
       "      <td>우민호</td>\n",
       "      <td>1161602.50</td>\n",
       "      <td>2</td>\n",
       "      <td>387</td>\n",
       "      <td>3</td>\n",
       "      <td>7072501</td>\n",
       "    </tr>\n",
       "    <tr>\n",
       "      <th>2</th>\n",
       "      <td>은밀하게 위대하게</td>\n",
       "      <td>(주)쇼박스</td>\n",
       "      <td>액션</td>\n",
       "      <td>2013-06-05</td>\n",
       "      <td>123</td>\n",
       "      <td>15세 관람가</td>\n",
       "      <td>장철수</td>\n",
       "      <td>220775.25</td>\n",
       "      <td>4</td>\n",
       "      <td>343</td>\n",
       "      <td>4</td>\n",
       "      <td>6959083</td>\n",
       "    </tr>\n",
       "    <tr>\n",
       "      <th>3</th>\n",
       "      <td>나는 공무원이다</td>\n",
       "      <td>(주)NEW</td>\n",
       "      <td>코미디</td>\n",
       "      <td>2012-07-12</td>\n",
       "      <td>101</td>\n",
       "      <td>전체 관람가</td>\n",
       "      <td>구자홍</td>\n",
       "      <td>23894.00</td>\n",
       "      <td>2</td>\n",
       "      <td>20</td>\n",
       "      <td>6</td>\n",
       "      <td>217866</td>\n",
       "    </tr>\n",
       "    <tr>\n",
       "      <th>4</th>\n",
       "      <td>불량남녀</td>\n",
       "      <td>쇼박스(주)미디어플렉스</td>\n",
       "      <td>코미디</td>\n",
       "      <td>2010-11-04</td>\n",
       "      <td>108</td>\n",
       "      <td>15세 관람가</td>\n",
       "      <td>신근호</td>\n",
       "      <td>1.00</td>\n",
       "      <td>1</td>\n",
       "      <td>251</td>\n",
       "      <td>2</td>\n",
       "      <td>483387</td>\n",
       "    </tr>\n",
       "    <tr>\n",
       "      <th>...</th>\n",
       "      <td>...</td>\n",
       "      <td>...</td>\n",
       "      <td>...</td>\n",
       "      <td>...</td>\n",
       "      <td>...</td>\n",
       "      <td>...</td>\n",
       "      <td>...</td>\n",
       "      <td>...</td>\n",
       "      <td>...</td>\n",
       "      <td>...</td>\n",
       "      <td>...</td>\n",
       "      <td>...</td>\n",
       "    </tr>\n",
       "    <tr>\n",
       "      <th>595</th>\n",
       "      <td>해무</td>\n",
       "      <td>(주)NEW</td>\n",
       "      <td>드라마</td>\n",
       "      <td>2014-08-13</td>\n",
       "      <td>111</td>\n",
       "      <td>청소년 관람불가</td>\n",
       "      <td>심성보</td>\n",
       "      <td>3833.00</td>\n",
       "      <td>1</td>\n",
       "      <td>510</td>\n",
       "      <td>7</td>\n",
       "      <td>1475091</td>\n",
       "    </tr>\n",
       "    <tr>\n",
       "      <th>596</th>\n",
       "      <td>파파로티</td>\n",
       "      <td>(주)쇼박스</td>\n",
       "      <td>드라마</td>\n",
       "      <td>2013-03-14</td>\n",
       "      <td>127</td>\n",
       "      <td>15세 관람가</td>\n",
       "      <td>윤종찬</td>\n",
       "      <td>496061.00</td>\n",
       "      <td>1</td>\n",
       "      <td>286</td>\n",
       "      <td>6</td>\n",
       "      <td>1716438</td>\n",
       "    </tr>\n",
       "    <tr>\n",
       "      <th>597</th>\n",
       "      <td>살인의 강</td>\n",
       "      <td>(주)마운틴픽쳐스</td>\n",
       "      <td>공포</td>\n",
       "      <td>2010-09-30</td>\n",
       "      <td>99</td>\n",
       "      <td>청소년 관람불가</td>\n",
       "      <td>김대현</td>\n",
       "      <td>NaN</td>\n",
       "      <td>0</td>\n",
       "      <td>123</td>\n",
       "      <td>4</td>\n",
       "      <td>2475</td>\n",
       "    </tr>\n",
       "    <tr>\n",
       "      <th>598</th>\n",
       "      <td>악의 연대기</td>\n",
       "      <td>CJ 엔터테인먼트</td>\n",
       "      <td>느와르</td>\n",
       "      <td>2015-05-14</td>\n",
       "      <td>102</td>\n",
       "      <td>15세 관람가</td>\n",
       "      <td>백운학</td>\n",
       "      <td>NaN</td>\n",
       "      <td>0</td>\n",
       "      <td>431</td>\n",
       "      <td>4</td>\n",
       "      <td>2192525</td>\n",
       "    </tr>\n",
       "    <tr>\n",
       "      <th>599</th>\n",
       "      <td>베를린</td>\n",
       "      <td>CJ 엔터테인먼트</td>\n",
       "      <td>액션</td>\n",
       "      <td>2013-01-30</td>\n",
       "      <td>120</td>\n",
       "      <td>15세 관람가</td>\n",
       "      <td>류승완</td>\n",
       "      <td>NaN</td>\n",
       "      <td>0</td>\n",
       "      <td>363</td>\n",
       "      <td>5</td>\n",
       "      <td>7166532</td>\n",
       "    </tr>\n",
       "  </tbody>\n",
       "</table>\n",
       "<p>600 rows × 12 columns</p>\n",
       "</div>"
      ],
      "text/plain": [
       "         title   distributor genre release_time  time screening_rat director  \\\n",
       "0       개들의 전쟁      롯데엔터테인먼트    액션   2012-11-22    96      청소년 관람불가      조병옥   \n",
       "1         내부자들        (주)쇼박스   느와르   2015-11-19   130      청소년 관람불가      우민호   \n",
       "2    은밀하게 위대하게        (주)쇼박스    액션   2013-06-05   123       15세 관람가      장철수   \n",
       "3     나는 공무원이다        (주)NEW   코미디   2012-07-12   101        전체 관람가      구자홍   \n",
       "4         불량남녀  쇼박스(주)미디어플렉스   코미디   2010-11-04   108       15세 관람가      신근호   \n",
       "..         ...           ...   ...          ...   ...           ...      ...   \n",
       "595         해무        (주)NEW   드라마   2014-08-13   111      청소년 관람불가      심성보   \n",
       "596       파파로티        (주)쇼박스   드라마   2013-03-14   127       15세 관람가      윤종찬   \n",
       "597      살인의 강     (주)마운틴픽쳐스    공포   2010-09-30    99      청소년 관람불가      김대현   \n",
       "598     악의 연대기     CJ 엔터테인먼트   느와르   2015-05-14   102       15세 관람가      백운학   \n",
       "599        베를린     CJ 엔터테인먼트    액션   2013-01-30   120       15세 관람가      류승완   \n",
       "\n",
       "     dir_prev_bfnum  dir_prev_num  num_staff  num_actor  box_off_num  \n",
       "0               NaN             0         91          2        23398  \n",
       "1        1161602.50             2        387          3      7072501  \n",
       "2         220775.25             4        343          4      6959083  \n",
       "3          23894.00             2         20          6       217866  \n",
       "4              1.00             1        251          2       483387  \n",
       "..              ...           ...        ...        ...          ...  \n",
       "595         3833.00             1        510          7      1475091  \n",
       "596       496061.00             1        286          6      1716438  \n",
       "597             NaN             0        123          4         2475  \n",
       "598             NaN             0        431          4      2192525  \n",
       "599             NaN             0        363          5      7166532  \n",
       "\n",
       "[600 rows x 12 columns]"
      ]
     },
     "execution_count": 14,
     "metadata": {},
     "output_type": "execute_result"
    }
   ],
   "source": [
    "train"
   ]
  },
  {
   "cell_type": "code",
   "execution_count": 15,
   "id": "3fa26880",
   "metadata": {},
   "outputs": [
    {
     "data": {
      "text/plain": [
       "0"
      ]
     },
     "execution_count": 15,
     "metadata": {},
     "output_type": "execute_result"
    }
   ],
   "source": [
    "train[train['dir_prev_bfnum'].isna()]['dir_prev_num'].sum()"
   ]
  },
  {
   "cell_type": "code",
   "execution_count": 16,
   "id": "45c8c7ab",
   "metadata": {},
   "outputs": [],
   "source": [
    "train['dir_prev_bfnum'].fillna(0, inplace=True)"
   ]
  },
  {
   "cell_type": "code",
   "execution_count": 17,
   "id": "5389ff75",
   "metadata": {},
   "outputs": [
    {
     "data": {
      "text/html": [
       "<div>\n",
       "<style scoped>\n",
       "    .dataframe tbody tr th:only-of-type {\n",
       "        vertical-align: middle;\n",
       "    }\n",
       "\n",
       "    .dataframe tbody tr th {\n",
       "        vertical-align: top;\n",
       "    }\n",
       "\n",
       "    .dataframe thead th {\n",
       "        text-align: right;\n",
       "    }\n",
       "</style>\n",
       "<table border=\"1\" class=\"dataframe\">\n",
       "  <thead>\n",
       "    <tr style=\"text-align: right;\">\n",
       "      <th></th>\n",
       "      <th>title</th>\n",
       "      <th>distributor</th>\n",
       "      <th>genre</th>\n",
       "      <th>release_time</th>\n",
       "      <th>time</th>\n",
       "      <th>screening_rat</th>\n",
       "      <th>director</th>\n",
       "      <th>dir_prev_bfnum</th>\n",
       "      <th>dir_prev_num</th>\n",
       "      <th>num_staff</th>\n",
       "      <th>num_actor</th>\n",
       "      <th>box_off_num</th>\n",
       "    </tr>\n",
       "  </thead>\n",
       "  <tbody>\n",
       "    <tr>\n",
       "      <th>0</th>\n",
       "      <td>개들의 전쟁</td>\n",
       "      <td>롯데엔터테인먼트</td>\n",
       "      <td>액션</td>\n",
       "      <td>2012-11-22</td>\n",
       "      <td>96</td>\n",
       "      <td>청소년 관람불가</td>\n",
       "      <td>조병옥</td>\n",
       "      <td>0.00</td>\n",
       "      <td>0</td>\n",
       "      <td>91</td>\n",
       "      <td>2</td>\n",
       "      <td>23398</td>\n",
       "    </tr>\n",
       "    <tr>\n",
       "      <th>1</th>\n",
       "      <td>내부자들</td>\n",
       "      <td>(주)쇼박스</td>\n",
       "      <td>느와르</td>\n",
       "      <td>2015-11-19</td>\n",
       "      <td>130</td>\n",
       "      <td>청소년 관람불가</td>\n",
       "      <td>우민호</td>\n",
       "      <td>1161602.50</td>\n",
       "      <td>2</td>\n",
       "      <td>387</td>\n",
       "      <td>3</td>\n",
       "      <td>7072501</td>\n",
       "    </tr>\n",
       "    <tr>\n",
       "      <th>2</th>\n",
       "      <td>은밀하게 위대하게</td>\n",
       "      <td>(주)쇼박스</td>\n",
       "      <td>액션</td>\n",
       "      <td>2013-06-05</td>\n",
       "      <td>123</td>\n",
       "      <td>15세 관람가</td>\n",
       "      <td>장철수</td>\n",
       "      <td>220775.25</td>\n",
       "      <td>4</td>\n",
       "      <td>343</td>\n",
       "      <td>4</td>\n",
       "      <td>6959083</td>\n",
       "    </tr>\n",
       "    <tr>\n",
       "      <th>3</th>\n",
       "      <td>나는 공무원이다</td>\n",
       "      <td>(주)NEW</td>\n",
       "      <td>코미디</td>\n",
       "      <td>2012-07-12</td>\n",
       "      <td>101</td>\n",
       "      <td>전체 관람가</td>\n",
       "      <td>구자홍</td>\n",
       "      <td>23894.00</td>\n",
       "      <td>2</td>\n",
       "      <td>20</td>\n",
       "      <td>6</td>\n",
       "      <td>217866</td>\n",
       "    </tr>\n",
       "    <tr>\n",
       "      <th>4</th>\n",
       "      <td>불량남녀</td>\n",
       "      <td>쇼박스(주)미디어플렉스</td>\n",
       "      <td>코미디</td>\n",
       "      <td>2010-11-04</td>\n",
       "      <td>108</td>\n",
       "      <td>15세 관람가</td>\n",
       "      <td>신근호</td>\n",
       "      <td>1.00</td>\n",
       "      <td>1</td>\n",
       "      <td>251</td>\n",
       "      <td>2</td>\n",
       "      <td>483387</td>\n",
       "    </tr>\n",
       "    <tr>\n",
       "      <th>...</th>\n",
       "      <td>...</td>\n",
       "      <td>...</td>\n",
       "      <td>...</td>\n",
       "      <td>...</td>\n",
       "      <td>...</td>\n",
       "      <td>...</td>\n",
       "      <td>...</td>\n",
       "      <td>...</td>\n",
       "      <td>...</td>\n",
       "      <td>...</td>\n",
       "      <td>...</td>\n",
       "      <td>...</td>\n",
       "    </tr>\n",
       "    <tr>\n",
       "      <th>595</th>\n",
       "      <td>해무</td>\n",
       "      <td>(주)NEW</td>\n",
       "      <td>드라마</td>\n",
       "      <td>2014-08-13</td>\n",
       "      <td>111</td>\n",
       "      <td>청소년 관람불가</td>\n",
       "      <td>심성보</td>\n",
       "      <td>3833.00</td>\n",
       "      <td>1</td>\n",
       "      <td>510</td>\n",
       "      <td>7</td>\n",
       "      <td>1475091</td>\n",
       "    </tr>\n",
       "    <tr>\n",
       "      <th>596</th>\n",
       "      <td>파파로티</td>\n",
       "      <td>(주)쇼박스</td>\n",
       "      <td>드라마</td>\n",
       "      <td>2013-03-14</td>\n",
       "      <td>127</td>\n",
       "      <td>15세 관람가</td>\n",
       "      <td>윤종찬</td>\n",
       "      <td>496061.00</td>\n",
       "      <td>1</td>\n",
       "      <td>286</td>\n",
       "      <td>6</td>\n",
       "      <td>1716438</td>\n",
       "    </tr>\n",
       "    <tr>\n",
       "      <th>597</th>\n",
       "      <td>살인의 강</td>\n",
       "      <td>(주)마운틴픽쳐스</td>\n",
       "      <td>공포</td>\n",
       "      <td>2010-09-30</td>\n",
       "      <td>99</td>\n",
       "      <td>청소년 관람불가</td>\n",
       "      <td>김대현</td>\n",
       "      <td>0.00</td>\n",
       "      <td>0</td>\n",
       "      <td>123</td>\n",
       "      <td>4</td>\n",
       "      <td>2475</td>\n",
       "    </tr>\n",
       "    <tr>\n",
       "      <th>598</th>\n",
       "      <td>악의 연대기</td>\n",
       "      <td>CJ 엔터테인먼트</td>\n",
       "      <td>느와르</td>\n",
       "      <td>2015-05-14</td>\n",
       "      <td>102</td>\n",
       "      <td>15세 관람가</td>\n",
       "      <td>백운학</td>\n",
       "      <td>0.00</td>\n",
       "      <td>0</td>\n",
       "      <td>431</td>\n",
       "      <td>4</td>\n",
       "      <td>2192525</td>\n",
       "    </tr>\n",
       "    <tr>\n",
       "      <th>599</th>\n",
       "      <td>베를린</td>\n",
       "      <td>CJ 엔터테인먼트</td>\n",
       "      <td>액션</td>\n",
       "      <td>2013-01-30</td>\n",
       "      <td>120</td>\n",
       "      <td>15세 관람가</td>\n",
       "      <td>류승완</td>\n",
       "      <td>0.00</td>\n",
       "      <td>0</td>\n",
       "      <td>363</td>\n",
       "      <td>5</td>\n",
       "      <td>7166532</td>\n",
       "    </tr>\n",
       "  </tbody>\n",
       "</table>\n",
       "<p>600 rows × 12 columns</p>\n",
       "</div>"
      ],
      "text/plain": [
       "         title   distributor genre release_time  time screening_rat director  \\\n",
       "0       개들의 전쟁      롯데엔터테인먼트    액션   2012-11-22    96      청소년 관람불가      조병옥   \n",
       "1         내부자들        (주)쇼박스   느와르   2015-11-19   130      청소년 관람불가      우민호   \n",
       "2    은밀하게 위대하게        (주)쇼박스    액션   2013-06-05   123       15세 관람가      장철수   \n",
       "3     나는 공무원이다        (주)NEW   코미디   2012-07-12   101        전체 관람가      구자홍   \n",
       "4         불량남녀  쇼박스(주)미디어플렉스   코미디   2010-11-04   108       15세 관람가      신근호   \n",
       "..         ...           ...   ...          ...   ...           ...      ...   \n",
       "595         해무        (주)NEW   드라마   2014-08-13   111      청소년 관람불가      심성보   \n",
       "596       파파로티        (주)쇼박스   드라마   2013-03-14   127       15세 관람가      윤종찬   \n",
       "597      살인의 강     (주)마운틴픽쳐스    공포   2010-09-30    99      청소년 관람불가      김대현   \n",
       "598     악의 연대기     CJ 엔터테인먼트   느와르   2015-05-14   102       15세 관람가      백운학   \n",
       "599        베를린     CJ 엔터테인먼트    액션   2013-01-30   120       15세 관람가      류승완   \n",
       "\n",
       "     dir_prev_bfnum  dir_prev_num  num_staff  num_actor  box_off_num  \n",
       "0              0.00             0         91          2        23398  \n",
       "1        1161602.50             2        387          3      7072501  \n",
       "2         220775.25             4        343          4      6959083  \n",
       "3          23894.00             2         20          6       217866  \n",
       "4              1.00             1        251          2       483387  \n",
       "..              ...           ...        ...        ...          ...  \n",
       "595         3833.00             1        510          7      1475091  \n",
       "596       496061.00             1        286          6      1716438  \n",
       "597            0.00             0        123          4         2475  \n",
       "598            0.00             0        431          4      2192525  \n",
       "599            0.00             0        363          5      7166532  \n",
       "\n",
       "[600 rows x 12 columns]"
      ]
     },
     "execution_count": 17,
     "metadata": {},
     "output_type": "execute_result"
    }
   ],
   "source": [
    "train"
   ]
  },
  {
   "cell_type": "code",
   "execution_count": 18,
   "id": "e0f0b1d1",
   "metadata": {},
   "outputs": [
    {
     "data": {
      "text/plain": [
       "title               0\n",
       "distributor         0\n",
       "genre               0\n",
       "release_time        0\n",
       "time                0\n",
       "screening_rat       0\n",
       "director            0\n",
       "dir_prev_bfnum    136\n",
       "dir_prev_num        0\n",
       "num_staff           0\n",
       "num_actor           0\n",
       "dtype: int64"
      ]
     },
     "execution_count": 18,
     "metadata": {},
     "output_type": "execute_result"
    }
   ],
   "source": [
    "test.isna().sum()"
   ]
  },
  {
   "cell_type": "code",
   "execution_count": 19,
   "id": "5d3c5361",
   "metadata": {},
   "outputs": [
    {
     "data": {
      "text/plain": [
       "0"
      ]
     },
     "execution_count": 19,
     "metadata": {},
     "output_type": "execute_result"
    }
   ],
   "source": [
    "train[train['dir_prev_bfnum'].isna()]['dir_prev_num'].sum()"
   ]
  },
  {
   "cell_type": "code",
   "execution_count": 20,
   "id": "8dfa7c06",
   "metadata": {},
   "outputs": [],
   "source": [
    "test['dir_prev_bfnum'].fillna(0, inplace=True)"
   ]
  },
  {
   "cell_type": "code",
   "execution_count": 21,
   "id": "fcb79f38",
   "metadata": {},
   "outputs": [
    {
     "data": {
      "text/plain": [
       "<seaborn.axisgrid.FacetGrid at 0x1eaf2c082b0>"
      ]
     },
     "execution_count": 21,
     "metadata": {},
     "output_type": "execute_result"
    },
    {
     "data": {
      "image/png": "[encoded data removed]",
      "text/plain": [
       "<Figure size 360x360 with 1 Axes>"
      ]
     },
     "metadata": {},
     "output_type": "display_data"
    }
   ],
   "source": [
    "sns.lmplot(data=train, x='box_off_num', y='num_staff')"
   ]
  },
  {
   "cell_type": "code",
   "execution_count": 22,
   "id": "de02535a",
   "metadata": {},
   "outputs": [
    {
     "data": {
      "text/plain": [
       "<seaborn.axisgrid.FacetGrid at 0x1eaf2c08280>"
      ]
     },
     "execution_count": 22,
     "metadata": {},
     "output_type": "execute_result"
    },
    {
     "data": {
      "image/png": "[encoded data removed]",
      "text/plain": [
       "<Figure size 360x360 with 1 Axes>"
      ]
     },
     "metadata": {},
     "output_type": "display_data"
    }
   ],
   "source": [
    "sns.lmplot(data=train, x=\"box_off_num\", y=\"time\")"
   ]
  },
  {
   "cell_type": "markdown",
   "id": "e4bc7e52",
   "metadata": {},
   "source": [
    "모델링"
   ]
  },
  {
   "cell_type": "markdown",
   "id": "1a2f8ec9",
   "metadata": {},
   "source": [
    "singleLGBM"
   ]
  },
  {
   "cell_type": "code",
   "execution_count": 23,
   "id": "17517b09",
   "metadata": {},
   "outputs": [],
   "source": [
    "model = lgb.LGBMRegressor(random_state=777, n_estimators=1000)"
   ]
  },
  {
   "cell_type": "code",
   "execution_count": 24,
   "id": "fd8e1624",
   "metadata": {},
   "outputs": [],
   "source": [
    "features = ['time', 'num_staff']\n",
    "target = ['box_off_num']"
   ]
  },
  {
   "cell_type": "code",
   "execution_count": 25,
   "id": "02d5a3d0",
   "metadata": {},
   "outputs": [],
   "source": [
    "X_train, X_test, y_train = train[features], test[features], train[target]"
   ]
  },
  {
   "cell_type": "code",
   "execution_count": 26,
   "id": "aa2e9eed",
   "metadata": {},
   "outputs": [
    {
     "data": {
      "text/plain": [
       "LGBMRegressor(n_estimators=1000, random_state=777)"
      ]
     },
     "execution_count": 26,
     "metadata": {},
     "output_type": "execute_result"
    }
   ],
   "source": [
    "model.fit(X_train, y_train)"
   ]
  },
  {
   "cell_type": "code",
   "execution_count": 27,
   "id": "96a389bc",
   "metadata": {},
   "outputs": [],
   "source": [
    "singleLGBM = submission.copy()"
   ]
  },
  {
   "cell_type": "code",
   "execution_count": 28,
   "id": "f6b880f3",
   "metadata": {},
   "outputs": [
    {
     "data": {
      "text/html": [
       "<div>\n",
       "<style scoped>\n",
       "    .dataframe tbody tr th:only-of-type {\n",
       "        vertical-align: middle;\n",
       "    }\n",
       "\n",
       "    .dataframe tbody tr th {\n",
       "        vertical-align: top;\n",
       "    }\n",
       "\n",
       "    .dataframe thead th {\n",
       "        text-align: right;\n",
       "    }\n",
       "</style>\n",
       "<table border=\"1\" class=\"dataframe\">\n",
       "  <thead>\n",
       "    <tr style=\"text-align: right;\">\n",
       "      <th></th>\n",
       "      <th>title</th>\n",
       "      <th>box_off_num</th>\n",
       "    </tr>\n",
       "  </thead>\n",
       "  <tbody>\n",
       "    <tr>\n",
       "      <th>0</th>\n",
       "      <td>용서는 없다</td>\n",
       "      <td>0</td>\n",
       "    </tr>\n",
       "    <tr>\n",
       "      <th>1</th>\n",
       "      <td>아빠가 여자를 좋아해</td>\n",
       "      <td>0</td>\n",
       "    </tr>\n",
       "    <tr>\n",
       "      <th>2</th>\n",
       "      <td>하모니</td>\n",
       "      <td>0</td>\n",
       "    </tr>\n",
       "    <tr>\n",
       "      <th>3</th>\n",
       "      <td>의형제</td>\n",
       "      <td>0</td>\n",
       "    </tr>\n",
       "    <tr>\n",
       "      <th>4</th>\n",
       "      <td>평행 이론</td>\n",
       "      <td>0</td>\n",
       "    </tr>\n",
       "  </tbody>\n",
       "</table>\n",
       "</div>"
      ],
      "text/plain": [
       "         title  box_off_num\n",
       "0       용서는 없다            0\n",
       "1  아빠가 여자를 좋아해            0\n",
       "2          하모니            0\n",
       "3          의형제            0\n",
       "4        평행 이론            0"
      ]
     },
     "execution_count": 28,
     "metadata": {},
     "output_type": "execute_result"
    }
   ],
   "source": [
    "singleLGBM.head()"
   ]
  },
  {
   "cell_type": "code",
   "execution_count": 30,
   "id": "5b49ac1d",
   "metadata": {},
   "outputs": [],
   "source": [
    "singleLGBM['box_off_num'] = model.predict(X_test)"
   ]
  },
  {
   "cell_type": "code",
   "execution_count": 31,
   "id": "2d6d6308",
   "metadata": {},
   "outputs": [],
   "source": [
    "singleLGBM.to_csv('singleLGBM', index = False)"
   ]
  },
  {
   "cell_type": "markdown",
   "id": "6e3a603c",
   "metadata": {},
   "source": [
    "KFold"
   ]
  },
  {
   "cell_type": "code",
   "execution_count": 32,
   "id": "c81886da",
   "metadata": {},
   "outputs": [],
   "source": [
    "from sklearn.model_selection import KFold"
   ]
  },
  {
   "cell_type": "code",
   "execution_count": 33,
   "id": "1fcdc1e6",
   "metadata": {},
   "outputs": [],
   "source": [
    "k_fold = KFold(n_splits=5, shuffle=True, random_state=777)"
   ]
  },
  {
   "cell_type": "code",
   "execution_count": 34,
   "id": "fa90fac8",
   "metadata": {},
   "outputs": [
    {
     "name": "stdout",
     "output_type": "stream",
     "text": [
      "480 120\n"
     ]
    }
   ],
   "source": [
    "for train_idx, val_idx in k_fold.split(X_train):\n",
    "    print(len(train_idx), len(val_idx))\n",
    "    break"
   ]
  },
  {
   "cell_type": "code",
   "execution_count": 35,
   "id": "962f58eb",
   "metadata": {},
   "outputs": [
    {
     "name": "stdout",
     "output_type": "stream",
     "text": [
      "[100]\tvalid_0's l2: 2.88521e+12\n",
      "[100]\tvalid_0's l2: 4.01909e+12\n",
      "[100]\tvalid_0's l2: 2.9793e+12\n",
      "[100]\tvalid_0's l2: 1.7188e+12\n"
     ]
    },
    {
     "name": "stderr",
     "output_type": "stream",
     "text": [
      "C:\\Users\\user\\anaconda3\\lib\\site-packages\\lightgbm\\sklearn.py:726: UserWarning: 'early_stopping_rounds' argument is deprecated and will be removed in a future release of LightGBM. Pass 'early_stopping()' callback via 'callbacks' argument instead.\n",
      "  _log_warning(\"'early_stopping_rounds' argument is deprecated and will be removed in a future release of LightGBM. \"\n",
      "C:\\Users\\user\\anaconda3\\lib\\site-packages\\lightgbm\\sklearn.py:736: UserWarning: 'verbose' argument is deprecated and will be removed in a future release of LightGBM. Pass 'log_evaluation()' callback via 'callbacks' argument instead.\n",
      "  _log_warning(\"'verbose' argument is deprecated and will be removed in a future release of LightGBM. \"\n"
     ]
    },
    {
     "name": "stdout",
     "output_type": "stream",
     "text": [
      "[100]\tvalid_0's l2: 1.67975e+12\n"
     ]
    }
   ],
   "source": [
    "model = lgb.LGBMRegressor(random_state=777, n_estimators=1000)\n",
    "\n",
    "models = []\n",
    "\n",
    "for train_idx, val_idx in k_fold.split(X_train):\n",
    "    x_t = X_train.iloc[train_idx]\n",
    "    y_t = y_train.iloc[train_idx]\n",
    "    x_val = X_train.iloc[val_idx]\n",
    "    y_val = y_train.iloc[val_idx]\n",
    "    \n",
    "    models.append(model.fit(x_t, y_t, eval_set=(x_val, y_val), early_stopping_rounds=100, verbose = 100))"
   ]
  },
  {
   "cell_type": "code",
   "execution_count": 36,
   "id": "8fde1416",
   "metadata": {},
   "outputs": [
    {
     "data": {
      "text/plain": [
       "5"
      ]
     },
     "execution_count": 36,
     "metadata": {},
     "output_type": "execute_result"
    }
   ],
   "source": [
    "preds = []\n",
    "for model in models:\n",
    "    preds.append(model.predict(X_test))\n",
    "len(preds)"
   ]
  },
  {
   "cell_type": "code",
   "execution_count": 37,
   "id": "41d68696",
   "metadata": {},
   "outputs": [],
   "source": [
    "kfoldLightGBM = submission.copy()"
   ]
  },
  {
   "cell_type": "code",
   "execution_count": 38,
   "id": "da410236",
   "metadata": {},
   "outputs": [],
   "source": [
    "kfoldLightGBM['box_off_num'] = np.mean(preds, axis = 0)"
   ]
  },
  {
   "cell_type": "code",
   "execution_count": 39,
   "id": "26831b19",
   "metadata": {},
   "outputs": [
    {
     "data": {
      "text/html": [
       "<div>\n",
       "<style scoped>\n",
       "    .dataframe tbody tr th:only-of-type {\n",
       "        vertical-align: middle;\n",
       "    }\n",
       "\n",
       "    .dataframe tbody tr th {\n",
       "        vertical-align: top;\n",
       "    }\n",
       "\n",
       "    .dataframe thead th {\n",
       "        text-align: right;\n",
       "    }\n",
       "</style>\n",
       "<table border=\"1\" class=\"dataframe\">\n",
       "  <thead>\n",
       "    <tr style=\"text-align: right;\">\n",
       "      <th></th>\n",
       "      <th>title</th>\n",
       "      <th>box_off_num</th>\n",
       "    </tr>\n",
       "  </thead>\n",
       "  <tbody>\n",
       "    <tr>\n",
       "      <th>0</th>\n",
       "      <td>용서는 없다</td>\n",
       "      <td>3.238537e+06</td>\n",
       "    </tr>\n",
       "    <tr>\n",
       "      <th>1</th>\n",
       "      <td>아빠가 여자를 좋아해</td>\n",
       "      <td>9.657627e+05</td>\n",
       "    </tr>\n",
       "    <tr>\n",
       "      <th>2</th>\n",
       "      <td>하모니</td>\n",
       "      <td>1.004832e+06</td>\n",
       "    </tr>\n",
       "    <tr>\n",
       "      <th>3</th>\n",
       "      <td>의형제</td>\n",
       "      <td>1.384672e+06</td>\n",
       "    </tr>\n",
       "    <tr>\n",
       "      <th>4</th>\n",
       "      <td>평행 이론</td>\n",
       "      <td>8.962683e+05</td>\n",
       "    </tr>\n",
       "  </tbody>\n",
       "</table>\n",
       "</div>"
      ],
      "text/plain": [
       "         title   box_off_num\n",
       "0       용서는 없다  3.238537e+06\n",
       "1  아빠가 여자를 좋아해  9.657627e+05\n",
       "2          하모니  1.004832e+06\n",
       "3          의형제  1.384672e+06\n",
       "4        평행 이론  8.962683e+05"
      ]
     },
     "execution_count": 39,
     "metadata": {},
     "output_type": "execute_result"
    }
   ],
   "source": [
    "kfoldLightGBM.head()"
   ]
  },
  {
   "cell_type": "markdown",
   "id": "cf57bcb2",
   "metadata": {},
   "source": [
    "features 추가"
   ]
  },
  {
   "cell_type": "code",
   "execution_count": 40,
   "id": "374d01e1",
   "metadata": {},
   "outputs": [
    {
     "data": {
      "text/plain": [
       "['time', 'num_staff']"
      ]
     },
     "execution_count": 40,
     "metadata": {},
     "output_type": "execute_result"
    }
   ],
   "source": [
    "features"
   ]
  },
  {
   "cell_type": "code",
   "execution_count": 41,
   "id": "89e55c46",
   "metadata": {},
   "outputs": [
    {
     "data": {
      "text/plain": [
       "Index(['title', 'distributor', 'genre', 'release_time', 'time',\n",
       "       'screening_rat', 'director', 'dir_prev_bfnum', 'dir_prev_num',\n",
       "       'num_staff', 'num_actor', 'box_off_num'],\n",
       "      dtype='object')"
      ]
     },
     "execution_count": 41,
     "metadata": {},
     "output_type": "execute_result"
    }
   ],
   "source": [
    "train.columns"
   ]
  },
  {
   "cell_type": "code",
   "execution_count": 42,
   "id": "78390501",
   "metadata": {},
   "outputs": [
    {
     "data": {
      "text/plain": [
       "0       액션\n",
       "1      느와르\n",
       "2       액션\n",
       "3      코미디\n",
       "4      코미디\n",
       "      ... \n",
       "595    드라마\n",
       "596    드라마\n",
       "597     공포\n",
       "598    느와르\n",
       "599     액션\n",
       "Name: genre, Length: 600, dtype: object"
      ]
     },
     "execution_count": 42,
     "metadata": {},
     "output_type": "execute_result"
    }
   ],
   "source": [
    "train.genre"
   ]
  },
  {
   "cell_type": "code",
   "execution_count": 43,
   "id": "ab1a504b",
   "metadata": {},
   "outputs": [],
   "source": [
    "from sklearn import preprocessing\n",
    "le = preprocessing.LabelEncoder()\n",
    "train['genre'] = le.fit_transform(train['genre'])"
   ]
  },
  {
   "cell_type": "code",
   "execution_count": 44,
   "id": "c9ce5489",
   "metadata": {},
   "outputs": [
    {
     "data": {
      "text/plain": [
       "0      10\n",
       "1       2\n",
       "2      10\n",
       "3      11\n",
       "4      11\n",
       "       ..\n",
       "595     4\n",
       "596     4\n",
       "597     1\n",
       "598     2\n",
       "599    10\n",
       "Name: genre, Length: 600, dtype: int32"
      ]
     },
     "execution_count": 44,
     "metadata": {},
     "output_type": "execute_result"
    }
   ],
   "source": [
    "train['genre']"
   ]
  },
  {
   "cell_type": "code",
   "execution_count": 45,
   "id": "a84e6cd6",
   "metadata": {},
   "outputs": [],
   "source": [
    "test['genre'] = le.transform(test['genre'])"
   ]
  },
  {
   "cell_type": "code",
   "execution_count": 46,
   "id": "12137012",
   "metadata": {},
   "outputs": [],
   "source": [
    "features = ['time', 'num_staff', 'genre']"
   ]
  },
  {
   "cell_type": "code",
   "execution_count": 47,
   "id": "814b9bcf",
   "metadata": {},
   "outputs": [],
   "source": [
    "X_train, X_test, y_train = train[features], test[features], train[target]"
   ]
  },
  {
   "cell_type": "code",
   "execution_count": 48,
   "id": "7c0eaaa6",
   "metadata": {},
   "outputs": [
    {
     "name": "stdout",
     "output_type": "stream",
     "text": [
      "[100]\tvalid_0's l2: 2.81304e+12\n",
      "[100]\tvalid_0's l2: 4.45261e+12\n",
      "[100]\tvalid_0's l2: 2.53501e+12\n",
      "[100]\tvalid_0's l2: 1.64719e+12\n",
      "[100]\tvalid_0's l2: 1.59301e+12\n"
     ]
    },
    {
     "name": "stderr",
     "output_type": "stream",
     "text": [
      "C:\\Users\\user\\anaconda3\\lib\\site-packages\\lightgbm\\sklearn.py:726: UserWarning: 'early_stopping_rounds' argument is deprecated and will be removed in a future release of LightGBM. Pass 'early_stopping()' callback via 'callbacks' argument instead.\n",
      "  _log_warning(\"'early_stopping_rounds' argument is deprecated and will be removed in a future release of LightGBM. \"\n",
      "C:\\Users\\user\\anaconda3\\lib\\site-packages\\lightgbm\\sklearn.py:736: UserWarning: 'verbose' argument is deprecated and will be removed in a future release of LightGBM. Pass 'log_evaluation()' callback via 'callbacks' argument instead.\n",
      "  _log_warning(\"'verbose' argument is deprecated and will be removed in a future release of LightGBM. \"\n"
     ]
    }
   ],
   "source": [
    "model = lgb.LGBMRegressor(random_state=777, n_estimators=1000)\n",
    "\n",
    "models = []\n",
    "\n",
    "for train_idx, val_idx in k_fold.split(X_train):\n",
    "    x_t = X_train.iloc[train_idx]\n",
    "    y_t = y_train.iloc[train_idx]\n",
    "    x_val = X_train.iloc[val_idx]\n",
    "    y_val = y_train.iloc[val_idx]\n",
    "    \n",
    "    models.append(model.fit(x_t, y_t, eval_set=(x_val, y_val), early_stopping_rounds=100, verbose = 100))"
   ]
  },
  {
   "cell_type": "code",
   "execution_count": 49,
   "id": "6dcb4f68",
   "metadata": {},
   "outputs": [
    {
     "data": {
      "text/plain": [
       "5"
      ]
     },
     "execution_count": 49,
     "metadata": {},
     "output_type": "execute_result"
    }
   ],
   "source": [
    "preds = []\n",
    "for model in models:\n",
    "    preds.append(model.predict(X_test))\n",
    "len(preds)"
   ]
  },
  {
   "cell_type": "code",
   "execution_count": 50,
   "id": "4a027933",
   "metadata": {},
   "outputs": [],
   "source": [
    "feLightGBM = submission.copy()"
   ]
  },
  {
   "cell_type": "code",
   "execution_count": 51,
   "id": "e94a3b3c",
   "metadata": {},
   "outputs": [],
   "source": [
    "feLightGBM['box_off_num'] = np.mean(preds, axis = 0)"
   ]
  },
  {
   "cell_type": "code",
   "execution_count": 52,
   "id": "a99ae1a9",
   "metadata": {},
   "outputs": [],
   "source": [
    "feLightGBM.to_csv('singleLGBM', index = False)"
   ]
  },
  {
   "cell_type": "markdown",
   "id": "2ef51123",
   "metadata": {},
   "source": [
    "그리드서치"
   ]
  },
  {
   "cell_type": "code",
   "execution_count": 53,
   "id": "b64b1515",
   "metadata": {},
   "outputs": [],
   "source": [
    " from sklearn.model_selection import GridSearchCV"
   ]
  },
  {
   "cell_type": "code",
   "execution_count": 54,
   "id": "ec9b4ebd",
   "metadata": {},
   "outputs": [],
   "source": [
    "model = lgb.LGBMRegressor(random_state=777, n_estimators=1000)\n",
    "\n",
    "params = {\n",
    "    'learning_rate': [0.1, 0.01, 0.003],\n",
    "    'min_child_samples': [20, 30]}\n",
    "\n",
    "gs = GridSearchCV(estimator=model,\n",
    "                  param_grid=params,\n",
    "                  scoring='neg_mean_squared_error',\n",
    "                  cv = k_fold)"
   ]
  },
  {
   "cell_type": "code",
   "execution_count": 55,
   "id": "f6765189",
   "metadata": {},
   "outputs": [
    {
     "data": {
      "text/plain": [
       "GridSearchCV(cv=KFold(n_splits=5, random_state=777, shuffle=True),\n",
       "             estimator=LGBMRegressor(n_estimators=1000, random_state=777),\n",
       "             param_grid={'learning_rate': [0.1, 0.01, 0.003],\n",
       "                         'min_child_samples': [20, 30]},\n",
       "             scoring='neg_mean_squared_error')"
      ]
     },
     "execution_count": 55,
     "metadata": {},
     "output_type": "execute_result"
    }
   ],
   "source": [
    "gs.fit(X_train, y_train)"
   ]
  },
  {
   "cell_type": "code",
   "execution_count": 56,
   "id": "4aab4433",
   "metadata": {},
   "outputs": [
    {
     "data": {
      "text/plain": [
       "{'learning_rate': 0.003, 'min_child_samples': 30}"
      ]
     },
     "execution_count": 56,
     "metadata": {},
     "output_type": "execute_result"
    }
   ],
   "source": [
    "gs.best_params_"
   ]
  },
  {
   "cell_type": "code",
   "execution_count": 57,
   "id": "e58b3716",
   "metadata": {},
   "outputs": [
    {
     "name": "stderr",
     "output_type": "stream",
     "text": [
      "C:\\Users\\user\\anaconda3\\lib\\site-packages\\lightgbm\\sklearn.py:726: UserWarning: 'early_stopping_rounds' argument is deprecated and will be removed in a future release of LightGBM. Pass 'early_stopping()' callback via 'callbacks' argument instead.\n",
      "  _log_warning(\"'early_stopping_rounds' argument is deprecated and will be removed in a future release of LightGBM. \"\n",
      "C:\\Users\\user\\anaconda3\\lib\\site-packages\\lightgbm\\sklearn.py:736: UserWarning: 'verbose' argument is deprecated and will be removed in a future release of LightGBM. Pass 'log_evaluation()' callback via 'callbacks' argument instead.\n",
      "  _log_warning(\"'verbose' argument is deprecated and will be removed in a future release of LightGBM. \"\n"
     ]
    },
    {
     "name": "stdout",
     "output_type": "stream",
     "text": [
      "[100]\tvalid_0's l2: 2.56665e+12\n",
      "[200]\tvalid_0's l2: 2.46685e+12\n",
      "[300]\tvalid_0's l2: 2.41469e+12\n",
      "[400]\tvalid_0's l2: 2.40851e+12\n",
      "[100]\tvalid_0's l2: 4.88264e+12\n",
      "[200]\tvalid_0's l2: 4.38102e+12\n",
      "[300]\tvalid_0's l2: 4.13094e+12\n",
      "[400]\tvalid_0's l2: 3.98197e+12\n",
      "[500]\tvalid_0's l2: 3.87006e+12\n",
      "[600]\tvalid_0's l2: 3.79266e+12\n",
      "[700]\tvalid_0's l2: 3.74169e+12\n",
      "[800]\tvalid_0's l2: 3.72275e+12\n",
      "[900]\tvalid_0's l2: 3.71429e+12\n",
      "[1000]\tvalid_0's l2: 3.70813e+12\n",
      "[100]\tvalid_0's l2: 3.14692e+12\n",
      "[200]\tvalid_0's l2: 2.79461e+12\n",
      "[300]\tvalid_0's l2: 2.59421e+12\n",
      "[400]\tvalid_0's l2: 2.46984e+12\n",
      "[500]\tvalid_0's l2: 2.39545e+12\n",
      "[600]\tvalid_0's l2: 2.35271e+12\n",
      "[700]\tvalid_0's l2: 2.32613e+12\n",
      "[800]\tvalid_0's l2: 2.30544e+12\n",
      "[900]\tvalid_0's l2: 2.28705e+12\n",
      "[1000]\tvalid_0's l2: 2.27355e+12\n",
      "[100]\tvalid_0's l2: 1.61565e+12\n",
      "[200]\tvalid_0's l2: 1.40277e+12\n",
      "[300]\tvalid_0's l2: 1.30072e+12\n",
      "[400]\tvalid_0's l2: 1.26108e+12\n",
      "[500]\tvalid_0's l2: 1.24833e+12\n",
      "[600]\tvalid_0's l2: 1.24272e+12\n",
      "[100]\tvalid_0's l2: 1.96581e+12\n",
      "[200]\tvalid_0's l2: 1.7644e+12\n",
      "[300]\tvalid_0's l2: 1.65956e+12\n",
      "[400]\tvalid_0's l2: 1.6056e+12\n",
      "[500]\tvalid_0's l2: 1.57874e+12\n",
      "[600]\tvalid_0's l2: 1.56695e+12\n",
      "[700]\tvalid_0's l2: 1.56428e+12\n",
      "[800]\tvalid_0's l2: 1.55886e+12\n",
      "[900]\tvalid_0's l2: 1.55399e+12\n",
      "[1000]\tvalid_0's l2: 1.54209e+12\n"
     ]
    }
   ],
   "source": [
    "model = lgb.LGBMRegressor(random_state=777, n_estimators=1000, learning_rate=0.003, min_child_samples=30)\n",
    "\n",
    "models = []\n",
    "\n",
    "for train_idx, val_idx in k_fold.split(X_train):\n",
    "    x_t = X_train.iloc[train_idx]\n",
    "    y_t = y_train.iloc[train_idx]\n",
    "    x_val = X_train.iloc[val_idx]\n",
    "    y_val = y_train.iloc[val_idx]\n",
    "    \n",
    "    models.append(model.fit(x_t, y_t, eval_set=(x_val, y_val), early_stopping_rounds=100, verbose = 100))"
   ]
  },
  {
   "cell_type": "code",
   "execution_count": 58,
   "id": "5c1caa21",
   "metadata": {},
   "outputs": [
    {
     "data": {
      "text/plain": [
       "5"
      ]
     },
     "execution_count": 58,
     "metadata": {},
     "output_type": "execute_result"
    }
   ],
   "source": [
    "preds = []\n",
    "for model in models:\n",
    "    preds.append(model.predict(X_test))\n",
    "len(preds)"
   ]
  },
  {
   "cell_type": "code",
   "execution_count": 59,
   "id": "9caa1ccf",
   "metadata": {},
   "outputs": [
    {
     "data": {
      "text/plain": [
       "{'learning_rate': 0.003, 'min_child_samples': 30}"
      ]
     },
     "execution_count": 59,
     "metadata": {},
     "output_type": "execute_result"
    }
   ],
   "source": [
    "gs.best_params_"
   ]
  },
  {
   "cell_type": "code",
   "execution_count": 60,
   "id": "57ded7c0",
   "metadata": {},
   "outputs": [],
   "source": [
    "gslgbm = submission.copy()"
   ]
  },
  {
   "cell_type": "code",
   "execution_count": 61,
   "id": "8815cd0f",
   "metadata": {},
   "outputs": [],
   "source": [
    "gslgbm['box_off_num'] = np.mean(preds, axis = 0)"
   ]
  },
  {
   "cell_type": "code",
   "execution_count": 62,
   "id": "71785ce4",
   "metadata": {},
   "outputs": [],
   "source": [
    "gslgbm.to_csv('gslgbm.csv', index = False)"
   ]
  },
  {
   "cell_type": "code",
   "execution_count": 63,
   "id": "8184170c",
   "metadata": {},
   "outputs": [
    {
     "name": "stdout",
     "output_type": "stream",
     "text": [
      "exception occurs. 예외가 발생했습니다 403\n"
     ]
    }
   ],
   "source": [
    "from dacon_submit_api import dacon_submit_api \n",
    "\n",
    "result = dacon_submit_api.post_submission_file(\n",
    "'gslgbm.csv', \n",
    "'b9d9dc121eb8bd0c6fa3d729620d15e43d1a1a2e73a33ef429d1e92aef33d5f3', \n",
    "'235536', \n",
    "'rgm', \n",
    "'LGBMRegressor' )"
   ]
  },
  {
   "cell_type": "code",
   "execution_count": null,
   "id": "b8e0bdf3",
   "metadata": {},
   "outputs": [],
   "source": []
  }
 ],
 "metadata": {
  "kernelspec": {
   "display_name": "Python 3 (ipykernel)",
   "language": "python",
   "name": "python3"
  },
  "language_info": {
   "codemirror_mode": {
    "name": "ipython",
    "version": 3
   },
   "file_extension": ".py",
   "mimetype": "text/x-python",
   "name": "python",
   "nbconvert_exporter": "python",
   "pygments_lexer": "ipython3",
   "version": "3.9.7"
  }
 },
 "nbformat": 4,
 "nbformat_minor": 5
}
