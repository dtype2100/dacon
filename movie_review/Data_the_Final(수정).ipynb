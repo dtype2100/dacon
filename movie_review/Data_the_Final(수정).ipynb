{
 "cells": [
  {
   "cell_type": "markdown",
   "id": "7238c15b",
   "metadata": {},
   "source": [
    "# 라이브러리"
   ]
  },
  {
   "cell_type": "code",
   "execution_count": 1,
   "id": "f6f4cae4",
   "metadata": {},
   "outputs": [],
   "source": [
    "import pandas as pd\n",
    "from sklearn.ensemble import RandomForestRegressor\n",
    "import numpy as np\n",
    "import seaborn as sns\n",
    "import matplotlib.pyplot as plt\n",
    "import re\n",
    "\n",
    "#개봉월 전처리\n",
    "def get_month(x):\n",
    "        return x[5:7]\n",
    "\n",
    "#배급사 전처리\n",
    "def get_dis(x) :\n",
    "    if 'CJ' in x or 'CGV' in x :\n",
    "        return 'CJ'\n",
    "    elif '쇼박스' in x :\n",
    "        return '쇼박스'\n",
    "    elif 'SK' in x :\n",
    "        return 'SK'\n",
    "    elif '리틀빅' in x :\n",
    "        return '리틀빅픽처스'\n",
    "    elif '스폰지' in x :\n",
    "        return '스폰지'\n",
    "    elif '싸이더스' in x :\n",
    "        return '싸이더스'\n",
    "    elif '에이원' in x :\n",
    "        return '에이원'\n",
    "    elif '마인스' in x :\n",
    "        return '마인스엔터'\n",
    "    elif '마운틴' in x :\n",
    "        return '마운틴픽처스'\n",
    "    elif '디씨드' in x :\n",
    "        return '디씨드'\n",
    "    elif '드림팩트' in x :\n",
    "        return '드림팩트'\n",
    "    elif '메가박스' in x :\n",
    "        return '메가박스'\n",
    "    elif '마운틴' in x :\n",
    "        return '마운틴'\n",
    "    elif 'NEW' in x :\n",
    "        return 'NEW'\n",
    "    elif '롯데' in x :\n",
    "        return '롯데엔터'\n",
    "    elif '프리비젼' in x :\n",
    "        return '프리비젼엔터'\n",
    "    elif '타임스' in x :\n",
    "        return '타임스토리'\n",
    "    elif '마달'in x or '마 달' in x:\n",
    "        return '시네마달'\n",
    "    else :\n",
    "        return x"
   ]
  },
  {
   "cell_type": "markdown",
   "id": "d2e06d81",
   "metadata": {},
   "source": [
    "# 불러오기"
   ]
  },
  {
   "cell_type": "code",
   "execution_count": 2,
   "id": "4ea0b802",
   "metadata": {},
   "outputs": [],
   "source": [
    "train = pd.read_csv('C:\\\\Users\\\\user\\\\workspace\\\\movie\\\\movies_train.csv')\n",
    "test = pd.read_csv('C:\\\\Users\\\\user\\\\workspace\\\\movie\\movies_test.csv')\n",
    "submission = pd.read_csv('C:\\\\Users\\\\user\\\\workspace\\\\movie\\\\submission.csv')"
   ]
  },
  {
   "cell_type": "markdown",
   "id": "b79f12b1",
   "metadata": {},
   "source": [
    "# 1. 배급사 전처리"
   ]
  },
  {
   "cell_type": "code",
   "execution_count": 3,
   "id": "ac8f3c78",
   "metadata": {},
   "outputs": [
    {
     "name": "stderr",
     "output_type": "stream",
     "text": [
      "C:\\Users\\user\\AppData\\Local\\Temp/ipykernel_6836/768766398.py:1: FutureWarning: The default value of regex will change from True to False in a future version.\n",
      "  train['distributor'] = train.distributor.str.replace(\"(주)\", '')\n",
      "C:\\Users\\user\\AppData\\Local\\Temp/ipykernel_6836/768766398.py:2: FutureWarning: The default value of regex will change from True to False in a future version.\n",
      "  test['distributor'] = test.distributor.str.replace(\"(주)\", '')\n"
     ]
    }
   ],
   "source": [
    "train['distributor'] = train.distributor.str.replace(\"(주)\", '')\n",
    "test['distributor'] = test.distributor.str.replace(\"(주)\", '')\n",
    "train['distributor'] = [re.sub(r'[^0-9a-zA-Z가-힣]', '', x) for x in train.distributor]\n",
    "test['distributor'] = [re.sub(r'[^0-9a-zA-Z가-힣]', '', x) for x in test.distributor]\n",
    "train['distributor'] = train.distributor.apply(get_dis)\n",
    "test['distributor'] = test.distributor.apply(get_dis)"
   ]
  },
  {
   "cell_type": "markdown",
   "id": "d591a943",
   "metadata": {},
   "source": [
    "### 배급사 중위값으로 랭크 생성"
   ]
  },
  {
   "cell_type": "code",
   "execution_count": 4,
   "id": "791aa89d",
   "metadata": {
    "scrolled": true
   },
   "outputs": [
    {
     "data": {
      "text/html": [
       "<div>\n",
       "<style scoped>\n",
       "    .dataframe tbody tr th:only-of-type {\n",
       "        vertical-align: middle;\n",
       "    }\n",
       "\n",
       "    .dataframe tbody tr th {\n",
       "        vertical-align: top;\n",
       "    }\n",
       "\n",
       "    .dataframe thead th {\n",
       "        text-align: right;\n",
       "    }\n",
       "</style>\n",
       "<table border=\"1\" class=\"dataframe\">\n",
       "  <thead>\n",
       "    <tr style=\"text-align: right;\">\n",
       "      <th></th>\n",
       "      <th>distributor</th>\n",
       "      <th>dis_medi_rank</th>\n",
       "    </tr>\n",
       "  </thead>\n",
       "  <tbody>\n",
       "    <tr>\n",
       "      <th>110</th>\n",
       "      <td>인피니티엔터테인먼트</td>\n",
       "      <td>1</td>\n",
       "    </tr>\n",
       "    <tr>\n",
       "      <th>15</th>\n",
       "      <td>고구마공작소</td>\n",
       "      <td>2</td>\n",
       "    </tr>\n",
       "    <tr>\n",
       "      <th>52</th>\n",
       "      <td>사람과사람들</td>\n",
       "      <td>3</td>\n",
       "    </tr>\n",
       "    <tr>\n",
       "      <th>97</th>\n",
       "      <td>위드시네마</td>\n",
       "      <td>4</td>\n",
       "    </tr>\n",
       "    <tr>\n",
       "      <th>19</th>\n",
       "      <td>나우콘텐츠</td>\n",
       "      <td>5</td>\n",
       "    </tr>\n",
       "    <tr>\n",
       "      <th>...</th>\n",
       "      <td>...</td>\n",
       "      <td>...</td>\n",
       "    </tr>\n",
       "    <tr>\n",
       "      <th>113</th>\n",
       "      <td>전망좋은영화사</td>\n",
       "      <td>143</td>\n",
       "    </tr>\n",
       "    <tr>\n",
       "      <th>105</th>\n",
       "      <td>이십세기폭스코리아</td>\n",
       "      <td>144</td>\n",
       "    </tr>\n",
       "    <tr>\n",
       "      <th>56</th>\n",
       "      <td>쇼박스</td>\n",
       "      <td>145</td>\n",
       "    </tr>\n",
       "    <tr>\n",
       "      <th>84</th>\n",
       "      <td>영구아트무비</td>\n",
       "      <td>146</td>\n",
       "    </tr>\n",
       "    <tr>\n",
       "      <th>75</th>\n",
       "      <td>아이필름코퍼레이션</td>\n",
       "      <td>147</td>\n",
       "    </tr>\n",
       "  </tbody>\n",
       "</table>\n",
       "<p>147 rows × 2 columns</p>\n",
       "</div>"
      ],
      "text/plain": [
       "    distributor  dis_medi_rank\n",
       "110  인피니티엔터테인먼트              1\n",
       "15       고구마공작소              2\n",
       "52       사람과사람들              3\n",
       "97        위드시네마              4\n",
       "19        나우콘텐츠              5\n",
       "..          ...            ...\n",
       "113     전망좋은영화사            143\n",
       "105   이십세기폭스코리아            144\n",
       "56          쇼박스            145\n",
       "84       영구아트무비            146\n",
       "75    아이필름코퍼레이션            147\n",
       "\n",
       "[147 rows x 2 columns]"
      ]
     },
     "execution_count": 4,
     "metadata": {},
     "output_type": "execute_result"
    }
   ],
   "source": [
    "dis_medi_rank = train.groupby('distributor').box_off_num.median().reset_index(name = 'dis_medi_rank').sort_values(by = 'dis_medi_rank')\n",
    "dis_medi_rank['dis_medi_rank'] = [i + 1 for i in range(dis_medi_rank.shape[0])]\n",
    "dis_medi_rank"
   ]
  },
  {
   "cell_type": "markdown",
   "id": "304c3ba7",
   "metadata": {},
   "source": [
    "### 배급사 평균값으로 랭크 생성"
   ]
  },
  {
   "cell_type": "code",
   "execution_count": 5,
   "id": "0f78ce04",
   "metadata": {
    "scrolled": true
   },
   "outputs": [
    {
     "data": {
      "text/html": [
       "<div>\n",
       "<style scoped>\n",
       "    .dataframe tbody tr th:only-of-type {\n",
       "        vertical-align: middle;\n",
       "    }\n",
       "\n",
       "    .dataframe tbody tr th {\n",
       "        vertical-align: top;\n",
       "    }\n",
       "\n",
       "    .dataframe thead th {\n",
       "        text-align: right;\n",
       "    }\n",
       "</style>\n",
       "<table border=\"1\" class=\"dataframe\">\n",
       "  <thead>\n",
       "    <tr style=\"text-align: right;\">\n",
       "      <th></th>\n",
       "      <th>distributor</th>\n",
       "      <th>dis_mean_rank</th>\n",
       "    </tr>\n",
       "  </thead>\n",
       "  <tbody>\n",
       "    <tr>\n",
       "      <th>110</th>\n",
       "      <td>인피니티엔터테인먼트</td>\n",
       "      <td>1</td>\n",
       "    </tr>\n",
       "    <tr>\n",
       "      <th>15</th>\n",
       "      <td>고구마공작소</td>\n",
       "      <td>2</td>\n",
       "    </tr>\n",
       "    <tr>\n",
       "      <th>52</th>\n",
       "      <td>사람과사람들</td>\n",
       "      <td>3</td>\n",
       "    </tr>\n",
       "    <tr>\n",
       "      <th>97</th>\n",
       "      <td>위드시네마</td>\n",
       "      <td>4</td>\n",
       "    </tr>\n",
       "    <tr>\n",
       "      <th>19</th>\n",
       "      <td>나우콘텐츠</td>\n",
       "      <td>5</td>\n",
       "    </tr>\n",
       "    <tr>\n",
       "      <th>...</th>\n",
       "      <td>...</td>\n",
       "      <td>...</td>\n",
       "    </tr>\n",
       "    <tr>\n",
       "      <th>7</th>\n",
       "      <td>NEW</td>\n",
       "      <td>143</td>\n",
       "    </tr>\n",
       "    <tr>\n",
       "      <th>1</th>\n",
       "      <td>CJ</td>\n",
       "      <td>144</td>\n",
       "    </tr>\n",
       "    <tr>\n",
       "      <th>84</th>\n",
       "      <td>영구아트무비</td>\n",
       "      <td>145</td>\n",
       "    </tr>\n",
       "    <tr>\n",
       "      <th>75</th>\n",
       "      <td>아이필름코퍼레이션</td>\n",
       "      <td>146</td>\n",
       "    </tr>\n",
       "    <tr>\n",
       "      <th>56</th>\n",
       "      <td>쇼박스</td>\n",
       "      <td>147</td>\n",
       "    </tr>\n",
       "  </tbody>\n",
       "</table>\n",
       "<p>147 rows × 2 columns</p>\n",
       "</div>"
      ],
      "text/plain": [
       "    distributor  dis_mean_rank\n",
       "110  인피니티엔터테인먼트              1\n",
       "15       고구마공작소              2\n",
       "52       사람과사람들              3\n",
       "97        위드시네마              4\n",
       "19        나우콘텐츠              5\n",
       "..          ...            ...\n",
       "7           NEW            143\n",
       "1            CJ            144\n",
       "84       영구아트무비            145\n",
       "75    아이필름코퍼레이션            146\n",
       "56          쇼박스            147\n",
       "\n",
       "[147 rows x 2 columns]"
      ]
     },
     "execution_count": 5,
     "metadata": {},
     "output_type": "execute_result"
    }
   ],
   "source": [
    "dis_mean_rank = train.groupby('distributor').box_off_num.mean().reset_index(name = 'dis_mean_rank').sort_values(by = 'dis_mean_rank')\n",
    "dis_mean_rank['dis_mean_rank'] = [i + 1 for i in range(dis_mean_rank.shape[0])]\n",
    "dis_mean_rank"
   ]
  },
  {
   "cell_type": "markdown",
   "id": "07b29340",
   "metadata": {},
   "source": [
    "### 배급사 관객수 합 변수 생성"
   ]
  },
  {
   "cell_type": "code",
   "execution_count": 6,
   "id": "47a459a8",
   "metadata": {},
   "outputs": [
    {
     "data": {
      "text/html": [
       "<div>\n",
       "<style scoped>\n",
       "    .dataframe tbody tr th:only-of-type {\n",
       "        vertical-align: middle;\n",
       "    }\n",
       "\n",
       "    .dataframe tbody tr th {\n",
       "        vertical-align: top;\n",
       "    }\n",
       "\n",
       "    .dataframe thead th {\n",
       "        text-align: right;\n",
       "    }\n",
       "</style>\n",
       "<table border=\"1\" class=\"dataframe\">\n",
       "  <thead>\n",
       "    <tr style=\"text-align: right;\">\n",
       "      <th></th>\n",
       "      <th>distributor</th>\n",
       "      <th>dis_sum</th>\n",
       "    </tr>\n",
       "  </thead>\n",
       "  <tbody>\n",
       "    <tr>\n",
       "      <th>0</th>\n",
       "      <td>BoXoo엔터테인먼트</td>\n",
       "      <td>93432</td>\n",
       "    </tr>\n",
       "    <tr>\n",
       "      <th>1</th>\n",
       "      <td>CJ</td>\n",
       "      <td>140522374</td>\n",
       "    </tr>\n",
       "    <tr>\n",
       "      <th>2</th>\n",
       "      <td>JK필름</td>\n",
       "      <td>688639</td>\n",
       "    </tr>\n",
       "    <tr>\n",
       "      <th>3</th>\n",
       "      <td>KBS미디어</td>\n",
       "      <td>7956</td>\n",
       "    </tr>\n",
       "    <tr>\n",
       "      <th>4</th>\n",
       "      <td>KT</td>\n",
       "      <td>807835</td>\n",
       "    </tr>\n",
       "    <tr>\n",
       "      <th>...</th>\n",
       "      <td>...</td>\n",
       "      <td>...</td>\n",
       "    </tr>\n",
       "    <tr>\n",
       "      <th>142</th>\n",
       "      <td>하준사</td>\n",
       "      <td>600</td>\n",
       "    </tr>\n",
       "    <tr>\n",
       "      <th>143</th>\n",
       "      <td>한국YWCA연합회</td>\n",
       "      <td>71</td>\n",
       "    </tr>\n",
       "    <tr>\n",
       "      <th>144</th>\n",
       "      <td>홀리가든</td>\n",
       "      <td>6886</td>\n",
       "    </tr>\n",
       "    <tr>\n",
       "      <th>145</th>\n",
       "      <td>화앤담이엔티</td>\n",
       "      <td>344393</td>\n",
       "    </tr>\n",
       "    <tr>\n",
       "      <th>146</th>\n",
       "      <td>휘엔터테인먼트</td>\n",
       "      <td>228</td>\n",
       "    </tr>\n",
       "  </tbody>\n",
       "</table>\n",
       "<p>147 rows × 2 columns</p>\n",
       "</div>"
      ],
      "text/plain": [
       "     distributor    dis_sum\n",
       "0    BoXoo엔터테인먼트      93432\n",
       "1             CJ  140522374\n",
       "2           JK필름     688639\n",
       "3         KBS미디어       7956\n",
       "4             KT     807835\n",
       "..           ...        ...\n",
       "142          하준사        600\n",
       "143    한국YWCA연합회         71\n",
       "144         홀리가든       6886\n",
       "145       화앤담이엔티     344393\n",
       "146      휘엔터테인먼트        228\n",
       "\n",
       "[147 rows x 2 columns]"
      ]
     },
     "execution_count": 6,
     "metadata": {},
     "output_type": "execute_result"
    }
   ],
   "source": [
    "dis_sum = train.groupby('distributor').box_off_num.sum().reset_index(name = 'dis_sum')\n",
    "dis_sum"
   ]
  },
  {
   "cell_type": "markdown",
   "id": "5835fa00",
   "metadata": {},
   "source": [
    "### 배급사 MERGE"
   ]
  },
  {
   "cell_type": "code",
   "execution_count": 7,
   "id": "e448715c",
   "metadata": {},
   "outputs": [],
   "source": [
    "#중위값 merge\n",
    "train = pd.merge(train, dis_medi_rank, how = 'left')\n",
    "test = pd.merge(test, dis_medi_rank, how = 'left')\n",
    "#평균값 merge\n",
    "train = pd.merge(train, dis_mean_rank, how = 'left')\n",
    "test = pd.merge(test, dis_mean_rank, how = 'left')\n",
    "#합 merge\n",
    "train = pd.merge(train, dis_sum, how = 'left')\n",
    "test = pd.merge(test, dis_sum, how = 'left')"
   ]
  },
  {
   "cell_type": "markdown",
   "id": "ef0bfc77",
   "metadata": {},
   "source": [
    "# 2. 장르 전처리"
   ]
  },
  {
   "cell_type": "markdown",
   "id": "35db93f2",
   "metadata": {},
   "source": [
    "### 장르 평균값 순위 확인"
   ]
  },
  {
   "cell_type": "code",
   "execution_count": 8,
   "id": "94e3f93c",
   "metadata": {},
   "outputs": [
    {
     "data": {
      "text/plain": [
       "genre\n",
       "뮤지컬       6.627000e+03\n",
       "다큐멘터리     6.717226e+04\n",
       "서스펜스      8.261100e+04\n",
       "애니메이션     1.819267e+05\n",
       "멜로/로맨스    4.259680e+05\n",
       "미스터리      5.275482e+05\n",
       "공포        5.908325e+05\n",
       "드라마       6.256898e+05\n",
       "코미디       1.193914e+06\n",
       "SF        1.788346e+06\n",
       "액션        2.203974e+06\n",
       "느와르       2.263695e+06\n",
       "Name: box_off_num, dtype: float64"
      ]
     },
     "execution_count": 8,
     "metadata": {},
     "output_type": "execute_result"
    }
   ],
   "source": [
    "train.groupby('genre').box_off_num.mean().sort_values()"
   ]
  },
  {
   "cell_type": "markdown",
   "id": "7ebb808f",
   "metadata": {},
   "source": [
    "### 장르 중위값 순위 확인"
   ]
  },
  {
   "cell_type": "code",
   "execution_count": 9,
   "id": "17072180",
   "metadata": {
    "scrolled": false
   },
   "outputs": [
    {
     "data": {
      "text/plain": [
       "genre\n",
       "다큐멘터리        3044.0\n",
       "미스터리         3199.0\n",
       "멜로/로맨스       3653.0\n",
       "뮤지컬          4778.0\n",
       "드라마          7173.0\n",
       "SF           9323.0\n",
       "애니메이션       23802.0\n",
       "서스펜스        82611.0\n",
       "공포         179810.0\n",
       "코미디        210775.0\n",
       "액션        1147846.5\n",
       "느와르       1646142.0\n",
       "Name: box_off_num, dtype: float64"
      ]
     },
     "execution_count": 9,
     "metadata": {},
     "output_type": "execute_result"
    }
   ],
   "source": [
    "train.groupby('genre').box_off_num.median().sort_values()"
   ]
  },
  {
   "cell_type": "markdown",
   "id": "9e655db7",
   "metadata": {},
   "source": [
    "### 장르 평균값 순위 맵핑"
   ]
  },
  {
   "cell_type": "code",
   "execution_count": 10,
   "id": "7c934fdd",
   "metadata": {},
   "outputs": [],
   "source": [
    "train['gr_mean_rank'] = train.genre.map({'뮤지컬' : 1, '다큐멘터리' : 2, '서스펜스' : 3, '애니메이션' : 4, '멜로/로맨스' : 5,\n",
    "                                      '미스터리' : 6, '공포' : 7, '드라마' : 8, '코미디' : 9, 'SF' : 10, '액션' : 11, '느와르' : 12})\n",
    "test['gr_mean_rank'] = test.genre.map({'뮤지컬' : 1, '다큐멘터리' : 2, '서스펜스' : 3, '애니메이션' : 4, '멜로/로맨스' : 5,\n",
    "                                      '미스터리' : 6, '공포' : 7, '드라마' : 8, '코미디' : 9, 'SF' : 10, '액션' : 11, '느와르' : 12})"
   ]
  },
  {
   "cell_type": "markdown",
   "id": "bc627171",
   "metadata": {},
   "source": [
    "### 장르 중위값 순위 맵핑"
   ]
  },
  {
   "cell_type": "code",
   "execution_count": 11,
   "id": "d5ac5201",
   "metadata": {},
   "outputs": [],
   "source": [
    "train['gr_medi_rank'] = train.genre.map({'다큐멘터리' : 1, '미스터리' : 2, '멜로/로맨스' : 3, '뮤지컬' : 4, '드라마' : 5,\n",
    "                                      'SF' : 6, '애니메이션' : 7, '서스펜스' : 8, '공포' : 9, '코미디' : 10, '액션' : 11, '느와르' : 12})\n",
    "test['gr_medi_rank'] = test.genre.map({'뮤지컬' : 1, '미스터리' : 2, '멜로/로맨스' : 3, '뮤지컬' : 4, '드라마' : 5,\n",
    "                                      'SF' : 6, '애니메이션' : 7, '서스펜스' : 8, '공포' : 9, '코미디' : 10, '액션' : 11, '느와르' : 12})"
   ]
  },
  {
   "cell_type": "markdown",
   "id": "85889a62",
   "metadata": {},
   "source": [
    "# 3. 개봉월 전처리"
   ]
  },
  {
   "cell_type": "code",
   "execution_count": 12,
   "id": "10851c79",
   "metadata": {},
   "outputs": [],
   "source": [
    "month = train.release_time.apply(get_month)\n",
    "train['month'] = month\n",
    "month = test.release_time.apply(get_month)\n",
    "test['month'] = month"
   ]
  },
  {
   "cell_type": "markdown",
   "id": "ab6c1163",
   "metadata": {},
   "source": [
    "### 개봉월 중위값 순위 확인"
   ]
  },
  {
   "cell_type": "code",
   "execution_count": 13,
   "id": "8934dc3b",
   "metadata": {
    "scrolled": false
   },
   "outputs": [
    {
     "data": {
      "text/plain": [
       "month\n",
       "03      4110.5\n",
       "05      7448.0\n",
       "04      7956.0\n",
       "07      9301.0\n",
       "12      9323.0\n",
       "02     10203.0\n",
       "09     14931.0\n",
       "11     15813.0\n",
       "08     16248.0\n",
       "06     18343.0\n",
       "10     45112.0\n",
       "01    283449.0\n",
       "Name: box_off_num, dtype: float64"
      ]
     },
     "execution_count": 13,
     "metadata": {},
     "output_type": "execute_result"
    }
   ],
   "source": [
    "train.groupby('month').box_off_num.median().sort_values()"
   ]
  },
  {
   "cell_type": "markdown",
   "id": "4edfaee5",
   "metadata": {},
   "source": [
    "### 개봉월 평균값 순위 확인"
   ]
  },
  {
   "cell_type": "code",
   "execution_count": 14,
   "id": "9aa87499",
   "metadata": {
    "scrolled": false
   },
   "outputs": [
    {
     "data": {
      "text/plain": [
       "month\n",
       "04    2.581667e+05\n",
       "03    2.738874e+05\n",
       "10    3.859042e+05\n",
       "11    4.956539e+05\n",
       "06    5.122865e+05\n",
       "05    5.756852e+05\n",
       "02    6.630252e+05\n",
       "09    7.315286e+05\n",
       "08    1.029162e+06\n",
       "07    1.113807e+06\n",
       "12    1.288248e+06\n",
       "01    1.365931e+06\n",
       "Name: box_off_num, dtype: float64"
      ]
     },
     "execution_count": 14,
     "metadata": {},
     "output_type": "execute_result"
    }
   ],
   "source": [
    "train.groupby('month').box_off_num.mean().sort_values()"
   ]
  },
  {
   "cell_type": "markdown",
   "id": "075837ba",
   "metadata": {},
   "source": [
    "### 개봉월 관객수 합 변수 생성"
   ]
  },
  {
   "cell_type": "code",
   "execution_count": 15,
   "id": "fe450e8f",
   "metadata": {},
   "outputs": [
    {
     "data": {
      "text/html": [
       "<div>\n",
       "<style scoped>\n",
       "    .dataframe tbody tr th:only-of-type {\n",
       "        vertical-align: middle;\n",
       "    }\n",
       "\n",
       "    .dataframe tbody tr th {\n",
       "        vertical-align: top;\n",
       "    }\n",
       "\n",
       "    .dataframe thead th {\n",
       "        text-align: right;\n",
       "    }\n",
       "</style>\n",
       "<table border=\"1\" class=\"dataframe\">\n",
       "  <thead>\n",
       "    <tr style=\"text-align: right;\">\n",
       "      <th></th>\n",
       "      <th>month</th>\n",
       "      <th>month_sum</th>\n",
       "    </tr>\n",
       "  </thead>\n",
       "  <tbody>\n",
       "    <tr>\n",
       "      <th>0</th>\n",
       "      <td>01</td>\n",
       "      <td>53271292</td>\n",
       "    </tr>\n",
       "    <tr>\n",
       "      <th>1</th>\n",
       "      <td>02</td>\n",
       "      <td>20553781</td>\n",
       "    </tr>\n",
       "    <tr>\n",
       "      <th>2</th>\n",
       "      <td>03</td>\n",
       "      <td>14242143</td>\n",
       "    </tr>\n",
       "    <tr>\n",
       "      <th>3</th>\n",
       "      <td>04</td>\n",
       "      <td>12133835</td>\n",
       "    </tr>\n",
       "    <tr>\n",
       "      <th>4</th>\n",
       "      <td>05</td>\n",
       "      <td>32814059</td>\n",
       "    </tr>\n",
       "    <tr>\n",
       "      <th>5</th>\n",
       "      <td>06</td>\n",
       "      <td>14856308</td>\n",
       "    </tr>\n",
       "    <tr>\n",
       "      <th>6</th>\n",
       "      <td>07</td>\n",
       "      <td>54576555</td>\n",
       "    </tr>\n",
       "    <tr>\n",
       "      <th>7</th>\n",
       "      <td>08</td>\n",
       "      <td>56603892</td>\n",
       "    </tr>\n",
       "    <tr>\n",
       "      <th>8</th>\n",
       "      <td>09</td>\n",
       "      <td>43891718</td>\n",
       "    </tr>\n",
       "    <tr>\n",
       "      <th>9</th>\n",
       "      <td>10</td>\n",
       "      <td>23154249</td>\n",
       "    </tr>\n",
       "    <tr>\n",
       "      <th>10</th>\n",
       "      <td>11</td>\n",
       "      <td>35687080</td>\n",
       "    </tr>\n",
       "    <tr>\n",
       "      <th>11</th>\n",
       "      <td>12</td>\n",
       "      <td>63124139</td>\n",
       "    </tr>\n",
       "  </tbody>\n",
       "</table>\n",
       "</div>"
      ],
      "text/plain": [
       "   month  month_sum\n",
       "0     01   53271292\n",
       "1     02   20553781\n",
       "2     03   14242143\n",
       "3     04   12133835\n",
       "4     05   32814059\n",
       "5     06   14856308\n",
       "6     07   54576555\n",
       "7     08   56603892\n",
       "8     09   43891718\n",
       "9     10   23154249\n",
       "10    11   35687080\n",
       "11    12   63124139"
      ]
     },
     "execution_count": 15,
     "metadata": {},
     "output_type": "execute_result"
    }
   ],
   "source": [
    "month_sum = train.groupby('month').box_off_num.sum().reset_index(name = 'month_sum')\n",
    "month_sum"
   ]
  },
  {
   "cell_type": "markdown",
   "id": "3d2a4028",
   "metadata": {},
   "source": [
    "### 개봉월 MERGE"
   ]
  },
  {
   "cell_type": "code",
   "execution_count": 16,
   "id": "c5c94c0d",
   "metadata": {},
   "outputs": [],
   "source": [
    "#합 merge\n",
    "train = pd.merge(train, month_sum, how = 'left')\n",
    "test = pd.merge(test, month_sum, how = 'left')"
   ]
  },
  {
   "cell_type": "markdown",
   "id": "e8564618",
   "metadata": {},
   "source": [
    "### 개봉월 평균값 순위 맵핑"
   ]
  },
  {
   "cell_type": "code",
   "execution_count": 17,
   "id": "e259174e",
   "metadata": {},
   "outputs": [],
   "source": [
    "train['month_mean_rank'] = train.month.map({'04' : 1, '03' : 2, '10' : 3, '11' : 4, '06' : 5,\n",
    "                                      '05' : 6, '02' : 7, '09' : 8, '08' : 9, '07' : 10, '12' : 11, '01' : 12})\n",
    "test['month_mean_rank'] = test.month.map({'04' : 1, '03' : 2, '10' : 3, '11' : 4, '06' : 5,\n",
    "                                      '05' : 6, '02' : 7, '09' : 8, '08' : 9, '07' : 10, '12' : 11, '01' : 12})"
   ]
  },
  {
   "cell_type": "markdown",
   "id": "b57800c1",
   "metadata": {},
   "source": [
    "### 개봉월 중위값 순위 맵핑"
   ]
  },
  {
   "cell_type": "code",
   "execution_count": 18,
   "id": "2d256899",
   "metadata": {},
   "outputs": [],
   "source": [
    "train['month_medi_rank'] = train.month.map({'03' : 1, '04' : 2, '12' : 3, '07' : 4, '05' : 5,\n",
    "                                      '02' : 6, '11' : 7, '09' : 8, '08' : 9, '06' : 10, '10' : 11, '01' : 12})\n",
    "test['month_medi_rank'] = test.month.map({'03' : 1, '04' : 2, '12' : 3, '07' : 4, '05' : 5,\n",
    "                                      '02' : 6, '11' : 7, '09' : 8, '08' : 9, '06' : 10, '10' : 11, '01' : 12})"
   ]
  },
  {
   "cell_type": "markdown",
   "id": "b9cb3399",
   "metadata": {},
   "source": [
    "# 4. 상영시간 그대로 사용\n",
    "# 5. 영상등급은 모델 설정시 원핫인코딩\n",
    "# 6. 스태프수 그대로 사용"
   ]
  },
  {
   "cell_type": "markdown",
   "id": "64ab02b4",
   "metadata": {},
   "source": [
    "# 7. 데이터 스케일링"
   ]
  },
  {
   "cell_type": "markdown",
   "id": "e665d9f3",
   "metadata": {},
   "source": [
    "### 배급사, 장르, 월, 스태프 수, 상영시간 스케일링"
   ]
  },
  {
   "cell_type": "code",
   "execution_count": 19,
   "id": "221b2f0a",
   "metadata": {},
   "outputs": [],
   "source": [
    "dis_medi_norm = train.groupby('distributor').box_off_num.median().reset_index(name = 'dis_medi_norm').sort_values(by = 'dis_medi_norm')\n",
    "dis_mean_norm = train.groupby('distributor').box_off_num.mean().reset_index(name = 'dis_mean_norm').sort_values(by = 'dis_mean_norm')\n",
    "gr_medi_norm = train.groupby('genre').box_off_num.median().reset_index(name = 'gr_medi_norm').sort_values(by = 'gr_medi_norm')\n",
    "gr_mean_norm = train.groupby('genre').box_off_num.mean().reset_index(name = 'gr_mean_norm').sort_values(by = 'gr_mean_norm')\n",
    "month_medi_norm = train.groupby('month').box_off_num.median().reset_index(name = 'month_medi_norm').sort_values(by = 'month_medi_norm')\n",
    "month_mean_norm = train.groupby('month').box_off_num.mean().reset_index(name = 'month_mean_norm').sort_values(by = 'month_mean_norm')"
   ]
  },
  {
   "cell_type": "code",
   "execution_count": 20,
   "id": "a0d1e35a",
   "metadata": {},
   "outputs": [],
   "source": [
    "train = pd.merge(train, dis_medi_norm, how = 'left')\n",
    "train = pd.merge(train, dis_mean_norm, how = 'left')\n",
    "train = pd.merge(train, gr_medi_norm, how = 'left')\n",
    "train = pd.merge(train, gr_mean_norm, how = 'left')\n",
    "train = pd.merge(train, month_medi_norm, how = 'left')\n",
    "train = pd.merge(train, month_mean_norm, how = 'left')\n",
    "\n",
    "test = pd.merge(test, dis_medi_norm, how = 'left')\n",
    "test = pd.merge(test, dis_mean_norm, how = 'left')\n",
    "test = pd.merge(test, gr_medi_norm, how = 'left')\n",
    "test = pd.merge(test, gr_mean_norm, how = 'left')\n",
    "test = pd.merge(test, month_medi_norm, how = 'left')\n",
    "test = pd.merge(test, month_mean_norm, how = 'left')"
   ]
  },
  {
   "cell_type": "code",
   "execution_count": 21,
   "id": "542f07d6",
   "metadata": {},
   "outputs": [],
   "source": [
    "from sklearn.preprocessing import minmax_scale, StandardScaler, MinMaxScaler\n",
    "\n",
    "train['dis_mean_norm'] = MinMaxScaler(feature_range=[0,1]).fit(train[['dis_mean_norm']]).transform(train[['dis_mean_norm']])\n",
    "train['dis_medi_norm'] = MinMaxScaler(feature_range=[0,1]).fit(train[['dis_medi_norm']]).transform(train[['dis_medi_norm']])\n",
    "train['gr_mean_norm'] = MinMaxScaler(feature_range=[0,1]).fit(train[['gr_mean_norm']]).transform(train[['gr_mean_norm']])\n",
    "train['gr_medi_norm'] = MinMaxScaler(feature_range=[0,1]).fit(train[['gr_medi_norm']]).transform(train[['gr_medi_norm']])\n",
    "train['month_mean_norm'] = MinMaxScaler(feature_range=[0,1]).fit(train[['month_mean_norm']]).transform(train[['month_mean_norm']])\n",
    "train['month_medi_norm'] = MinMaxScaler(feature_range=[0,1]).fit(train[['month_medi_norm']]).transform(train[['month_medi_norm']])\n",
    "train['num_staff_norm'] = MinMaxScaler(feature_range=[0,1]).fit(train[['num_staff']]).transform(train[['num_staff']])\n",
    "train['time_norm'] = MinMaxScaler(feature_range=[0,1]).fit(train[['time']]).transform(train[['time']])\n",
    "train['dis_sum_norm'] = MinMaxScaler(feature_range=[0,1]).fit(train[['dis_sum']]).transform(train[['dis_sum']])\n",
    "train['dir_prev_bfnum_norm'] = MinMaxScaler(feature_range=[0,1]).fit(train[['dir_prev_bfnum']]).transform(train[['dir_prev_bfnum']])\n",
    "train['month_sum_norm'] = MinMaxScaler(feature_range=[0,1]).fit(train[['month_sum']]).transform(train[['month_sum']])"
   ]
  },
  {
   "cell_type": "code",
   "execution_count": 22,
   "id": "3f1ccd5a",
   "metadata": {},
   "outputs": [],
   "source": [
    "test['dis_mean_norm'] = MinMaxScaler(feature_range=[0,1]).fit(test[['dis_mean_norm']]).transform(test[['dis_mean_norm']])\n",
    "test['dis_medi_norm'] = MinMaxScaler(feature_range=[0,1]).fit(test[['dis_medi_norm']]).transform(test[['dis_medi_norm']])\n",
    "test['gr_mean_norm'] = MinMaxScaler(feature_range=[0,1]).fit(test[['gr_mean_norm']]).transform(test[['gr_mean_norm']])\n",
    "test['gr_medi_norm'] = MinMaxScaler(feature_range=[0,1]).fit(test[['gr_medi_norm']]).transform(test[['gr_medi_norm']])\n",
    "test['month_mean_norm'] = MinMaxScaler(feature_range=[0,1]).fit(test[['month_mean_norm']]).transform(test[['month_mean_norm']])\n",
    "test['month_medi_norm'] = MinMaxScaler(feature_range=[0,1]).fit(test[['month_medi_norm']]).transform(test[['month_medi_norm']])\n",
    "test['num_staff_norm'] = MinMaxScaler(feature_range=[0,1]).fit(test[['num_staff']]).transform(test[['num_staff']])\n",
    "test['time_norm'] = MinMaxScaler(feature_range=[0,1]).fit(test[['time']]).transform(test[['time']])\n",
    "test['dis_sum_norm'] = MinMaxScaler(feature_range=[0,1]).fit(test[['dis_sum']]).transform(test[['dis_sum']])\n",
    "test['dir_prev_bfnum_norm'] = MinMaxScaler(feature_range=[0,1]).fit(test[['dir_prev_bfnum']]).transform(test[['dir_prev_bfnum']])\n",
    "test['month_sum_norm'] = MinMaxScaler(feature_range=[0,1]).fit(test[['month_sum']]).transform(test[['month_sum']])"
   ]
  },
  {
   "cell_type": "markdown",
   "id": "986b1f24",
   "metadata": {},
   "source": [
    "# 데이터 확인"
   ]
  },
  {
   "cell_type": "code",
   "execution_count": 23,
   "id": "fa693b62",
   "metadata": {},
   "outputs": [],
   "source": [
    "test = test.fillna(0)\n",
    "train = train.fillna(0)"
   ]
  },
  {
   "cell_type": "code",
   "execution_count": 24,
   "id": "8d404b39",
   "metadata": {},
   "outputs": [
    {
     "data": {
      "text/html": [
       "<div>\n",
       "<style scoped>\n",
       "    .dataframe tbody tr th:only-of-type {\n",
       "        vertical-align: middle;\n",
       "    }\n",
       "\n",
       "    .dataframe tbody tr th {\n",
       "        vertical-align: top;\n",
       "    }\n",
       "\n",
       "    .dataframe thead th {\n",
       "        text-align: right;\n",
       "    }\n",
       "</style>\n",
       "<table border=\"1\" class=\"dataframe\">\n",
       "  <thead>\n",
       "    <tr style=\"text-align: right;\">\n",
       "      <th></th>\n",
       "      <th>time</th>\n",
       "      <th>dir_prev_bfnum</th>\n",
       "      <th>dir_prev_num</th>\n",
       "      <th>num_staff</th>\n",
       "      <th>num_actor</th>\n",
       "      <th>box_off_num</th>\n",
       "      <th>dis_medi_rank</th>\n",
       "      <th>dis_mean_rank</th>\n",
       "      <th>dis_sum</th>\n",
       "      <th>gr_mean_rank</th>\n",
       "      <th>...</th>\n",
       "      <th>dis_mean_norm</th>\n",
       "      <th>gr_medi_norm</th>\n",
       "      <th>gr_mean_norm</th>\n",
       "      <th>month_medi_norm</th>\n",
       "      <th>month_mean_norm</th>\n",
       "      <th>num_staff_norm</th>\n",
       "      <th>time_norm</th>\n",
       "      <th>dis_sum_norm</th>\n",
       "      <th>dir_prev_bfnum_norm</th>\n",
       "      <th>month_sum_norm</th>\n",
       "    </tr>\n",
       "  </thead>\n",
       "  <tbody>\n",
       "    <tr>\n",
       "      <th>count</th>\n",
       "      <td>600.000000</td>\n",
       "      <td>6.000000e+02</td>\n",
       "      <td>600.000000</td>\n",
       "      <td>600.000000</td>\n",
       "      <td>600.000000</td>\n",
       "      <td>6.000000e+02</td>\n",
       "      <td>600.000000</td>\n",
       "      <td>600.000000</td>\n",
       "      <td>6.000000e+02</td>\n",
       "      <td>600.000000</td>\n",
       "      <td>...</td>\n",
       "      <td>600.000000</td>\n",
       "      <td>600.000000</td>\n",
       "      <td>600.000000</td>\n",
       "      <td>600.000000</td>\n",
       "      <td>600.000000</td>\n",
       "      <td>600.000000</td>\n",
       "      <td>600.000000</td>\n",
       "      <td>600.000000</td>\n",
       "      <td>600.000000</td>\n",
       "      <td>600.000000</td>\n",
       "    </tr>\n",
       "    <tr>\n",
       "      <th>mean</th>\n",
       "      <td>100.863333</td>\n",
       "      <td>4.726993e+05</td>\n",
       "      <td>0.876667</td>\n",
       "      <td>151.118333</td>\n",
       "      <td>3.706667</td>\n",
       "      <td>7.081818e+05</td>\n",
       "      <td>93.520000</td>\n",
       "      <td>102.576667</td>\n",
       "      <td>3.098719e+07</td>\n",
       "      <td>6.790000</td>\n",
       "      <td>...</td>\n",
       "      <td>0.212478</td>\n",
       "      <td>0.097884</td>\n",
       "      <td>0.310826</td>\n",
       "      <td>0.101406</td>\n",
       "      <td>0.406237</td>\n",
       "      <td>0.173899</td>\n",
       "      <td>0.413802</td>\n",
       "      <td>0.220514</td>\n",
       "      <td>0.026835</td>\n",
       "      <td>0.474578</td>\n",
       "    </tr>\n",
       "    <tr>\n",
       "      <th>std</th>\n",
       "      <td>18.097528</td>\n",
       "      <td>1.309474e+06</td>\n",
       "      <td>1.183409</td>\n",
       "      <td>165.654671</td>\n",
       "      <td>2.446889</td>\n",
       "      <td>1.828006e+06</td>\n",
       "      <td>43.390138</td>\n",
       "      <td>39.472618</td>\n",
       "      <td>4.891525e+07</td>\n",
       "      <td>2.801603</td>\n",
       "      <td>...</td>\n",
       "      <td>0.293144</td>\n",
       "      <td>0.245787</td>\n",
       "      <td>0.263436</td>\n",
       "      <td>0.240284</td>\n",
       "      <td>0.325977</td>\n",
       "      <td>0.190627</td>\n",
       "      <td>0.134056</td>\n",
       "      <td>0.348096</td>\n",
       "      <td>0.074337</td>\n",
       "      <td>0.334105</td>\n",
       "    </tr>\n",
       "    <tr>\n",
       "      <th>min</th>\n",
       "      <td>45.000000</td>\n",
       "      <td>0.000000e+00</td>\n",
       "      <td>0.000000</td>\n",
       "      <td>0.000000</td>\n",
       "      <td>0.000000</td>\n",
       "      <td>1.000000e+00</td>\n",
       "      <td>1.000000</td>\n",
       "      <td>1.000000</td>\n",
       "      <td>2.000000e+00</td>\n",
       "      <td>1.000000</td>\n",
       "      <td>...</td>\n",
       "      <td>0.000000</td>\n",
       "      <td>0.000000</td>\n",
       "      <td>0.000000</td>\n",
       "      <td>0.000000</td>\n",
       "      <td>0.000000</td>\n",
       "      <td>0.000000</td>\n",
       "      <td>0.000000</td>\n",
       "      <td>0.000000</td>\n",
       "      <td>0.000000</td>\n",
       "      <td>0.000000</td>\n",
       "    </tr>\n",
       "    <tr>\n",
       "      <th>25%</th>\n",
       "      <td>89.000000</td>\n",
       "      <td>0.000000e+00</td>\n",
       "      <td>0.000000</td>\n",
       "      <td>17.000000</td>\n",
       "      <td>2.000000</td>\n",
       "      <td>1.297250e+03</td>\n",
       "      <td>53.750000</td>\n",
       "      <td>76.000000</td>\n",
       "      <td>3.529300e+04</td>\n",
       "      <td>5.000000</td>\n",
       "      <td>...</td>\n",
       "      <td>0.001563</td>\n",
       "      <td>0.000371</td>\n",
       "      <td>0.185790</td>\n",
       "      <td>0.013766</td>\n",
       "      <td>0.115311</td>\n",
       "      <td>0.019563</td>\n",
       "      <td>0.325926</td>\n",
       "      <td>0.000251</td>\n",
       "      <td>0.000000</td>\n",
       "      <td>0.165128</td>\n",
       "    </tr>\n",
       "    <tr>\n",
       "      <th>50%</th>\n",
       "      <td>100.000000</td>\n",
       "      <td>0.000000e+00</td>\n",
       "      <td>0.000000</td>\n",
       "      <td>82.500000</td>\n",
       "      <td>3.000000</td>\n",
       "      <td>1.259100e+04</td>\n",
       "      <td>99.000000</td>\n",
       "      <td>107.000000</td>\n",
       "      <td>3.037420e+05</td>\n",
       "      <td>8.000000</td>\n",
       "      <td>...</td>\n",
       "      <td>0.008638</td>\n",
       "      <td>0.002513</td>\n",
       "      <td>0.274277</td>\n",
       "      <td>0.038736</td>\n",
       "      <td>0.286630</td>\n",
       "      <td>0.094937</td>\n",
       "      <td>0.407407</td>\n",
       "      <td>0.002162</td>\n",
       "      <td>0.000000</td>\n",
       "      <td>0.461916</td>\n",
       "    </tr>\n",
       "    <tr>\n",
       "      <th>75%</th>\n",
       "      <td>114.000000</td>\n",
       "      <td>3.761416e+05</td>\n",
       "      <td>2.000000</td>\n",
       "      <td>264.000000</td>\n",
       "      <td>4.000000</td>\n",
       "      <td>4.798868e+05</td>\n",
       "      <td>134.250000</td>\n",
       "      <td>141.000000</td>\n",
       "      <td>6.438374e+07</td>\n",
       "      <td>8.000000</td>\n",
       "      <td>...</td>\n",
       "      <td>0.371487</td>\n",
       "      <td>0.063214</td>\n",
       "      <td>0.274277</td>\n",
       "      <td>0.043451</td>\n",
       "      <td>0.695992</td>\n",
       "      <td>0.303797</td>\n",
       "      <td>0.511111</td>\n",
       "      <td>0.458174</td>\n",
       "      <td>0.021353</td>\n",
       "      <td>0.832368</td>\n",
       "    </tr>\n",
       "    <tr>\n",
       "      <th>max</th>\n",
       "      <td>180.000000</td>\n",
       "      <td>1.761531e+07</td>\n",
       "      <td>5.000000</td>\n",
       "      <td>869.000000</td>\n",
       "      <td>25.000000</td>\n",
       "      <td>1.426277e+07</td>\n",
       "      <td>147.000000</td>\n",
       "      <td>147.000000</td>\n",
       "      <td>1.405224e+08</td>\n",
       "      <td>12.000000</td>\n",
       "      <td>...</td>\n",
       "      <td>1.000000</td>\n",
       "      <td>1.000000</td>\n",
       "      <td>1.000000</td>\n",
       "      <td>1.000000</td>\n",
       "      <td>1.000000</td>\n",
       "      <td>1.000000</td>\n",
       "      <td>1.000000</td>\n",
       "      <td>1.000000</td>\n",
       "      <td>1.000000</td>\n",
       "      <td>1.000000</td>\n",
       "    </tr>\n",
       "  </tbody>\n",
       "</table>\n",
       "<p>8 rows × 25 columns</p>\n",
       "</div>"
      ],
      "text/plain": [
       "             time  dir_prev_bfnum  dir_prev_num   num_staff   num_actor  \\\n",
       "count  600.000000    6.000000e+02    600.000000  600.000000  600.000000   \n",
       "mean   100.863333    4.726993e+05      0.876667  151.118333    3.706667   \n",
       "std     18.097528    1.309474e+06      1.183409  165.654671    2.446889   \n",
       "min     45.000000    0.000000e+00      0.000000    0.000000    0.000000   \n",
       "25%     89.000000    0.000000e+00      0.000000   17.000000    2.000000   \n",
       "50%    100.000000    0.000000e+00      0.000000   82.500000    3.000000   \n",
       "75%    114.000000    3.761416e+05      2.000000  264.000000    4.000000   \n",
       "max    180.000000    1.761531e+07      5.000000  869.000000   25.000000   \n",
       "\n",
       "        box_off_num  dis_medi_rank  dis_mean_rank       dis_sum  gr_mean_rank  \\\n",
       "count  6.000000e+02     600.000000     600.000000  6.000000e+02    600.000000   \n",
       "mean   7.081818e+05      93.520000     102.576667  3.098719e+07      6.790000   \n",
       "std    1.828006e+06      43.390138      39.472618  4.891525e+07      2.801603   \n",
       "min    1.000000e+00       1.000000       1.000000  2.000000e+00      1.000000   \n",
       "25%    1.297250e+03      53.750000      76.000000  3.529300e+04      5.000000   \n",
       "50%    1.259100e+04      99.000000     107.000000  3.037420e+05      8.000000   \n",
       "75%    4.798868e+05     134.250000     141.000000  6.438374e+07      8.000000   \n",
       "max    1.426277e+07     147.000000     147.000000  1.405224e+08     12.000000   \n",
       "\n",
       "       ...  dis_mean_norm  gr_medi_norm  gr_mean_norm  month_medi_norm  \\\n",
       "count  ...     600.000000    600.000000    600.000000       600.000000   \n",
       "mean   ...       0.212478      0.097884      0.310826         0.101406   \n",
       "std    ...       0.293144      0.245787      0.263436         0.240284   \n",
       "min    ...       0.000000      0.000000      0.000000         0.000000   \n",
       "25%    ...       0.001563      0.000371      0.185790         0.013766   \n",
       "50%    ...       0.008638      0.002513      0.274277         0.038736   \n",
       "75%    ...       0.371487      0.063214      0.274277         0.043451   \n",
       "max    ...       1.000000      1.000000      1.000000         1.000000   \n",
       "\n",
       "       month_mean_norm  num_staff_norm   time_norm  dis_sum_norm  \\\n",
       "count       600.000000      600.000000  600.000000    600.000000   \n",
       "mean          0.406237        0.173899    0.413802      0.220514   \n",
       "std           0.325977        0.190627    0.134056      0.348096   \n",
       "min           0.000000        0.000000    0.000000      0.000000   \n",
       "25%           0.115311        0.019563    0.325926      0.000251   \n",
       "50%           0.286630        0.094937    0.407407      0.002162   \n",
       "75%           0.695992        0.303797    0.511111      0.458174   \n",
       "max           1.000000        1.000000    1.000000      1.000000   \n",
       "\n",
       "       dir_prev_bfnum_norm  month_sum_norm  \n",
       "count           600.000000      600.000000  \n",
       "mean              0.026835        0.474578  \n",
       "std               0.074337        0.334105  \n",
       "min               0.000000        0.000000  \n",
       "25%               0.000000        0.165128  \n",
       "50%               0.000000        0.461916  \n",
       "75%               0.021353        0.832368  \n",
       "max               1.000000        1.000000  \n",
       "\n",
       "[8 rows x 25 columns]"
      ]
     },
     "execution_count": 24,
     "metadata": {},
     "output_type": "execute_result"
    }
   ],
   "source": [
    "train.describe()"
   ]
  },
  {
   "cell_type": "markdown",
   "id": "32fe91c2",
   "metadata": {},
   "source": [
    "# 학습데이터 설정"
   ]
  },
  {
   "cell_type": "markdown",
   "id": "7334fb33",
   "metadata": {},
   "source": [
    "변수 정리 (12개 계획)\n",
    "\n",
    "배급사\n",
    "1. 중위값 랭크 'dis_medi_rank'\n",
    "2. 평균값 랭크 'dis_mean_rank'\n",
    "3. 중위값 스케일링 'dis_medi_norm'\n",
    "4. 평균값 스케일링 'dis_mean_norm'\n",
    "\n",
    "장르\n",
    "5. 중위값 랭크 'gr_medi_rank'\n",
    "6. 평균값 랭크 'gr_mean_rank'\n",
    "7. 중위값 스케일링 'gr_medi_norm'\n",
    "8. 평균값 스케일링 'gr_mean_norm'\n",
    "\n",
    "\n",
    "개봉월\n",
    "9. 중위값 랭크 'month_medi_rank'\n",
    "10. 평균값 랭크 'month_mean_rank'\n",
    "11. 중위값 스케일링 'month_medi_norm'\n",
    "12. 평균값 스케일링 'month_mean_norm'\n",
    "\n",
    "\n",
    "상영시간\n",
    "13. 전처리 없이 'time'\n",
    "14. 스케일링 'time_norm'\n",
    "\n",
    "스태프 수\n",
    "15. 전처리 없이 'num_staff'\n",
    "16. 스케일링 'num_staff_norm'\n",
    "\n",
    "상영등급\n",
    "17. 원핫인코딩 'screening_rat'\n",
    "- 학습데이터 = pd.get_dummies(columns = ['screening_rat'], data = 학습데이터)\n",
    "\n",
    "=============================\n",
    "\n",
    "\n",
    "감독 이전 관객수\n",
    "18. 기본값 'dir_prev_bfnum'\n",
    "\n",
    "감독 이전 영화수\n",
    "19. 기본값 'dir_prev_num'"
   ]
  },
  {
   "cell_type": "code",
   "execution_count": 25,
   "id": "053e7830",
   "metadata": {},
   "outputs": [],
   "source": [
    "#####학습 변수#####\n",
    "X = train[['dis_sum','dis_sum_norm','gr_mean_norm','gr_mean_rank','month_mean_norm','dir_prev_num','dir_prev_bfnum','time','num_staff']]\n",
    "\n",
    "#####예측 값#####\n",
    "y = train['box_off_num']\n",
    "#로그를 씌우고 싶다면\n",
    "y = np.log1p(train.box_off_num)\n",
    "\n",
    "\n",
    "target = test[['dis_sum','dis_sum_norm','gr_mean_norm','gr_mean_rank','month_mean_norm','dir_prev_num','dir_prev_bfnum','time','num_staff']]"
   ]
  },
  {
   "cell_type": "markdown",
   "id": "93cff778",
   "metadata": {},
   "source": [
    "# 모델 설정"
   ]
  },
  {
   "cell_type": "code",
   "execution_count": 26,
   "id": "7a59cb32",
   "metadata": {
    "scrolled": true
   },
   "outputs": [],
   "source": [
    "from sklearn.ensemble import GradientBoostingRegressor, RandomForestRegressor\n",
    "from sklearn.model_selection import train_test_split\n",
    "from sklearn.preprocessing import PolynomialFeatures\n",
    "from sklearn.model_selection import GridSearchCV\n",
    "from sklearn.ensemble import AdaBoostRegressor\n",
    "from sklearn.metrics import mean_squared_error\n",
    "from sklearn.model_selection import KFold\n",
    "from sklearn.linear_model import Lasso\n",
    "from xgboost import XGBRegressor\n",
    "from math import sqrt\n",
    "from sklearn.linear_model import LinearRegression"
   ]
  },
  {
   "cell_type": "code",
   "execution_count": 27,
   "id": "69cb1a10",
   "metadata": {},
   "outputs": [],
   "source": [
    "kf = KFold(n_splits =  5, shuffle = True, random_state = 42)"
   ]
  },
  {
   "cell_type": "code",
   "execution_count": 28,
   "id": "b94f1ce9",
   "metadata": {},
   "outputs": [],
   "source": [
    "X_train, X_test, y_train, y_test = train_test_split(X, y, test_size=0.2, random_state=121)"
   ]
  },
  {
   "cell_type": "code",
   "execution_count": 29,
   "id": "72a72721",
   "metadata": {},
   "outputs": [],
   "source": [
    "hyper_parameter = {\n",
    "    'alpha' : [0.01, 0.1, 1, 10],\n",
    "    'max_iter' : [100, 500, 1000, 1500, 2000]\n",
    "}"
   ]
  },
  {
   "cell_type": "code",
   "execution_count": 30,
   "id": "274e438e",
   "metadata": {},
   "outputs": [],
   "source": [
    "lasso_model = Lasso(alpha=0.001, max_iter=1000, normalize=True)"
   ]
  },
  {
   "cell_type": "code",
   "execution_count": 31,
   "id": "ddc57f41",
   "metadata": {},
   "outputs": [
    {
     "data": {
      "text/plain": [
       "GridSearchCV(cv=KFold(n_splits=5, random_state=42, shuffle=True),\n",
       "             estimator=Lasso(alpha=0.001, normalize=True),\n",
       "             param_grid={'alpha': [0.01, 0.1, 1, 10],\n",
       "                         'max_iter': [100, 500, 1000, 1500, 2000]})"
      ]
     },
     "execution_count": 31,
     "metadata": {},
     "output_type": "execute_result"
    }
   ],
   "source": [
    "hyper_parameter_tuner = GridSearchCV(lasso_model, hyper_parameter, cv=kf)\n",
    "hyper_parameter_tuner.fit(X, y)"
   ]
  },
  {
   "cell_type": "code",
   "execution_count": 32,
   "id": "e3646787",
   "metadata": {},
   "outputs": [
    {
     "data": {
      "text/plain": [
       "{'alpha': 0.01, 'max_iter': 100}"
      ]
     },
     "execution_count": 32,
     "metadata": {},
     "output_type": "execute_result"
    }
   ],
   "source": [
    "hyper_parameter_tuner.best_params_"
   ]
  },
  {
   "cell_type": "code",
   "execution_count": 53,
   "id": "a68bc90f",
   "metadata": {},
   "outputs": [],
   "source": [
    "xgb = XGBRegressor(random_state = 42, alpha=0.01, max_iter=100)\n",
    "gbr = GradientBoostingRegressor(random_state=42)\n",
    "rf = RandomForestRegressor(n_estimators=100, max_depth=4, random_state=42)\n",
    "ada = AdaBoostRegressor(n_estimators=100)\n",
    "lin = LinearRegression()"
   ]
  },
  {
   "cell_type": "code",
   "execution_count": 34,
   "id": "194156ce",
   "metadata": {},
   "outputs": [
    {
     "name": "stdout",
     "output_type": "stream",
     "text": [
      "[00:25:15] WARNING: C:/Users/Administrator/workspace/xgboost-win64_release_1.5.1/src/learner.cc:576: \n",
      "Parameters: { \"max_iter\" } might not be used.\n",
      "\n",
      "  This could be a false alarm, with some parameters getting used by language bindings but\n",
      "  then being mistakenly passed down to XGBoost core, or some parameter actually being used\n",
      "  but getting flagged wrongly here. Please open an issue if you find any such cases.\n",
      "\n",
      "\n"
     ]
    },
    {
     "data": {
      "text/plain": [
       "XGBRegressor(alpha=0.01, base_score=0.5, booster='gbtree', colsample_bylevel=1,\n",
       "             colsample_bynode=1, colsample_bytree=1, enable_categorical=False,\n",
       "             gamma=0, gpu_id=-1, importance_type=None,\n",
       "             interaction_constraints='', learning_rate=0.300000012,\n",
       "             max_delta_step=0, max_depth=6, max_iter=100, min_child_weight=1,\n",
       "             missing=nan, monotone_constraints='()', n_estimators=100, n_jobs=6,\n",
       "             num_parallel_tree=1, predictor='auto', random_state=42,\n",
       "             reg_alpha=0.00999999978, reg_lambda=1, scale_pos_weight=1,\n",
       "             subsample=1, tree_method='exact', validate_parameters=1,\n",
       "             verbosity=None)"
      ]
     },
     "execution_count": 34,
     "metadata": {},
     "output_type": "execute_result"
    }
   ],
   "source": [
    "xgb.fit(X_train, y_train)"
   ]
  },
  {
   "cell_type": "code",
   "execution_count": 35,
   "id": "c16f7cb0",
   "metadata": {},
   "outputs": [
    {
     "data": {
      "text/plain": [
       "array([0.56040597, 0.        , 0.05062939, 0.        , 0.06835642,\n",
       "       0.02993772, 0.06233554, 0.07204147, 0.15629345], dtype=float32)"
      ]
     },
     "execution_count": 35,
     "metadata": {},
     "output_type": "execute_result"
    }
   ],
   "source": [
    "importances = xgb.feature_importances_ #속성중요도\n",
    "importances"
   ]
  },
  {
   "cell_type": "code",
   "execution_count": 36,
   "id": "f37992aa",
   "metadata": {},
   "outputs": [
    {
     "data": {
      "image/png": "[encoded data removed]",
      "text/plain": [
       "<Figure size 576x396 with 1 Axes>"
      ]
     },
     "metadata": {},
     "output_type": "display_data"
    }
   ],
   "source": [
    "indices_sorted = np.argsort(importances) #속성중요도 시각화\n",
    "plt.style.use(\"seaborn\")\n",
    "plt.figure()\n",
    "plt.bar(range(len(importances)), importances[indices_sorted])\n",
    "plt.xticks(range(len(importances)), X.columns[indices_sorted], rotation=90)\n",
    "plt.show()"
   ]
  },
  {
   "cell_type": "code",
   "execution_count": 37,
   "id": "3a026f58",
   "metadata": {},
   "outputs": [
    {
     "data": {
      "text/plain": [
       "GradientBoostingRegressor(random_state=42)"
      ]
     },
     "execution_count": 37,
     "metadata": {},
     "output_type": "execute_result"
    }
   ],
   "source": [
    "gbr.fit(X_train, y_train)"
   ]
  },
  {
   "cell_type": "code",
   "execution_count": 38,
   "id": "82dd275b",
   "metadata": {},
   "outputs": [
    {
     "data": {
      "text/plain": [
       "RandomForestRegressor(max_depth=4, random_state=42)"
      ]
     },
     "execution_count": 38,
     "metadata": {},
     "output_type": "execute_result"
    }
   ],
   "source": [
    "rf.fit(X_train, y_train)"
   ]
  },
  {
   "cell_type": "code",
   "execution_count": 39,
   "id": "a2ea82d9",
   "metadata": {},
   "outputs": [
    {
     "data": {
      "text/plain": [
       "AdaBoostRegressor(n_estimators=100)"
      ]
     },
     "execution_count": 39,
     "metadata": {},
     "output_type": "execute_result"
    }
   ],
   "source": [
    "ada.fit(X_train, y_train)"
   ]
  },
  {
   "cell_type": "code",
   "execution_count": 40,
   "id": "8996cee4",
   "metadata": {},
   "outputs": [
    {
     "data": {
      "text/plain": [
       "LinearRegression()"
      ]
     },
     "execution_count": 40,
     "metadata": {},
     "output_type": "execute_result"
    }
   ],
   "source": [
    "lin.fit(X_train, y_train)"
   ]
  },
  {
   "cell_type": "code",
   "execution_count": 41,
   "id": "9871b82b",
   "metadata": {},
   "outputs": [],
   "source": [
    "xg_pred = xgb.predict(X_test)\n",
    "gbr_pred = gbr.predict(X_test)\n",
    "rf_pred = rf.predict(X_test)\n",
    "ada_pred = ada.predict(X_test)\n",
    "lin_pred = lin.predict(X_test)"
   ]
  },
  {
   "cell_type": "code",
   "execution_count": 42,
   "id": "1c8f0705",
   "metadata": {},
   "outputs": [
    {
     "data": {
      "text/plain": [
       "1.5708469730091057"
      ]
     },
     "execution_count": 42,
     "metadata": {},
     "output_type": "execute_result"
    }
   ],
   "source": [
    "mean_squared_error(y_test, xg_pred) ** 0.5"
   ]
  },
  {
   "cell_type": "code",
   "execution_count": 43,
   "id": "8ea82bf3",
   "metadata": {},
   "outputs": [
    {
     "data": {
      "text/plain": [
       "1.4241646313271805"
      ]
     },
     "execution_count": 43,
     "metadata": {},
     "output_type": "execute_result"
    }
   ],
   "source": [
    "mean_squared_error(y_test, gbr_pred) ** 0.5"
   ]
  },
  {
   "cell_type": "code",
   "execution_count": 44,
   "id": "f4fd54f9",
   "metadata": {},
   "outputs": [
    {
     "data": {
      "text/plain": [
       "1.3879613849322596"
      ]
     },
     "execution_count": 44,
     "metadata": {},
     "output_type": "execute_result"
    }
   ],
   "source": [
    "mean_squared_error(y_test, rf_pred) ** 0.5"
   ]
  },
  {
   "cell_type": "code",
   "execution_count": 45,
   "id": "6f945c2f",
   "metadata": {},
   "outputs": [
    {
     "data": {
      "text/plain": [
       "1.6654964166590185"
      ]
     },
     "execution_count": 45,
     "metadata": {},
     "output_type": "execute_result"
    }
   ],
   "source": [
    "mean_squared_error(y_test, ada_pred) ** 0.5"
   ]
  },
  {
   "cell_type": "code",
   "execution_count": 46,
   "id": "37bbe669",
   "metadata": {},
   "outputs": [
    {
     "data": {
      "text/plain": [
       "1.8058874001566725"
      ]
     },
     "execution_count": 46,
     "metadata": {},
     "output_type": "execute_result"
    }
   ],
   "source": [
    "mean_squared_error(y_test, lin_pred) ** 0.5"
   ]
  },
  {
   "cell_type": "markdown",
   "id": "fbf43546",
   "metadata": {},
   "source": [
    "# Score"
   ]
  },
  {
   "cell_type": "code",
   "execution_count": 47,
   "id": "e86a9496",
   "metadata": {},
   "outputs": [
    {
     "data": {
      "text/plain": [
       "0.7985845358111746"
      ]
     },
     "execution_count": 47,
     "metadata": {},
     "output_type": "execute_result"
    }
   ],
   "source": [
    "xgb.score(X_test, y_test) #예측확률 70%"
   ]
  },
  {
   "cell_type": "code",
   "execution_count": 48,
   "id": "f4170d5b",
   "metadata": {},
   "outputs": [
    {
     "data": {
      "text/plain": [
       "0.8344438018757437"
      ]
     },
     "execution_count": 48,
     "metadata": {},
     "output_type": "execute_result"
    }
   ],
   "source": [
    "gbr.score(X_test, y_test) #예측확률 80%"
   ]
  },
  {
   "cell_type": "code",
   "execution_count": 49,
   "id": "4160c816",
   "metadata": {},
   "outputs": [
    {
     "data": {
      "text/plain": [
       "0.8427539228666171"
      ]
     },
     "execution_count": 49,
     "metadata": {},
     "output_type": "execute_result"
    }
   ],
   "source": [
    "rf.score(X_test, y_test) #예측확률 80%"
   ]
  },
  {
   "cell_type": "code",
   "execution_count": 50,
   "id": "42e08e2b",
   "metadata": {},
   "outputs": [
    {
     "data": {
      "text/plain": [
       "0.7735812138067665"
      ]
     },
     "execution_count": 50,
     "metadata": {},
     "output_type": "execute_result"
    }
   ],
   "source": [
    "ada.score(X_test, y_test)"
   ]
  },
  {
   "cell_type": "code",
   "execution_count": 51,
   "id": "e1907378",
   "metadata": {},
   "outputs": [
    {
     "data": {
      "text/plain": [
       "0.7338010191847597"
      ]
     },
     "execution_count": 51,
     "metadata": {},
     "output_type": "execute_result"
    }
   ],
   "source": [
    "lin.score(X_test, y_test)"
   ]
  },
  {
   "cell_type": "code",
   "execution_count": 52,
   "id": "76e1b2b5",
   "metadata": {},
   "outputs": [],
   "source": [
    "submission.to_csv('team2_movies_13.csv', index = False)"
   ]
  },
  {
   "cell_type": "code",
   "execution_count": null,
   "id": "4114b291",
   "metadata": {},
   "outputs": [],
   "source": []
  },
  {
   "cell_type": "code",
   "execution_count": null,
   "id": "a0a696b9",
   "metadata": {},
   "outputs": [],
   "source": []
  }
 ],
 "metadata": {
  "kernelspec": {
   "display_name": "Python 3 (ipykernel)",
   "language": "python",
   "name": "python3"
  },
  "language_info": {
   "codemirror_mode": {
    "name": "ipython",
    "version": 3
   },
   "file_extension": ".py",
   "mimetype": "text/x-python",
   "name": "python",
   "nbconvert_exporter": "python",
   "pygments_lexer": "ipython3",
   "version": "3.9.7"
  }
 },
 "nbformat": 4,
 "nbformat_minor": 5
}
