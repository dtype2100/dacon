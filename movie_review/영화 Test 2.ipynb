{
 "cells": [
  {
   "cell_type": "code",
   "execution_count": 27,
   "id": "27f59534",
   "metadata": {},
   "outputs": [],
   "source": [
    "import pandas as pd\n",
    "import numpy as np\n",
    "import seaborn as sns\n",
    "import matplotlib.pyplot as plt\n",
    "import re\n",
    "import warnings\n",
    "warnings.filterwarnings('ignore')"
   ]
  },
  {
   "cell_type": "code",
   "execution_count": 28,
   "id": "aa13c0c5",
   "metadata": {},
   "outputs": [],
   "source": [
    "\n",
    "train = pd.read_csv('C:\\\\Users\\\\user\\\\workspace\\\\movie\\\\movies_train.csv')\n",
    "test = pd.read_csv('C:\\\\Users\\\\user\\\\workspace\\\\movie\\movies_test.csv')\n",
    "submission = pd.read_csv('C:\\\\Users\\\\user\\\\workspace\\\\movie\\\\submission.csv')"
   ]
  },
  {
   "cell_type": "markdown",
   "id": "88abef40",
   "metadata": {},
   "source": [
    "전처리"
   ]
  },
  {
   "cell_type": "code",
   "execution_count": 29,
   "id": "66822140",
   "metadata": {},
   "outputs": [
    {
     "data": {
      "text/html": [
       "<div>\n",
       "<style scoped>\n",
       "    .dataframe tbody tr th:only-of-type {\n",
       "        vertical-align: middle;\n",
       "    }\n",
       "\n",
       "    .dataframe tbody tr th {\n",
       "        vertical-align: top;\n",
       "    }\n",
       "\n",
       "    .dataframe thead th {\n",
       "        text-align: right;\n",
       "    }\n",
       "</style>\n",
       "<table border=\"1\" class=\"dataframe\">\n",
       "  <thead>\n",
       "    <tr style=\"text-align: right;\">\n",
       "      <th></th>\n",
       "      <th>title</th>\n",
       "      <th>distributor</th>\n",
       "      <th>genre</th>\n",
       "      <th>release_time</th>\n",
       "      <th>time</th>\n",
       "      <th>screening_rat</th>\n",
       "      <th>director</th>\n",
       "      <th>dir_prev_bfnum</th>\n",
       "      <th>dir_prev_num</th>\n",
       "      <th>num_staff</th>\n",
       "      <th>num_actor</th>\n",
       "      <th>box_off_num</th>\n",
       "    </tr>\n",
       "  </thead>\n",
       "  <tbody>\n",
       "    <tr>\n",
       "      <th>0</th>\n",
       "      <td>개들의 전쟁</td>\n",
       "      <td>롯데엔터테인먼트</td>\n",
       "      <td>액션</td>\n",
       "      <td>2012-11-22</td>\n",
       "      <td>96</td>\n",
       "      <td>청소년 관람불가</td>\n",
       "      <td>조병옥</td>\n",
       "      <td>NaN</td>\n",
       "      <td>0</td>\n",
       "      <td>91</td>\n",
       "      <td>2</td>\n",
       "      <td>23398</td>\n",
       "    </tr>\n",
       "    <tr>\n",
       "      <th>1</th>\n",
       "      <td>내부자들</td>\n",
       "      <td>(주)쇼박스</td>\n",
       "      <td>느와르</td>\n",
       "      <td>2015-11-19</td>\n",
       "      <td>130</td>\n",
       "      <td>청소년 관람불가</td>\n",
       "      <td>우민호</td>\n",
       "      <td>1161602.50</td>\n",
       "      <td>2</td>\n",
       "      <td>387</td>\n",
       "      <td>3</td>\n",
       "      <td>7072501</td>\n",
       "    </tr>\n",
       "    <tr>\n",
       "      <th>2</th>\n",
       "      <td>은밀하게 위대하게</td>\n",
       "      <td>(주)쇼박스</td>\n",
       "      <td>액션</td>\n",
       "      <td>2013-06-05</td>\n",
       "      <td>123</td>\n",
       "      <td>15세 관람가</td>\n",
       "      <td>장철수</td>\n",
       "      <td>220775.25</td>\n",
       "      <td>4</td>\n",
       "      <td>343</td>\n",
       "      <td>4</td>\n",
       "      <td>6959083</td>\n",
       "    </tr>\n",
       "  </tbody>\n",
       "</table>\n",
       "</div>"
      ],
      "text/plain": [
       "       title distributor genre release_time  time screening_rat director  \\\n",
       "0     개들의 전쟁    롯데엔터테인먼트    액션   2012-11-22    96      청소년 관람불가      조병옥   \n",
       "1       내부자들      (주)쇼박스   느와르   2015-11-19   130      청소년 관람불가      우민호   \n",
       "2  은밀하게 위대하게      (주)쇼박스    액션   2013-06-05   123       15세 관람가      장철수   \n",
       "\n",
       "   dir_prev_bfnum  dir_prev_num  num_staff  num_actor  box_off_num  \n",
       "0             NaN             0         91          2        23398  \n",
       "1      1161602.50             2        387          3      7072501  \n",
       "2       220775.25             4        343          4      6959083  "
      ]
     },
     "execution_count": 29,
     "metadata": {},
     "output_type": "execute_result"
    }
   ],
   "source": [
    "train.head(3)"
   ]
  },
  {
   "cell_type": "code",
   "execution_count": 30,
   "id": "6fa7919d",
   "metadata": {},
   "outputs": [
    {
     "data": {
      "text/html": [
       "<div>\n",
       "<style scoped>\n",
       "    .dataframe tbody tr th:only-of-type {\n",
       "        vertical-align: middle;\n",
       "    }\n",
       "\n",
       "    .dataframe tbody tr th {\n",
       "        vertical-align: top;\n",
       "    }\n",
       "\n",
       "    .dataframe thead th {\n",
       "        text-align: right;\n",
       "    }\n",
       "</style>\n",
       "<table border=\"1\" class=\"dataframe\">\n",
       "  <thead>\n",
       "    <tr style=\"text-align: right;\">\n",
       "      <th></th>\n",
       "      <th>time</th>\n",
       "      <th>dir_prev_bfnum</th>\n",
       "      <th>dir_prev_num</th>\n",
       "      <th>num_staff</th>\n",
       "      <th>num_actor</th>\n",
       "      <th>box_off_num</th>\n",
       "    </tr>\n",
       "  </thead>\n",
       "  <tbody>\n",
       "    <tr>\n",
       "      <th>count</th>\n",
       "      <td>600.000000</td>\n",
       "      <td>2.700000e+02</td>\n",
       "      <td>600.000000</td>\n",
       "      <td>600.000000</td>\n",
       "      <td>600.000000</td>\n",
       "      <td>6.000000e+02</td>\n",
       "    </tr>\n",
       "    <tr>\n",
       "      <th>mean</th>\n",
       "      <td>100.863333</td>\n",
       "      <td>1.050443e+06</td>\n",
       "      <td>0.876667</td>\n",
       "      <td>151.118333</td>\n",
       "      <td>3.706667</td>\n",
       "      <td>7.081818e+05</td>\n",
       "    </tr>\n",
       "    <tr>\n",
       "      <th>std</th>\n",
       "      <td>18.097528</td>\n",
       "      <td>1.791408e+06</td>\n",
       "      <td>1.183409</td>\n",
       "      <td>165.654671</td>\n",
       "      <td>2.446889</td>\n",
       "      <td>1.828006e+06</td>\n",
       "    </tr>\n",
       "    <tr>\n",
       "      <th>min</th>\n",
       "      <td>45.000000</td>\n",
       "      <td>1.000000e+00</td>\n",
       "      <td>0.000000</td>\n",
       "      <td>0.000000</td>\n",
       "      <td>0.000000</td>\n",
       "      <td>1.000000e+00</td>\n",
       "    </tr>\n",
       "    <tr>\n",
       "      <th>25%</th>\n",
       "      <td>89.000000</td>\n",
       "      <td>2.038000e+04</td>\n",
       "      <td>0.000000</td>\n",
       "      <td>17.000000</td>\n",
       "      <td>2.000000</td>\n",
       "      <td>1.297250e+03</td>\n",
       "    </tr>\n",
       "    <tr>\n",
       "      <th>50%</th>\n",
       "      <td>100.000000</td>\n",
       "      <td>4.784236e+05</td>\n",
       "      <td>0.000000</td>\n",
       "      <td>82.500000</td>\n",
       "      <td>3.000000</td>\n",
       "      <td>1.259100e+04</td>\n",
       "    </tr>\n",
       "    <tr>\n",
       "      <th>75%</th>\n",
       "      <td>114.000000</td>\n",
       "      <td>1.286569e+06</td>\n",
       "      <td>2.000000</td>\n",
       "      <td>264.000000</td>\n",
       "      <td>4.000000</td>\n",
       "      <td>4.798868e+05</td>\n",
       "    </tr>\n",
       "    <tr>\n",
       "      <th>max</th>\n",
       "      <td>180.000000</td>\n",
       "      <td>1.761531e+07</td>\n",
       "      <td>5.000000</td>\n",
       "      <td>869.000000</td>\n",
       "      <td>25.000000</td>\n",
       "      <td>1.426277e+07</td>\n",
       "    </tr>\n",
       "  </tbody>\n",
       "</table>\n",
       "</div>"
      ],
      "text/plain": [
       "             time  dir_prev_bfnum  dir_prev_num   num_staff   num_actor  \\\n",
       "count  600.000000    2.700000e+02    600.000000  600.000000  600.000000   \n",
       "mean   100.863333    1.050443e+06      0.876667  151.118333    3.706667   \n",
       "std     18.097528    1.791408e+06      1.183409  165.654671    2.446889   \n",
       "min     45.000000    1.000000e+00      0.000000    0.000000    0.000000   \n",
       "25%     89.000000    2.038000e+04      0.000000   17.000000    2.000000   \n",
       "50%    100.000000    4.784236e+05      0.000000   82.500000    3.000000   \n",
       "75%    114.000000    1.286569e+06      2.000000  264.000000    4.000000   \n",
       "max    180.000000    1.761531e+07      5.000000  869.000000   25.000000   \n",
       "\n",
       "        box_off_num  \n",
       "count  6.000000e+02  \n",
       "mean   7.081818e+05  \n",
       "std    1.828006e+06  \n",
       "min    1.000000e+00  \n",
       "25%    1.297250e+03  \n",
       "50%    1.259100e+04  \n",
       "75%    4.798868e+05  \n",
       "max    1.426277e+07  "
      ]
     },
     "execution_count": 30,
     "metadata": {},
     "output_type": "execute_result"
    }
   ],
   "source": [
    "train.describe()"
   ]
  },
  {
   "cell_type": "code",
   "execution_count": 31,
   "id": "d9a5f540",
   "metadata": {},
   "outputs": [
    {
     "data": {
      "text/html": [
       "<div>\n",
       "<style scoped>\n",
       "    .dataframe tbody tr th:only-of-type {\n",
       "        vertical-align: middle;\n",
       "    }\n",
       "\n",
       "    .dataframe tbody tr th {\n",
       "        vertical-align: top;\n",
       "    }\n",
       "\n",
       "    .dataframe thead th {\n",
       "        text-align: right;\n",
       "    }\n",
       "</style>\n",
       "<table border=\"1\" class=\"dataframe\">\n",
       "  <thead>\n",
       "    <tr style=\"text-align: right;\">\n",
       "      <th></th>\n",
       "      <th>time</th>\n",
       "      <th>dir_prev_bfnum</th>\n",
       "      <th>dir_prev_num</th>\n",
       "      <th>num_staff</th>\n",
       "      <th>num_actor</th>\n",
       "    </tr>\n",
       "  </thead>\n",
       "  <tbody>\n",
       "    <tr>\n",
       "      <th>count</th>\n",
       "      <td>243.000000</td>\n",
       "      <td>1.070000e+02</td>\n",
       "      <td>243.000000</td>\n",
       "      <td>243.000000</td>\n",
       "      <td>243.000000</td>\n",
       "    </tr>\n",
       "    <tr>\n",
       "      <th>mean</th>\n",
       "      <td>109.798354</td>\n",
       "      <td>8.916695e+05</td>\n",
       "      <td>0.851852</td>\n",
       "      <td>159.316872</td>\n",
       "      <td>3.477366</td>\n",
       "    </tr>\n",
       "    <tr>\n",
       "      <th>std</th>\n",
       "      <td>124.022711</td>\n",
       "      <td>1.217341e+06</td>\n",
       "      <td>1.200321</td>\n",
       "      <td>162.976607</td>\n",
       "      <td>2.111192</td>\n",
       "    </tr>\n",
       "    <tr>\n",
       "      <th>min</th>\n",
       "      <td>40.000000</td>\n",
       "      <td>3.400000e+01</td>\n",
       "      <td>0.000000</td>\n",
       "      <td>0.000000</td>\n",
       "      <td>0.000000</td>\n",
       "    </tr>\n",
       "    <tr>\n",
       "      <th>25%</th>\n",
       "      <td>91.000000</td>\n",
       "      <td>6.250200e+04</td>\n",
       "      <td>0.000000</td>\n",
       "      <td>18.000000</td>\n",
       "      <td>2.000000</td>\n",
       "    </tr>\n",
       "    <tr>\n",
       "      <th>50%</th>\n",
       "      <td>104.000000</td>\n",
       "      <td>4.931200e+05</td>\n",
       "      <td>0.000000</td>\n",
       "      <td>105.000000</td>\n",
       "      <td>3.000000</td>\n",
       "    </tr>\n",
       "    <tr>\n",
       "      <th>75%</th>\n",
       "      <td>114.500000</td>\n",
       "      <td>1.080850e+06</td>\n",
       "      <td>1.000000</td>\n",
       "      <td>282.000000</td>\n",
       "      <td>4.000000</td>\n",
       "    </tr>\n",
       "    <tr>\n",
       "      <th>max</th>\n",
       "      <td>2015.000000</td>\n",
       "      <td>6.173100e+06</td>\n",
       "      <td>6.000000</td>\n",
       "      <td>776.000000</td>\n",
       "      <td>16.000000</td>\n",
       "    </tr>\n",
       "  </tbody>\n",
       "</table>\n",
       "</div>"
      ],
      "text/plain": [
       "              time  dir_prev_bfnum  dir_prev_num   num_staff   num_actor\n",
       "count   243.000000    1.070000e+02    243.000000  243.000000  243.000000\n",
       "mean    109.798354    8.916695e+05      0.851852  159.316872    3.477366\n",
       "std     124.022711    1.217341e+06      1.200321  162.976607    2.111192\n",
       "min      40.000000    3.400000e+01      0.000000    0.000000    0.000000\n",
       "25%      91.000000    6.250200e+04      0.000000   18.000000    2.000000\n",
       "50%     104.000000    4.931200e+05      0.000000  105.000000    3.000000\n",
       "75%     114.500000    1.080850e+06      1.000000  282.000000    4.000000\n",
       "max    2015.000000    6.173100e+06      6.000000  776.000000   16.000000"
      ]
     },
     "execution_count": 31,
     "metadata": {},
     "output_type": "execute_result"
    }
   ],
   "source": [
    "test.describe()"
   ]
  },
  {
   "cell_type": "code",
   "execution_count": 32,
   "id": "c17ffe11",
   "metadata": {},
   "outputs": [],
   "source": [
    "train.dir_prev_bfnum.fillna(0, inplace=True) #결측값 0으로 변경\n",
    "test.dir_prev_bfnum.fillna(0, inplace=True)"
   ]
  },
  {
   "cell_type": "code",
   "execution_count": 56,
   "id": "cc6eba73",
   "metadata": {},
   "outputs": [
    {
     "data": {
      "text/plain": [
       "<AxesSubplot:>"
      ]
     },
     "execution_count": 56,
     "metadata": {},
     "output_type": "execute_result"
    },
    {
     "data": {
      "image/png": "[encoded data removed]",
      "text/plain": [
       "<Figure size 576x396 with 1 Axes>"
      ]
     },
     "metadata": {},
     "output_type": "display_data"
    }
   ],
   "source": [
    "plt.style.use('seaborn')\n",
    "train.plot(kind='box')"
   ]
  },
  {
   "cell_type": "code",
   "execution_count": 57,
   "id": "683e4933",
   "metadata": {},
   "outputs": [
    {
     "data": {
      "text/plain": [
       "<AxesSubplot:>"
      ]
     },
     "execution_count": 57,
     "metadata": {},
     "output_type": "execute_result"
    },
    {
     "data": {
      "image/png": "[encoded data removed]",
      "text/plain": [
       "<Figure size 576x396 with 1 Axes>"
      ]
     },
     "metadata": {},
     "output_type": "display_data"
    }
   ],
   "source": [
    "test.plot(kind='box')"
   ]
  },
  {
   "cell_type": "code",
   "execution_count": 35,
   "id": "b0a5548b",
   "metadata": {},
   "outputs": [],
   "source": [
    "q1 = train['box_off_num'].quantile(0.25)\n",
    "q3 = train['box_off_num'].quantile(0.75)\n",
    "iqr = q3 - q1"
   ]
  },
  {
   "cell_type": "code",
   "execution_count": 36,
   "id": "39573d0e",
   "metadata": {},
   "outputs": [],
   "source": [
    "condition = (train['box_off_num'] < q1 - 1.5 * iqr) | (train['box_off_num'] > q3 + 1.5 * iqr)"
   ]
  },
  {
   "cell_type": "code",
   "execution_count": 37,
   "id": "a5d69dd8",
   "metadata": {},
   "outputs": [
    {
     "data": {
      "text/plain": [
       "Int64Index([  1,   2,  16,  20,  34,  39,  44,  59,  63,  66,  74,  81,  86,\n",
       "             90,  91, 100, 101, 110, 112, 116, 118, 122, 124, 128, 139, 166,\n",
       "            169, 178, 181, 190, 201, 208, 209, 214, 219, 220, 226, 244, 267,\n",
       "            278, 287, 288, 297, 320, 322, 326, 360, 361, 362, 372, 377, 381,\n",
       "            382, 388, 393, 397, 398, 399, 409, 412, 422, 429, 434, 442, 445,\n",
       "            455, 458, 460, 466, 467, 472, 476, 477, 478, 485, 486, 487, 491,\n",
       "            494, 496, 498, 505, 507, 517, 520, 530, 536, 539, 547, 561, 568,\n",
       "            588, 592, 595, 596, 598, 599],\n",
       "           dtype='int64')"
      ]
     },
     "execution_count": 37,
     "metadata": {},
     "output_type": "execute_result"
    }
   ],
   "source": [
    "train[condition].index"
   ]
  },
  {
   "cell_type": "code",
   "execution_count": 41,
   "id": "3ee9cb2c",
   "metadata": {},
   "outputs": [],
   "source": [
    "train.drop(train[condition].index, inplace=True) #이상값 삭제"
   ]
  },
  {
   "cell_type": "code",
   "execution_count": 46,
   "id": "692fc0a9",
   "metadata": {},
   "outputs": [],
   "source": [
    "q1 = train['dir_prev_bfnum'].quantile(0.25)\n",
    "q3 = train['dir_prev_bfnum'].quantile(0.75)\n",
    "iqr = q3 - q1"
   ]
  },
  {
   "cell_type": "code",
   "execution_count": 47,
   "id": "35ef5700",
   "metadata": {},
   "outputs": [],
   "source": [
    "condition1 = (train['dir_prev_bfnum'] < q1 - 1.5 * iqr) | (train['dir_prev_bfnum'] > q3 + 1.5 * iqr)"
   ]
  },
  {
   "cell_type": "code",
   "execution_count": 48,
   "id": "334c810c",
   "metadata": {},
   "outputs": [
    {
     "data": {
      "text/plain": [
       "Int64Index([  5,   7,  12,  13,  41,  48,  50,  51,  60,  61,\n",
       "            ...\n",
       "            531, 535, 543, 548, 551, 564, 566, 570, 576, 584],\n",
       "           dtype='int64', length=110)"
      ]
     },
     "execution_count": 48,
     "metadata": {},
     "output_type": "execute_result"
    }
   ],
   "source": [
    "train[condition1].index"
   ]
  },
  {
   "cell_type": "code",
   "execution_count": 49,
   "id": "149d8c9c",
   "metadata": {},
   "outputs": [],
   "source": [
    "train.drop(train[condition1].index, inplace=True) #이상값 삭제"
   ]
  },
  {
   "cell_type": "code",
   "execution_count": 50,
   "id": "cc41ede9",
   "metadata": {},
   "outputs": [],
   "source": [
    "q1 = train['time'].quantile(0.25)\n",
    "q3 = train['time'].quantile(0.75)\n",
    "iqr = q3 - q1"
   ]
  },
  {
   "cell_type": "code",
   "execution_count": 51,
   "id": "2f8c0939",
   "metadata": {},
   "outputs": [],
   "source": [
    "condition2 = (train['time'] < q1 - 1.5 * iqr) | (train['time'] > q3 + 1.5 * iqr)"
   ]
  },
  {
   "cell_type": "code",
   "execution_count": 52,
   "id": "4ff85668",
   "metadata": {},
   "outputs": [
    {
     "data": {
      "text/plain": [
       "Int64Index([111, 257, 353, 365, 425, 438, 545], dtype='int64')"
      ]
     },
     "execution_count": 52,
     "metadata": {},
     "output_type": "execute_result"
    }
   ],
   "source": [
    "train[condition2].index"
   ]
  },
  {
   "cell_type": "code",
   "execution_count": 53,
   "id": "2f594a8e",
   "metadata": {},
   "outputs": [],
   "source": [
    "train.drop(train[condition2].index, inplace=True) #이상값 삭제"
   ]
  },
  {
   "cell_type": "code",
   "execution_count": 58,
   "id": "e4ec2043",
   "metadata": {},
   "outputs": [],
   "source": [
    "q1 = train['num_staff'].quantile(0.25)\n",
    "q3 = train['num_staff'].quantile(0.75)\n",
    "iqr = q3 - q1"
   ]
  },
  {
   "cell_type": "code",
   "execution_count": 59,
   "id": "dc3e68b3",
   "metadata": {},
   "outputs": [],
   "source": [
    "condition3 = (train['num_staff'] < q1 - 1.5 * iqr) | (train['num_staff'] > q3 + 1.5 * iqr)"
   ]
  },
  {
   "cell_type": "code",
   "execution_count": 60,
   "id": "3e639f2c",
   "metadata": {},
   "outputs": [
    {
     "data": {
      "text/plain": [
       "Int64Index([ 18,  23,  30,  47,  55,  58, 105, 119, 146, 180, 184, 192, 200,\n",
       "            270, 273, 330, 350, 417, 420, 446, 463, 489, 512, 513, 537, 540,\n",
       "            559, 589],\n",
       "           dtype='int64')"
      ]
     },
     "execution_count": 60,
     "metadata": {},
     "output_type": "execute_result"
    }
   ],
   "source": [
    "train[condition3].index"
   ]
  },
  {
   "cell_type": "code",
   "execution_count": 61,
   "id": "db6c91b0",
   "metadata": {},
   "outputs": [],
   "source": [
    "train.drop(train[condition3].index, inplace=True) #이상값 삭제"
   ]
  },
  {
   "cell_type": "code",
   "execution_count": 62,
   "id": "a1449cba",
   "metadata": {},
   "outputs": [],
   "source": [
    "q1 = train['num_actor'].quantile(0.25)\n",
    "q3 = train['num_actor'].quantile(0.75)\n",
    "iqr = q3 - q1"
   ]
  },
  {
   "cell_type": "code",
   "execution_count": 64,
   "id": "d0cedf58",
   "metadata": {},
   "outputs": [],
   "source": [
    "condition4 = (train['num_actor'] < q1 - 1.5 * iqr) | (train['num_actor'] > q3 + 1.5 * iqr)"
   ]
  },
  {
   "cell_type": "code",
   "execution_count": 65,
   "id": "ba2dbf3c",
   "metadata": {},
   "outputs": [
    {
     "data": {
      "text/plain": [
       "Int64Index([ 19,  26,  32,  52,  53,  56,  80, 108, 130, 148, 196, 203, 246,\n",
       "            264, 272, 302, 363, 371, 511, 525, 528, 574, 582],\n",
       "           dtype='int64')"
      ]
     },
     "execution_count": 65,
     "metadata": {},
     "output_type": "execute_result"
    }
   ],
   "source": [
    "train[condition4].index"
   ]
  },
  {
   "cell_type": "code",
   "execution_count": 66,
   "id": "8ee068e1",
   "metadata": {},
   "outputs": [],
   "source": [
    "train.drop(train[condition4].index, inplace=True) #이상값 삭제"
   ]
  },
  {
   "cell_type": "code",
   "execution_count": 67,
   "id": "490ec422",
   "metadata": {},
   "outputs": [],
   "source": [
    "q1 = train['dir_prev_num'].quantile(0.25)\n",
    "q3 = train['dir_prev_num'].quantile(0.75)\n",
    "iqr = q3 - q1"
   ]
  },
  {
   "cell_type": "code",
   "execution_count": 69,
   "id": "a8432ed6",
   "metadata": {},
   "outputs": [],
   "source": [
    "condition5 = (train['dir_prev_num'] < q1 - 1.5 * iqr) | (train['dir_prev_num'] > q3 + 1.5 * iqr)"
   ]
  },
  {
   "cell_type": "code",
   "execution_count": 70,
   "id": "d478865b",
   "metadata": {},
   "outputs": [
    {
     "data": {
      "text/plain": [
       "Int64Index([  3,   4,  17,  45,  54,  68,  70,  71,  73,  79,  88,  89,  98,\n",
       "            104, 114, 138, 144, 151, 160, 164, 170, 176, 179, 186, 193, 198,\n",
       "            202, 224, 238, 241, 245, 247, 251, 258, 263, 289, 300, 305, 334,\n",
       "            337, 342, 343, 344, 346, 351, 359, 367, 376, 392, 394, 403, 405,\n",
       "            411, 423, 428, 430, 464, 465, 474, 493, 519, 529, 544, 552, 563,\n",
       "            569, 578, 581, 583, 587],\n",
       "           dtype='int64')"
      ]
     },
     "execution_count": 70,
     "metadata": {},
     "output_type": "execute_result"
    }
   ],
   "source": [
    "train[condition5].index"
   ]
  },
  {
   "cell_type": "code",
   "execution_count": 71,
   "id": "ba0a23d0",
   "metadata": {},
   "outputs": [],
   "source": [
    "train.drop(train[condition5].index, inplace=True) #이상값 삭제"
   ]
  },
  {
   "cell_type": "code",
   "execution_count": 72,
   "id": "f7c75a84",
   "metadata": {},
   "outputs": [
    {
     "data": {
      "text/plain": [
       "<AxesSubplot:>"
      ]
     },
     "execution_count": 72,
     "metadata": {},
     "output_type": "execute_result"
    },
    {
     "data": {
      "image/png": "[encoded data removed]",
      "text/plain": [
       "<Figure size 576x396 with 1 Axes>"
      ]
     },
     "metadata": {},
     "output_type": "display_data"
    }
   ],
   "source": [
    "train.plot(kind='box')"
   ]
  },
  {
   "cell_type": "code",
   "execution_count": null,
   "id": "ea699242",
   "metadata": {},
   "outputs": [],
   "source": []
  },
  {
   "cell_type": "code",
   "execution_count": null,
   "id": "23db1d7e",
   "metadata": {},
   "outputs": [],
   "source": [
    "train = train.drop(['genre'],axis= 1)\n",
    "test = test.drop(['genre'],axis= 1)"
   ]
  },
  {
   "cell_type": "code",
   "execution_count": null,
   "id": "8eee7416",
   "metadata": {},
   "outputs": [],
   "source": [
    "train = train.drop(['release_time'],axis= 1)\n",
    "test = test.drop(['release_time'],axis= 1)"
   ]
  },
  {
   "cell_type": "code",
   "execution_count": null,
   "id": "a40c67d9",
   "metadata": {},
   "outputs": [],
   "source": [
    "train = train.drop(['title'],axis= 1)\n",
    "test = test.drop(['title'],axis= 1)"
   ]
  },
  {
   "cell_type": "code",
   "execution_count": null,
   "id": "eed61284",
   "metadata": {},
   "outputs": [],
   "source": [
    "train = train.drop(['distributor'],axis= 1)\n",
    "test = test.drop(['distributor'],axis= 1)"
   ]
  },
  {
   "cell_type": "code",
   "execution_count": null,
   "id": "2355f8a5",
   "metadata": {},
   "outputs": [],
   "source": [
    "train = train.drop(['dir_prev_bfnum'],axis= 1)\n",
    "test = test.drop(['dir_prev_bfnum'],axis= 1)"
   ]
  },
  {
   "cell_type": "code",
   "execution_count": null,
   "id": "273972e4",
   "metadata": {},
   "outputs": [],
   "source": [
    "train = train.drop(['director'],axis= 1)\n",
    "test = test.drop(['director'],axis= 1)"
   ]
  },
  {
   "cell_type": "code",
   "execution_count": null,
   "id": "09d2bf11",
   "metadata": {},
   "outputs": [],
   "source": [
    "train = train.drop(['num_actor'],axis= 1)\n",
    "test = test.drop(['num_actor'],axis= 1)"
   ]
  },
  {
   "cell_type": "code",
   "execution_count": null,
   "id": "82f21c6c",
   "metadata": {},
   "outputs": [],
   "source": [
    "train = train.drop(['screening_rat'],axis= 1)\n",
    "test = test.drop(['screening_rat'],axis= 1)"
   ]
  },
  {
   "cell_type": "code",
   "execution_count": null,
   "id": "6d460f55",
   "metadata": {},
   "outputs": [],
   "source": [
    "train = train.drop(['num_staff'],axis= 1)\n",
    "test = test.drop(['num_staff'],axis= 1)"
   ]
  },
  {
   "cell_type": "code",
   "execution_count": null,
   "id": "fd783f13",
   "metadata": {},
   "outputs": [],
   "source": [
    "train = train.drop(['dir_prev_num'],axis= 1)\n",
    "test = test.drop(['dir_prev_num'],axis= 1)"
   ]
  },
  {
   "cell_type": "code",
   "execution_count": null,
   "id": "6d892929",
   "metadata": {},
   "outputs": [],
   "source": [
    "train.head()"
   ]
  },
  {
   "cell_type": "code",
   "execution_count": null,
   "id": "b554f742",
   "metadata": {},
   "outputs": [],
   "source": [
    "test.head()"
   ]
  },
  {
   "cell_type": "markdown",
   "id": "b2ed2dde",
   "metadata": {},
   "source": [
    "데이터 병합"
   ]
  },
  {
   "cell_type": "code",
   "execution_count": null,
   "id": "1614b62c",
   "metadata": {},
   "outputs": [],
   "source": [
    "train = pd.merge(train, test, how = 'left')"
   ]
  },
  {
   "cell_type": "code",
   "execution_count": null,
   "id": "4f4e717c",
   "metadata": {},
   "outputs": [],
   "source": [
    "test = pd.merge(test, test, how = 'left')"
   ]
  },
  {
   "cell_type": "code",
   "execution_count": null,
   "id": "d6279032",
   "metadata": {},
   "outputs": [],
   "source": [
    "from xgboost import XGBRegressor\n",
    "from sklearn.metrics import mean_squared_error\n",
    "from sklearn.model_selection import KFold\n",
    "from ngboost import NGBRegressor"
   ]
  },
  {
   "cell_type": "markdown",
   "id": "4638cee1",
   "metadata": {},
   "source": [
    "모델링 데이터 구성"
   ]
  },
  {
   "cell_type": "code",
   "execution_count": null,
   "id": "6e12e0d6",
   "metadata": {},
   "outputs": [],
   "source": [
    "X = train[['time']]\n",
    "y = np.log1p(train.box_off_num)"
   ]
  },
  {
   "cell_type": "code",
   "execution_count": null,
   "id": "bcb68405",
   "metadata": {},
   "outputs": [],
   "source": [
    "logistic_model = LogisticRegression(max_iter=2000)"
   ]
  },
  {
   "cell_type": "code",
   "execution_count": null,
   "id": "03419bcd",
   "metadata": {},
   "outputs": [],
   "source": [
    "kf = KFold(n_splits = 10, shuffle = True, random_state = 42)"
   ]
  },
  {
   "cell_type": "code",
   "execution_count": null,
   "id": "15358432",
   "metadata": {},
   "outputs": [],
   "source": [
    "target = test[['time']]"
   ]
  },
  {
   "cell_type": "markdown",
   "id": "49e4ec9a",
   "metadata": {},
   "source": [
    "모델"
   ]
  },
  {
   "cell_type": "code",
   "execution_count": null,
   "id": "f7e543b3",
   "metadata": {},
   "outputs": [],
   "source": [
    "xgb = XGBRegressor(random_state = 100)"
   ]
  },
  {
   "cell_type": "code",
   "execution_count": null,
   "id": "f3ab11f2",
   "metadata": {},
   "outputs": [],
   "source": [
    "rmse_list = []\n",
    "xgb_pred = np.zeros((test.shape[0]))\n",
    "for tr_idx, val_idx in kf.split(X, y) :\n",
    "    tr_x, tr_y = X.iloc[tr_idx], y.iloc[tr_idx]\n",
    "    val_x, val_y = X.iloc[val_idx], y.iloc[val_idx]\n",
    "    \n",
    "    xgb.fit(tr_x, tr_y)\n",
    "    \n",
    "    pred = np.expm1([0 if x < 0 else x for x in xgb.predict(val_x)])\n",
    "    sub_pred = np.expm1([0 if x < 0 else x for x in xgb.predict(target)])\n",
    "    rmse = np.sqrt(mean_squared_error(val_y, pred))\n",
    "    \n",
    "    rmse_list.append(rmse)\n",
    "    \n",
    "    xgb_pred += (sub_pred / 10)"
   ]
  },
  {
   "cell_type": "code",
   "execution_count": null,
   "id": "0ba60c6f",
   "metadata": {},
   "outputs": [],
   "source": [
    "np.mean(rmse_list)"
   ]
  },
  {
   "cell_type": "code",
   "execution_count": null,
   "id": "f6d82896",
   "metadata": {},
   "outputs": [],
   "source": [
    "submission['box_off_num'] = (xgb_pred)"
   ]
  },
  {
   "cell_type": "code",
   "execution_count": null,
   "id": "a05d79e9",
   "metadata": {},
   "outputs": [],
   "source": [
    "submission.sort_values(by = 'box_off_num')"
   ]
  },
  {
   "cell_type": "code",
   "execution_count": null,
   "id": "b7736cbb",
   "metadata": {},
   "outputs": [],
   "source": [
    "submission"
   ]
  },
  {
   "cell_type": "code",
   "execution_count": null,
   "id": "07ca80b0",
   "metadata": {},
   "outputs": [],
   "source": [
    "submission.to_csv('suhykii_first_movies.csv',index = False)"
   ]
  },
  {
   "cell_type": "code",
   "execution_count": null,
   "id": "d77b24c2",
   "metadata": {},
   "outputs": [],
   "source": [
    "from dacon_submit_api import dacon_submit_api \n",
    "\n",
    "result = dacon_submit_api.post_submission_file(\n",
    "'suhykii_first_movies.csv', \n",
    "'f6ad2d1aa34753fbc5c9c5288933d8c895954de18de4b3bd09191c03d29e2c60', \n",
    "'235536', \n",
    "'rgm', \n",
    "'XGBRegressor' )"
   ]
  },
  {
   "cell_type": "code",
   "execution_count": null,
   "id": "32a88548",
   "metadata": {},
   "outputs": [],
   "source": []
  }
 ],
 "metadata": {
  "kernelspec": {
   "display_name": "Python 3 (ipykernel)",
   "language": "python",
   "name": "python3"
  },
  "language_info": {
   "codemirror_mode": {
    "name": "ipython",
    "version": 3
   },
   "file_extension": ".py",
   "mimetype": "text/x-python",
   "name": "python",
   "nbconvert_exporter": "python",
   "pygments_lexer": "ipython3",
   "version": "3.9.7"
  }
 },
 "nbformat": 4,
 "nbformat_minor": 5
}
