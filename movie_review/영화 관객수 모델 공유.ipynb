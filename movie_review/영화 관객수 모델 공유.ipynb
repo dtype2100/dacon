{
 "cells": [
  {
   "cell_type": "code",
   "execution_count": 1,
   "id": "3e69c873",
   "metadata": {},
   "outputs": [],
   "source": [
    "from sklearn.linear_model import Lasso\n",
    "from sklearn.model_selection import train_test_split\n",
    "from sklearn.metrics import mean_squared_error\n",
    "from sklearn.preprocessing import PolynomialFeatures\n",
    "from sklearn.model_selection import GridSearchCV\n",
    "from math import sqrt\n",
    "from xgboost import XGBRegressor\n",
    "from sklearn.ensemble import GradientBoostingRegressor, RandomForestRegressor\n",
    "\n",
    "\n",
    "import numpy as np\n",
    "import pandas as pd\n",
    "import seaborn as sns\n",
    "import matplotlib.pyplot as plt\n",
    "\n",
    "plt.style.use('seaborn')\n",
    "\n",
    "train = pd.read_csv('C:\\\\Users\\\\user\\\\workspace\\\\movie\\\\movies_train.csv')\n",
    "test = pd.read_csv('C:\\\\Users\\\\user\\\\workspace\\\\movie\\movies_test.csv')\n",
    "submission = pd.read_csv('C:\\\\Users\\\\user\\\\workspace\\\\movie\\\\submission.csv')"
   ]
  },
  {
   "cell_type": "code",
   "execution_count": 2,
   "id": "0d5ee5c5",
   "metadata": {},
   "outputs": [],
   "source": [
    "X = train[['num_staff', 'time']]\n",
    "y = train[['box_off_num']]\n",
    "X_train, X_test, y_train, y_test = train_test_split(X, y, test_size=0.2, random_state=121)"
   ]
  },
  {
   "cell_type": "code",
   "execution_count": 3,
   "id": "b42154ed",
   "metadata": {},
   "outputs": [],
   "source": [
    "hyper_parameter = {\n",
    "    'alpha' : [0.01, 0.1, 1, 10],\n",
    "    'max_iter' : [100, 500, 1000, 1500, 2000]\n",
    "}"
   ]
  },
  {
   "cell_type": "code",
   "execution_count": 4,
   "id": "3d6944cc",
   "metadata": {},
   "outputs": [],
   "source": [
    "lasso_model = Lasso()"
   ]
  },
  {
   "cell_type": "code",
   "execution_count": 5,
   "id": "d818b443",
   "metadata": {},
   "outputs": [
    {
     "data": {
      "text/plain": [
       "GridSearchCV(cv=5, estimator=Lasso(),\n",
       "             param_grid={'alpha': [0.01, 0.1, 1, 10],\n",
       "                         'max_iter': [100, 500, 1000, 1500, 2000]})"
      ]
     },
     "execution_count": 5,
     "metadata": {},
     "output_type": "execute_result"
    }
   ],
   "source": [
    "hyper_parameter_tuner = GridSearchCV(lasso_model, hyper_parameter, cv=5)\n",
    "hyper_parameter_tuner.fit(X, y)"
   ]
  },
  {
   "cell_type": "code",
   "execution_count": 6,
   "id": "addbc61e",
   "metadata": {},
   "outputs": [
    {
     "data": {
      "text/plain": [
       "{'alpha': 10, 'max_iter': 100}"
      ]
     },
     "execution_count": 6,
     "metadata": {},
     "output_type": "execute_result"
    }
   ],
   "source": [
    "hyper_parameter_tuner.best_params_"
   ]
  },
  {
   "cell_type": "code",
   "execution_count": 7,
   "id": "3ee4a90f",
   "metadata": {},
   "outputs": [],
   "source": [
    "xgb = XGBRegressor(random_state = 42, alpha=10, max_iter=100)\n",
    "gbr = GradientBoostingRegressor(random_state=42)\n",
    "rf = RandomForestRegressor(random_state=42)\n",
    "md_label = ['XGBRegressor', 'GradientBoostingRegressor', 'RandomForestRegressor']\n",
    "all_md = [xgb, gbr, rf]"
   ]
  },
  {
   "cell_type": "code",
   "execution_count": 8,
   "id": "b6c57483",
   "metadata": {},
   "outputs": [
    {
     "name": "stdout",
     "output_type": "stream",
     "text": [
      "[20:55:03] WARNING: C:/Users/Administrator/workspace/xgboost-win64_release_1.5.1/src/learner.cc:576: \n",
      "Parameters: { \"max_iter\" } might not be used.\n",
      "\n",
      "  This could be a false alarm, with some parameters getting used by language bindings but\n",
      "  then being mistakenly passed down to XGBoost core, or some parameter actually being used\n",
      "  but getting flagged wrongly here. Please open an issue if you find any such cases.\n",
      "\n",
      "\n"
     ]
    },
    {
     "data": {
      "text/plain": [
       "XGBRegressor(alpha=10, base_score=0.5, booster='gbtree', colsample_bylevel=1,\n",
       "             colsample_bynode=1, colsample_bytree=1, enable_categorical=False,\n",
       "             gamma=0, gpu_id=-1, importance_type=None,\n",
       "             interaction_constraints='', learning_rate=0.300000012,\n",
       "             max_delta_step=0, max_depth=6, max_iter=100, min_child_weight=1,\n",
       "             missing=nan, monotone_constraints='()', n_estimators=100, n_jobs=6,\n",
       "             num_parallel_tree=1, predictor='auto', random_state=42,\n",
       "             reg_alpha=10, reg_lambda=1, scale_pos_weight=1, subsample=1,\n",
       "             tree_method='exact', validate_parameters=1, verbosity=None)"
      ]
     },
     "execution_count": 8,
     "metadata": {},
     "output_type": "execute_result"
    }
   ],
   "source": [
    "xgb.fit(X_train, y_train)"
   ]
  },
  {
   "cell_type": "code",
   "execution_count": 9,
   "id": "bf2d85e7",
   "metadata": {},
   "outputs": [
    {
     "name": "stderr",
     "output_type": "stream",
     "text": [
      "C:\\Users\\user\\anaconda3\\lib\\site-packages\\sklearn\\utils\\validation.py:63: DataConversionWarning: A column-vector y was passed when a 1d array was expected. Please change the shape of y to (n_samples, ), for example using ravel().\n",
      "  return f(*args, **kwargs)\n"
     ]
    },
    {
     "data": {
      "text/plain": [
       "GradientBoostingRegressor(random_state=42)"
      ]
     },
     "execution_count": 9,
     "metadata": {},
     "output_type": "execute_result"
    }
   ],
   "source": [
    "gbr.fit(X_train, y_train)"
   ]
  },
  {
   "cell_type": "code",
   "execution_count": 10,
   "id": "45cb3b1b",
   "metadata": {},
   "outputs": [
    {
     "name": "stderr",
     "output_type": "stream",
     "text": [
      "C:\\Users\\user\\AppData\\Local\\Temp/ipykernel_15704/2725846524.py:1: DataConversionWarning: A column-vector y was passed when a 1d array was expected. Please change the shape of y to (n_samples,), for example using ravel().\n",
      "  rf.fit(X_train, y_train)\n"
     ]
    },
    {
     "data": {
      "text/plain": [
       "RandomForestRegressor(random_state=42)"
      ]
     },
     "execution_count": 10,
     "metadata": {},
     "output_type": "execute_result"
    }
   ],
   "source": [
    "rf.fit(X_train, y_train)"
   ]
  },
  {
   "cell_type": "code",
   "execution_count": 11,
   "id": "141775e4",
   "metadata": {},
   "outputs": [],
   "source": [
    "xg_pred = xgb.predict(X_test)\n",
    "gbr_pred = gbr.predict(X_test)\n",
    "rf_pred = rf.predict(X_test)"
   ]
  },
  {
   "cell_type": "code",
   "execution_count": 12,
   "id": "e4d6c729",
   "metadata": {},
   "outputs": [
    {
     "data": {
      "text/plain": [
       "array([ 1.45238250e+05,  1.06744600e+06,  4.87930000e+06,  6.71557422e+03,\n",
       "        1.17261650e+06,  8.14210781e+04,  4.84983125e+04,  3.50733000e+06,\n",
       "        7.14207000e+05,  1.04640166e+04,  1.33553652e+04,  2.41379370e+03,\n",
       "        7.27943237e+02,  7.56300375e+05, -6.46470898e+04, -1.90844897e+03,\n",
       "        2.14440450e+06,  1.53251523e+04,  3.37185325e+06,  3.61760825e+06,\n",
       "        1.66744500e+05, -1.75116895e+04,  5.40078188e+05,  7.70781375e+05,\n",
       "        5.11202750e+05,  3.66555781e+04, -1.81848682e+03,  1.82514469e+05,\n",
       "       -3.98069336e+04,  1.73781387e+04,  1.46208850e+06,  4.48726875e+05,\n",
       "        7.27943237e+02,  7.33598750e+05,  5.87733800e+06,  4.08856906e+05,\n",
       "        6.45116699e+03,  1.13567375e+06,  1.71873988e+06,  9.39733906e+04,\n",
       "        9.22256531e+02,  1.77433838e+06,  1.32346325e+06,  4.03718350e+06,\n",
       "        9.71458000e+05,  1.36891828e+05,  1.14658888e+06,  9.86241699e+03,\n",
       "        2.50375537e+03,  4.01049050e+06, -3.42653203e+04,  4.79099141e+04,\n",
       "       -1.58937172e+05,  6.29075700e+06, -1.08705000e+04, -6.46470898e+04,\n",
       "        1.10959375e+06,  1.67204112e+06,  1.91097168e+04,  6.23880188e+05,\n",
       "        2.49311914e+04,  8.40912375e+05,  2.50375537e+03,  1.29545875e+06,\n",
       "        2.83372906e+05, -4.09232104e+03,  5.55762050e+06,  2.58852295e+03,\n",
       "        3.46266438e+05,  2.44827825e+06, -2.80767594e+05,  3.17792539e+04,\n",
       "        7.29053750e+05,  4.45108125e+05,  9.22256531e+02,  1.62852859e+05,\n",
       "        1.90149400e+06,  4.16747050e+06,  3.17792539e+04,  5.78657450e+06,\n",
       "        2.22571891e+05,  8.44601125e+05,  1.14428418e+04,  1.82299078e+05,\n",
       "        1.22695875e+06,  1.58143662e+06,  4.36131445e+03,  7.31991094e+04,\n",
       "       -6.08011768e+03,  2.29552100e+06,  1.90149400e+06,  3.84302969e+04,\n",
       "       -1.74558066e+04,  1.25347586e+05,  6.52894688e+04,  1.44853312e+06,\n",
       "        2.81223150e+06,  9.81322125e+05,  2.25580200e+03,  9.84414500e+06,\n",
       "        2.41379370e+03,  4.11553844e+05,  1.77945957e+04,  1.09768012e+06,\n",
       "        2.93577500e+05, -1.90844897e+03,  1.20483916e+04,  2.41379370e+03,\n",
       "        6.68144385e+03,  1.02525322e+04,  1.47532969e+05,  1.73781387e+04,\n",
       "        5.16656953e+04,  3.85795700e+06, -3.85808008e+04,  1.26418925e+06,\n",
       "        4.43061406e+05,  1.09121631e+04,  5.04885844e+05,  4.60162500e+03],\n",
       "      dtype=float32)"
      ]
     },
     "execution_count": 12,
     "metadata": {},
     "output_type": "execute_result"
    }
   ],
   "source": [
    "xg_pred"
   ]
  },
  {
   "cell_type": "code",
   "execution_count": 13,
   "id": "b8828257",
   "metadata": {},
   "outputs": [
    {
     "data": {
      "text/plain": [
       "array([ 488062.73792245,  352569.24692615, 5033556.19914565,\n",
       "         52419.84151021,  844018.2879776 ,   65910.70936787,\n",
       "         65910.70936787, 2759190.88118359,  883351.97805534,\n",
       "         65910.70936787,   71401.5154136 ,   44869.52503689,\n",
       "         46102.43422758,   20867.32943725,   44869.52503689,\n",
       "         44869.52503689, 2901504.27035007,   65910.70936787,\n",
       "       3695245.7070936 , 4742700.04234206,   65910.70936787,\n",
       "        101657.23553354,  526034.0634821 ,  487596.88068555,\n",
       "        237670.15265957,   65910.70936787,   65910.70936787,\n",
       "        300870.24834178,   44869.52503689,   65910.70936787,\n",
       "       1116949.38566517, -235225.40803557,   46102.43422758,\n",
       "        925942.56212554, 4957340.88524636,  798529.58250844,\n",
       "         44869.52503689,   52419.84151021, 2969444.40656397,\n",
       "        488062.73792245,   52419.84151021, 2376364.94419532,\n",
       "       1632623.64008681, 3778480.47201771, 1084443.21566876,\n",
       "         62091.42428893, 1418600.17766163,   91743.85591519,\n",
       "         36673.53387806, 3480938.48911777,   91743.85591519,\n",
       "        815578.44232194,  -94091.3998153 , 4264223.0744109 ,\n",
       "         52419.84151021,   44869.52503689, 1084443.21566876,\n",
       "         44223.85035138,  216034.24865859,   15376.52339152,\n",
       "         65910.70936787, 1847027.00076117,   36673.53387806,\n",
       "       1499377.21993657,  370479.40978288,   97234.66196092,\n",
       "       1358364.77629564,   65910.70936787,  540585.61650071,\n",
       "       3126935.24223845,  351527.7396549 ,   52419.84151021,\n",
       "        793808.73830972,  925942.56212554,   52419.84151021,\n",
       "        648052.17917512, 2487902.84156188, 7727163.56416849,\n",
       "         52419.84151021, 3287157.99246452,  332213.29580824,\n",
       "       3666627.56873162,   71401.5154136 ,  236381.31913207,\n",
       "       2036921.11710076,  844018.2879776 ,   96212.81054819,\n",
       "         65910.70936787,   65910.70936787, 2468601.35649619,\n",
       "       2487902.84156188,  370479.40978288,   46102.43422758,\n",
       "        356142.67573326,   71401.5154136 , 1337162.00210823,\n",
       "       4999302.79603055,  863841.11906489,   36673.53387806,\n",
       "       9017205.99779358,   44869.52503689,  798529.58250844,\n",
       "         71401.5154136 , 2032034.34232908,  168622.78960761,\n",
       "         44869.52503689,   44869.52503689,   44869.52503689,\n",
       "         65910.70936787,   65910.70936787,  798529.58250844,\n",
       "         65910.70936787,   96212.81054819, 2330832.66434953,\n",
       "         65910.70936787, 2036838.06253523,  428544.99188419,\n",
       "         65910.70936787, 1241990.73759882,   65910.70936787])"
      ]
     },
     "execution_count": 13,
     "metadata": {},
     "output_type": "execute_result"
    }
   ],
   "source": [
    "gbr_pred"
   ]
  },
  {
   "cell_type": "code",
   "execution_count": 14,
   "id": "16fabeb9",
   "metadata": {},
   "outputs": [
    {
     "data": {
      "text/plain": [
       "array([1.32892630e+05, 6.20525740e+05, 4.98102111e+06, 8.84323800e+03,\n",
       "       7.37219960e+05, 6.20802600e+04, 5.69097400e+04, 3.59266267e+06,\n",
       "       4.64277500e+05, 1.65744900e+04, 9.01383000e+03, 1.69031300e+03,\n",
       "       6.19055000e+03, 3.66125270e+05, 1.41534347e+04, 1.02442633e+04,\n",
       "       1.99533356e+06, 3.41593000e+03, 5.41336036e+06, 3.89002882e+06,\n",
       "       3.17436300e+04, 7.20095750e+04, 4.92181130e+05, 6.66766790e+05,\n",
       "       1.71686460e+05, 8.48292417e+04, 1.79653000e+03, 6.96350670e+05,\n",
       "       1.10787500e+05, 2.55640000e+03, 1.62549334e+06, 1.12517416e+06,\n",
       "       5.76295000e+03, 7.86184670e+05, 3.09029338e+06, 8.34072970e+05,\n",
       "       3.56100333e+03, 1.97669260e+06, 2.42982616e+06, 1.32377360e+05,\n",
       "       4.58363910e+03, 3.65711502e+06, 1.43732714e+06, 4.42822269e+06,\n",
       "       7.02766470e+05, 4.36819830e+05, 1.27861767e+06, 2.14352000e+03,\n",
       "       5.55011000e+03, 3.82809481e+06, 3.46045300e+04, 5.68544840e+05,\n",
       "       8.11757810e+05, 5.59026463e+06, 1.35069628e+04, 1.42957747e+04,\n",
       "       4.84708810e+05, 1.25717146e+05, 2.58715040e+05, 4.20780310e+05,\n",
       "       1.20863400e+04, 1.75000652e+06, 9.02536000e+03, 1.58857921e+06,\n",
       "       2.82113610e+05, 1.05585740e+05, 1.11878206e+06, 1.63297500e+04,\n",
       "       3.14244950e+05, 3.24617926e+06, 3.02849610e+05, 2.86810656e+04,\n",
       "       5.88486330e+05, 6.25008300e+05, 1.63001917e+04, 3.93188120e+05,\n",
       "       2.58238619e+06, 5.90210533e+06, 3.05367750e+04, 4.30660025e+06,\n",
       "       2.26736380e+05, 3.46543744e+06, 7.95974800e+04, 2.23252360e+05,\n",
       "       3.61283756e+06, 1.15093028e+06, 3.79671000e+03, 1.32947100e+04,\n",
       "       9.18448000e+03, 2.48867596e+06, 2.58238619e+06, 4.98264200e+04,\n",
       "       1.99163300e+04, 1.07866700e+05, 3.54876400e+04, 1.43931893e+06,\n",
       "       2.14786899e+06, 1.56704563e+06, 9.23553000e+03, 7.62752807e+06,\n",
       "       1.33750000e+03, 7.47861090e+05, 7.51178000e+03, 2.17769175e+06,\n",
       "       5.93409880e+05, 3.86414000e+03, 2.57860000e+03, 2.90445000e+03,\n",
       "       5.76159000e+03, 2.10496800e+04, 2.36772440e+05, 1.70814000e+03,\n",
       "       3.12232300e+04, 3.17393015e+06, 6.66435000e+02, 1.18157155e+06,\n",
       "       3.97335380e+05, 6.98479000e+03, 5.01862650e+05, 3.05887000e+03])"
      ]
     },
     "execution_count": 14,
     "metadata": {},
     "output_type": "execute_result"
    }
   ],
   "source": [
    "rf_pred"
   ]
  },
  {
   "cell_type": "code",
   "execution_count": 15,
   "id": "d54fce33",
   "metadata": {},
   "outputs": [],
   "source": [
    "mse1 = mean_squared_error(y_test, xg_pred)\n",
    "mse2 = mean_squared_error(y_test, gbr_pred)\n",
    "mse3 = mean_squared_error(y_test, rf_pred)"
   ]
  },
  {
   "cell_type": "code",
   "execution_count": 16,
   "id": "8f7746c7",
   "metadata": {},
   "outputs": [
    {
     "data": {
      "text/plain": [
       "5778013744045.144"
      ]
     },
     "execution_count": 16,
     "metadata": {},
     "output_type": "execute_result"
    }
   ],
   "source": [
    "mse1"
   ]
  },
  {
   "cell_type": "code",
   "execution_count": 17,
   "id": "9ca3699c",
   "metadata": {},
   "outputs": [
    {
     "data": {
      "text/plain": [
       "5081199051467.884"
      ]
     },
     "execution_count": 17,
     "metadata": {},
     "output_type": "execute_result"
    }
   ],
   "source": [
    "mse2"
   ]
  },
  {
   "cell_type": "code",
   "execution_count": 18,
   "id": "bb274b79",
   "metadata": {},
   "outputs": [
    {
     "data": {
      "text/plain": [
       "4345170755698.4907"
      ]
     },
     "execution_count": 18,
     "metadata": {},
     "output_type": "execute_result"
    }
   ],
   "source": [
    "mse3"
   ]
  },
  {
   "cell_type": "code",
   "execution_count": 16,
   "id": "551239d3",
   "metadata": {},
   "outputs": [],
   "source": []
  },
  {
   "cell_type": "code",
   "execution_count": null,
   "id": "30f6356b",
   "metadata": {},
   "outputs": [],
   "source": []
  }
 ],
 "metadata": {
  "kernelspec": {
   "display_name": "Python 3 (ipykernel)",
   "language": "python",
   "name": "python3"
  },
  "language_info": {
   "codemirror_mode": {
    "name": "ipython",
    "version": 3
   },
   "file_extension": ".py",
   "mimetype": "text/x-python",
   "name": "python",
   "nbconvert_exporter": "python",
   "pygments_lexer": "ipython3",
   "version": "3.9.7"
  }
 },
 "nbformat": 4,
 "nbformat_minor": 5
}
